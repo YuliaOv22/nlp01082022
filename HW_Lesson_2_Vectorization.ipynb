{
  "nbformat": 4,
  "nbformat_minor": 0,
  "metadata": {
    "colab": {
      "name": "HW_Lesson_2_Vectorization.ipynb",
      "provenance": []
    },
    "kernelspec": {
      "name": "python3",
      "display_name": "Python 3"
    },
    "language_info": {
      "name": "python"
    },
    "gpuClass": "standard",
    "accelerator": "GPU"
  },
  "cells": [
    {
      "cell_type": "markdown",
      "source": [
        "## **ПРАКТИЧЕСКОЕ ЗАДАНИЕ**"
      ],
      "metadata": {
        "id": "23rpHEjLcCDZ"
      }
    },
    {
      "cell_type": "markdown",
      "source": [
        "### **Классификация твитов по тональности**\n",
        "\n",
        "У нас есть датасет из твитов, про каждый указано, как он эмоционально окрашен: положительно или отрицательно. Задача: предсказывать эмоциональную окраску."
      ],
      "metadata": {
        "id": "2XF3YujGcLxC"
      }
    },
    {
      "cell_type": "markdown",
      "metadata": {
        "id": "dw0GieJSMU-O"
      },
      "source": [
        "## **Задание 1.**\n",
        "\n",
        "**Задание**: обучите три классификатора: \n",
        "\n",
        "1) на токенах с высокой частотой \n",
        "\n",
        "2) на токенах со средней частотой \n",
        "\n",
        "3) на токенах с низкой частотой\n",
        "\n",
        "Сравните полученные результаты, оцените какие токены наиболее важные для классификации."
      ]
    },
    {
      "cell_type": "code",
      "source": [
        "# импортируем библиотеки\n",
        "\n",
        "import pandas as pd\n",
        "import numpy as np\n",
        "import math\n",
        "from sklearn.metrics import *\n",
        "from sklearn.model_selection import train_test_split\n",
        "from sklearn.pipeline import Pipeline\n",
        "from sklearn.linear_model import LogisticRegression # можно заменить на любимый классификатор\n",
        "from sklearn.feature_extraction.text import CountVectorizer, TfidfVectorizer, HashingVectorizer, Flatten\n",
        "import re\n",
        "import nltk\n",
        "from nltk.tokenize import word_tokenize\n",
        "from nltk.corpus import stopwords\n",
        "from string import punctuation\n",
        "!pip install pymorphy2\n",
        "from pymorphy2 import MorphAnalyzer\n",
        "from collections import Counter\n",
        "pd.set_option('display.max_columns', None)  \n",
        "pd.set_option('display.expand_frame_repr', False)\n",
        "pd.set_option('max_colwidth', 800)\n",
        "nltk.download('stopwords')\n",
        "nltk.download('punkt')\n",
        "import warnings\n",
        "warnings.filterwarnings(\"ignore\")\n",
        "import tensorflow as tf\n",
        "from tensorflow.keras import Sequential\n",
        "from tensorflow.keras.layers import Dense, Embedding, GlobalAveragePooling1D, Conv1D, GRU, LSTM, Dropout, GlobalMaxPool1D, MaxPool1D\n",
        "from tensorflow.keras.layers.experimental.preprocessing import TextVectorization\n",
        "import matplotlib.pyplot as plt\n",
        "%matplotlib inline"
      ],
      "metadata": {
        "id": "yxD-VjWlcfi5",
        "outputId": "50a8e783-fdb4-4dc6-8aaf-4587680a8e20",
        "colab": {
          "base_uri": "https://localhost:8080/"
        }
      },
      "execution_count": 1,
      "outputs": [
        {
          "output_type": "stream",
          "name": "stdout",
          "text": [
            "Looking in indexes: https://pypi.org/simple, https://us-python.pkg.dev/colab-wheels/public/simple/\n",
            "Collecting pymorphy2\n",
            "  Downloading pymorphy2-0.9.1-py3-none-any.whl (55 kB)\n",
            "\u001b[K     |████████████████████████████████| 55 kB 644 kB/s \n",
            "\u001b[?25hCollecting docopt>=0.6\n",
            "  Downloading docopt-0.6.2.tar.gz (25 kB)\n",
            "Collecting pymorphy2-dicts-ru<3.0,>=2.4\n",
            "  Downloading pymorphy2_dicts_ru-2.4.417127.4579844-py2.py3-none-any.whl (8.2 MB)\n",
            "\u001b[K     |████████████████████████████████| 8.2 MB 20.2 MB/s \n",
            "\u001b[?25hCollecting dawg-python>=0.7.1\n",
            "  Downloading DAWG_Python-0.7.2-py2.py3-none-any.whl (11 kB)\n",
            "Building wheels for collected packages: docopt\n",
            "  Building wheel for docopt (setup.py) ... \u001b[?25l\u001b[?25hdone\n",
            "  Created wheel for docopt: filename=docopt-0.6.2-py2.py3-none-any.whl size=13723 sha256=76a1f9bc3c3ed158a2476994af53e1fdc087539b1ec87d8588083a3ea03fa16c\n",
            "  Stored in directory: /root/.cache/pip/wheels/72/b0/3f/1d95f96ff986c7dfffe46ce2be4062f38ebd04b506c77c81b9\n",
            "Successfully built docopt\n",
            "Installing collected packages: pymorphy2-dicts-ru, docopt, dawg-python, pymorphy2\n",
            "Successfully installed dawg-python-0.7.2 docopt-0.6.2 pymorphy2-0.9.1 pymorphy2-dicts-ru-2.4.417127.4579844\n"
          ]
        },
        {
          "output_type": "stream",
          "name": "stderr",
          "text": [
            "[nltk_data] Downloading package stopwords to /root/nltk_data...\n",
            "[nltk_data]   Unzipping corpora/stopwords.zip.\n",
            "[nltk_data] Downloading package punkt to /root/nltk_data...\n",
            "[nltk_data]   Unzipping tokenizers/punkt.zip.\n"
          ]
        }
      ]
    },
    {
      "cell_type": "code",
      "source": [
        "# вспомогательные функции\n",
        "\n",
        "# функция очистки текста от ников юзеров\n",
        "def clean_user(data):\n",
        "  try:\n",
        "    find_user = re.findall('@[\\w]*', data)\n",
        "    data = re.sub(find_user[0], ' ', data)\n",
        "    return data\n",
        "  except:\n",
        "    return data  \n",
        "\n",
        "\n",
        "# функция предсказания сантимента твитов через Логистическую регрессию\n",
        "def LogRegPred(x_train, y_train, x_test, vector):\n",
        "  \n",
        "  bow = vector.fit_transform(x_train)\n",
        "  clf = LogisticRegression(random_state=42)\n",
        "  clf.fit(bow, y_train)\n",
        "  pred = clf.predict(vector.transform(x_test))\n",
        "  \n",
        "  return pred, vector, clf\n",
        "\n",
        "\n",
        "# функция декодирования русского текста\n",
        "def decode_string(ints):\n",
        "  strs = chr(ints)\n",
        "  joined = ''.join(strs)\n",
        "  return joined"
      ],
      "metadata": {
        "id": "4Tz2mxAPWTCr"
      },
      "execution_count": 2,
      "outputs": []
    },
    {
      "cell_type": "code",
      "execution_count": 3,
      "metadata": {
        "id": "aSIh15azbHLp",
        "outputId": "67002b09-ce60-49fc-a9fa-1d11725385a0",
        "colab": {
          "base_uri": "https://localhost:8080/"
        }
      },
      "outputs": [
        {
          "output_type": "stream",
          "name": "stdout",
          "text": [
            "--2022-08-21 17:50:05--  https://www.dropbox.com/s/fnpq3z4bcnoktiv/positive.csv\n",
            "Resolving www.dropbox.com (www.dropbox.com)... 162.125.81.18, 2620:100:6022:18::a27d:4212\n",
            "Connecting to www.dropbox.com (www.dropbox.com)|162.125.81.18|:443... connected.\n",
            "HTTP request sent, awaiting response... 301 Moved Permanently\n",
            "Location: /s/raw/fnpq3z4bcnoktiv/positive.csv [following]\n",
            "--2022-08-21 17:50:05--  https://www.dropbox.com/s/raw/fnpq3z4bcnoktiv/positive.csv\n",
            "Reusing existing connection to www.dropbox.com:443.\n",
            "HTTP request sent, awaiting response... 302 Found\n",
            "Location: https://uc386b092fbf0a83bd2df70a6806.dl.dropboxusercontent.com/cd/0/inline/BrcEsUCn-eNTxnR8R-GKh913TsvAeZZtRiH1aknxGNdQYhZZNgqiCEh9afo01TH9qo_VwD5F5eZ10HQU9b16-NACazU9wWIqnXdfRfbqQRldCUfPsUl-YmC2WXbXUNd4KrHhgxCu5_p1wETHPpe792HIwFWLvh0Ce8XEAICVQdzdZw/file# [following]\n",
            "--2022-08-21 17:50:06--  https://uc386b092fbf0a83bd2df70a6806.dl.dropboxusercontent.com/cd/0/inline/BrcEsUCn-eNTxnR8R-GKh913TsvAeZZtRiH1aknxGNdQYhZZNgqiCEh9afo01TH9qo_VwD5F5eZ10HQU9b16-NACazU9wWIqnXdfRfbqQRldCUfPsUl-YmC2WXbXUNd4KrHhgxCu5_p1wETHPpe792HIwFWLvh0Ce8XEAICVQdzdZw/file\n",
            "Resolving uc386b092fbf0a83bd2df70a6806.dl.dropboxusercontent.com (uc386b092fbf0a83bd2df70a6806.dl.dropboxusercontent.com)... 162.125.81.15, 2620:100:6031:15::a27d:510f\n",
            "Connecting to uc386b092fbf0a83bd2df70a6806.dl.dropboxusercontent.com (uc386b092fbf0a83bd2df70a6806.dl.dropboxusercontent.com)|162.125.81.15|:443... connected.\n",
            "HTTP request sent, awaiting response... 200 OK\n",
            "Length: 26233379 (25M) [text/plain]\n",
            "Saving to: ‘positive.csv’\n",
            "\n",
            "positive.csv        100%[===================>]  25.02M  16.9MB/s    in 1.5s    \n",
            "\n",
            "2022-08-21 17:50:08 (16.9 MB/s) - ‘positive.csv’ saved [26233379/26233379]\n",
            "\n",
            "--2022-08-21 17:50:08--  https://www.dropbox.com/s/r6u59ljhhjdg6j0/negative.csv\n",
            "Resolving www.dropbox.com (www.dropbox.com)... 162.125.81.18, 2620:100:6035:18::a27d:5512\n",
            "Connecting to www.dropbox.com (www.dropbox.com)|162.125.81.18|:443... connected.\n",
            "HTTP request sent, awaiting response... 301 Moved Permanently\n",
            "Location: /s/raw/r6u59ljhhjdg6j0/negative.csv [following]\n",
            "--2022-08-21 17:50:08--  https://www.dropbox.com/s/raw/r6u59ljhhjdg6j0/negative.csv\n",
            "Reusing existing connection to www.dropbox.com:443.\n",
            "HTTP request sent, awaiting response... 302 Found\n",
            "Location: https://ucbb06e3cd8cf2124d6302088246.dl.dropboxusercontent.com/cd/0/inline/BrfxmhxA73df1AEm48wmcUcDuNsZcP1xMVFVL3M97xtE4oyhNEFZVzqZS5XDtGEGjpuZWOkXavLIFdZDo4yV4zwshn5aQAn-nx_o9X19YyC89aziYWD_4opRJliKq7JVdAfqKeEBtcBYABlP6Vf6kI7jfvrXoEfSd8g-LDC5ZTzuaQ/file# [following]\n",
            "--2022-08-21 17:50:09--  https://ucbb06e3cd8cf2124d6302088246.dl.dropboxusercontent.com/cd/0/inline/BrfxmhxA73df1AEm48wmcUcDuNsZcP1xMVFVL3M97xtE4oyhNEFZVzqZS5XDtGEGjpuZWOkXavLIFdZDo4yV4zwshn5aQAn-nx_o9X19YyC89aziYWD_4opRJliKq7JVdAfqKeEBtcBYABlP6Vf6kI7jfvrXoEfSd8g-LDC5ZTzuaQ/file\n",
            "Resolving ucbb06e3cd8cf2124d6302088246.dl.dropboxusercontent.com (ucbb06e3cd8cf2124d6302088246.dl.dropboxusercontent.com)... 162.125.69.15, 2620:100:6031:15::a27d:510f\n",
            "Connecting to ucbb06e3cd8cf2124d6302088246.dl.dropboxusercontent.com (ucbb06e3cd8cf2124d6302088246.dl.dropboxusercontent.com)|162.125.69.15|:443... connected.\n",
            "HTTP request sent, awaiting response... 200 OK\n",
            "Length: 24450101 (23M) [text/plain]\n",
            "Saving to: ‘negative.csv’\n",
            "\n",
            "negative.csv        100%[===================>]  23.32M  6.96MB/s    in 3.3s    \n",
            "\n",
            "2022-08-21 17:50:14 (6.96 MB/s) - ‘negative.csv’ saved [24450101/24450101]\n",
            "\n"
          ]
        }
      ],
      "source": [
        "# загрузим данные\n",
        "!wget https://www.dropbox.com/s/fnpq3z4bcnoktiv/positive.csv\n",
        "!wget https://www.dropbox.com/s/r6u59ljhhjdg6j0/negative.csv"
      ]
    },
    {
      "cell_type": "code",
      "source": [
        "# считаем данные и заполним общий датасет\n",
        "positive = pd.read_csv('positive.csv', sep=';', usecols=[3], names=['text'])\n",
        "positive['label'] = ['positive'] * len(positive)\n",
        "negative = pd.read_csv('negative.csv', sep=';', usecols=[3], names=['text'])\n",
        "negative['label'] = ['negative'] * len(negative)\n",
        "df = positive.append(negative)"
      ],
      "metadata": {
        "id": "aHKF1JhrchaQ"
      },
      "execution_count": 4,
      "outputs": []
    },
    {
      "cell_type": "code",
      "source": [
        "df.tail()"
      ],
      "metadata": {
        "colab": {
          "base_uri": "https://localhost:8080/",
          "height": 206
        },
        "id": "Bysloy5WchdT",
        "outputId": "aff57725-934e-4dd2-bb77-763b2e2e6d0a"
      },
      "execution_count": null,
      "outputs": [
        {
          "output_type": "execute_result",
          "data": {
            "text/plain": [
              "                                                                                                        text     label\n",
              "111918                                         Но не каждый хочет что то исправлять:( http://t.co/QNODDQzuZ7  negative\n",
              "111919                              скучаю так :-( только @taaannyaaa вправляет мозги, но я все равно скучаю  negative\n",
              "111920                                                             Вот и в школу, в говно это идти уже надо(  negative\n",
              "111921                                               RT @_Them__: @LisaBeroud Тауриэль, не грусти :( *обнял*  negative\n",
              "111922  Такси везет меня на работу. Раздумываю приплатить, чтобы меня втащили на пятый этаж. Лифта то нет :(  negative"
            ],
            "text/html": [
              "\n",
              "  <div id=\"df-fa544750-adc0-4e7f-973f-99789a070155\">\n",
              "    <div class=\"colab-df-container\">\n",
              "      <div>\n",
              "<style scoped>\n",
              "    .dataframe tbody tr th:only-of-type {\n",
              "        vertical-align: middle;\n",
              "    }\n",
              "\n",
              "    .dataframe tbody tr th {\n",
              "        vertical-align: top;\n",
              "    }\n",
              "\n",
              "    .dataframe thead th {\n",
              "        text-align: right;\n",
              "    }\n",
              "</style>\n",
              "<table border=\"1\" class=\"dataframe\">\n",
              "  <thead>\n",
              "    <tr style=\"text-align: right;\">\n",
              "      <th></th>\n",
              "      <th>text</th>\n",
              "      <th>label</th>\n",
              "    </tr>\n",
              "  </thead>\n",
              "  <tbody>\n",
              "    <tr>\n",
              "      <th>111918</th>\n",
              "      <td>Но не каждый хочет что то исправлять:( http://t.co/QNODDQzuZ7</td>\n",
              "      <td>negative</td>\n",
              "    </tr>\n",
              "    <tr>\n",
              "      <th>111919</th>\n",
              "      <td>скучаю так :-( только @taaannyaaa вправляет мозги, но я все равно скучаю</td>\n",
              "      <td>negative</td>\n",
              "    </tr>\n",
              "    <tr>\n",
              "      <th>111920</th>\n",
              "      <td>Вот и в школу, в говно это идти уже надо(</td>\n",
              "      <td>negative</td>\n",
              "    </tr>\n",
              "    <tr>\n",
              "      <th>111921</th>\n",
              "      <td>RT @_Them__: @LisaBeroud Тауриэль, не грусти :( *обнял*</td>\n",
              "      <td>negative</td>\n",
              "    </tr>\n",
              "    <tr>\n",
              "      <th>111922</th>\n",
              "      <td>Такси везет меня на работу. Раздумываю приплатить, чтобы меня втащили на пятый этаж. Лифта то нет :(</td>\n",
              "      <td>negative</td>\n",
              "    </tr>\n",
              "  </tbody>\n",
              "</table>\n",
              "</div>\n",
              "      <button class=\"colab-df-convert\" onclick=\"convertToInteractive('df-fa544750-adc0-4e7f-973f-99789a070155')\"\n",
              "              title=\"Convert this dataframe to an interactive table.\"\n",
              "              style=\"display:none;\">\n",
              "        \n",
              "  <svg xmlns=\"http://www.w3.org/2000/svg\" height=\"24px\"viewBox=\"0 0 24 24\"\n",
              "       width=\"24px\">\n",
              "    <path d=\"M0 0h24v24H0V0z\" fill=\"none\"/>\n",
              "    <path d=\"M18.56 5.44l.94 2.06.94-2.06 2.06-.94-2.06-.94-.94-2.06-.94 2.06-2.06.94zm-11 1L8.5 8.5l.94-2.06 2.06-.94-2.06-.94L8.5 2.5l-.94 2.06-2.06.94zm10 10l.94 2.06.94-2.06 2.06-.94-2.06-.94-.94-2.06-.94 2.06-2.06.94z\"/><path d=\"M17.41 7.96l-1.37-1.37c-.4-.4-.92-.59-1.43-.59-.52 0-1.04.2-1.43.59L10.3 9.45l-7.72 7.72c-.78.78-.78 2.05 0 2.83L4 21.41c.39.39.9.59 1.41.59.51 0 1.02-.2 1.41-.59l7.78-7.78 2.81-2.81c.8-.78.8-2.07 0-2.86zM5.41 20L4 18.59l7.72-7.72 1.47 1.35L5.41 20z\"/>\n",
              "  </svg>\n",
              "      </button>\n",
              "      \n",
              "  <style>\n",
              "    .colab-df-container {\n",
              "      display:flex;\n",
              "      flex-wrap:wrap;\n",
              "      gap: 12px;\n",
              "    }\n",
              "\n",
              "    .colab-df-convert {\n",
              "      background-color: #E8F0FE;\n",
              "      border: none;\n",
              "      border-radius: 50%;\n",
              "      cursor: pointer;\n",
              "      display: none;\n",
              "      fill: #1967D2;\n",
              "      height: 32px;\n",
              "      padding: 0 0 0 0;\n",
              "      width: 32px;\n",
              "    }\n",
              "\n",
              "    .colab-df-convert:hover {\n",
              "      background-color: #E2EBFA;\n",
              "      box-shadow: 0px 1px 2px rgba(60, 64, 67, 0.3), 0px 1px 3px 1px rgba(60, 64, 67, 0.15);\n",
              "      fill: #174EA6;\n",
              "    }\n",
              "\n",
              "    [theme=dark] .colab-df-convert {\n",
              "      background-color: #3B4455;\n",
              "      fill: #D2E3FC;\n",
              "    }\n",
              "\n",
              "    [theme=dark] .colab-df-convert:hover {\n",
              "      background-color: #434B5C;\n",
              "      box-shadow: 0px 1px 3px 1px rgba(0, 0, 0, 0.15);\n",
              "      filter: drop-shadow(0px 1px 2px rgba(0, 0, 0, 0.3));\n",
              "      fill: #FFFFFF;\n",
              "    }\n",
              "  </style>\n",
              "\n",
              "      <script>\n",
              "        const buttonEl =\n",
              "          document.querySelector('#df-fa544750-adc0-4e7f-973f-99789a070155 button.colab-df-convert');\n",
              "        buttonEl.style.display =\n",
              "          google.colab.kernel.accessAllowed ? 'block' : 'none';\n",
              "\n",
              "        async function convertToInteractive(key) {\n",
              "          const element = document.querySelector('#df-fa544750-adc0-4e7f-973f-99789a070155');\n",
              "          const dataTable =\n",
              "            await google.colab.kernel.invokeFunction('convertToInteractive',\n",
              "                                                     [key], {});\n",
              "          if (!dataTable) return;\n",
              "\n",
              "          const docLinkHtml = 'Like what you see? Visit the ' +\n",
              "            '<a target=\"_blank\" href=https://colab.research.google.com/notebooks/data_table.ipynb>data table notebook</a>'\n",
              "            + ' to learn more about interactive tables.';\n",
              "          element.innerHTML = '';\n",
              "          dataTable['output_type'] = 'display_data';\n",
              "          await google.colab.output.renderOutput(dataTable, element);\n",
              "          const docLink = document.createElement('div');\n",
              "          docLink.innerHTML = docLinkHtml;\n",
              "          element.appendChild(docLink);\n",
              "        }\n",
              "      </script>\n",
              "    </div>\n",
              "  </div>\n",
              "  "
            ]
          },
          "metadata": {},
          "execution_count": 5
        }
      ]
    },
    {
      "cell_type": "code",
      "source": [
        "# разделим на тренировочную и тестовую выборки\n",
        "x_train, x_test, y_train, y_test = train_test_split(df.text, df.label)"
      ],
      "metadata": {
        "id": "ZCiAsD0Mchgj"
      },
      "execution_count": null,
      "outputs": []
    },
    {
      "cell_type": "code",
      "source": [
        "# создадим переменные со стоп-словами и пунктуацией\n",
        "noise = stopwords.words('russian') + list(punctuation)\n",
        "stop_words = stopwords.words('russian')\n",
        "\n",
        "# зададим переменные длины наших датасетов\n",
        "train_length = x_train.shape[0]\n",
        "test_length = x_test.shape[0]"
      ],
      "metadata": {
        "id": "0s_hJi50EvWW"
      },
      "execution_count": null,
      "outputs": []
    },
    {
      "cell_type": "code",
      "source": [
        "# очистим текст от ников юзеров\n",
        "x_train = x_train[:train_length].apply(clean_user)"
      ],
      "metadata": {
        "id": "f3Wzmp2kcpwW"
      },
      "execution_count": null,
      "outputs": []
    },
    {
      "cell_type": "code",
      "source": [
        "# получим токены из тренировочного набора\n",
        "corpus = [token.lower() for tweet in x_train for token in word_tokenize(tweet) if token not in noise]\n",
        "print(len(corpus))\n",
        "corpus[:10]"
      ],
      "metadata": {
        "colab": {
          "base_uri": "https://localhost:8080/"
        },
        "id": "Svp48gerrvCD",
        "outputId": "5efeedcc-6760-442a-c9c9-a8adb42eb2fd"
      },
      "execution_count": null,
      "outputs": [
        {
          "output_type": "stream",
          "name": "stdout",
          "text": [
            "1419631\n"
          ]
        },
        {
          "output_type": "execute_result",
          "data": {
            "text/plain": [
              "['rt',\n",
              " 'а',\n",
              " 'завтра',\n",
              " 'загадать',\n",
              " 'желание',\n",
              " '13.12.13',\n",
              " '12:13',\n",
              " '13:12',\n",
              " '13.12.13',\n",
              " 'rt']"
            ]
          },
          "metadata": {},
          "execution_count": 62
        }
      ]
    },
    {
      "cell_type": "code",
      "source": [
        "# составим список частотности токенов\n",
        "freq_dict = Counter(corpus)\n",
        "freq_dict_sorted = sorted(freq_dict.items(), key=lambda x: -x[1])\n",
        "list(freq_dict_sorted)[:10]"
      ],
      "metadata": {
        "colab": {
          "base_uri": "https://localhost:8080/"
        },
        "id": "Zi4vcWm7c4oS",
        "outputId": "988ec3af-a9d0-417e-abcc-090f27d4f4e9"
      },
      "execution_count": null,
      "outputs": [
        {
          "output_type": "execute_result",
          "data": {
            "text/plain": [
              "[('rt', 28619),\n",
              " ('http', 24744),\n",
              " ('...', 16741),\n",
              " ('это', 14483),\n",
              " ('d', 12449),\n",
              " (\"''\", 9311),\n",
              " ('я', 9275),\n",
              " ('..', 8534),\n",
              " ('``', 8514),\n",
              " ('сегодня', 6503)]"
            ]
          },
          "metadata": {},
          "execution_count": 63
        }
      ]
    },
    {
      "cell_type": "code",
      "source": [
        "len(freq_dict_sorted)"
      ],
      "metadata": {
        "colab": {
          "base_uri": "https://localhost:8080/"
        },
        "id": "m1Vmw47rdpgX",
        "outputId": "ced35470-28e5-40b7-f42d-1695f92a5cec"
      },
      "execution_count": null,
      "outputs": [
        {
          "output_type": "execute_result",
          "data": {
            "text/plain": [
              "211875"
            ]
          },
          "metadata": {},
          "execution_count": 64
        }
      ]
    },
    {
      "cell_type": "code",
      "source": [
        "# график частотности токенов\n",
        "first_100_freqs = [freq for word, freq in freq_dict_sorted[:100]]\n",
        "plt.plot(first_100_freqs)\n",
        "plt.show()"
      ],
      "metadata": {
        "colab": {
          "base_uri": "https://localhost:8080/",
          "height": 265
        },
        "id": "kTcWIju1jORj",
        "outputId": "a0718df0-6a2a-4f8b-8191-fbe3246c5ded"
      },
      "execution_count": null,
      "outputs": [
        {
          "output_type": "display_data",
          "data": {
            "text/plain": [
              "<Figure size 432x288 with 1 Axes>"
            ],
            "image/png": "[encoded data removed]"
          },
          "metadata": {
            "needs_background": "light"
          }
        }
      ]
    },
    {
      "cell_type": "code",
      "source": [
        "# разбьем токены с высокой, средней и низкой частотой следующим образом:\n",
        "# свыше 5 000, от 5 000 до 1 000, ниже 1 000\n",
        "\n",
        "high_tokens = [word.lower() for word, freq in freq_dict_sorted if (freq > 5000)]\n",
        "averange_tokens = [word.lower() for word, freq in freq_dict_sorted if (freq < 5000) and (freq > 1000)]\n",
        "low_tokens = [word.lower() for word, freq in freq_dict_sorted if (freq < 1000)]\n",
        "\n",
        "print(len(high_tokens))\n",
        "print(len(averange_tokens))\n",
        "print(len(low_tokens))"
      ],
      "metadata": {
        "colab": {
          "base_uri": "https://localhost:8080/"
        },
        "id": "WrD-k6DujSrR",
        "outputId": "e6e4e1b6-276c-41f3-f61f-6d48713cc112"
      },
      "execution_count": null,
      "outputs": [
        {
          "output_type": "stream",
          "name": "stdout",
          "text": [
            "15\n",
            "86\n",
            "211774\n"
          ]
        }
      ]
    },
    {
      "cell_type": "code",
      "source": [
        "# предскажем значения на высокочастотных токенах\n",
        "vec = TfidfVectorizer(ngram_range=(1, 1), tokenizer=word_tokenize, stop_words=stop_words, vocabulary=high_tokens)\n",
        "pred, vector, model = LogRegPred(x_train, y_train, x_test, vec)\n",
        "print(classification_report(pred, y_test))"
      ],
      "metadata": {
        "colab": {
          "base_uri": "https://localhost:8080/"
        },
        "id": "25Cw8g9bX2-K",
        "outputId": "825e34e2-6f5c-4121-882a-3c34a5f07b6c"
      },
      "execution_count": null,
      "outputs": [
        {
          "output_type": "stream",
          "name": "stdout",
          "text": [
            "              precision    recall  f1-score   support\n",
            "\n",
            "    negative       0.74      0.58      0.65     35402\n",
            "    positive       0.49      0.66      0.56     21307\n",
            "\n",
            "    accuracy                           0.61     56709\n",
            "   macro avg       0.61      0.62      0.60     56709\n",
            "weighted avg       0.64      0.61      0.62     56709\n",
            "\n"
          ]
        }
      ]
    },
    {
      "cell_type": "code",
      "source": [
        "# предскажем значения на среднечастотных токенах\n",
        "vec = TfidfVectorizer(ngram_range=(1, 1), tokenizer=word_tokenize, stop_words=stop_words, vocabulary=averange_tokens)\n",
        "pred, vector, model = LogRegPred(x_train, y_train, x_test, vec)\n",
        "print(classification_report(pred, y_test))"
      ],
      "metadata": {
        "colab": {
          "base_uri": "https://localhost:8080/"
        },
        "id": "Sa-iKU-jYkbH",
        "outputId": "771bd241-f23c-4982-f212-d1d676bdb409"
      },
      "execution_count": null,
      "outputs": [
        {
          "output_type": "stream",
          "name": "stdout",
          "text": [
            "              precision    recall  f1-score   support\n",
            "\n",
            "    negative       0.34      0.65      0.45     14831\n",
            "    positive       0.82      0.56      0.67     41878\n",
            "\n",
            "    accuracy                           0.58     56709\n",
            "   macro avg       0.58      0.60      0.56     56709\n",
            "weighted avg       0.69      0.58      0.61     56709\n",
            "\n"
          ]
        }
      ]
    },
    {
      "cell_type": "code",
      "source": [
        "# предскажем значения на низкочастотных токенах\n",
        "vec = TfidfVectorizer(ngram_range=(1, 1), tokenizer=word_tokenize, stop_words=stop_words, vocabulary=low_tokens)\n",
        "pred, vector, model = LogRegPred(x_train, y_train, x_test, vec)\n",
        "print(classification_report(pred, y_test))"
      ],
      "metadata": {
        "colab": {
          "base_uri": "https://localhost:8080/"
        },
        "id": "XOquz2zzYmXU",
        "outputId": "ff1e9c5c-f3d3-403c-c2c5-d8a2171d70b7"
      },
      "execution_count": null,
      "outputs": [
        {
          "output_type": "stream",
          "name": "stdout",
          "text": [
            "              precision    recall  f1-score   support\n",
            "\n",
            "    negative       0.70      0.74      0.72     26290\n",
            "    positive       0.76      0.72      0.74     30419\n",
            "\n",
            "    accuracy                           0.73     56709\n",
            "   macro avg       0.73      0.73      0.73     56709\n",
            "weighted avg       0.73      0.73      0.73     56709\n",
            "\n"
          ]
        }
      ]
    },
    {
      "cell_type": "markdown",
      "source": [
        "### **Вывод:**\n",
        "\n",
        "**Лучше всего сработали токены, которые реже встречаются в тексте, так как они несут больше информации для классификации.**"
      ],
      "metadata": {
        "id": "ppKM5OJlH0Rx"
      }
    },
    {
      "cell_type": "markdown",
      "metadata": {
        "id": "RQObE68v5kO7"
      },
      "source": [
        "## **Задание 2.**\n",
        "\n",
        "Найти фичи с наибольшей значимостью, и вывести их."
      ]
    },
    {
      "cell_type": "code",
      "source": [
        "# предскажем значения без исключения слоп-слов и использования словаря\n",
        "vec = TfidfVectorizer(ngram_range=(1, 1), tokenizer=word_tokenize)\n",
        "pred, vector, model = LogRegPred(x_train, y_train, x_test, vec)\n",
        "print(classification_report(pred, y_test))"
      ],
      "metadata": {
        "colab": {
          "base_uri": "https://localhost:8080/"
        },
        "id": "Z6IuAB-BY3BB",
        "outputId": "c3710d50-bb74-4995-8c57-cca96cd6bda4"
      },
      "execution_count": null,
      "outputs": [
        {
          "output_type": "stream",
          "name": "stdout",
          "text": [
            "              precision    recall  f1-score   support\n",
            "\n",
            "    negative       1.00      1.00      1.00     27866\n",
            "    positive       1.00      1.00      1.00     28843\n",
            "\n",
            "    accuracy                           1.00     56709\n",
            "   macro avg       1.00      1.00      1.00     56709\n",
            "weighted avg       1.00      1.00      1.00     56709\n",
            "\n"
          ]
        }
      ]
    },
    {
      "cell_type": "code",
      "source": [
        "# выведем наиболее значимые признаки\n",
        "feature_importance = pd.DataFrame(vector.get_feature_names_out(), columns = [\"feature\"])\n",
        "feature_importance[\"importance\"] = model.coef_[0]\n",
        "feature_importance = feature_importance.sort_values(by = [\"importance\"], ascending=False)\n",
        "feature_importance = feature_importance.head(10)\n",
        "\n",
        "ax = feature_importance.plot.barh(x='feature', y='importance', color='purple')\n",
        "ax.invert_yaxis()\n",
        "plt.show()"
      ],
      "metadata": {
        "id": "be_1LuXsePjA",
        "colab": {
          "base_uri": "https://localhost:8080/",
          "height": 265
        },
        "outputId": "744bdbcb-d92f-49ac-f66d-b73e4176d0e8"
      },
      "execution_count": null,
      "outputs": [
        {
          "output_type": "display_data",
          "data": {
            "text/plain": [
              "<Figure size 432x288 with 1 Axes>"
            ],
            "image/png": "[encoded data removed]"
          },
          "metadata": {
            "needs_background": "light"
          }
        }
      ]
    },
    {
      "cell_type": "markdown",
      "metadata": {
        "id": "8vtAyItvLVSb"
      },
      "source": [
        "Посмотрим, как один из супер-значительных токенов справится с классификацией безо всякого машинного обучения:"
      ]
    },
    {
      "cell_type": "code",
      "source": [
        "# посмотрим на предсказание суперзначимого токена\n",
        "cool_token = ')'\n",
        "pred = ['positive' if cool_token in tweet else 'negative' for tweet in x_test]\n",
        "print(classification_report(pred, y_test))"
      ],
      "metadata": {
        "colab": {
          "base_uri": "https://localhost:8080/"
        },
        "id": "98RZ73QJKcjp",
        "outputId": "b1eba2d4-db2d-4409-a9b6-30f178cff42f"
      },
      "execution_count": null,
      "outputs": [
        {
          "output_type": "stream",
          "name": "stdout",
          "text": [
            "              precision    recall  f1-score   support\n",
            "\n",
            "    negative       1.00      0.85      0.92     32782\n",
            "    positive       0.83      1.00      0.91     23927\n",
            "\n",
            "    accuracy                           0.91     56709\n",
            "   macro avg       0.92      0.93      0.91     56709\n",
            "weighted avg       0.93      0.91      0.91     56709\n",
            "\n"
          ]
        }
      ]
    },
    {
      "cell_type": "markdown",
      "source": [
        "### **Вывод:**\n",
        "\n",
        "**Наиболее значимым токеном оказался знак пунктуации, а именно выгнутая скобочка, смайл.**"
      ],
      "metadata": {
        "id": "QNmeG1wcN9NY"
      }
    },
    {
      "cell_type": "markdown",
      "source": [
        "## **Задание 3.**\n",
        "\n",
        "1) сравнить count/tf-idf/hashing векторайзеры/полносвязанную сетку (построить classification_report)\n",
        "\n",
        "2) подобрать оптимальный размер для hashing векторайзера \n",
        "\n",
        "3) убедиться что для сетки нет переобучения"
      ],
      "metadata": {
        "id": "NYI7eAVCObfQ"
      }
    },
    {
      "cell_type": "markdown",
      "source": [
        "### **Векторайзеры**"
      ],
      "metadata": {
        "id": "3udEoYovj7lK"
      }
    },
    {
      "cell_type": "code",
      "source": [
        "%%time\n",
        "# сделаем предсказания через CountVectorizer\n",
        "count_v = CountVectorizer(ngram_range=(1, 1), tokenizer=word_tokenize, stop_words=stop_words)\n",
        "pred, vector, model = LogRegPred(x_train, y_train, x_test, count_v)\n",
        "print(classification_report(pred, y_test))"
      ],
      "metadata": {
        "colab": {
          "base_uri": "https://localhost:8080/"
        },
        "id": "srZ4eZN7hO-d",
        "outputId": "f5494bc7-5452-49a7-ec5d-4fe017d758fb"
      },
      "execution_count": null,
      "outputs": [
        {
          "output_type": "stream",
          "name": "stdout",
          "text": [
            "              precision    recall  f1-score   support\n",
            "\n",
            "    negative       1.00      1.00      1.00     27896\n",
            "    positive       1.00      1.00      1.00     28813\n",
            "\n",
            "    accuracy                           1.00     56709\n",
            "   macro avg       1.00      1.00      1.00     56709\n",
            "weighted avg       1.00      1.00      1.00     56709\n",
            "\n",
            "CPU times: user 1min 5s, sys: 5.43 s, total: 1min 11s\n",
            "Wall time: 1min 8s\n"
          ]
        }
      ]
    },
    {
      "cell_type": "code",
      "source": [
        "%%time\n",
        "# сделаем предсказания через TfidfVectorizer\n",
        "tfidf_v = TfidfVectorizer(ngram_range=(1, 1), tokenizer=word_tokenize, stop_words=stop_words)\n",
        "pred, vector, model = LogRegPred(x_train, y_train, x_test, tfidf_v)\n",
        "print(classification_report(pred, y_test))"
      ],
      "metadata": {
        "colab": {
          "base_uri": "https://localhost:8080/"
        },
        "id": "BW7bu8keNqBP",
        "outputId": "a212c3da-4681-49e8-8755-d86e7b82660c"
      },
      "execution_count": null,
      "outputs": [
        {
          "output_type": "stream",
          "name": "stdout",
          "text": [
            "              precision    recall  f1-score   support\n",
            "\n",
            "    negative       1.00      1.00      1.00     27868\n",
            "    positive       1.00      1.00      1.00     28841\n",
            "\n",
            "    accuracy                           1.00     56709\n",
            "   macro avg       1.00      1.00      1.00     56709\n",
            "weighted avg       1.00      1.00      1.00     56709\n",
            "\n",
            "CPU times: user 48.7 s, sys: 2.88 s, total: 51.6 s\n",
            "Wall time: 48.3 s\n"
          ]
        }
      ]
    },
    {
      "cell_type": "code",
      "source": [
        "%%time\n",
        "# сделаем предсказания через HashingVectorizer на 100 признаках\n",
        "hash_v_100 = HashingVectorizer(ngram_range=(1, 1), n_features=100, tokenizer=word_tokenize, stop_words=stop_words, token_pattern=None)\n",
        "pred, vector, model = LogRegPred(x_train, y_train, x_test, hash_v_100)\n",
        "print(classification_report(pred, y_test))"
      ],
      "metadata": {
        "colab": {
          "base_uri": "https://localhost:8080/"
        },
        "id": "pDibVGvujZ-f",
        "outputId": "4f90ba97-d8c0-40f1-e0a6-3482a377bbfe"
      },
      "execution_count": null,
      "outputs": [
        {
          "output_type": "stream",
          "name": "stdout",
          "text": [
            "              precision    recall  f1-score   support\n",
            "\n",
            "    negative       0.96      0.97      0.96     27710\n",
            "    positive       0.97      0.96      0.96     28999\n",
            "\n",
            "    accuracy                           0.96     56709\n",
            "   macro avg       0.96      0.96      0.96     56709\n",
            "weighted avg       0.96      0.96      0.96     56709\n",
            "\n",
            "CPU times: user 43.8 s, sys: 131 ms, total: 44 s\n",
            "Wall time: 44 s\n"
          ]
        }
      ]
    },
    {
      "cell_type": "code",
      "source": [
        "%%time\n",
        "# сделаем предсказания через HashingVectorizer на 200 признаках\n",
        "hash_v_200 = HashingVectorizer(ngram_range=(1, 1), n_features=200, tokenizer=word_tokenize, stop_words=stop_words, token_pattern=None)\n",
        "pred, vector, model = LogRegPred(x_train, y_train, x_test, hash_v_200)\n",
        "print(classification_report(pred, y_test))"
      ],
      "metadata": {
        "colab": {
          "base_uri": "https://localhost:8080/"
        },
        "id": "4Zl9IzKBjkaD",
        "outputId": "af92aa9e-7f9e-4f6d-a2df-53df10d025d6"
      },
      "execution_count": null,
      "outputs": [
        {
          "output_type": "stream",
          "name": "stdout",
          "text": [
            "              precision    recall  f1-score   support\n",
            "\n",
            "    negative       0.98      0.98      0.98     27807\n",
            "    positive       0.98      0.98      0.98     28902\n",
            "\n",
            "    accuracy                           0.98     56709\n",
            "   macro avg       0.98      0.98      0.98     56709\n",
            "weighted avg       0.98      0.98      0.98     56709\n",
            "\n",
            "CPU times: user 44 s, sys: 127 ms, total: 44.1 s\n",
            "Wall time: 44 s\n"
          ]
        }
      ]
    },
    {
      "cell_type": "code",
      "source": [
        "%%time\n",
        "# сделаем предсказания через HashingVectorizer на 300 признаках\n",
        "hash_v_300 = HashingVectorizer(ngram_range=(1, 1), n_features=300, tokenizer=word_tokenize, stop_words=stop_words, token_pattern=None)\n",
        "pred, vector, model = LogRegPred(x_train, y_train, x_test, hash_v_300)\n",
        "print(classification_report(pred, y_test))"
      ],
      "metadata": {
        "colab": {
          "base_uri": "https://localhost:8080/"
        },
        "id": "PQl55o80l9zw",
        "outputId": "4e8d124b-42f2-4f29-cb78-48b1218308de"
      },
      "execution_count": null,
      "outputs": [
        {
          "output_type": "stream",
          "name": "stdout",
          "text": [
            "              precision    recall  f1-score   support\n",
            "\n",
            "    negative       0.99      0.99      0.99     27857\n",
            "    positive       0.99      0.99      0.99     28852\n",
            "\n",
            "    accuracy                           0.99     56709\n",
            "   macro avg       0.99      0.99      0.99     56709\n",
            "weighted avg       0.99      0.99      0.99     56709\n",
            "\n",
            "CPU times: user 44.2 s, sys: 108 ms, total: 44.3 s\n",
            "Wall time: 44.2 s\n"
          ]
        }
      ]
    },
    {
      "cell_type": "code",
      "source": [
        "%%time\n",
        "# сделаем предсказания через HashingVectorizer на 400 признаках\n",
        "hash_v_400 = HashingVectorizer(ngram_range=(1, 1), n_features=400, tokenizer=word_tokenize, stop_words=stop_words, token_pattern=None)\n",
        "pred, vector, model = LogRegPred(x_train, y_train, x_test, hash_v_400)\n",
        "print(classification_report(pred, y_test))"
      ],
      "metadata": {
        "colab": {
          "base_uri": "https://localhost:8080/"
        },
        "id": "AnHYuCfLjnUN",
        "outputId": "ac252f82-78ef-438b-cae6-a61cda94be0c"
      },
      "execution_count": null,
      "outputs": [
        {
          "output_type": "stream",
          "name": "stdout",
          "text": [
            "              precision    recall  f1-score   support\n",
            "\n",
            "    negative       0.99      0.99      0.99     27915\n",
            "    positive       0.99      0.99      0.99     28794\n",
            "\n",
            "    accuracy                           0.99     56709\n",
            "   macro avg       0.99      0.99      0.99     56709\n",
            "weighted avg       0.99      0.99      0.99     56709\n",
            "\n",
            "CPU times: user 45.4 s, sys: 106 ms, total: 45.5 s\n",
            "Wall time: 45.4 s\n"
          ]
        }
      ]
    },
    {
      "cell_type": "markdown",
      "source": [
        "### **Вывод:**\n",
        "\n",
        "**CountVectorizer и TfidfVectorizer сработали по точности одинаково.**\n",
        "\n",
        "**HashingVectorizer сработал чуть хуже. По количеству признаков, 300 кажется оптимальным количеством, при этом точность составляет 0,99, а экономия времени - 26,9 сек по сравнению с CountVectorizer, и 7,5 сек - с TfidfVectorizer.**"
      ],
      "metadata": {
        "id": "eFoV3zrCnMZj"
      }
    },
    {
      "cell_type": "markdown",
      "source": [
        "### **Нейронные сети**"
      ],
      "metadata": {
        "id": "BafvWgAPkCEr"
      }
    },
    {
      "cell_type": "code",
      "source": [
        "# снова поделим данные, чтобы они были без обработки\n",
        "x_train, x_test, y_train, y_test = train_test_split(df.text, df.label)\n",
        "\n",
        "# выделим названия классов\n",
        "class_names = ['positive', 'negative']\n",
        "\n",
        "# переведем классы в бинарный вид\n",
        "y_train.replace('positive', 1, inplace=True)\n",
        "y_train.replace('negative', 0, inplace=True)\n",
        "y_test.replace('positive', 1, inplace=True)\n",
        "y_test.replace('negative', 0, inplace=True)\n",
        "\n",
        "# переведем данные в тензоры\n",
        "train_data = tf.data.Dataset.from_tensor_slices((x_train, y_train))\n",
        "test_data = tf.data.Dataset.from_tensor_slices((x_test, y_test))\n",
        "\n",
        "# поделим датасеты на батчи\n",
        "train_data = train_data.batch(32)\n",
        "test_data = test_data.batch(32)"
      ],
      "metadata": {
        "id": "rez8ueEFdfw8"
      },
      "execution_count": 146,
      "outputs": []
    },
    {
      "cell_type": "code",
      "source": [
        "# посмотрим на один батч\n",
        "for raw in train_data.take(1):\n",
        "    print(raw)\n",
        "    break"
      ],
      "metadata": {
        "colab": {
          "base_uri": "https://localhost:8080/"
        },
        "id": "ovQ1GwvPTJMa",
        "outputId": "01c6add3-d573-4673-a6ad-71ef7b1ed015"
      },
      "execution_count": 147,
      "outputs": [
        {
          "output_type": "stream",
          "name": "stdout",
          "text": [
            "(<tf.Tensor: shape=(32,), dtype=string, numpy=\n",
            "array([b'@dancing_cocaine \\xd0\\xbd\\xd0\\xb0 \\xd1\\x81\\xd0\\xb0\\xd0\\xbc\\xd0\\xbe\\xd0\\xbc \\xd0\\xb4\\xd0\\xb5\\xd0\\xbb\\xd0\\xb5 \\xd0\\xb6\\xd1\\x83\\xd1\\x82\\xd0\\xba\\xd0\\xbe \\xd0\\xb4\\xd0\\xbe\\xd1\\x81\\xd1\\x82\\xd0\\xb0\\xd0\\xb2\\xd0\\xbb\\xd1\\x8f\\xd0\\xb5\\xd1\\x82 \\xd0\\xbe\\xd1\\x82\\xd1\\x80\\xd0\\xb8\\xd1\\x86\\xd0\\xb0\\xd1\\x82\\xd0\\xb5\\xd0\\xbb\\xd1\\x8c\\xd0\\xbd\\xd0\\xb0\\xd1\\x8f \\xd1\\x80\\xd0\\xb5\\xd0\\xb0\\xd0\\xba\\xd1\\x86\\xd0\\xb8\\xd1\\x8f \\xd0\\xbd\\xd0\\xb0 \\xd0\\xbc\\xd0\\xbd\\xd0\\xbe\\xd0\\xb3\\xd0\\xbe\\xd1\\x82\\xd0\\xbe\\xd1\\x87\\xd0\\xb8\\xd1\\x8f :D',\n",
            "       b'RT @Shumkova0406199: @ann_safina \\xd0\\xb0\\xd1\\x85\\xd0\\xb0\\xd0\\xb0\\xd1\\x85\\xd0\\xb0\\xd1\\x85 \\xd0\\xbd\\xd1\\x83 \\xd0\\xbe\\xd0\\xba :) \\xd0\\x9e\\xd0\\xbb\\xd0\\xb5\\xd0\\xbd\\xd1\\x8c\\xd0\\x92\\xd0\\xb0\\xd0\\xbd\\xd0\\xb3\\xd0\\xb0 \\xd1\\x8f \\xd0\\xb2\\xd0\\xb5\\xd1\\x80\\xd1\\x8e \\xd1\\x82\\xd0\\xb5\\xd0\\xb1\\xd0\\xb5 :3',\n",
            "       b'@fillip_ina @SimbIblis @cveren1 \\xd0\\x9e\\xd0\\xbd\\xd0\\xb0 \\xd0\\xbf\\xd1\\x80\\xd0\\xb5\\xd0\\xba\\xd1\\x80\\xd0\\xb0\\xd1\\x81\\xd0\\xbd\\xd0\\xb0) \\xd0\\x93\\xd0\\xbb\\xd0\\xb0\\xd0\\xb7\\xd0\\xb0 \\xd0\\xba\\xd0\\xb0\\xd0\\xba \\xd0\\xb1\\xd0\\xbb\\xd1\\x8e\\xd0\\xb4\\xd1\\x86\\xd0\\xb0',\n",
            "       b'@dart_nikol \\xd0\\xb0 \\xd1\\x82\\xd1\\x8b \\xd1\\x88\\xd0\\xbe, \\xd1\\x81\\xd0\\xb0\\xd0\\xbc \\xd1\\x81\\xd0\\xb8\\xd0\\xb4\\xd0\\xb8\\xd1\\x88\\xd1\\x8c?\\n\\xd0\\x9f\\xd1\\x80\\xd0\\xb0\\xd0\\xb2\\xd0\\xb8\\xd0\\xbb\\xd1\\x8c\\xd0\\xbd\\xd0\\xbe, \\xd0\\xbf\\xd1\\x80\\xd0\\xb0\\xd0\\xb2\\xd0\\xb8\\xd0\\xbb\\xd1\\x8c\\xd0\\xbd\\xd0\\xbe, \\xd1\\x81 \\xd0\\x98\\xd1\\x80\\xd0\\xbe\\xd0\\xb9 \\xd0\\xb2\\xd1\\x81\\xd0\\xb5\\xd0\\xb3\\xd0\\xb4\\xd0\\xb0 \\xd0\\xb2\\xd0\\xb5\\xd1\\x81\\xd0\\xb5\\xd0\\xbb\\xd0\\xbe :* \\xd0\\xb0\\xd1\\x85\\xd0\\xb0\\xd1\\x85',\n",
            "       b'\"@know_facts: \\xd0\\x97\\xd1\\x83\\xd0\\xb1\\xd1\\x8b \\xd0\\xb1\\xd0\\xbe\\xd0\\xb1\\xd1\\x80\\xd0\\xb0 \\xd0\\xbd\\xd0\\xb8\\xd0\\xba\\xd0\\xbe\\xd0\\xb3\\xd0\\xb4\\xd0\\xb0 \\xd0\\xbd\\xd0\\xb5 \\xd0\\xbf\\xd1\\x80\\xd0\\xb5\\xd0\\xba\\xd1\\x80\\xd0\\xb0\\xd1\\x89\\xd0\\xb0\\xd1\\x8e\\xd1\\x82 \\xd1\\x80\\xd0\\xb0\\xd1\\x81\\xd1\\x82\\xd0\\xb8.\"-\\xd1\\x82\\xd0\\xbe\\xd0\\xbd\\xd0\\xba\\xd0\\xbe \\xd0\\xb2 \\xd0\\xba\\xd0\\xbe\\xd0\\xbd\\xd1\\x82\\xd0\\xb5\\xd0\\xba\\xd1\\x81\\xd1\\x82\\xd0\\xb5 \\xd0\\xa0\\xd0\\xbe\\xd1\\x81\\xd1\\x81\\xd0\\xb8\\xd0\\xb8 \\xd1\\x81\\xd0\\xb5\\xd0\\xb3\\xd0\\xbe\\xd0\\xb4\\xd0\\xbd\\xd1\\x8f!))',\n",
            "       b'\\xd0\\xa0\\xd0\\xb8\\xd1\\x81\\xd0\\xbe\\xd0\\xb2\\xd0\\xb0\\xd1\\x82\\xd1\\x8c \\xd0\\xbd\\xd0\\xb0 \\xd0\\xba\\xd1\\x83\\xd1\\x80\\xd1\\x81\\xd0\\xb0\\xd1\\x85 \\xd0\\xbe\\xd0\\xb4\\xd0\\xbd\\xd0\\xb8 \\xd0\\xb8 \\xd1\\x82\\xd0\\xbe\\xd1\\x82 \\xd0\\xb6\\xd0\\xb5 \\xd0\\xbd\\xd0\\xb0\\xd1\\x82\\xd1\\x8e\\xd1\\x80\\xd0\\xbc\\xd0\\xbe\\xd1\\x80\\xd1\\x82 \\xd1\\x82\\xd1\\x80\\xd0\\xb8 \\xd1\\x87\\xd0\\xb0\\xd1\\x81\\xd0\\xb0 \\xd0\\xbf\\xd0\\xbe\\xd0\\xb4\\xd1\\x80\\xd1\\x8f\\xd0\\xb4? \\xd0\\xad\\xd1\\x82\\xd0\\xbe \\xd1\\x83\\xd0\\xb6 \\xd0\\xbf\\xd0\\xb5\\xd1\\x80\\xd0\\xb5\\xd0\\xb1\\xd0\\xbe\\xd1\\x80.. \\xd0\\x95\\xd1\\x89\\xd0\\xb5 \\xd0\\xb8 \\xd0\\xb7\\xd0\\xb0\\xd0\\xb2\\xd1\\x82\\xd1\\x80\\xd0\\xb0 \\xd0\\xbc\\xd0\\xb5\\xd0\\xbd\\xd1\\x8f \\xd0\\xb6\\xd0\\xb4\\xd0\\xb5\\xd1\\x82 \\xd1\\x82\\xd0\\xb0\\xd0\\xba\\xd0\\xb0\\xd1\\x8f \\xd0\\xb6\\xd0\\xb5 \\xd1\\x83\\xd1\\x87\\xd0\\xb0\\xd1\\x81\\xd1\\x82\\xd1\\x8c,\\xd0\\xb5\\xd1\\x89\\xd0\\xb5 \\xd0\\xb8 \\xd0\\xb2\\xd0\\xb5\\xd1\\x80\\xd0\\xbd\\xd1\\x83\\xd1\\x81\\xd1\\x8c \\xd0\\xbf\\xd0\\xbe\\xd0\\xb7\\xd0\\xb4\\xd0\\xbd\\xd0\\xbe..(',\n",
            "       b'RT @69STYLESKATE: @karinellaLOVE1D \\xd0\\xb0\\xd0\\xb0\\xd1\\x85\\xd0\\xb0\\xd1\\x85\\xd0\\xb0 \\xd0\\xbb\\xd0\\xb0\\xd0\\xbb\\xd0\\xba\\xd0\\xb8 \\xd0\\xbd\\xd1\\x83 \\xd1\\x8d\\xd1\\x82\\xd0\\xbe \\xd0\\xb6\\xd0\\xb5 \\xd1\\x8f \\xd1\\x85\\xd0\\xb0\\xd1\\x85\\xd0\\xb0\\xd1\\x85\\xd0\\xb0)\\xd1\\x8f \\xd0\\x9a\\xd0\\xb0\\xd1\\x82\\xd1\\x8f\\xd0\\xbc\\xd0\\xbd\\xd0\\xb513 \\xd0\\xb0\\xd1\\x85\\xd0\\xb0\\xd1\\x85 \\xd0\\xb2\\xd0\\xb5\\xd1\\x81\\xd0\\xb5\\xd0\\xbb\\xd0\\xb0\\xd1\\x8f \\xd0\\xbf\\xd0\\xbe\\xd1\\x88\\xd0\\xbb\\xd0\\xb0\\xd1\\x8f\\xd0\\x94\\xd0\\xb8\\xd1\\x80\\xd0\\xb5\\xd0\\xba\\xd1\\x88\\xd0\\xb8\\xd0\\xbe\\xd0\\xbd\\xd0\\xb5\\xd1\\x80 \\xd0\\xbc\\xd1\\x83\\xd0\\xb6 \\xd0\\xa1\\xd1\\x82\\xd0\\xb0\\xd0\\xb9\\xd0\\xbb\\xd1\\x81 \\xd0\\xb8\\xd0\\xb7 \\xd0\\xb2\\xd0\\xbe\\xd0\\xbb\\xd0\\xb3\\xd0\\xbe\\xd0\\xb3\\xd1\\x80\\xd0\\xb0\\xd0\\xb4\\xd1\\x81\\xd0\\xba\\xd0\\xbe\\xd0\\xb9 \\xd0\\xbe\\xe2\\x80\\xa6',\n",
            "       b'\\xd0\\x9f\\xd0\\xbe\\xd0\\xbc\\xd0\\xb5\\xd1\\x80\\xd0\\xb8\\xd0\\xbb\\xd0\\xb0 \\xd0\\xbf\\xd0\\xbb\\xd0\\xb0\\xd1\\x82\\xd1\\x8c\\xd0\\xb5 \\xd0\\xbe\\xd0\\xbd\\xd0\\xbe \\xd1\\x83\\xd0\\xb6\\xd0\\xb0\\xd1\\x81\\xd0\\xbd\\xd0\\xbe. \\xd0\\x9c\\xd0\\xbd\\xd0\\xb5 \\xd1\\x81\\xd1\\x82\\xd1\\x8b\\xd0\\xb4\\xd0\\xbd\\xd0\\xbe \\xd0\\xb2 \\xd0\\xbd\\xd1\\x91\\xd0\\xbc \\xd0\\xbd\\xd0\\xb0 \\xd1\\x91\\xd0\\xbb\\xd0\\xba\\xd1\\x83 \\xd0\\xb8\\xd0\\xb4\\xd1\\x82\\xd0\\xb8 :\"(\\n\\xd0\\x97\\xd0\\xb0 \\xd1\\x87\\xd1\\x82\\xd0\\xbe \\xd1\\x8f \\xd0\\xbe\\xd1\\x82\\xd0\\xb4\\xd0\\xb0\\xd0\\xbb\\xd0\\xb0 2700? \\xd0\\x9a\\xd0\\xb0\\xd0\\xba \\xd0\\xb2\\xd1\\x81\\xd0\\xb5\\xd0\\xb3\\xd0\\xb4\\xd0\\xb0. \\xd0\\x9a\\xd0\\xb0\\xd0\\xba \\xd1\\x8f \\xd0\\xb5\\xd0\\xb3\\xd0\\xbe \\xd0\\xba\\xd1\\x83\\xd0\\xbf\\xd0\\xb8\\xd0\\xbb\\xd0\\xb0?',\n",
            "       b'\\xd0\\xbf\\xd0\\xbe\\xd0\\xbd\\xd0\\xb8\\xd0\\xbc\\xd0\\xb0\\xd1\\x8e, \\xd1\\x87\\xd1\\x82\\xd0\\xbe \\xd0\\xb2\\xd0\\xbe \\xd0\\xbc\\xd0\\xbd\\xd0\\xbe\\xd0\\xb3\\xd0\\xbe\\xd0\\xbc \\xd1\\x81\\xd0\\xb0\\xd0\\xbc\\xd0\\xb0 \\xd0\\xb2\\xd0\\xb8\\xd0\\xbd\\xd0\\xbe\\xd0\\xb2\\xd0\\xb0\\xd1\\x82\\xd0\\xb0, \\xd0\\xbd\\xd0\\xbe \\xd1\\x8d\\xd1\\x82\\xd0\\xb8 \\xd0\\xbf\\xd1\\x80\\xd0\\xbe\\xd0\\xb1\\xd0\\xbb\\xd0\\xb5\\xd0\\xbc\\xd1\\x8b \\xd1\\x81\\xd0\\xbe \\xd0\\xb7\\xd0\\xb4\\xd0\\xbe\\xd1\\x80\\xd0\\xbe\\xd0\\xb2\\xd1\\x8c\\xd0\\xb5\\xd0\\xbc \\xd0\\xbf\\xd1\\x80\\xd0\\xbe\\xd1\\x81\\xd1\\x82\\xd0\\xbe \\xd0\\xbf\\xd0\\xb8\\xd0\\xb7\\xd0\\xb4\\xd0\\xb5\\xd1\\x86 \\xd0\\xba\\xd0\\xb0\\xd0\\xba \\xd0\\xbd\\xd0\\xb5 \\xd0\\xb2\\xd0\\xbe\\xd0\\xb2\\xd1\\x80\\xd0\\xb5\\xd0\\xbc\\xd1\\x8f...(((',\n",
            "       b'\\xd0\\xa4\\xd0\\xb8\\xd0\\xb3\\xd0\\xb0\\xd1\\x81\\xd0\\xb5, \\xd0\\xb2 \\xd0\\xa0\\xd0\\xbe\\xd1\\x81\\xd1\\x81\\xd0\\xb8\\xd0\\xb8 \\xd0\\xbe\\xd0\\xba\\xd0\\xb0\\xd0\\xb7\\xd1\\x8b\\xd0\\xb2\\xd0\\xb0\\xd0\\xb5\\xd1\\x82\\xd1\\x81\\xd1\\x8f \\xd0\\xb4\\xd1\\x83\\xd0\\xbc\\xd0\\xb0\\xd1\\x8e\\xd1\\x82, \\xd1\\x87\\xd1\\x82\\xd0\\xbe \\xd0\\xbc\\xd0\\xbe\\xd1\\x81\\xd0\\xba\\xd0\\xb0\\xd0\\xbbi \\xe2\\x80\\x94 \\xd1\\x8d\\xd1\\x82\\xd0\\xbe \\xd1\\x82\\xd0\\xbe\\xd0\\xbb\\xd1\\x8c\\xd0\\xba\\xd0\\xbe \\xd0\\xbc\\xd0\\xbe\\xd1\\x81\\xd0\\xba\\xd0\\xb2\\xd0\\xb8\\xd1\\x87\\xd0\\xb8 \\xd0\\xbe_\\xd0\\x9e',\n",
            "       b'@D5kGamingOniXoN \\xd0\\xbd\\xd0\\xb8\\xd1\\x87\\xd0\\xb5\\xd0\\xb3\\xd0\\xbe :* \\xd1\\x82\\xd1\\x8b \\xd0\\xb1\\xd1\\x83\\xd0\\xb4\\xd0\\xb5\\xd1\\x88\\xd1\\x8c \\xd0\\xb2 \\xd0\\xba\\xd0\\xbe\\xd0\\xbd\\xd1\\x82\\xd0\\xb0\\xd0\\xba\\xd1\\x82\\xd0\\xb5?  \\xd0\\xa5\\xd0\\xbe\\xd1\\x82\\xd1\\x8c \\xd0\\xb3\\xd0\\xb4\\xd0\\xb5 \\xd0\\xbd\\xd0\\xb8\\xd0\\xb1\\xd1\\x83\\xd0\\xb4\\xd1\\x8c :\\xd1\\x81',\n",
            "       b'\\xd0\\x9b\\xd0\\xb0\\xd0\\xb4\\xd0\\xbd\\xd0\\xbe \\xd0\\xb7\\xd0\\xb0\\xd0\\xbf\\xd1\\x8f\\xd1\\x82\\xd1\\x8b\\xd0\\xb5 \\xd0\\xbf\\xd1\\x80\\xd0\\xbe\\xd0\\xbf\\xd1\\x83\\xd1\\x81\\xd0\\xba\\xd0\\xb0\\xd0\\xb5\\xd1\\x88\\xd1\\x8c, \\xd0\\xbf\\xd0\\xbe\\xd1\\x84\\xd0\\xb8\\xd0\\xb3.. \\xd0\\x9d\\xd0\\xbe \\xd0\\xa2\\xd0\\xa1\\xd0\\xaf \\xd0\\xb8 \\xd0\\xa2\\xd0\\xac\\xd0\\xa1\\xd0\\xaf - \\xd1\\x82\\xd0\\xbe:(',\n",
            "       b'\\xd0\\xa1\\xd0\\xb5\\xd0\\xb3\\xd0\\xbe\\xd0\\xb4\\xd0\\xbd\\xd1\\x8f 8 \\xd0\\xb4\\xd0\\xb5\\xd0\\xba\\xd0\\xb0\\xd0\\xb1\\xd1\\x80\\xd1\\x8f, \\xd1\\x83 \\xd0\\xbc\\xd0\\xb5\\xd0\\xbd\\xd1\\x8f D-18, \\xd0\\xbd\\xd0\\xb0 \\xd1\\x87\\xd0\\xb0\\xd1\\x81\\xd0\\xb0\\xd1\\x85 2:04 \\xd0\\xb8 \\xd1\\x8f \\xd0\\xb1\\xd1\\x83\\xd0\\xb4\\xd1\\x83 \\xd1\\x81\\xd0\\xbf\\xd0\\xb0\\xd1\\x82\\xd1\\x8c. \\xd0\\x92\\xd1\\x81\\xd0\\xb5\\xd0\\xbc \\xd1\\x85\\xd0\\xbe\\xd1\\x80\\xd0\\xbe\\xd1\\x88\\xd0\\xb8\\xd1\\x85 \\xd1\\x81\\xd0\\xbd\\xd0\\xbe\\xd0\\xb2, \\xd0\\xb0 \\xd0\\xbc\\xd0\\xbe\\xd0\\xb8\\xd1\\x85 \\xd0\\xbb\\xd1\\x8e\\xd0\\xb1\\xd0\\xb8\\xd0\\xbc\\xd1\\x8b\\xd1\\x85 \\xd0\\xa0\\xd0\\x94-\\xd1\\x81 \\xd0\\xbf\\xd0\\xbe\\xd0\\xb1\\xd0\\xb5\\xd0\\xb4\\xd0\\xbe\\xd0\\xb9! \\xd0\\x9e\\xd1\\x82\\xd0\\xbe\\xd1\\x80\\xd0\\xb2\\xd0\\xb8\\xd1\\x82\\xd0\\xb5\\xd1\\x81\\xd1\\x8c \\xd0\\xbd\\xd0\\xb0 \\xd0\\xbf\\xd0\\xb0\\xd1\\x82\\xd0\\xb8! ;)',\n",
            "       b'\\xd0\\xa5\\xd0\\xbe\\xd0\\xba\\xd0\\xba\\xd0\\xb5\\xd0\\xb9 \\xd1\\x81\\xd0\\xb5\\xd0\\xb3\\xd0\\xbe\\xd0\\xb4\\xd0\\xbd\\xd1\\x8f, \\xd0\\xa1\\xd0\\x9a\\xd0\\x90 - \\xd0\\x9c\\xd0\\xb5\\xd1\\x82\\xd0\\xb0\\xd0\\xbb\\xd0\\xbb\\xd1\\x83\\xd1\\x80\\xd0\\xb3 \\xd0\\x9c\\xd0\\xb3., \\xd0\\xb6\\xd0\\xb4\\xd1\\x83 \\xd1\\x81\\xd1\\x83\\xd0\\xbf\\xd0\\xb5\\xd1\\x80-\\xd0\\xbc\\xd0\\xb0\\xd1\\x82\\xd1\\x87:)',\n",
            "       b'@pchikov \\xd0\\x92 \\xd1\\x81\\xd0\\xb2\\xd0\\xbe\\xd0\\xb5 \\xd0\\xb2\\xd1\\x80\\xd0\\xb5\\xd0\\xbc\\xd1\\x8f \\xd0\\xa8\\xd0\\xb0\\xd0\\xbb\\xd0\\xb0\\xd0\\xbc\\xd0\\xbe\\xd0\\xb2\\xd0\\xb0 \\xd0\\xb8\\xd0\\xbc\\xd0\\xb5\\xd0\\xbd\\xd0\\xbd\\xd0\\xbe \\xd1\\x8d\\xd1\\x82\\xd0\\xbe \\xd0\\xb8 \\xd1\\x81\\xd0\\xbb\\xd0\\xbe\\xd0\\xbc\\xd0\\xb0\\xd0\\xbb\\xd0\\xbe. \\xd0\\x9a\\xd0\\x93\\xd0\\x91 \\xd1\\x83\\xd0\\xbc\\xd0\\xb5\\xd0\\xb5\\xd1\\x82 \\xd0\\xbd\\xd0\\xb0\\xd1\\x81\\xd0\\xb8\\xd0\\xbb\\xd0\\xbe\\xd0\\xb2\\xd0\\xb0\\xd1\\x82\\xd1\\x8c, \\xd0\\xbd\\xd1\\x83\\xd0\\xb6\\xd0\\xbd\\xd0\\xbe  \\xd0\\xbf\\xd1\\x80\\xd0\\xb8\\xd0\\xb7\\xd0\\xbd\\xd0\\xb0\\xd0\\xb2\\xd0\\xb0\\xd1\\x82\\xd1\\x8c \\xd1\\x82\\xd0\\xb0\\xd0\\xbb\\xd0\\xb0\\xd0\\xbd\\xd1\\x82\\xd1\\x8b \\xd0\\xba\\xd0\\xb0\\xd0\\xba \\xd0\\xbe\\xd0\\xbd\\xd0\\xb8 \\xd0\\xb5\\xd1\\x81\\xd1\\x82\\xd1\\x8c, \\xd0\\xb4\\xd0\\xb0\\xd0\\xb6\\xd0\\xb5 \\xd0\\xba \\xd0\\xbf\\xd1\\x80\\xd0\\xb5\\xd1\\x81\\xd1\\x82\\xd1\\x83\\xd0\\xbf\\xd0\\xbb\\xd0\\xb5\\xd0\\xbd\\xd0\\xb8\\xd1\\x8f\\xd0\\xbc. (',\n",
            "       b'\\xd0\\x9a\\xd0\\xb0\\xd0\\xba \\xd0\\xb6\\xd0\\xb5 \\xd0\\xbc\\xd0\\xb5\\xd0\\xbd\\xd1\\x8f \\xd1\\x8d\\xd1\\x82\\xd0\\xbe \\xd0\\xbe\\xd0\\xb3\\xd0\\xbe\\xd1\\x80\\xd1\\x87\\xd0\\xb0\\xd0\\xb5\\xd1\\x82:(\\xd0\\x9b\\xd1\\x8e\\xd0\\xb4\\xd0\\xb8 \\xd0\\xbd\\xd0\\xb5 \\xd0\\xb7\\xd0\\xbd\\xd0\\xb0\\xd1\\x8e\\xd1\\x82 \\xd0\\xba\\xd0\\xb0\\xd0\\xba\\xd0\\xbe\\xd0\\xb9 \\xd0\\xa1\\xd0\\x95\\xd0\\x93\\xd0\\x9e\\xd0\\x94\\xd0\\x9d\\xd0\\xaf \\xd0\\x94\\xd0\\x95\\xd0\\x9d\\xd0\\xac',\n",
            "       b'RT @Ward_____: @avatar_azula \\xd1\\x85\\xd0\\xb0\\xd1\\x85\\xd0\\xb0\\xd1\\x85 \\xd1\\x81\\xd0\\xbe\\xd0\\xb2\\xd1\\x81\\xd0\\xb5\\xd0\\xbc \\xd1\\x81\\xd0\\xba\\xd1\\x83\\xd1\\x87\\xd0\\xbd\\xd0\\xbe \\xd0\\xb1\\xd1\\x8b\\xd0\\xbb\\xd0\\xbe )',\n",
            "       b'@arbormala \\xd0\\xbd\\xd0\\xb0\\xd0\\xb4\\xd0\\xbe \\xd0\\xba\\xd0\\xb0\\xd0\\xba \\xd0\\xbc\\xd0\\xb8\\xd0\\xbd\\xd0\\xb8\\xd0\\xbc\\xd1\\x83\\xd0\\xbc 2 \\xd1\\x80\\xd0\\xb0\\xd0\\xb7\\xd0\\xb0 \\xd0\\xb2 \\xd0\\xb4\\xd0\\xb5\\xd0\\xbd\\xd1\\x8c \\xd0\\xb8 \\xd0\\xbf\\xd0\\xbe\\xd1\\x81\\xd0\\xbb\\xd0\\xb5 \\xd0\\xb5\\xd0\\xb4\\xd1\\x8b. \\xd0\\x92\\xd0\\xbe\\xd1\\x82 \\xd0\\xb8 \\xd0\\xb2\\xd1\\x81\\xd0\\xb5)',\n",
            "       b'@muhammadanji \\xd0\\xb4\\xd0\\xbe \\xd0\\xbb\\xd0\\xb5\\xd1\\x82\\xd0\\xb0, \\xd0\\xbd\\xd0\\xb5 \\xd0\\xb2\\xd0\\xb0\\xd1\\x80\\xd0\\xb8\\xd0\\xb0\\xd0\\xbd\\xd1\\x82 \\xd0\\xb4\\xd0\\xb0 \\xd0\\xb5\\xd0\\xb3\\xd0\\xbe \\xd0\\xbf\\xd0\\xbe\\xd0\\xbb\\xd1\\x83\\xd1\\x87\\xd0\\xb8\\xd1\\x82\\xd1\\x8c((',\n",
            "       b'\\xd0\\xbe\\xd0\\xbc\\xd1\\x84\\xd0\\xb3,\\xd0\\x9d\\xd0\\xb0\\xd1\\x81\\xd1\\x82\\xd1\\x8f \\xd1\\x8f \\xd0\\xbb\\xd1\\x8e\\xd0\\xb1\\xd0\\xbb\\xd1\\x8e \\xd1\\x82\\xd0\\xb5\\xd0\\xb1\\xd1\\x8f. \\n\\xd0\\x9f\\xd1\\x80\\xd0\\xb0\\xd0\\xb2\\xd0\\xb4\\xd0\\xb0 \\xd1\\x82\\xd0\\xb5\\xd0\\xb1\\xd1\\x8f \\xd0\\xbd\\xd0\\xb5\\xd1\\x82 \\xd0\\xb2 \\xd1\\x82\\xd0\\xb2\\xd0\\xb8,\\xd0\\xbd\\xd0\\xbe \\xd0\\xb7\\xd0\\xbd\\xd0\\xb0\\xd0\\xb9 \\xd1\\x87\\xd1\\x82\\xd0\\xbe \\xd1\\x8f \\xd0\\xbb\\xd1\\x8e\\xd0\\xb1\\xd0\\xbb\\xd1\\x8e \\xd1\\x82\\xd0\\xb5\\xd0\\xb1\\xd1\\x8f:D',\n",
            "       b'\\xd0\\x9a\\xd0\\xbe\\xd0\\xb3\\xd0\\xb4\\xd0\\xb0 \\xd0\\xb7\\xd0\\xb0\\xd0\\xba\\xd0\\xbe\\xd0\\xbd\\xd1\\x87\\xd0\\xb8\\xd0\\xbb\\xd0\\xb0\\xd1\\x81\\xd1\\x8c \\xd1\\x87\\xd0\\xb0\\xd1\\x81\\xd1\\x82\\xd1\\x8c \\xd1\\x81\\xd0\\xb5\\xd0\\xb7\\xd0\\xbe\\xd0\\xbd\\xd0\\xb0 \\xd0\\xb2 \\xd1\\x82\\xd0\\xb2\\xd0\\xbe\\xd0\\xb5\\xd0\\xbc \\xd0\\xbb\\xd1\\x8e\\xd0\\xb1\\xd0\\xb8\\xd0\\xbc\\xd0\\xbe\\xd0\\xbc \\xd1\\x81\\xd0\\xb5\\xd1\\x80\\xd0\\xb8\\xd0\\xb0\\xd0\\xbb\\xd0\\xb5 :(',\n",
            "       b'@SVKolokol \\xd0\\xb4\\xd0\\xb0 \\xd0\\xbd\\xd1\\x83 \\xd1\\x82\\xd0\\xb5\\xd0\\xb1\\xd1\\x8f! \\xd0\\xb4\\xd0\\xb0\\xd0\\xb6\\xd0\\xb5 \\xd0\\xb2 \\xd0\\xbc\\xd1\\x8b\\xd1\\x81\\xd0\\xbb\\xd1\\x8f\\xd1\\x85 \\xd0\\xbd\\xd0\\xb5 \\xd0\\xb1\\xd1\\x8b\\xd0\\xbb\\xd0\\xbe. \\xd0\\xb0 \\xd0\\xb7\\xd0\\xb0 \\xd0\\xbd\\xd0\\xb0\\xd1\\x81\\xd1\\x82\\xd1\\x80\\xd0\\xbe\\xd0\\xb5\\xd0\\xbd\\xd0\\xb8\\xd0\\xb5 \\xd1\\x81\\xd0\\xbf\\xd0\\xb0\\xd1\\x81\\xd0\\xb8\\xd0\\xb1\\xd0\\xbe, \\xd0\\xb4\\xd0\\xb0. ;)',\n",
            "       b'@NewsShock \\xd0\\x9a\\xd0\\xbe\\xd0\\xb3\\xd0\\xb4\\xd0\\xb0 \\xd1\\x87\\xd1\\x82\\xd0\\xbe-\\xd1\\x82\\xd0\\xbe \\xd0\\xbf\\xd0\\xbe\\xd0\\xbd\\xd0\\xb8\\xd0\\xbc\\xd0\\xb0\\xd0\\xb5\\xd1\\x88\\xd1\\x8c, \\xd1\\x82\\xd0\\xbe \\xd0\\xb6\\xd0\\xb8\\xd1\\x82\\xd1\\x8c \\xd1\\x81\\xd1\\x82\\xd0\\xb0\\xd0\\xbd\\xd0\\xbe\\xd0\\xb2\\xd0\\xb8\\xd1\\x82\\xd1\\x81\\xd1\\x8f \\xd0\\xbb\\xd0\\xb5\\xd0\\xb3\\xd1\\x87\\xd0\\xb5 ))',\n",
            "       b'\\xd1\\x8d\\xd1\\x85.... \\xd1\\x87\\xd1\\x82\\xd0\\xbe \\xd0\\xb6 \\xd0\\xbc\\xd0\\xbd\\xd0\\xb5 \\xd1\\x81\\xd0\\xbd\\xd1\\x8b \\xd1\\x82\\xd0\\xbe \\xd0\\xb4\\xd1\\x83\\xd1\\x80\\xd0\\xb0\\xd1\\x86\\xd0\\xba\\xd0\\xb8\\xd0\\xb5 \\xd1\\x81\\xd0\\xbd\\xd1\\x8f\\xd1\\x82\\xd1\\x81\\xd1\\x8f.\\xd0\\xba\\xd0\\xbe\\xd0\\xb3\\xd0\\xb4\\xd0\\xb0 \\xd1\\x82\\xd1\\x8b \\xd0\\xbd\\xd0\\xb5 \\xd1\\x80\\xd1\\x8f\\xd0\\xb4\\xd0\\xbe\\xd0\\xbc.... =((',\n",
            "       b'RT @kota_Oo_oO: @loss_courage #\\xd0\\xa1\\xd0\\xbd\\xd0\\xb0\\xd1\\x81\\xd1\\x82\\xd1\\x83\\xd0\\xbf\\xd0\\xb0\\xd1\\x8e\\xd1\\x89\\xd0\\xb8\\xd0\\xbc\\xd1\\x82\\xd0\\xb2\\xd0\\xb8\\xd1\\x82\\xd1\\x82\\xd0\\xb5\\xd1\\x80\\xd1\\x81\\xd0\\xba\\xd0\\xb8\\xd0\\xb9 :\\xd0\\xb7',\n",
            "       b'\\xd0\\x9c\\xd0\\xbe\\xd1\\x8f \\xd1\\x81\\xd0\\xb5\\xd1\\x81\\xd1\\x82\\xd1\\x80\\xd0\\xb5\\xd0\\xbd\\xd0\\xba\\xd0\\xb0 - \\xd1\\x87\\xd1\\x83\\xd0\\xb4\\xd0\\xbe! \\xd0\\xa1 \\xd1\\x83\\xd1\\x82\\xd1\\x80\\xd0\\xb0 \\xd1\\x82\\xd0\\xb8\\xd1\\x81\\xd0\\xba\\xd0\\xb0\\xd1\\x8e \\xd0\\xb5\\xd0\\xb5 \\xd0\\xb8 \\xd0\\xbf\\xd0\\xbe\\xd0\\xb7\\xd0\\xb4\\xd1\\x80\\xd0\\xb0\\xd0\\xb2\\xd0\\xbb\\xd1\\x8f\\xd1\\x8e, \\xd0\\xbf\\xd0\\xbe\\xd1\\x82\\xd0\\xbe\\xd0\\xbc\\xd1\\x83 \\xd1\\x87\\xd1\\x82\\xd0\\xbe \\xd0\\xb4\\xd0\\xb5\\xd0\\xbd\\xd1\\x8c \\xd1\\x80\\xd0\\xbe\\xd0\\xb6\\xd0\\xb4\\xd0\\xb5\\xd0\\xbd\\xd0\\xb8\\xd1\\x8f \\xd0\\xb8 \\xd0\\xbc\\xd1\\x8b \\xd1\\x81\\xd1\\x85\\xd0\\xbe\\xd0\\xb4\\xd0\\xb8\\xd0\\xbc \\xd1\\x81 \\xd1\\x83\\xd0\\xbc\\xd0\\xb0 \\xd1\\x85) \\xe2\\x9d\\xa4\\xef\\xb8\\x8f',\n",
            "       b'\\xd0\\xb7\\xd0\\xb0\\xd0\\xb2\\xd1\\x82\\xd1\\x80\\xd0\\xb0 \\xd1\\x83 \\xd0\\x9c\\xd0\\xb8\\xd1\\x88\\xd0\\xba\\xd0\\xb8 \\xd0\\xbf\\xd1\\x80\\xd0\\xbe\\xd0\\xb2\\xd0\\xbe\\xd0\\xb4\\xd1\\x8b \\xd0\\xb1\\xd1\\x83\\xd0\\xb4\\xd1\\x83\\xd1\\x82(\\xd0\\x91\\xd0\\xbb\\xd0\\xb8\\xd0\\xbd \\xd0\\xb2\\xd0\\xbe\\xd1\\x82 \\xd1\\x81\\xd0\\xbe \\xd0\\xbe\\xd0\\xb4\\xd0\\xbd\\xd0\\xbe\\xd0\\xb9 \\xd1\\x81\\xd1\\x82\\xd0\\xbe\\xd1\\x80\\xd0\\xbe\\xd0\\xbd\\xd1\\x8b \\xd0\\xbe\\xd1\\x82\\xd0\\xb4\\xd0\\xbe\\xd1\\x85\\xd0\\xbd\\xd1\\x83 \\xd0\\xbe\\xd1\\x82 \\xd0\\xbd\\xd0\\xb5\\xd0\\xb3\\xd0\\xbe ,\\xd0\\xb0 \\xd1\\x81 \\xd0\\xb4\\xd1\\x80\\xd1\\x83\\xd0\\xb3\\xd0\\xbe\\xd0\\xb9, \\xd0\\xbf\\xd0\\xbe\\xd0\\xba\\xd0\\xb0 \\xd0\\xbe\\xd0\\xbd \\xd0\\xb2 \\xd0\\xb0\\xd1\\x80\\xd0\\xbc\\xd0\\xb8\\xd0\\xb8 \\xd0\\xb1\\xd1\\x83\\xd0\\xb4\\xd0\\xb5\\xd1\\x82 \\xd1\\x81\\xd0\\xba\\xd1\\x83\\xd1\\x87\\xd0\\xb0\\xd1\\x82\\xd1\\x8c \\xd0\\xbf\\xd0\\xbe \\xd0\\xbd\\xd0\\xb5\\xd0\\xbc\\xd1\\x83 \\xd0\\xb1\\xd1\\x83\\xd0\\xb4\\xd1\\x83(((',\n",
            "       b'\\xd0\\x92\\xd1\\x80\\xd0\\xb5\\xd0\\xbc\\xd1\\x8f \\xd1\\x81\\xd0\\xbf\\xd0\\xb0\\xd1\\x82\\xd1\\x8c,\\xd0\\xbd\\xd0\\xbe \\xd0\\xbd\\xd0\\xb5\\xd1\\x82,\\xd1\\x81\\xd1\\x82\\xd0\\xb8\\xd1\\x85\\xd0\\xb8 \\xd0\\xbc\\xd0\\xbd\\xd0\\xb5 \\xd0\\xbd\\xd0\\xb0 \\xd0\\xbd\\xd0\\xbe\\xd1\\x87\\xd1\\x8c)) http://t.co/ykbgOFZdz1',\n",
            "       b'RT @emiliashmidt707: @marina_chatkina \\xd0\\xb0 \\xd0\\xbd\\xd1\\x83 \\xd1\\x82\\xd0\\xbe\\xd0\\xb3\\xd0\\xb4\\xd0\\xb0 \\xd0\\xbc\\xd0\\xbe\\xd0\\xb6\\xd0\\xbd\\xd0\\xbe \\xd0\\xbd\\xd0\\xb5 \\xd1\\x83\\xd1\\x87\\xd0\\xb8\\xd1\\x82\\xd1\\x8c\\xd1\\x81\\xd1\\x8f)',\n",
            "       b'\\xd0\\x9d\\xd1\\x83 \\xd1\\x83\\xd0\\xb6 \\xd0\\xbe\\xd1\\x87\\xd0\\xb5\\xd0\\xbd\\xd1\\x8c \\xd0\\xbe\\xd1\\x87\\xd0\\xb5\\xd0\\xbd\\xd1\\x8c \\xd0\\xbc\\xd0\\xb0\\xd0\\xbb\\xd0\\xbe!!!(( http://t.co/6k3UXjR5DZ',\n",
            "       b'\\xd0\\x94\\xd0\\xb8\\xd0\\xbd\\xd0\\xb0\\xd0\\xbc\\xd0\\xb8\\xd1\\x82 \\xd0\\xbc\\xd0\\xb5\\xd0\\xbd\\xd1\\x8f \\xd0\\xbf\\xd0\\xbe \\xd0\\xb6\\xd0\\xb5\\xd1\\x81\\xd1\\x82\\xd0\\xba\\xd0\\xbe\\xd0\\xbc\\xd1\\x83 \\xd0\\xba\\xd1\\x80\\xd1\\x87\\n\\xd0\\x9f\\xd0\\xbe\\xd1\\x81\\xd0\\xbb\\xd0\\xb5 \\xd0\\xbc\\xd0\\xb5\\xd0\\xbd\\xd1\\x8f\\n\\xd0\\x95\\xd0\\xb3\\xd0\\xbe \\xd0\\xbe\\xd1\\x87\\xd0\\xb5\\xd1\\x80\\xd0\\xb5\\xd0\\xb4\\xd1\\x8c \\xd0\\xbf\\xd1\\x80\\xd0\\xb8\\xd1\\x88\\xd0\\xbb\\xd0\\xb0\\n\\xd0\\x9d\\xd0\\xbe \\xd1\\x8f \\xd0\\xb5\\xd0\\xb3\\xd0\\xbe \\xd0\\xb4\\xd0\\xb8\\xd0\\xbd\\xd0\\xb0\\xd0\\xbc\\xd0\\xb8\\xd0\\xbb\\xd0\\xb0 \\xd0\\xb6\\xd0\\xb5\\xd1\\x81\\xd1\\x82\\xd1\\x87\\xd0\\xb5:)',\n",
            "       b'@syzannaaa \\xd0\\xb0 \\xd1\\x83 \\xd0\\xba\\xd0\\xbe\\xd0\\xb3\\xd0\\xbe \\xd0\\xb5\\xd1\\x89\\xd0\\xb5? \\xd0\\x9a\\xd0\\xbe\\xd0\\xbd\\xd0\\xb5\\xd1\\x87\\xd0\\xbd\\xd0\\xbe \\xd1\\x82\\xd0\\xbe\\xd0\\xbb\\xd1\\x8c\\xd0\\xba\\xd0\\xbe \\xd1\\x83 \\xd0\\xbc\\xd0\\xb5\\xd0\\xbd\\xd1\\x8f( \\xd0\\xb2\\xd0\\xb5\\xd0\\xb4\\xd1\\x8c \\xd1\\x8f \\xd0\\xb6\\xd0\\xb5 \\xd0\\xbf\\xd0\\xbe\\xd0\\xb1\\xd0\\xb5\\xd0\\xb4\\xd0\\xb8\\xd1\\x82\\xd0\\xb5\\xd0\\xbb\\xd1\\x8c \\xd0\\xbf\\xd0\\xbe \\xd0\\xb6\\xd0\\xb8\\xd0\\xb7\\xd0\\xbd\\xd0\\xb8..'],\n",
            "      dtype=object)>, <tf.Tensor: shape=(32,), dtype=int64, numpy=\n",
            "array([1, 1, 1, 1, 1, 0, 1, 0, 0, 0, 1, 0, 1, 1, 0, 0, 1, 1, 0, 1, 0, 1,\n",
            "       1, 0, 0, 1, 0, 1, 1, 0, 1, 0])>)\n"
          ]
        }
      ]
    },
    {
      "cell_type": "code",
      "source": [
        "# настроим распараллеливание процессов\n",
        "AUTOTUNE = tf.data.AUTOTUNE\n",
        "train_data = train_data.cache().prefetch(buffer_size=AUTOTUNE)\n",
        "test_data = test_data.cache().prefetch(buffer_size=AUTOTUNE)"
      ],
      "metadata": {
        "id": "i4EkYj6nTTim"
      },
      "execution_count": 148,
      "outputs": []
    },
    {
      "cell_type": "code",
      "source": [
        "def custom_standardization(input_data):    \n",
        "    return input_data\n",
        "\n",
        "# зададим необходимые переменные\n",
        "vocab_size = 10000\n",
        "seq_len = 100\n",
        "embedding_dim = 200\n",
        "thld = 0.5\n",
        "\n",
        "# создадим кастомный слой\n",
        "vectorize_layer = TextVectorization(\n",
        "    standardize=custom_standardization,\n",
        "    max_tokens=vocab_size,\n",
        "    output_mode='int',\n",
        "    output_sequence_length=seq_len)\n",
        "\n",
        "# создадим словарь\n",
        "text_data = train_data.map(lambda x, y: x)\n",
        "vectorize_layer.adapt(text_data)"
      ],
      "metadata": {
        "id": "7zNR0QVxTTnr"
      },
      "execution_count": 149,
      "outputs": []
    },
    {
      "cell_type": "code",
      "source": [
        "# создадим нейронную сеть\n",
        "\n",
        "model = Sequential([\n",
        "    vectorize_layer,\n",
        "    Embedding(vocab_size, embedding_dim),\n",
        "    Conv1D(200, (3)),\n",
        "    Conv1D(400, (2)),\n",
        "    MaxPool1D(),\n",
        "    GRU(300),  \n",
        "    Dense(200, activation='relu'),\n",
        "    Dropout(0.25),\n",
        "    Dense(1)\n",
        "])"
      ],
      "metadata": {
        "id": "_l2Kv-p7TTq_"
      },
      "execution_count": 150,
      "outputs": []
    },
    {
      "cell_type": "code",
      "source": [
        "# скомпилируем сеть\n",
        "model.compile(optimizer=tf.keras.optimizers.Adam(learning_rate=0.001),\n",
        "              loss=tf.keras.losses.BinaryCrossentropy(from_logits=True),\n",
        "              metrics=['accuracy'])"
      ],
      "metadata": {
        "id": "gIsoXQqwTX5P"
      },
      "execution_count": 151,
      "outputs": []
    },
    {
      "cell_type": "code",
      "source": [
        "# проведем обучение сети\n",
        "model.fit(train_data, validation_data=test_data, epochs=6)"
      ],
      "metadata": {
        "id": "lfBJUDouTX83",
        "colab": {
          "base_uri": "https://localhost:8080/"
        },
        "outputId": "0415e640-86d4-4c88-a1a5-6b27b2fd8d58"
      },
      "execution_count": 152,
      "outputs": [
        {
          "output_type": "stream",
          "name": "stdout",
          "text": [
            "Epoch 1/6\n",
            "5317/5317 [==============================] - 72s 13ms/step - loss: 0.6409 - accuracy: 0.5483 - val_loss: 0.4448 - val_accuracy: 0.7187\n",
            "Epoch 2/6\n",
            "5317/5317 [==============================] - 64s 12ms/step - loss: 0.4144 - accuracy: 0.7421 - val_loss: 0.3993 - val_accuracy: 0.7352\n",
            "Epoch 3/6\n",
            "5317/5317 [==============================] - 66s 12ms/step - loss: 0.3818 - accuracy: 0.7688 - val_loss: 0.3864 - val_accuracy: 0.7509\n",
            "Epoch 4/6\n",
            "5317/5317 [==============================] - 65s 12ms/step - loss: 0.3679 - accuracy: 0.7822 - val_loss: 0.3823 - val_accuracy: 0.7614\n",
            "Epoch 5/6\n",
            "5317/5317 [==============================] - 65s 12ms/step - loss: 0.3737 - accuracy: 0.7818 - val_loss: 0.3890 - val_accuracy: 0.7528\n",
            "Epoch 6/6\n",
            "5317/5317 [==============================] - 64s 12ms/step - loss: 0.3713 - accuracy: 0.7826 - val_loss: 0.3871 - val_accuracy: 0.7547\n"
          ]
        },
        {
          "output_type": "execute_result",
          "data": {
            "text/plain": [
              "<keras.callbacks.History at 0x7f2dbe248f10>"
            ]
          },
          "metadata": {},
          "execution_count": 152
        }
      ]
    },
    {
      "cell_type": "code",
      "source": [
        "# посмотрим на одно предложение из тестового набора\n",
        "row = list(test_data.take(1))\n",
        "decoded = tf.strings.unicode_decode(row[0][0][4].numpy(), 'utf-8').numpy()\n",
        "decoded_list = ''.join([decode_string(ex) for ex in decoded])\n",
        "label = row[0][1][4].numpy()\n",
        "print(f'{class_names[label]} <--- {decoded_list}')"
      ],
      "metadata": {
        "id": "6VN3IKT7TX_t",
        "colab": {
          "base_uri": "https://localhost:8080/"
        },
        "outputId": "d9241c6c-c396-4e30-998d-bd9aedaca854"
      },
      "execution_count": 153,
      "outputs": [
        {
          "output_type": "stream",
          "name": "stdout",
          "text": [
            "positive <--- Блин, за своё растование не так обидно ,как за то, что лучший друг растался со своей  девушкой, ребят мне вас жаль(((\n"
          ]
        }
      ]
    },
    {
      "cell_type": "code",
      "source": [
        "# сделаем предсказание для выбранного примера\n",
        "pred = np.argmax(model.predict([decoded_list]))\n",
        "print(f'{class_names[pred]} <--- {decoded_list}')"
      ],
      "metadata": {
        "id": "sBochC1ATTuh",
        "colab": {
          "base_uri": "https://localhost:8080/"
        },
        "outputId": "070e986b-8bc9-47f8-e3e6-62522af99261"
      },
      "execution_count": 154,
      "outputs": [
        {
          "output_type": "stream",
          "name": "stdout",
          "text": [
            "positive <--- Блин, за своё растование не так обидно ,как за то, что лучший друг растался со своей  девушкой, ребят мне вас жаль(((\n"
          ]
        }
      ]
    },
    {
      "cell_type": "markdown",
      "source": [
        "### **Вывод:**\n",
        "\n",
        "**На выбранном примере классификация сработала верно.**"
      ],
      "metadata": {
        "id": "5TUkCHgjrq_P"
      }
    },
    {
      "cell_type": "code",
      "source": [
        "# сделаем предсказания для всего тестового набора\n",
        "nn1_preds = model.predict(test_data)\n",
        "nn1_preds = (nn1_preds > thld).astype('int32')\n",
        "print(classification_report(nn1_preds, y_test))"
      ],
      "metadata": {
        "id": "qn9GEw71_RcQ",
        "colab": {
          "base_uri": "https://localhost:8080/"
        },
        "outputId": "f670330d-d43a-49b3-8990-f3051fb61be3"
      },
      "execution_count": 155,
      "outputs": [
        {
          "output_type": "stream",
          "name": "stdout",
          "text": [
            "              precision    recall  f1-score   support\n",
            "\n",
            "           0       0.93      0.69      0.79     37975\n",
            "           1       0.58      0.90      0.71     18734\n",
            "\n",
            "    accuracy                           0.75     56709\n",
            "   macro avg       0.76      0.79      0.75     56709\n",
            "weighted avg       0.82      0.75      0.76     56709\n",
            "\n"
          ]
        }
      ]
    },
    {
      "cell_type": "markdown",
      "source": [
        "### **Вывод:**\n",
        "\n",
        "**Результат работы хуже, чем у векторайзеров.**"
      ],
      "metadata": {
        "id": "hwj-xjdWsBgA"
      }
    },
    {
      "cell_type": "code",
      "source": [
        "# построим еще один вариант нейройнной сети\n",
        "\n",
        "class myNet(tf.keras.Model):\n",
        "    def __init__(self):\n",
        "        super(myNet, self).__init__()\n",
        "        self.emb = Embedding(vocab_size, embedding_dim, name='embedding')\n",
        "        self.conv1 = Conv1D(200, (3))\n",
        "        self.conv2 = Conv1D(200, (3))\n",
        "        self.gPool = GlobalMaxPool1D()\n",
        "        self.fc1 = Dense(200, activation='relu')\n",
        "        self.fc2 = Dense(1)\n",
        "        self.drp = Dropout(0.5)\n",
        "\n",
        "\n",
        "    def call(self, x):\n",
        "        x = vectorize_layer(x)\n",
        "        x = self.emb(x)\n",
        "        x1 = self.conv1(x)\n",
        "        x = self.conv2(x)\n",
        "        x = self.gPool((x + x1)/2)\n",
        "        x = self.fc1(x)\n",
        "        x = self.drp(x)\n",
        "        x = self.fc2(x)\n",
        "        return x"
      ],
      "metadata": {
        "id": "miQmJ55hTgBB"
      },
      "execution_count": 156,
      "outputs": []
    },
    {
      "cell_type": "code",
      "source": [
        "# инициализируем модель\n",
        "mmodel = myNet()"
      ],
      "metadata": {
        "id": "U2jpsDz5TgEV"
      },
      "execution_count": 157,
      "outputs": []
    },
    {
      "cell_type": "code",
      "source": [
        "# скопмилируем модель\n",
        "mmodel.compile(optimizer='adam',\n",
        "              loss=tf.keras.losses.BinaryCrossentropy(from_logits=True),\n",
        "              metrics=['accuracy'])"
      ],
      "metadata": {
        "id": "HlQN-6xFTiAh"
      },
      "execution_count": 158,
      "outputs": []
    },
    {
      "cell_type": "code",
      "source": [
        "# проведем обучение модели\n",
        "# были испытания с 6-ю эпохами, но модель переобучалась\n",
        "mmodel.fit(train_data, validation_data=test_data, epochs=2)"
      ],
      "metadata": {
        "id": "8F_mO0ciTiDf",
        "colab": {
          "base_uri": "https://localhost:8080/"
        },
        "outputId": "5491b0b8-9c4b-4a8b-b461-95d3482d3dfd"
      },
      "execution_count": 159,
      "outputs": [
        {
          "output_type": "stream",
          "name": "stdout",
          "text": [
            "Epoch 1/2\n",
            "5317/5317 [==============================] - 40s 7ms/step - loss: 0.3625 - accuracy: 0.7873 - val_loss: 0.3368 - val_accuracy: 0.7948\n",
            "Epoch 2/2\n",
            "5317/5317 [==============================] - 41s 8ms/step - loss: 0.2955 - accuracy: 0.8380 - val_loss: 0.3533 - val_accuracy: 0.8033\n"
          ]
        },
        {
          "output_type": "execute_result",
          "data": {
            "text/plain": [
              "<keras.callbacks.History at 0x7f2dcff2e050>"
            ]
          },
          "metadata": {},
          "execution_count": 159
        }
      ]
    },
    {
      "cell_type": "code",
      "source": [
        "# сделаем предсказания для всего тестового набора\n",
        "nn2_preds = mmodel.predict(test_data)\n",
        "nn2_preds = (nn2_preds > thld).astype('int32')\n",
        "print(classification_report(nn2_preds, y_test))"
      ],
      "metadata": {
        "id": "PzpdS2xLTiJv",
        "colab": {
          "base_uri": "https://localhost:8080/"
        },
        "outputId": "5de53480-9eef-46f2-b125-19d4436c8ca1"
      },
      "execution_count": 160,
      "outputs": [
        {
          "output_type": "stream",
          "name": "stdout",
          "text": [
            "              precision    recall  f1-score   support\n",
            "\n",
            "           0       0.90      0.75      0.82     33560\n",
            "           1       0.71      0.88      0.79     23149\n",
            "\n",
            "    accuracy                           0.80     56709\n",
            "   macro avg       0.80      0.82      0.80     56709\n",
            "weighted avg       0.82      0.80      0.80     56709\n",
            "\n"
          ]
        }
      ]
    },
    {
      "cell_type": "markdown",
      "source": [
        "### **Вывод:**\n",
        "\n",
        "**Данная сеть также работает хуже, чем векторайзеры.**"
      ],
      "metadata": {
        "id": "iu8fpbAi6jN2"
      }
    },
    {
      "cell_type": "code",
      "source": [
        "# построим вариант ПОЛНОСВЯЗНОЙ нейройнной сети\n",
        "\n",
        "class myNet(tf.keras.Model):\n",
        "    def __init__(self):\n",
        "        super(myNet, self).__init__()\n",
        "        self.emb = Embedding(vocab_size, embedding_dim, name='embedding')\n",
        "        self.flt = Flatten()\n",
        "        self.fc1 = Dense(400, activation='relu')\n",
        "        self.fc2 = Dense(200, activation='relu')\n",
        "        self.fc3 = Dense(1)\n",
        "        self.drp = Dropout(0.5)\n",
        "\n",
        "\n",
        "    def call(self, x):\n",
        "        x = vectorize_layer(x)\n",
        "        x = self.emb(x)\n",
        "        x = self.flt(x)\n",
        "        x = self.fc1(x)\n",
        "        x = self.drp(x)\n",
        "        x = self.fc2(x)\n",
        "        x = self.drp(x)\n",
        "        x = self.fc3(x)\n",
        "        return x"
      ],
      "metadata": {
        "id": "YC9AR1VsSj4P"
      },
      "execution_count": 161,
      "outputs": []
    },
    {
      "cell_type": "code",
      "source": [
        "# инициализируем модель\n",
        "fmodel = myNet()"
      ],
      "metadata": {
        "id": "oxnThv3aTEG4"
      },
      "execution_count": 162,
      "outputs": []
    },
    {
      "cell_type": "code",
      "source": [
        "# скопмилируем модель\n",
        "fmodel.compile(optimizer='adam',\n",
        "              loss=tf.keras.losses.BinaryCrossentropy(from_logits=True),\n",
        "              metrics=['accuracy'])"
      ],
      "metadata": {
        "id": "lH1C0NKWTGbC"
      },
      "execution_count": 163,
      "outputs": []
    },
    {
      "cell_type": "code",
      "source": [
        "# проведем обучение модели\n",
        "fmodel.fit(train_data, validation_data=test_data, epochs=3)"
      ],
      "metadata": {
        "colab": {
          "base_uri": "https://localhost:8080/"
        },
        "id": "3ZYDxodbTIPz",
        "outputId": "ae718b6f-4411-4c0b-c6e5-3c2103567554"
      },
      "execution_count": 164,
      "outputs": [
        {
          "output_type": "stream",
          "name": "stdout",
          "text": [
            "Epoch 1/3\n",
            "5317/5317 [==============================] - 37s 7ms/step - loss: 0.3816 - accuracy: 0.7788 - val_loss: 0.3436 - val_accuracy: 0.7889\n",
            "Epoch 2/3\n",
            "5317/5317 [==============================] - 36s 7ms/step - loss: 0.3073 - accuracy: 0.8275 - val_loss: 0.3672 - val_accuracy: 0.7989\n",
            "Epoch 3/3\n",
            "5317/5317 [==============================] - 36s 7ms/step - loss: 0.2473 - accuracy: 0.8677 - val_loss: 0.4250 - val_accuracy: 0.7968\n"
          ]
        },
        {
          "output_type": "execute_result",
          "data": {
            "text/plain": [
              "<keras.callbacks.History at 0x7f2dd0364590>"
            ]
          },
          "metadata": {},
          "execution_count": 164
        }
      ]
    },
    {
      "cell_type": "code",
      "source": [
        "# сделаем предсказания для всего тестового набора\n",
        "nn3_preds = fmodel.predict(test_data)\n",
        "nn3_preds = (nn3_preds > thld).astype('int32')\n",
        "print(classification_report(nn3_preds, y_test))"
      ],
      "metadata": {
        "colab": {
          "base_uri": "https://localhost:8080/"
        },
        "id": "tVIv81L8hs1X",
        "outputId": "fcd2da4d-acb1-446f-a121-08978d266134"
      },
      "execution_count": 165,
      "outputs": [
        {
          "output_type": "stream",
          "name": "stdout",
          "text": [
            "              precision    recall  f1-score   support\n",
            "\n",
            "           0       0.88      0.75      0.81     32895\n",
            "           1       0.71      0.86      0.78     23814\n",
            "\n",
            "    accuracy                           0.80     56709\n",
            "   macro avg       0.80      0.81      0.80     56709\n",
            "weighted avg       0.81      0.80      0.80     56709\n",
            "\n"
          ]
        }
      ]
    },
    {
      "cell_type": "markdown",
      "source": [
        "### **Вывод:**\n",
        "\n",
        "**Сеть также работает хуже, чем векторайзеры. Для снижения переобучения был использован слой Dropout и снижено количество эпох.**"
      ],
      "metadata": {
        "id": "cFGCMinAtlyV"
      }
    }
  ]
}