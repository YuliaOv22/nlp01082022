{
  "nbformat": 4,
  "nbformat_minor": 0,
  "metadata": {
    "colab": {
      "provenance": [],
      "collapsed_sections": []
    },
    "kernelspec": {
      "name": "python3",
      "display_name": "Python 3"
    },
    "language_info": {
      "name": "python"
    }
  },
  "cells": [
    {
      "cell_type": "markdown",
      "source": [
        "## **ПРАКТИЧЕСКОЕ ЗАДАНИЕ**"
      ],
      "metadata": {
        "id": "MxvKg1KTajiB"
      }
    },
    {
      "cell_type": "markdown",
      "source": [
        "Данные берем отызывы за лето.\n",
        "\n",
        "На вебинаре мы говорили, что долгое время CNN и RNN архитектуры были конурируещими выяснить какая архитектура больше подходит для нашей задачи\n",
        "1. построить свёрточные архитектуры\n",
        "2. построить различные архитектуры с RNN\n",
        "3. построить совместные архитектуры CNN -> RNN или (RNN -> CNN)"
      ],
      "metadata": {
        "id": "in7Da91QXpVE"
      }
    },
    {
      "cell_type": "code",
      "execution_count": null,
      "metadata": {
        "id": "JDW1Mn1AXXD6"
      },
      "outputs": [],
      "source": [
        "# импортируем библиотеки\n",
        "\n",
        "import numpy as np\n",
        "import pandas as pd\n",
        "import matplotlib.pyplot as plt\n",
        "!pip install xlrd==1.2.0\n",
        "!pip install pymorphy2\n",
        "!pip install stop_words\n",
        "from pymorphy2 import MorphAnalyzer\n",
        "from stop_words import get_stop_words\n",
        "from string import punctuation\n",
        "import re\n",
        "from sklearn.model_selection import train_test_split\n",
        "import nltk\n",
        "from nltk.tokenize import word_tokenize\n",
        "nltk.download(\"punkt\")\n",
        "from nltk.probability import FreqDist\n",
        "import warnings\n",
        "warnings.filterwarnings('ignore')\n",
        "import keras\n",
        "from keras.models import Sequential, Model\n",
        "from keras.layers import Dense, Dropout, Activation, Input, Embedding, Conv1D, GlobalMaxPool1D, SimpleRNN, Masking, LSTM, GRU\n",
        "from keras.layers import Embedding, MaxPooling1D, Flatten\n",
        "from keras.preprocessing.text import Tokenizer\n",
        "from keras.preprocessing.sequence import pad_sequences\n",
        "from keras.callbacks import TensorBoard \n",
        "from keras.callbacks import EarlyStopping  \n",
        "from keras.utils import np_utils"
      ]
    },
    {
      "cell_type": "code",
      "source": [
        "from keras.layers import Dense, Dropout, Activation, Input, Embedding, Conv1D, GlobalMaxPool1D, SimpleRNN, Masking, LSTM, GRU"
      ],
      "metadata": {
        "id": "CZS0NEA349L8"
      },
      "execution_count": 61,
      "outputs": []
    },
    {
      "cell_type": "code",
      "source": [
        "# вспомогательные функции\n",
        "\n",
        "# функция обработки текста\n",
        "def preprocess_text(txt):\n",
        "    txt = str(txt)\n",
        "    txt = \"\".join(c for c in txt if c not in exclude)\n",
        "    txt = txt.lower()\n",
        "    txt = re.sub('\\sне', 'не', txt)\n",
        "    txt = [morpher.parse(word)[0].normal_form for word in txt.split() if word not in exclude]\n",
        "    return \" \".join(txt)\n",
        "\n",
        "\n",
        "# функция преобразования текста в последовательность\n",
        "def text_to_sequence(text, maxlen):\n",
        "    result = []\n",
        "    tokens = word_tokenize(text.lower())\n",
        "    tokens_filtered = [word for word in tokens if word.isalnum()]\n",
        "    for word in tokens_filtered:\n",
        "        if word in vocabulary:\n",
        "            result.append(vocabulary[word])\n",
        "    padding = [0]*(maxlen-len(result))\n",
        "    return padding + result[-maxlen:]"
      ],
      "metadata": {
        "id": "s_m42vvC2UXR"
      },
      "execution_count": 2,
      "outputs": []
    },
    {
      "cell_type": "markdown",
      "source": [
        "#### **ПРЕДОБРАБОТКА ДАННЫХ**"
      ],
      "metadata": {
        "id": "U-1Ooz1m4WVG"
      }
    },
    {
      "cell_type": "code",
      "source": [
        "# загрузим отзывы\n",
        "\n",
        "data = pd.read_excel('/content/drive/MyDrive/Colab Notebooks/NLP/отзывы за лето.xls')\n",
        "data.head()"
      ],
      "metadata": {
        "id": "9Q3cCoeRiYZS",
        "colab": {
          "base_uri": "https://localhost:8080/",
          "height": 206
        },
        "outputId": "c18f67eb-186b-43cd-e448-239291494bb1"
      },
      "execution_count": 4,
      "outputs": [
        {
          "output_type": "execute_result",
          "data": {
            "text/plain": [
              "   Rating                                            Content        Date\n",
              "0       5                                     It just works!  2017-08-14\n",
              "1       4  В целом удобноное приложение...из минусов хотя...  2017-08-14\n",
              "2       5                                        Отлично все  2017-08-14\n",
              "3       5  Стал зависать на 1% работы антивируса. Дальше ...  2017-08-14\n",
              "4       5                     Очень удобно, работает быстро.  2017-08-14"
            ],
            "text/html": [
              "\n",
              "  <div id=\"df-254c9abe-ebbe-46f1-96ab-70ba684b441b\">\n",
              "    <div class=\"colab-df-container\">\n",
              "      <div>\n",
              "<style scoped>\n",
              "    .dataframe tbody tr th:only-of-type {\n",
              "        vertical-align: middle;\n",
              "    }\n",
              "\n",
              "    .dataframe tbody tr th {\n",
              "        vertical-align: top;\n",
              "    }\n",
              "\n",
              "    .dataframe thead th {\n",
              "        text-align: right;\n",
              "    }\n",
              "</style>\n",
              "<table border=\"1\" class=\"dataframe\">\n",
              "  <thead>\n",
              "    <tr style=\"text-align: right;\">\n",
              "      <th></th>\n",
              "      <th>Rating</th>\n",
              "      <th>Content</th>\n",
              "      <th>Date</th>\n",
              "    </tr>\n",
              "  </thead>\n",
              "  <tbody>\n",
              "    <tr>\n",
              "      <th>0</th>\n",
              "      <td>5</td>\n",
              "      <td>It just works!</td>\n",
              "      <td>2017-08-14</td>\n",
              "    </tr>\n",
              "    <tr>\n",
              "      <th>1</th>\n",
              "      <td>4</td>\n",
              "      <td>В целом удобноное приложение...из минусов хотя...</td>\n",
              "      <td>2017-08-14</td>\n",
              "    </tr>\n",
              "    <tr>\n",
              "      <th>2</th>\n",
              "      <td>5</td>\n",
              "      <td>Отлично все</td>\n",
              "      <td>2017-08-14</td>\n",
              "    </tr>\n",
              "    <tr>\n",
              "      <th>3</th>\n",
              "      <td>5</td>\n",
              "      <td>Стал зависать на 1% работы антивируса. Дальше ...</td>\n",
              "      <td>2017-08-14</td>\n",
              "    </tr>\n",
              "    <tr>\n",
              "      <th>4</th>\n",
              "      <td>5</td>\n",
              "      <td>Очень удобно, работает быстро.</td>\n",
              "      <td>2017-08-14</td>\n",
              "    </tr>\n",
              "  </tbody>\n",
              "</table>\n",
              "</div>\n",
              "      <button class=\"colab-df-convert\" onclick=\"convertToInteractive('df-254c9abe-ebbe-46f1-96ab-70ba684b441b')\"\n",
              "              title=\"Convert this dataframe to an interactive table.\"\n",
              "              style=\"display:none;\">\n",
              "        \n",
              "  <svg xmlns=\"http://www.w3.org/2000/svg\" height=\"24px\"viewBox=\"0 0 24 24\"\n",
              "       width=\"24px\">\n",
              "    <path d=\"M0 0h24v24H0V0z\" fill=\"none\"/>\n",
              "    <path d=\"M18.56 5.44l.94 2.06.94-2.06 2.06-.94-2.06-.94-.94-2.06-.94 2.06-2.06.94zm-11 1L8.5 8.5l.94-2.06 2.06-.94-2.06-.94L8.5 2.5l-.94 2.06-2.06.94zm10 10l.94 2.06.94-2.06 2.06-.94-2.06-.94-.94-2.06-.94 2.06-2.06.94z\"/><path d=\"M17.41 7.96l-1.37-1.37c-.4-.4-.92-.59-1.43-.59-.52 0-1.04.2-1.43.59L10.3 9.45l-7.72 7.72c-.78.78-.78 2.05 0 2.83L4 21.41c.39.39.9.59 1.41.59.51 0 1.02-.2 1.41-.59l7.78-7.78 2.81-2.81c.8-.78.8-2.07 0-2.86zM5.41 20L4 18.59l7.72-7.72 1.47 1.35L5.41 20z\"/>\n",
              "  </svg>\n",
              "      </button>\n",
              "      \n",
              "  <style>\n",
              "    .colab-df-container {\n",
              "      display:flex;\n",
              "      flex-wrap:wrap;\n",
              "      gap: 12px;\n",
              "    }\n",
              "\n",
              "    .colab-df-convert {\n",
              "      background-color: #E8F0FE;\n",
              "      border: none;\n",
              "      border-radius: 50%;\n",
              "      cursor: pointer;\n",
              "      display: none;\n",
              "      fill: #1967D2;\n",
              "      height: 32px;\n",
              "      padding: 0 0 0 0;\n",
              "      width: 32px;\n",
              "    }\n",
              "\n",
              "    .colab-df-convert:hover {\n",
              "      background-color: #E2EBFA;\n",
              "      box-shadow: 0px 1px 2px rgba(60, 64, 67, 0.3), 0px 1px 3px 1px rgba(60, 64, 67, 0.15);\n",
              "      fill: #174EA6;\n",
              "    }\n",
              "\n",
              "    [theme=dark] .colab-df-convert {\n",
              "      background-color: #3B4455;\n",
              "      fill: #D2E3FC;\n",
              "    }\n",
              "\n",
              "    [theme=dark] .colab-df-convert:hover {\n",
              "      background-color: #434B5C;\n",
              "      box-shadow: 0px 1px 3px 1px rgba(0, 0, 0, 0.15);\n",
              "      filter: drop-shadow(0px 1px 2px rgba(0, 0, 0, 0.3));\n",
              "      fill: #FFFFFF;\n",
              "    }\n",
              "  </style>\n",
              "\n",
              "      <script>\n",
              "        const buttonEl =\n",
              "          document.querySelector('#df-254c9abe-ebbe-46f1-96ab-70ba684b441b button.colab-df-convert');\n",
              "        buttonEl.style.display =\n",
              "          google.colab.kernel.accessAllowed ? 'block' : 'none';\n",
              "\n",
              "        async function convertToInteractive(key) {\n",
              "          const element = document.querySelector('#df-254c9abe-ebbe-46f1-96ab-70ba684b441b');\n",
              "          const dataTable =\n",
              "            await google.colab.kernel.invokeFunction('convertToInteractive',\n",
              "                                                     [key], {});\n",
              "          if (!dataTable) return;\n",
              "\n",
              "          const docLinkHtml = 'Like what you see? Visit the ' +\n",
              "            '<a target=\"_blank\" href=https://colab.research.google.com/notebooks/data_table.ipynb>data table notebook</a>'\n",
              "            + ' to learn more about interactive tables.';\n",
              "          element.innerHTML = '';\n",
              "          dataTable['output_type'] = 'display_data';\n",
              "          await google.colab.output.renderOutput(dataTable, element);\n",
              "          const docLink = document.createElement('div');\n",
              "          docLink.innerHTML = docLinkHtml;\n",
              "          element.appendChild(docLink);\n",
              "        }\n",
              "      </script>\n",
              "    </div>\n",
              "  </div>\n",
              "  "
            ]
          },
          "metadata": {},
          "execution_count": 4
        }
      ]
    },
    {
      "cell_type": "code",
      "source": [
        "# обработаем отзывы\n",
        "\n",
        "exclude = set(punctuation)\n",
        "sw = set(get_stop_words('ru'))\n",
        "morpher = MorphAnalyzer()\n",
        "\n",
        "data['text'] = data['Content'].apply(preprocess_text)\n",
        "data = data[data['Rating'] != 3]\n",
        "data['target'] = (data['Rating'] > 3)*1"
      ],
      "metadata": {
        "id": "KtjvEUJhhFj3"
      },
      "execution_count": 5,
      "outputs": []
    },
    {
      "cell_type": "code",
      "source": [
        "data['target'] = data['target'].astype(int)\n",
        "data.head()"
      ],
      "metadata": {
        "colab": {
          "base_uri": "https://localhost:8080/",
          "height": 206
        },
        "id": "3CcTof2Bj_QO",
        "outputId": "a866de1c-9e91-43f6-db1a-09350fb165e4"
      },
      "execution_count": 6,
      "outputs": [
        {
          "output_type": "execute_result",
          "data": {
            "text/plain": [
              "   Rating                                            Content        Date  \\\n",
              "0       5                                     It just works!  2017-08-14   \n",
              "1       4  В целом удобноное приложение...из минусов хотя...  2017-08-14   \n",
              "2       5                                        Отлично все  2017-08-14   \n",
              "3       5  Стал зависать на 1% работы антивируса. Дальше ...  2017-08-14   \n",
              "4       5                     Очень удобно, работает быстро.  2017-08-14   \n",
              "\n",
              "                                                text  target  \n",
              "0                                      it just works       1  \n",
              "1  в целое удобноной приложениеиз минус хотеть сл...       1  \n",
              "2                                        отлично всё       1  \n",
              "3  стать зависать на 1 работа антивирус далёкий н...       1  \n",
              "4                       очень удобно работать быстро       1  "
            ],
            "text/html": [
              "\n",
              "  <div id=\"df-dd25e703-f9c2-4df1-9791-216240613cf5\">\n",
              "    <div class=\"colab-df-container\">\n",
              "      <div>\n",
              "<style scoped>\n",
              "    .dataframe tbody tr th:only-of-type {\n",
              "        vertical-align: middle;\n",
              "    }\n",
              "\n",
              "    .dataframe tbody tr th {\n",
              "        vertical-align: top;\n",
              "    }\n",
              "\n",
              "    .dataframe thead th {\n",
              "        text-align: right;\n",
              "    }\n",
              "</style>\n",
              "<table border=\"1\" class=\"dataframe\">\n",
              "  <thead>\n",
              "    <tr style=\"text-align: right;\">\n",
              "      <th></th>\n",
              "      <th>Rating</th>\n",
              "      <th>Content</th>\n",
              "      <th>Date</th>\n",
              "      <th>text</th>\n",
              "      <th>target</th>\n",
              "    </tr>\n",
              "  </thead>\n",
              "  <tbody>\n",
              "    <tr>\n",
              "      <th>0</th>\n",
              "      <td>5</td>\n",
              "      <td>It just works!</td>\n",
              "      <td>2017-08-14</td>\n",
              "      <td>it just works</td>\n",
              "      <td>1</td>\n",
              "    </tr>\n",
              "    <tr>\n",
              "      <th>1</th>\n",
              "      <td>4</td>\n",
              "      <td>В целом удобноное приложение...из минусов хотя...</td>\n",
              "      <td>2017-08-14</td>\n",
              "      <td>в целое удобноной приложениеиз минус хотеть сл...</td>\n",
              "      <td>1</td>\n",
              "    </tr>\n",
              "    <tr>\n",
              "      <th>2</th>\n",
              "      <td>5</td>\n",
              "      <td>Отлично все</td>\n",
              "      <td>2017-08-14</td>\n",
              "      <td>отлично всё</td>\n",
              "      <td>1</td>\n",
              "    </tr>\n",
              "    <tr>\n",
              "      <th>3</th>\n",
              "      <td>5</td>\n",
              "      <td>Стал зависать на 1% работы антивируса. Дальше ...</td>\n",
              "      <td>2017-08-14</td>\n",
              "      <td>стать зависать на 1 работа антивирус далёкий н...</td>\n",
              "      <td>1</td>\n",
              "    </tr>\n",
              "    <tr>\n",
              "      <th>4</th>\n",
              "      <td>5</td>\n",
              "      <td>Очень удобно, работает быстро.</td>\n",
              "      <td>2017-08-14</td>\n",
              "      <td>очень удобно работать быстро</td>\n",
              "      <td>1</td>\n",
              "    </tr>\n",
              "  </tbody>\n",
              "</table>\n",
              "</div>\n",
              "      <button class=\"colab-df-convert\" onclick=\"convertToInteractive('df-dd25e703-f9c2-4df1-9791-216240613cf5')\"\n",
              "              title=\"Convert this dataframe to an interactive table.\"\n",
              "              style=\"display:none;\">\n",
              "        \n",
              "  <svg xmlns=\"http://www.w3.org/2000/svg\" height=\"24px\"viewBox=\"0 0 24 24\"\n",
              "       width=\"24px\">\n",
              "    <path d=\"M0 0h24v24H0V0z\" fill=\"none\"/>\n",
              "    <path d=\"M18.56 5.44l.94 2.06.94-2.06 2.06-.94-2.06-.94-.94-2.06-.94 2.06-2.06.94zm-11 1L8.5 8.5l.94-2.06 2.06-.94-2.06-.94L8.5 2.5l-.94 2.06-2.06.94zm10 10l.94 2.06.94-2.06 2.06-.94-2.06-.94-.94-2.06-.94 2.06-2.06.94z\"/><path d=\"M17.41 7.96l-1.37-1.37c-.4-.4-.92-.59-1.43-.59-.52 0-1.04.2-1.43.59L10.3 9.45l-7.72 7.72c-.78.78-.78 2.05 0 2.83L4 21.41c.39.39.9.59 1.41.59.51 0 1.02-.2 1.41-.59l7.78-7.78 2.81-2.81c.8-.78.8-2.07 0-2.86zM5.41 20L4 18.59l7.72-7.72 1.47 1.35L5.41 20z\"/>\n",
              "  </svg>\n",
              "      </button>\n",
              "      \n",
              "  <style>\n",
              "    .colab-df-container {\n",
              "      display:flex;\n",
              "      flex-wrap:wrap;\n",
              "      gap: 12px;\n",
              "    }\n",
              "\n",
              "    .colab-df-convert {\n",
              "      background-color: #E8F0FE;\n",
              "      border: none;\n",
              "      border-radius: 50%;\n",
              "      cursor: pointer;\n",
              "      display: none;\n",
              "      fill: #1967D2;\n",
              "      height: 32px;\n",
              "      padding: 0 0 0 0;\n",
              "      width: 32px;\n",
              "    }\n",
              "\n",
              "    .colab-df-convert:hover {\n",
              "      background-color: #E2EBFA;\n",
              "      box-shadow: 0px 1px 2px rgba(60, 64, 67, 0.3), 0px 1px 3px 1px rgba(60, 64, 67, 0.15);\n",
              "      fill: #174EA6;\n",
              "    }\n",
              "\n",
              "    [theme=dark] .colab-df-convert {\n",
              "      background-color: #3B4455;\n",
              "      fill: #D2E3FC;\n",
              "    }\n",
              "\n",
              "    [theme=dark] .colab-df-convert:hover {\n",
              "      background-color: #434B5C;\n",
              "      box-shadow: 0px 1px 3px 1px rgba(0, 0, 0, 0.15);\n",
              "      filter: drop-shadow(0px 1px 2px rgba(0, 0, 0, 0.3));\n",
              "      fill: #FFFFFF;\n",
              "    }\n",
              "  </style>\n",
              "\n",
              "      <script>\n",
              "        const buttonEl =\n",
              "          document.querySelector('#df-dd25e703-f9c2-4df1-9791-216240613cf5 button.colab-df-convert');\n",
              "        buttonEl.style.display =\n",
              "          google.colab.kernel.accessAllowed ? 'block' : 'none';\n",
              "\n",
              "        async function convertToInteractive(key) {\n",
              "          const element = document.querySelector('#df-dd25e703-f9c2-4df1-9791-216240613cf5');\n",
              "          const dataTable =\n",
              "            await google.colab.kernel.invokeFunction('convertToInteractive',\n",
              "                                                     [key], {});\n",
              "          if (!dataTable) return;\n",
              "\n",
              "          const docLinkHtml = 'Like what you see? Visit the ' +\n",
              "            '<a target=\"_blank\" href=https://colab.research.google.com/notebooks/data_table.ipynb>data table notebook</a>'\n",
              "            + ' to learn more about interactive tables.';\n",
              "          element.innerHTML = '';\n",
              "          dataTable['output_type'] = 'display_data';\n",
              "          await google.colab.output.renderOutput(dataTable, element);\n",
              "          const docLink = document.createElement('div');\n",
              "          docLink.innerHTML = docLinkHtml;\n",
              "          element.appendChild(docLink);\n",
              "        }\n",
              "      </script>\n",
              "    </div>\n",
              "  </div>\n",
              "  "
            ]
          },
          "metadata": {},
          "execution_count": 6
        }
      ]
    },
    {
      "cell_type": "code",
      "source": [
        "# разделим тексты на трейн и тест выборки\n",
        "\n",
        "X_train, X_test, y_train, y_test = train_test_split(data['text'], data['target'], test_size=0.2,\n",
        "                                                    random_state=13, stratify=data['target'])"
      ],
      "metadata": {
        "id": "lRZDqIO2hFrg"
      },
      "execution_count": 7,
      "outputs": []
    },
    {
      "cell_type": "code",
      "source": [
        "X_train.head()"
      ],
      "metadata": {
        "colab": {
          "base_uri": "https://localhost:8080/"
        },
        "id": "U0Vg4zBRk1X6",
        "outputId": "0ee8bd7f-808c-4be7-e1c4-4b93e720e635"
      },
      "execution_count": 8,
      "outputs": [
        {
          "output_type": "execute_result",
          "data": {
            "text/plain": [
              "547                                              классно\n",
              "1863       невозможно использовать на рутованный телефон\n",
              "13949                      работать хорошо без нарекание\n",
              "11501                                            отлично\n",
              "6238     ян мочь понять почему заблокировать мой аккаунт\n",
              "Name: text, dtype: object"
            ]
          },
          "metadata": {},
          "execution_count": 8
        }
      ]
    },
    {
      "cell_type": "markdown",
      "source": [
        "#### **СОЗДАНИЕ ТОКЕНОВ И ИХ ВЕКТОРИЗАЦИЯ**"
      ],
      "metadata": {
        "id": "5NLJkFXP4lrA"
      }
    },
    {
      "cell_type": "code",
      "source": [
        "# соберем отзывы в один текст и создадим токены\n",
        "\n",
        "train_corpus = ' '.join(X_train)\n",
        "train_corpus = train_corpus.lower()\n",
        "tokens = word_tokenize(train_corpus)"
      ],
      "metadata": {
        "id": "4-7-KnJKhFu-"
      },
      "execution_count": 9,
      "outputs": []
    },
    {
      "cell_type": "code",
      "source": [
        "# отфильтруем цифро-буквенные токены\n",
        "\n",
        "tokens_filtered = [word for word in tokens if word.isalnum()]"
      ],
      "metadata": {
        "id": "MHdEuSltk_81"
      },
      "execution_count": 10,
      "outputs": []
    },
    {
      "cell_type": "code",
      "source": [
        "# зададим необходимые параметры, чтобы подготовить токены для работы с нейронной сетью\n",
        "\n",
        "MAX_WORDS = 300\n",
        "MAX_LEN = 100\n",
        "NUM_CLASSES = 2"
      ],
      "metadata": {
        "id": "V6Jkt77LlIKW"
      },
      "execution_count": 11,
      "outputs": []
    },
    {
      "cell_type": "code",
      "source": [
        "# создадим словарь с частотой употребления токенов\n",
        "dist = FreqDist(tokens_filtered)\n",
        "\n",
        "# возьмем топ самых частых токенов\n",
        "tokens_filtered_top = [pair[0] for pair in dist.most_common(MAX_WORDS-1)]\n",
        "tokens_filtered_top[:10]"
      ],
      "metadata": {
        "id": "TzDo8Iqck__4",
        "colab": {
          "base_uri": "https://localhost:8080/"
        },
        "outputId": "346da993-bf35-4450-8126-b0d91bca505e"
      },
      "execution_count": 12,
      "outputs": [
        {
          "output_type": "execute_result",
          "data": {
            "text/plain": [
              "['приложение',\n",
              " 'всё',\n",
              " 'и',\n",
              " 'очень',\n",
              " 'удобно',\n",
              " 'в',\n",
              " 'я',\n",
              " 'на',\n",
              " 'работать',\n",
              " 'удобный']"
            ]
          },
          "metadata": {},
          "execution_count": 12
        }
      ]
    },
    {
      "cell_type": "code",
      "source": [
        "# создадим словарь для обучения\n",
        "\n",
        "vocabulary = {v: k for k, v in dict(enumerate(tokens_filtered_top, 1)).items()}"
      ],
      "metadata": {
        "id": "3o2DyGz_lAI4"
      },
      "execution_count": 13,
      "outputs": []
    },
    {
      "cell_type": "code",
      "source": [
        "# конвертируем текст в последовательность\n",
        "\n",
        "X_train_arr = np.asarray([text_to_sequence(text, MAX_LEN) for text in X_train], dtype=np.int32)\n",
        "X_test_arr = np.asarray([text_to_sequence(text, MAX_LEN) for text in X_test], dtype=np.int32)"
      ],
      "metadata": {
        "id": "xeKLjyEClAOB"
      },
      "execution_count": 14,
      "outputs": []
    },
    {
      "cell_type": "code",
      "source": [
        "X_train"
      ],
      "metadata": {
        "colab": {
          "base_uri": "https://localhost:8080/"
        },
        "id": "F2pEaW4UBx1h",
        "outputId": "75053e6c-23e3-49cb-933e-5c3718926481"
      },
      "execution_count": 92,
      "outputs": [
        {
          "output_type": "execute_result",
          "data": {
            "text/plain": [
              "547                                              классно\n",
              "1863       невозможно использовать на рутованный телефон\n",
              "13949                      работать хорошо без нарекание\n",
              "11501                                            отлично\n",
              "6238     ян мочь понять почему заблокировать мой аккаунт\n",
              "                              ...                       \n",
              "5897                                        спсиб за всё\n",
              "19812                                              супер\n",
              "14734                                             удобно\n",
              "4851                                               супер\n",
              "19238                                         всё хорошо\n",
              "Name: text, Length: 15798, dtype: object"
            ]
          },
          "metadata": {},
          "execution_count": 92
        }
      ]
    },
    {
      "cell_type": "code",
      "source": [
        "X_train_arr.shape"
      ],
      "metadata": {
        "colab": {
          "base_uri": "https://localhost:8080/"
        },
        "id": "3wEyH0IIlAQZ",
        "outputId": "68fd1ad4-a329-4f99-9dad-a56e0f1bcc94"
      },
      "execution_count": 15,
      "outputs": [
        {
          "output_type": "execute_result",
          "data": {
            "text/plain": [
              "(15798, 100)"
            ]
          },
          "metadata": {},
          "execution_count": 15
        }
      ]
    },
    {
      "cell_type": "code",
      "source": [
        "X_train_arr[100]"
      ],
      "metadata": {
        "colab": {
          "base_uri": "https://localhost:8080/"
        },
        "id": "KgZETHqChFzy",
        "outputId": "eb74186c-c79f-4559-ccdd-69490a3ef6f1"
      },
      "execution_count": 16,
      "outputs": [
        {
          "output_type": "execute_result",
          "data": {
            "text/plain": [
              "array([  0,   0,   0,   0,   0,   0,   0,   0,   0,   0,   0,   0,   0,\n",
              "         0,   0,   0,   0,   0,   0,   0,   0,   0,   0,   0,   0,   0,\n",
              "         0,   0,   0,   0,   0,   0,   0,   0,   0,   0,   0,   0,   0,\n",
              "         0,   0,   0,   0,   0,   0,   0,   0,   0,   0,   0,   0,   0,\n",
              "         0,   0,   0,   0,   0,   0,   0,   0,   0,   0,   0,   0,   0,\n",
              "         0,   0,   0,   0,   0,   0,   0,   0,   0,   0,   0,   0,   0,\n",
              "         0,   0,   0,   0,   0,   0,   0,   0,   0,   0,   0, 298,  23,\n",
              "       121,  67,  93,  28, 299,  31,  18,   2,  70], dtype=int32)"
            ]
          },
          "metadata": {},
          "execution_count": 16
        }
      ]
    },
    {
      "cell_type": "code",
      "source": [
        "# преобразуем таргет\n",
        "\n",
        "y_train_c = keras.utils.np_utils.to_categorical(y_train, NUM_CLASSES)\n",
        "y_test_c = keras.utils.np_utils.to_categorical(y_test, NUM_CLASSES)"
      ],
      "metadata": {
        "id": "TlhR9Swjl8fN"
      },
      "execution_count": 17,
      "outputs": []
    },
    {
      "cell_type": "markdown",
      "source": [
        "#### **ОБУЧЕНИЕ CNN С НАТРЕНИРОВАННЫМИ ВЕСАМИ**\n",
        "\n",
        "Модель: ruwikiruscorpora_upos_cbow_300_10_2021\n",
        "\n",
        "https://rusvectores.org/ru/models/"
      ],
      "metadata": {
        "id": "XFdKB0Js8VAW"
      }
    },
    {
      "cell_type": "code",
      "source": [
        "# скачаем модель с преобученными весами\n",
        "# ruwikiruscorpora_upos_cbow_300_10_2021\n",
        "\n",
        "!wget http://vectors.nlpl.eu/repository/20/220.zip\n",
        "!unzip /content/220.zip"
      ],
      "metadata": {
        "id": "fP_0DocjoNOq",
        "colab": {
          "base_uri": "https://localhost:8080/"
        },
        "outputId": "9af870ca-d78d-443c-f229-11f85997e6d1"
      },
      "execution_count": 18,
      "outputs": [
        {
          "output_type": "stream",
          "name": "stdout",
          "text": [
            "--2022-09-11 18:07:32--  http://vectors.nlpl.eu/repository/20/220.zip\n",
            "Resolving vectors.nlpl.eu (vectors.nlpl.eu)... 129.240.189.181\n",
            "Connecting to vectors.nlpl.eu (vectors.nlpl.eu)|129.240.189.181|:80... connected.\n",
            "HTTP request sent, awaiting response... 200 OK\n",
            "Length: 638171816 (609M) [application/zip]\n",
            "Saving to: ‘220.zip’\n",
            "\n",
            "220.zip             100%[===================>] 608.61M  24.6MB/s    in 26s     \n",
            "\n",
            "2022-09-11 18:07:58 (23.7 MB/s) - ‘220.zip’ saved [638171816/638171816]\n",
            "\n",
            "Archive:  /content/220.zip\n",
            "  inflating: meta.json               \n",
            "  inflating: model.bin               \n",
            "  inflating: model.txt               \n",
            "  inflating: README                  \n"
          ]
        }
      ]
    },
    {
      "cell_type": "code",
      "source": [
        "# Создадим словарь из токенов и их предобученных весов\n",
        "\n",
        "embeddings_index = {}\n",
        "with open('/content/model.txt') as f:\n",
        "  for line in f:\n",
        "    values = line.split()\n",
        "    word = values[0]\n",
        "    coefs = np.asarray(values[1:], dtype='float32')\n",
        "    embeddings_index[word] = coefs\n",
        "\n",
        "print('Found %s word vectors.' % len(embeddings_index))"
      ],
      "metadata": {
        "colab": {
          "base_uri": "https://localhost:8080/"
        },
        "id": "sieAXU7B75EN",
        "outputId": "f198add7-aa7d-45ff-8135-245d031227d7"
      },
      "execution_count": 108,
      "outputs": [
        {
          "output_type": "stream",
          "name": "stdout",
          "text": [
            "Found 249334 word vectors.\n"
          ]
        }
      ]
    },
    {
      "cell_type": "code",
      "source": [
        "# зададим необходимые параметры для работы с нейронной сетью\n",
        "\n",
        "EMBEDDING_DIM = 128\n",
        "EPOCHS = 10\n",
        "BATCH_SIZE = 256\n",
        "PRINT_BATCH_N = 100"
      ],
      "metadata": {
        "id": "pbN2ktwh49eW"
      },
      "execution_count": 109,
      "outputs": []
    },
    {
      "cell_type": "code",
      "source": [
        "# вычислим матрицу векторов\n",
        "\n",
        "embedding_matrix = np.zeros((len(vocabulary) + 1, EMBEDDING_DIM))\n",
        "for word, i in vocabulary.items():\n",
        "    embedding_vector = embeddings_index.get(word)\n",
        "    if embedding_vector is not None:\n",
        "        # words not found in embedding index will be all-zeros.\n",
        "        embedding_matrix[i] = embedding_vector"
      ],
      "metadata": {
        "id": "cFG2M1AT75K2"
      },
      "execution_count": 110,
      "outputs": []
    },
    {
      "cell_type": "code",
      "source": [
        "# построим архитектуру сети\n",
        "\n",
        "model = Sequential()\n",
        "model.add(Embedding(len(vocabulary) + 1, EMBEDDING_DIM, weights=[embedding_matrix], input_length=MAX_LEN, trainable=False))\n",
        "model.add(Conv1D(128, 3))\n",
        "model.add(Activation('relu'))\n",
        "model.add(GlobalMaxPool1D())\n",
        "model.add(Dense(30))\n",
        "model.add(Activation('relu'))\n",
        "model.add(Dropout(0.5))\n",
        "model.add(Dense(NUM_CLASSES))\n",
        "model.add(Activation('softmax'))\n",
        "\n",
        "\n",
        "# скомпилируем модель\n",
        "\n",
        "model.compile(loss='categorical_crossentropy',\n",
        "              optimizer='adam',\n",
        "              metrics=['accuracy'])\n",
        "\n",
        "\n",
        "# проведем обучение модели\n",
        "\n",
        "tensorboard=TensorBoard(log_dir='./logs', write_graph=True, write_images=True)\n",
        "early_stopping=EarlyStopping(monitor='val_loss')  \n",
        "\n",
        "\n",
        "history_cnn_pretrained = model.fit(X_train_arr, y_train_c,\n",
        "                                   batch_size=BATCH_SIZE,\n",
        "                                   epochs=EPOCHS,\n",
        "                                   verbose=1,\n",
        "                                   validation_data=(X_test_arr, y_test_c),\n",
        "                                   # callbacks=[tensorboard, early_stopping]\n",
        "                                   )"
      ],
      "metadata": {
        "id": "qalE2GE7-uSQ",
        "colab": {
          "base_uri": "https://localhost:8080/"
        },
        "outputId": "bd1ab20d-4509-4e2e-d64d-c1d919fb0b66"
      },
      "execution_count": 111,
      "outputs": [
        {
          "output_type": "stream",
          "name": "stdout",
          "text": [
            "Epoch 1/10\n",
            "62/62 [==============================] - 10s 152ms/step - loss: 0.6727 - accuracy: 0.8361 - val_loss: 0.6524 - val_accuracy: 0.8468\n",
            "Epoch 2/10\n",
            "62/62 [==============================] - 9s 149ms/step - loss: 0.6346 - accuracy: 0.8469 - val_loss: 0.6170 - val_accuracy: 0.8468\n",
            "Epoch 3/10\n",
            "62/62 [==============================] - 9s 149ms/step - loss: 0.6018 - accuracy: 0.8469 - val_loss: 0.5867 - val_accuracy: 0.8468\n",
            "Epoch 4/10\n",
            "62/62 [==============================] - 9s 149ms/step - loss: 0.5737 - accuracy: 0.8469 - val_loss: 0.5607 - val_accuracy: 0.8468\n",
            "Epoch 5/10\n",
            "62/62 [==============================] - 10s 166ms/step - loss: 0.5496 - accuracy: 0.8469 - val_loss: 0.5385 - val_accuracy: 0.8468\n",
            "Epoch 6/10\n",
            "62/62 [==============================] - 10s 164ms/step - loss: 0.5290 - accuracy: 0.8469 - val_loss: 0.5197 - val_accuracy: 0.8468\n",
            "Epoch 7/10\n",
            "62/62 [==============================] - 10s 154ms/step - loss: 0.5116 - accuracy: 0.8469 - val_loss: 0.5038 - val_accuracy: 0.8468\n",
            "Epoch 8/10\n",
            "62/62 [==============================] - 9s 153ms/step - loss: 0.4970 - accuracy: 0.8469 - val_loss: 0.4904 - val_accuracy: 0.8468\n",
            "Epoch 9/10\n",
            "62/62 [==============================] - 9s 152ms/step - loss: 0.4847 - accuracy: 0.8469 - val_loss: 0.4791 - val_accuracy: 0.8468\n",
            "Epoch 10/10\n",
            "62/62 [==============================] - 9s 152ms/step - loss: 0.4744 - accuracy: 0.8469 - val_loss: 0.4698 - val_accuracy: 0.8468\n"
          ]
        }
      ]
    },
    {
      "cell_type": "markdown",
      "source": [
        "#### **ОБУЧЕНИЕ CNN БЕЗ НАТРЕНИРОВАННЫХ ВЕСОВ**"
      ],
      "metadata": {
        "id": "yFoeCG30CV4L"
      }
    },
    {
      "cell_type": "code",
      "source": [
        "# построим архитектуру сети\n",
        "\n",
        "model = Sequential()\n",
        "model.add(Embedding(input_dim=MAX_WORDS, output_dim=EMBEDDING_DIM, input_length=MAX_LEN))\n",
        "model.add(Conv1D(128, 3))\n",
        "model.add(Activation('relu'))\n",
        "model.add(GlobalMaxPool1D())\n",
        "model.add(Dense(30))\n",
        "model.add(Activation('relu'))\n",
        "model.add(Dropout(0.5))\n",
        "model.add(Dense(NUM_CLASSES))\n",
        "model.add(Activation('softmax'))\n",
        "\n",
        "\n",
        "# скомпилируем модель\n",
        "\n",
        "model.compile(loss='categorical_crossentropy',\n",
        "              optimizer='adam',\n",
        "              metrics=['accuracy'])\n",
        "\n",
        "\n",
        "# проведем обучение модели\n",
        "\n",
        "tensorboard=TensorBoard(log_dir='./logs', write_graph=True, write_images=True)\n",
        "early_stopping=EarlyStopping(monitor='val_loss')  \n",
        "\n",
        "\n",
        "history_cnn = model.fit(X_train_arr, y_train_c,\n",
        "                        batch_size=BATCH_SIZE,\n",
        "                        epochs=EPOCHS,\n",
        "                        verbose=1,\n",
        "                        validation_data=(X_test_arr, y_test_c),\n",
        "                        # callbacks=[tensorboard, early_stopping]\n",
        "                        )"
      ],
      "metadata": {
        "id": "vg5SvNlLl8id",
        "colab": {
          "base_uri": "https://localhost:8080/"
        },
        "outputId": "2beca6ee-a416-42f4-835b-37366828cc32"
      },
      "execution_count": 112,
      "outputs": [
        {
          "output_type": "stream",
          "name": "stdout",
          "text": [
            "Epoch 1/10\n",
            "62/62 [==============================] - 13s 201ms/step - loss: 0.3987 - accuracy: 0.8438 - val_loss: 0.2110 - val_accuracy: 0.9038\n",
            "Epoch 2/10\n",
            "62/62 [==============================] - 12s 200ms/step - loss: 0.2059 - accuracy: 0.9116 - val_loss: 0.1818 - val_accuracy: 0.9159\n",
            "Epoch 3/10\n",
            "62/62 [==============================] - 12s 199ms/step - loss: 0.1868 - accuracy: 0.9247 - val_loss: 0.1809 - val_accuracy: 0.9197\n",
            "Epoch 4/10\n",
            "62/62 [==============================] - 12s 200ms/step - loss: 0.1787 - accuracy: 0.9295 - val_loss: 0.1804 - val_accuracy: 0.9180\n",
            "Epoch 5/10\n",
            "62/62 [==============================] - 12s 198ms/step - loss: 0.1731 - accuracy: 0.9311 - val_loss: 0.1858 - val_accuracy: 0.9205\n",
            "Epoch 6/10\n",
            "62/62 [==============================] - 12s 199ms/step - loss: 0.1631 - accuracy: 0.9344 - val_loss: 0.1857 - val_accuracy: 0.9225\n",
            "Epoch 7/10\n",
            "62/62 [==============================] - 12s 200ms/step - loss: 0.1578 - accuracy: 0.9389 - val_loss: 0.1927 - val_accuracy: 0.9223\n",
            "Epoch 8/10\n",
            "62/62 [==============================] - 12s 199ms/step - loss: 0.1481 - accuracy: 0.9423 - val_loss: 0.1907 - val_accuracy: 0.9180\n",
            "Epoch 9/10\n",
            "62/62 [==============================] - 12s 199ms/step - loss: 0.1405 - accuracy: 0.9451 - val_loss: 0.2011 - val_accuracy: 0.9223\n",
            "Epoch 10/10\n",
            "62/62 [==============================] - 12s 199ms/step - loss: 0.1295 - accuracy: 0.9502 - val_loss: 0.1972 - val_accuracy: 0.9157\n"
          ]
        }
      ]
    },
    {
      "cell_type": "markdown",
      "source": [
        "#### **ОБУЧЕНИЕ RNN**"
      ],
      "metadata": {
        "id": "LsXMjR9Ax2NE"
      }
    },
    {
      "cell_type": "code",
      "source": [
        "# построим архитектуру сети\n",
        "\n",
        "model = Sequential()\n",
        "model.add(Embedding(input_dim=MAX_WORDS, output_dim=EMBEDDING_DIM, input_length=MAX_LEN, mask_zero=True))\n",
        "model.add(Masking(mask_value=0.0))\n",
        "model.add(SimpleRNN(64, recurrent_dropout=0.2))\n",
        "model.add(Dense(32))\n",
        "model.add(Activation('relu'))\n",
        "model.add(Dropout(0.5))\n",
        "model.add(Dense(NUM_CLASSES))\n",
        "model.add(Activation('softmax'))\n",
        "\n",
        "\n",
        "# скомпилируем модель\n",
        "\n",
        "model.compile(loss='categorical_crossentropy',\n",
        "              optimizer='adam',\n",
        "              metrics=['accuracy'])\n",
        "\n",
        "\n",
        "# проведем обучение модели\n",
        "\n",
        "tensorboard=TensorBoard(log_dir='./logs', write_graph=True, write_images=True)\n",
        "early_stopping=EarlyStopping(monitor='val_loss')  \n",
        "\n",
        "\n",
        "history_rnn = model.fit(X_train_arr, y_train_c,\n",
        "                        batch_size=BATCH_SIZE,\n",
        "                        epochs=EPOCHS,\n",
        "                        verbose=1,\n",
        "                        validation_data=(X_test_arr, y_test_c),\n",
        "                        # callbacks=[tensorboard, early_stopping]\n",
        "                        )"
      ],
      "metadata": {
        "colab": {
          "base_uri": "https://localhost:8080/"
        },
        "id": "GtSoSKzJyDjy",
        "outputId": "391e7402-33d8-4131-fdc8-cae14c859319"
      },
      "execution_count": 113,
      "outputs": [
        {
          "output_type": "stream",
          "name": "stdout",
          "text": [
            "Epoch 1/10\n",
            "62/62 [==============================] - 14s 202ms/step - loss: 0.4428 - accuracy: 0.7983 - val_loss: 0.3158 - val_accuracy: 0.8747\n",
            "Epoch 2/10\n",
            "62/62 [==============================] - 12s 201ms/step - loss: 0.2669 - accuracy: 0.8887 - val_loss: 0.2148 - val_accuracy: 0.9028\n",
            "Epoch 3/10\n",
            "62/62 [==============================] - 12s 200ms/step - loss: 0.2240 - accuracy: 0.9083 - val_loss: 0.2430 - val_accuracy: 0.9091\n",
            "Epoch 4/10\n",
            "62/62 [==============================] - 12s 199ms/step - loss: 0.2163 - accuracy: 0.9088 - val_loss: 0.2019 - val_accuracy: 0.9134\n",
            "Epoch 5/10\n",
            "62/62 [==============================] - 13s 204ms/step - loss: 0.2108 - accuracy: 0.9122 - val_loss: 0.1953 - val_accuracy: 0.9167\n",
            "Epoch 6/10\n",
            "62/62 [==============================] - 12s 199ms/step - loss: 0.2063 - accuracy: 0.9158 - val_loss: 0.2022 - val_accuracy: 0.9154\n",
            "Epoch 7/10\n",
            "62/62 [==============================] - 12s 199ms/step - loss: 0.1996 - accuracy: 0.9166 - val_loss: 0.2500 - val_accuracy: 0.9084\n",
            "Epoch 8/10\n",
            "62/62 [==============================] - 12s 198ms/step - loss: 0.2025 - accuracy: 0.9152 - val_loss: 0.1983 - val_accuracy: 0.9165\n",
            "Epoch 9/10\n",
            "62/62 [==============================] - 12s 198ms/step - loss: 0.1987 - accuracy: 0.9181 - val_loss: 0.2273 - val_accuracy: 0.9137\n",
            "Epoch 10/10\n",
            "62/62 [==============================] - 12s 196ms/step - loss: 0.1943 - accuracy: 0.9213 - val_loss: 0.1957 - val_accuracy: 0.9177\n"
          ]
        }
      ]
    },
    {
      "cell_type": "markdown",
      "source": [
        "#### **ОБУЧЕНИЕ LSTM**"
      ],
      "metadata": {
        "id": "TblD--m34Arv"
      }
    },
    {
      "cell_type": "code",
      "source": [
        "# построим архитектуру сети\n",
        "\n",
        "model = Sequential()\n",
        "model.add(Embedding(input_dim=MAX_WORDS, output_dim=EMBEDDING_DIM, input_length=MAX_LEN, mask_zero=True))\n",
        "model.add(Masking(mask_value=0.0))\n",
        "model.add(LSTM(64, recurrent_dropout=0.2))\n",
        "model.add(Dense(32))\n",
        "model.add(Activation('relu'))\n",
        "model.add(Dropout(0.5))\n",
        "model.add(Dense(NUM_CLASSES))\n",
        "model.add(Activation('softmax'))\n",
        "\n",
        "\n",
        "# скомпилируем модель\n",
        "\n",
        "model.compile(loss='categorical_crossentropy',\n",
        "              optimizer='adam',\n",
        "              metrics=['accuracy'])\n",
        "\n",
        "\n",
        "# проведем обучение модели\n",
        "\n",
        "tensorboard=TensorBoard(log_dir='./logs', write_graph=True, write_images=True)\n",
        "early_stopping=EarlyStopping(monitor='val_loss')  \n",
        "\n",
        "\n",
        "history_lstm = model.fit(X_train_arr, y_train_c,\n",
        "                         batch_size=BATCH_SIZE,\n",
        "                         epochs=EPOCHS,\n",
        "                         verbose=1,\n",
        "                         validation_data=(X_test_arr, y_test_c),\n",
        "                         # callbacks=[tensorboard, early_stopping]\n",
        "                         )"
      ],
      "metadata": {
        "colab": {
          "base_uri": "https://localhost:8080/"
        },
        "id": "fEBCZNe5yDsN",
        "outputId": "aa96c9dc-715e-4538-ca01-5eff52a81e31"
      },
      "execution_count": 114,
      "outputs": [
        {
          "output_type": "stream",
          "name": "stdout",
          "text": [
            "Epoch 1/10\n",
            "62/62 [==============================] - 34s 504ms/step - loss: 0.3865 - accuracy: 0.8464 - val_loss: 0.2377 - val_accuracy: 0.8977\n",
            "Epoch 2/10\n",
            "62/62 [==============================] - 31s 500ms/step - loss: 0.2273 - accuracy: 0.9083 - val_loss: 0.1994 - val_accuracy: 0.9137\n",
            "Epoch 3/10\n",
            "62/62 [==============================] - 31s 500ms/step - loss: 0.1976 - accuracy: 0.9214 - val_loss: 0.1975 - val_accuracy: 0.9203\n",
            "Epoch 4/10\n",
            "62/62 [==============================] - 31s 499ms/step - loss: 0.1917 - accuracy: 0.9237 - val_loss: 0.1907 - val_accuracy: 0.9215\n",
            "Epoch 5/10\n",
            "62/62 [==============================] - 31s 499ms/step - loss: 0.1860 - accuracy: 0.9247 - val_loss: 0.1891 - val_accuracy: 0.9225\n",
            "Epoch 6/10\n",
            "62/62 [==============================] - 31s 499ms/step - loss: 0.1808 - accuracy: 0.9249 - val_loss: 0.1894 - val_accuracy: 0.9195\n",
            "Epoch 7/10\n",
            "62/62 [==============================] - 31s 502ms/step - loss: 0.1772 - accuracy: 0.9276 - val_loss: 0.2004 - val_accuracy: 0.9154\n",
            "Epoch 8/10\n",
            "62/62 [==============================] - 31s 499ms/step - loss: 0.1749 - accuracy: 0.9300 - val_loss: 0.1919 - val_accuracy: 0.9195\n",
            "Epoch 9/10\n",
            "62/62 [==============================] - 31s 504ms/step - loss: 0.1697 - accuracy: 0.9328 - val_loss: 0.1957 - val_accuracy: 0.9175\n",
            "Epoch 10/10\n",
            "62/62 [==============================] - 31s 505ms/step - loss: 0.1637 - accuracy: 0.9340 - val_loss: 0.2027 - val_accuracy: 0.9162\n"
          ]
        }
      ]
    },
    {
      "cell_type": "markdown",
      "source": [
        "#### **ОБУЧЕНИЕ GRU**"
      ],
      "metadata": {
        "id": "NRgFqmX95J4V"
      }
    },
    {
      "cell_type": "code",
      "source": [
        "# построим архитектуру сети\n",
        "\n",
        "model = Sequential()\n",
        "model.add(Embedding(input_dim=MAX_WORDS, output_dim=EMBEDDING_DIM, input_length=MAX_LEN, mask_zero=True))\n",
        "model.add(Masking(mask_value=0.0))\n",
        "model.add(LSTM(64, recurrent_dropout=0.2))\n",
        "model.add(Dense(32))\n",
        "model.add(Activation('relu'))\n",
        "model.add(Dropout(0.5))\n",
        "model.add(Dense(NUM_CLASSES))\n",
        "model.add(Activation('softmax'))\n",
        "\n",
        "\n",
        "# скомпилируем модель\n",
        "\n",
        "model.compile(loss='categorical_crossentropy',\n",
        "              optimizer='adam',\n",
        "              metrics=['accuracy'])\n",
        "\n",
        "\n",
        "# проведем обучение модели\n",
        "\n",
        "tensorboard=TensorBoard(log_dir='./logs', write_graph=True, write_images=True)\n",
        "early_stopping=EarlyStopping(monitor='val_loss')  \n",
        "\n",
        "\n",
        "history_gru = model.fit(X_train_arr, y_train_c,\n",
        "                        batch_size=BATCH_SIZE,\n",
        "                        epochs=EPOCHS,\n",
        "                        verbose=1,\n",
        "                        validation_data=(X_test_arr, y_test_c),\n",
        "                        # callbacks=[tensorboard, early_stopping]\n",
        "                        )"
      ],
      "metadata": {
        "colab": {
          "base_uri": "https://localhost:8080/"
        },
        "id": "uUpM5k1o4usI",
        "outputId": "6e42aed3-d53f-4e16-c918-7174f2916ec4"
      },
      "execution_count": 115,
      "outputs": [
        {
          "output_type": "stream",
          "name": "stdout",
          "text": [
            "Epoch 1/10\n",
            "62/62 [==============================] - 35s 510ms/step - loss: 0.3632 - accuracy: 0.8591 - val_loss: 0.2345 - val_accuracy: 0.8949\n",
            "Epoch 2/10\n",
            "62/62 [==============================] - 31s 504ms/step - loss: 0.2214 - accuracy: 0.9073 - val_loss: 0.1913 - val_accuracy: 0.9175\n",
            "Epoch 3/10\n",
            "62/62 [==============================] - 31s 505ms/step - loss: 0.1944 - accuracy: 0.9202 - val_loss: 0.1886 - val_accuracy: 0.9192\n",
            "Epoch 4/10\n",
            "62/62 [==============================] - 31s 505ms/step - loss: 0.1863 - accuracy: 0.9239 - val_loss: 0.1911 - val_accuracy: 0.9215\n",
            "Epoch 5/10\n",
            "62/62 [==============================] - 31s 504ms/step - loss: 0.1856 - accuracy: 0.9249 - val_loss: 0.1907 - val_accuracy: 0.9208\n",
            "Epoch 6/10\n",
            "62/62 [==============================] - 31s 502ms/step - loss: 0.1808 - accuracy: 0.9270 - val_loss: 0.1881 - val_accuracy: 0.9225\n",
            "Epoch 7/10\n",
            "62/62 [==============================] - 31s 502ms/step - loss: 0.1749 - accuracy: 0.9278 - val_loss: 0.1835 - val_accuracy: 0.9197\n",
            "Epoch 8/10\n",
            "62/62 [==============================] - 31s 506ms/step - loss: 0.1751 - accuracy: 0.9275 - val_loss: 0.1845 - val_accuracy: 0.9215\n",
            "Epoch 9/10\n",
            "62/62 [==============================] - 31s 507ms/step - loss: 0.1682 - accuracy: 0.9313 - val_loss: 0.1932 - val_accuracy: 0.9210\n",
            "Epoch 10/10\n",
            "62/62 [==============================] - 32s 509ms/step - loss: 0.1638 - accuracy: 0.9306 - val_loss: 0.1927 - val_accuracy: 0.9197\n"
          ]
        }
      ]
    },
    {
      "cell_type": "markdown",
      "source": [
        "#### **ОБУЧЕНИЕ CNN+RNN**"
      ],
      "metadata": {
        "id": "MVA6zYLNG4gQ"
      }
    },
    {
      "cell_type": "code",
      "source": [
        "# построим архитектуру сети\n",
        "\n",
        "model = Sequential()\n",
        "model.add(Embedding(input_dim=MAX_WORDS, output_dim=EMBEDDING_DIM, input_length=MAX_LEN, mask_zero=True))\n",
        "model.add(Masking(mask_value=0.0))\n",
        "model.add(Conv1D(128, 3))\n",
        "model.add(Activation('relu'))\n",
        "# model.add(GlobalMaxPool1D())\n",
        "model.add(SimpleRNN(64, recurrent_dropout=0.2))\n",
        "model.add(Dense(32))\n",
        "model.add(Activation('relu'))\n",
        "model.add(Dropout(0.5))\n",
        "model.add(Dense(NUM_CLASSES))\n",
        "model.add(Activation('softmax'))\n",
        "\n",
        "\n",
        "# скомпилируем модель\n",
        "\n",
        "model.compile(loss='categorical_crossentropy',\n",
        "              optimizer='adam',\n",
        "              metrics=['accuracy'])\n",
        "\n",
        "\n",
        "# проведем обучение модели\n",
        "\n",
        "tensorboard=TensorBoard(log_dir='./logs', write_graph=True, write_images=True)\n",
        "early_stopping=EarlyStopping(monitor='val_loss')  \n",
        "\n",
        "\n",
        "history_cnn_rnn = model.fit(X_train_arr, y_train_c,\n",
        "                            batch_size=BATCH_SIZE,\n",
        "                            epochs=EPOCHS,\n",
        "                            verbose=1,\n",
        "                            validation_data=(X_test_arr, y_test_c),\n",
        "                            # callbacks=[tensorboard, early_stopping]\n",
        "                            )"
      ],
      "metadata": {
        "colab": {
          "base_uri": "https://localhost:8080/"
        },
        "id": "o_lzcBxHGujp",
        "outputId": "d26a16d7-a23f-498b-8ed5-802c13a84224"
      },
      "execution_count": 116,
      "outputs": [
        {
          "output_type": "stream",
          "name": "stdout",
          "text": [
            "Epoch 1/10\n",
            "62/62 [==============================] - 22s 326ms/step - loss: 0.4321 - accuracy: 0.8032 - val_loss: 0.2900 - val_accuracy: 0.8765\n",
            "Epoch 2/10\n",
            "62/62 [==============================] - 20s 320ms/step - loss: 0.2688 - accuracy: 0.8902 - val_loss: 0.2101 - val_accuracy: 0.9089\n",
            "Epoch 3/10\n",
            "62/62 [==============================] - 20s 319ms/step - loss: 0.2210 - accuracy: 0.9109 - val_loss: 0.2017 - val_accuracy: 0.9132\n",
            "Epoch 4/10\n",
            "62/62 [==============================] - 20s 319ms/step - loss: 0.2058 - accuracy: 0.9154 - val_loss: 0.2158 - val_accuracy: 0.9109\n",
            "Epoch 5/10\n",
            "62/62 [==============================] - 20s 320ms/step - loss: 0.1969 - accuracy: 0.9178 - val_loss: 0.1889 - val_accuracy: 0.9180\n",
            "Epoch 6/10\n",
            "62/62 [==============================] - 20s 319ms/step - loss: 0.1918 - accuracy: 0.9216 - val_loss: 0.1970 - val_accuracy: 0.9162\n",
            "Epoch 7/10\n",
            "62/62 [==============================] - 20s 319ms/step - loss: 0.1853 - accuracy: 0.9232 - val_loss: 0.1894 - val_accuracy: 0.9172\n",
            "Epoch 8/10\n",
            "62/62 [==============================] - 20s 322ms/step - loss: 0.1794 - accuracy: 0.9246 - val_loss: 0.1941 - val_accuracy: 0.9154\n",
            "Epoch 9/10\n",
            "62/62 [==============================] - 20s 321ms/step - loss: 0.1724 - accuracy: 0.9309 - val_loss: 0.2075 - val_accuracy: 0.9165\n",
            "Epoch 10/10\n",
            "62/62 [==============================] - 20s 321ms/step - loss: 0.1665 - accuracy: 0.9313 - val_loss: 0.2038 - val_accuracy: 0.9180\n"
          ]
        }
      ]
    },
    {
      "cell_type": "markdown",
      "source": [
        "#### **ОБУЧЕНИЕ CNN+LSTM**"
      ],
      "metadata": {
        "id": "F9VcfHm2GxsZ"
      }
    },
    {
      "cell_type": "code",
      "source": [
        "# построим архитектуру сети\n",
        "\n",
        "model = Sequential()\n",
        "model.add(Embedding(input_dim=MAX_WORDS, output_dim=EMBEDDING_DIM, input_length=MAX_LEN, mask_zero=True))\n",
        "model.add(Masking(mask_value=0.0))\n",
        "model.add(Conv1D(128, 3))\n",
        "model.add(Activation('relu'))\n",
        "# model.add(GlobalMaxPool1D())\n",
        "model.add(LSTM(64, recurrent_dropout=0.2))\n",
        "model.add(Dense(32))\n",
        "model.add(Activation('relu'))\n",
        "model.add(Dropout(0.5))\n",
        "model.add(Dense(NUM_CLASSES))\n",
        "model.add(Activation('softmax'))\n",
        "\n",
        "\n",
        "# скомпилируем модель\n",
        "\n",
        "model.compile(loss='categorical_crossentropy',\n",
        "              optimizer='adam',\n",
        "              metrics=['accuracy'])\n",
        "\n",
        "\n",
        "# проведем обучение модели\n",
        "\n",
        "tensorboard=TensorBoard(log_dir='./logs', write_graph=True, write_images=True)\n",
        "early_stopping=EarlyStopping(monitor='val_loss')  \n",
        "\n",
        "\n",
        "history_cnn_lstm = model.fit(X_train_arr, y_train_c,\n",
        "                             batch_size=BATCH_SIZE,\n",
        "                             epochs=EPOCHS,\n",
        "                             verbose=1,\n",
        "                             validation_data=(X_test_arr, y_test_c),\n",
        "                             # callbacks=[tensorboard, early_stopping]\n",
        "                             )"
      ],
      "metadata": {
        "colab": {
          "base_uri": "https://localhost:8080/"
        },
        "id": "-VtO6P6aGf-e",
        "outputId": "d8c43f90-33dd-4d62-ed71-b1e7b86ef768"
      },
      "execution_count": 170,
      "outputs": [
        {
          "output_type": "stream",
          "name": "stdout",
          "text": [
            "Epoch 1/10\n",
            "62/62 [==============================] - 52s 803ms/step - loss: 0.3469 - accuracy: 0.8637 - val_loss: 0.2209 - val_accuracy: 0.9033\n",
            "Epoch 2/10\n",
            "62/62 [==============================] - 48s 760ms/step - loss: 0.2118 - accuracy: 0.9141 - val_loss: 0.2017 - val_accuracy: 0.9144\n",
            "Epoch 3/10\n",
            "62/62 [==============================] - 39s 620ms/step - loss: 0.1881 - accuracy: 0.9234 - val_loss: 0.1883 - val_accuracy: 0.9203\n",
            "Epoch 4/10\n",
            "62/62 [==============================] - 38s 622ms/step - loss: 0.1822 - accuracy: 0.9256 - val_loss: 0.1906 - val_accuracy: 0.9218\n",
            "Epoch 5/10\n",
            "62/62 [==============================] - 40s 648ms/step - loss: 0.1752 - accuracy: 0.9270 - val_loss: 0.1820 - val_accuracy: 0.9190\n",
            "Epoch 6/10\n",
            "62/62 [==============================] - 47s 746ms/step - loss: 0.1692 - accuracy: 0.9282 - val_loss: 0.1826 - val_accuracy: 0.9192\n",
            "Epoch 7/10\n",
            "62/62 [==============================] - 38s 620ms/step - loss: 0.1668 - accuracy: 0.9292 - val_loss: 0.1904 - val_accuracy: 0.9159\n",
            "Epoch 8/10\n",
            "62/62 [==============================] - 42s 673ms/step - loss: 0.1596 - accuracy: 0.9337 - val_loss: 0.1940 - val_accuracy: 0.9149\n",
            "Epoch 9/10\n",
            "62/62 [==============================] - 38s 619ms/step - loss: 0.1528 - accuracy: 0.9380 - val_loss: 0.1956 - val_accuracy: 0.9190\n",
            "Epoch 10/10\n",
            "62/62 [==============================] - 38s 617ms/step - loss: 0.1443 - accuracy: 0.9414 - val_loss: 0.2038 - val_accuracy: 0.9172\n"
          ]
        }
      ]
    },
    {
      "cell_type": "markdown",
      "source": [
        "#### **ОБУЧЕНИЕ CNN+GRU**"
      ],
      "metadata": {
        "id": "EfNBj4sE7KCC"
      }
    },
    {
      "cell_type": "code",
      "source": [
        "# построим архитектуру сети\n",
        "\n",
        "model = Sequential()\n",
        "model.add(Embedding(input_dim=MAX_WORDS, output_dim=EMBEDDING_DIM, input_length=MAX_LEN, mask_zero=True))\n",
        "model.add(Masking(mask_value=0.0))\n",
        "model.add(Conv1D(128, 3))\n",
        "model.add(Activation('relu'))\n",
        "# model.add(GlobalMaxPool1D())\n",
        "model.add(GRU(64, recurrent_dropout=0.2))\n",
        "model.add(Dense(32))\n",
        "model.add(Activation('relu'))\n",
        "model.add(Dropout(0.5))\n",
        "model.add(Dense(NUM_CLASSES))\n",
        "model.add(Activation('softmax'))\n",
        "\n",
        "\n",
        "model.summary()\n",
        "\n",
        "\n",
        "# скомпилируем модель\n",
        "\n",
        "model.compile(loss='categorical_crossentropy',\n",
        "              optimizer='adam',\n",
        "              metrics=['accuracy'])\n",
        "\n",
        "\n",
        "# проведем обучение модели\n",
        "\n",
        "tensorboard=TensorBoard(log_dir='./logs', write_graph=True, write_images=True)\n",
        "early_stopping=EarlyStopping(monitor='val_loss')  \n",
        "\n",
        "\n",
        "history_cnn_gru = model.fit(X_train_arr, y_train_c,\n",
        "                            batch_size=BATCH_SIZE,\n",
        "                            epochs=EPOCHS,\n",
        "                            verbose=1,\n",
        "                            validation_data=(X_test_arr, y_test_c),\n",
        "                            # callbacks=[tensorboard, early_stopping]\n",
        "                            )"
      ],
      "metadata": {
        "colab": {
          "base_uri": "https://localhost:8080/"
        },
        "id": "enxLlpgl4u2h",
        "outputId": "18ee33de-78e8-4faa-f27c-192aae53dc0e"
      },
      "execution_count": 118,
      "outputs": [
        {
          "output_type": "stream",
          "name": "stdout",
          "text": [
            "Model: \"sequential_40\"\n",
            "_________________________________________________________________\n",
            " Layer (type)                Output Shape              Param #   \n",
            "=================================================================\n",
            " embedding_40 (Embedding)    (None, 100, 128)          38400     \n",
            "                                                                 \n",
            " masking_30 (Masking)        (None, 100, 128)          0         \n",
            "                                                                 \n",
            " conv1d_28 (Conv1D)          (None, 98, 128)           49280     \n",
            "                                                                 \n",
            " activation_83 (Activation)  (None, 98, 128)           0         \n",
            "                                                                 \n",
            " gru_19 (GRU)                (None, 64)                37248     \n",
            "                                                                 \n",
            " dense_56 (Dense)            (None, 32)                2080      \n",
            "                                                                 \n",
            " activation_84 (Activation)  (None, 32)                0         \n",
            "                                                                 \n",
            " dropout_28 (Dropout)        (None, 32)                0         \n",
            "                                                                 \n",
            " dense_57 (Dense)            (None, 2)                 66        \n",
            "                                                                 \n",
            " activation_85 (Activation)  (None, 2)                 0         \n",
            "                                                                 \n",
            "=================================================================\n",
            "Total params: 127,074\n",
            "Trainable params: 127,074\n",
            "Non-trainable params: 0\n",
            "_________________________________________________________________\n",
            "Epoch 1/10\n",
            "62/62 [==============================] - 37s 556ms/step - loss: 0.3633 - accuracy: 0.8460 - val_loss: 0.2317 - val_accuracy: 0.8886\n",
            "Epoch 2/10\n",
            "62/62 [==============================] - 34s 548ms/step - loss: 0.2238 - accuracy: 0.9073 - val_loss: 0.2019 - val_accuracy: 0.9129\n",
            "Epoch 3/10\n",
            "62/62 [==============================] - 34s 548ms/step - loss: 0.1952 - accuracy: 0.9178 - val_loss: 0.1930 - val_accuracy: 0.9210\n",
            "Epoch 4/10\n",
            "62/62 [==============================] - 34s 552ms/step - loss: 0.1850 - accuracy: 0.9250 - val_loss: 0.1822 - val_accuracy: 0.9205\n",
            "Epoch 5/10\n",
            "62/62 [==============================] - 34s 550ms/step - loss: 0.1761 - accuracy: 0.9278 - val_loss: 0.1902 - val_accuracy: 0.9175\n",
            "Epoch 6/10\n",
            "62/62 [==============================] - 34s 549ms/step - loss: 0.1696 - accuracy: 0.9332 - val_loss: 0.1875 - val_accuracy: 0.9147\n",
            "Epoch 7/10\n",
            "62/62 [==============================] - 34s 551ms/step - loss: 0.1610 - accuracy: 0.9359 - val_loss: 0.1944 - val_accuracy: 0.9111\n",
            "Epoch 8/10\n",
            "62/62 [==============================] - 34s 555ms/step - loss: 0.1558 - accuracy: 0.9375 - val_loss: 0.2025 - val_accuracy: 0.9096\n",
            "Epoch 9/10\n",
            "62/62 [==============================] - 34s 549ms/step - loss: 0.1476 - accuracy: 0.9434 - val_loss: 0.2090 - val_accuracy: 0.9142\n",
            "Epoch 10/10\n",
            "62/62 [==============================] - 34s 548ms/step - loss: 0.1403 - accuracy: 0.9473 - val_loss: 0.2358 - val_accuracy: 0.9137\n"
          ]
        }
      ]
    },
    {
      "cell_type": "markdown",
      "source": [
        "#### **ОБУЧЕНИЕ GRU+CNN**"
      ],
      "metadata": {
        "id": "eq1SJTajDP8x"
      }
    },
    {
      "cell_type": "code",
      "source": [
        "# построим архитектуру сети\n",
        "\n",
        "model = Sequential()\n",
        "model.add(Embedding(input_dim=MAX_WORDS, output_dim=EMBEDDING_DIM, input_length=MAX_LEN, mask_zero=True))\n",
        "model.add(Masking(mask_value=0.0))\n",
        "model.add(GRU(64, recurrent_dropout=0.2, return_sequences=True))\n",
        "model.add(Conv1D(128, 3))\n",
        "model.add(Activation('relu'))\n",
        "model.add(GlobalMaxPool1D())\n",
        "model.add(Dense(32))\n",
        "model.add(Activation('relu'))\n",
        "model.add(Dropout(0.5))\n",
        "model.add(Dense(NUM_CLASSES))\n",
        "model.add(Activation('softmax'))\n",
        "\n",
        "\n",
        "# скомпилируем модель\n",
        "\n",
        "model.compile(loss='categorical_crossentropy',\n",
        "              optimizer='adam',\n",
        "              metrics=['accuracy'])\n",
        "\n",
        "\n",
        "# проведем обучение модели\n",
        "\n",
        "tensorboard=TensorBoard(log_dir='./logs', write_graph=True, write_images=True)\n",
        "early_stopping=EarlyStopping(monitor='val_loss')  \n",
        "\n",
        "\n",
        "history_gru_cnn = model.fit(X_train_arr, y_train_c,\n",
        "                            batch_size=BATCH_SIZE,\n",
        "                            epochs=EPOCHS,\n",
        "                            verbose=1,\n",
        "                            validation_data=(X_test_arr, y_test_c),\n",
        "                            # callbacks=[tensorboard, early_stopping]\n",
        "                            )"
      ],
      "metadata": {
        "colab": {
          "base_uri": "https://localhost:8080/"
        },
        "id": "gQaXbH037rWe",
        "outputId": "b1b1d0e3-519b-4ee3-fc20-c7d1c0cca033"
      },
      "execution_count": 119,
      "outputs": [
        {
          "output_type": "stream",
          "name": "stdout",
          "text": [
            "Epoch 1/10\n",
            "62/62 [==============================] - 37s 546ms/step - loss: 0.4291 - accuracy: 0.8421 - val_loss: 0.2325 - val_accuracy: 0.8934\n",
            "Epoch 2/10\n",
            "62/62 [==============================] - 33s 537ms/step - loss: 0.2221 - accuracy: 0.9059 - val_loss: 0.1871 - val_accuracy: 0.9132\n",
            "Epoch 3/10\n",
            "62/62 [==============================] - 33s 540ms/step - loss: 0.1913 - accuracy: 0.9187 - val_loss: 0.1843 - val_accuracy: 0.9182\n",
            "Epoch 4/10\n",
            "62/62 [==============================] - 34s 541ms/step - loss: 0.1845 - accuracy: 0.9215 - val_loss: 0.1854 - val_accuracy: 0.9192\n",
            "Epoch 5/10\n",
            "62/62 [==============================] - 34s 543ms/step - loss: 0.1789 - accuracy: 0.9233 - val_loss: 0.1827 - val_accuracy: 0.9203\n",
            "Epoch 6/10\n",
            "62/62 [==============================] - 34s 544ms/step - loss: 0.1771 - accuracy: 0.9242 - val_loss: 0.1867 - val_accuracy: 0.9203\n",
            "Epoch 7/10\n",
            "62/62 [==============================] - 34s 541ms/step - loss: 0.1770 - accuracy: 0.9264 - val_loss: 0.1848 - val_accuracy: 0.9172\n",
            "Epoch 8/10\n",
            "62/62 [==============================] - 33s 540ms/step - loss: 0.1715 - accuracy: 0.9275 - val_loss: 0.1950 - val_accuracy: 0.9185\n",
            "Epoch 9/10\n",
            "62/62 [==============================] - 34s 541ms/step - loss: 0.1687 - accuracy: 0.9299 - val_loss: 0.1989 - val_accuracy: 0.9190\n",
            "Epoch 10/10\n",
            "62/62 [==============================] - 33s 539ms/step - loss: 0.1637 - accuracy: 0.9287 - val_loss: 0.1959 - val_accuracy: 0.9124\n"
          ]
        }
      ]
    },
    {
      "cell_type": "code",
      "source": [
        "# сделаем сравнительную таблицу по точности на тесте у разных моделей\n",
        "\n",
        "model_list = [history_cnn_pretrained,\n",
        "              history_cnn,\n",
        "              history_rnn,\n",
        "              history_lstm,\n",
        "              history_gru,\n",
        "              history_cnn_rnn,\n",
        "              history_cnn_lstm,\n",
        "              history_cnn_gru,\n",
        "              history_gru_cnn]\n",
        "\n",
        "model_name_list = ['history_cnn_pretrained',\n",
        "                   'history_cnn',\n",
        "                   'history_rnn',\n",
        "                   'history_lstm',\n",
        "                   'history_gru',\n",
        "                   'history_cnn_rnn',\n",
        "                   'history_cnn_lstm',\n",
        "                   'history_cnn_gru',\n",
        "                   'history_gru_cnn']\n",
        "\n",
        "\n",
        "compare_table = pd.DataFrame()\n",
        "for item in range(len(model_list)):\n",
        "  compare_table[model_name_list[item]] = model_list[item].history['val_accuracy']\n",
        "\n",
        "compare_table"
      ],
      "metadata": {
        "colab": {
          "base_uri": "https://localhost:8080/",
          "height": 363
        },
        "id": "FCB71xkoBXuj",
        "outputId": "122c2a4f-84c5-4227-f9de-0df66cf15aa3"
      },
      "execution_count": 173,
      "outputs": [
        {
          "output_type": "execute_result",
          "data": {
            "text/plain": [
              "   history_cnn_pretrained  history_cnn  history_rnn  history_lstm  \\\n",
              "0                0.846835     0.903797     0.874684      0.897722   \n",
              "1                0.846835     0.915949     0.902785      0.913671   \n",
              "2                0.846835     0.919747     0.909114      0.920253   \n",
              "3                0.846835     0.917975     0.913418      0.921519   \n",
              "4                0.846835     0.920506     0.916709      0.922532   \n",
              "5                0.846835     0.922532     0.915443      0.919494   \n",
              "6                0.846835     0.922278     0.908354      0.915443   \n",
              "7                0.846835     0.917975     0.916456      0.919494   \n",
              "8                0.846835     0.922278     0.913671      0.917468   \n",
              "9                0.846835     0.915696     0.917722      0.916203   \n",
              "\n",
              "   history_gru  history_cnn_rnn  history_cnn_lstm  history_cnn_gru  \\\n",
              "0     0.894937         0.876456          0.903291         0.888608   \n",
              "1     0.917468         0.908861          0.914430         0.912911   \n",
              "2     0.919241         0.913165          0.920253         0.921013   \n",
              "3     0.921519         0.910886          0.921772         0.920506   \n",
              "4     0.920759         0.917975          0.918987         0.917468   \n",
              "5     0.922532         0.916203          0.919241         0.914684   \n",
              "6     0.919747         0.917215          0.915949         0.911139   \n",
              "7     0.921519         0.915443          0.914937         0.909620   \n",
              "8     0.921013         0.916456          0.918987         0.914177   \n",
              "9     0.919747         0.917975          0.917215         0.913671   \n",
              "\n",
              "   history_gru_cnn  \n",
              "0         0.893418  \n",
              "1         0.913165  \n",
              "2         0.918228  \n",
              "3         0.919241  \n",
              "4         0.920253  \n",
              "5         0.920253  \n",
              "6         0.917215  \n",
              "7         0.918481  \n",
              "8         0.918987  \n",
              "9         0.912405  "
            ],
            "text/html": [
              "\n",
              "  <div id=\"df-760eeede-51fc-43d3-ab48-6455c62bb437\">\n",
              "    <div class=\"colab-df-container\">\n",
              "      <div>\n",
              "<style scoped>\n",
              "    .dataframe tbody tr th:only-of-type {\n",
              "        vertical-align: middle;\n",
              "    }\n",
              "\n",
              "    .dataframe tbody tr th {\n",
              "        vertical-align: top;\n",
              "    }\n",
              "\n",
              "    .dataframe thead th {\n",
              "        text-align: right;\n",
              "    }\n",
              "</style>\n",
              "<table border=\"1\" class=\"dataframe\">\n",
              "  <thead>\n",
              "    <tr style=\"text-align: right;\">\n",
              "      <th></th>\n",
              "      <th>history_cnn_pretrained</th>\n",
              "      <th>history_cnn</th>\n",
              "      <th>history_rnn</th>\n",
              "      <th>history_lstm</th>\n",
              "      <th>history_gru</th>\n",
              "      <th>history_cnn_rnn</th>\n",
              "      <th>history_cnn_lstm</th>\n",
              "      <th>history_cnn_gru</th>\n",
              "      <th>history_gru_cnn</th>\n",
              "    </tr>\n",
              "  </thead>\n",
              "  <tbody>\n",
              "    <tr>\n",
              "      <th>0</th>\n",
              "      <td>0.846835</td>\n",
              "      <td>0.903797</td>\n",
              "      <td>0.874684</td>\n",
              "      <td>0.897722</td>\n",
              "      <td>0.894937</td>\n",
              "      <td>0.876456</td>\n",
              "      <td>0.903291</td>\n",
              "      <td>0.888608</td>\n",
              "      <td>0.893418</td>\n",
              "    </tr>\n",
              "    <tr>\n",
              "      <th>1</th>\n",
              "      <td>0.846835</td>\n",
              "      <td>0.915949</td>\n",
              "      <td>0.902785</td>\n",
              "      <td>0.913671</td>\n",
              "      <td>0.917468</td>\n",
              "      <td>0.908861</td>\n",
              "      <td>0.914430</td>\n",
              "      <td>0.912911</td>\n",
              "      <td>0.913165</td>\n",
              "    </tr>\n",
              "    <tr>\n",
              "      <th>2</th>\n",
              "      <td>0.846835</td>\n",
              "      <td>0.919747</td>\n",
              "      <td>0.909114</td>\n",
              "      <td>0.920253</td>\n",
              "      <td>0.919241</td>\n",
              "      <td>0.913165</td>\n",
              "      <td>0.920253</td>\n",
              "      <td>0.921013</td>\n",
              "      <td>0.918228</td>\n",
              "    </tr>\n",
              "    <tr>\n",
              "      <th>3</th>\n",
              "      <td>0.846835</td>\n",
              "      <td>0.917975</td>\n",
              "      <td>0.913418</td>\n",
              "      <td>0.921519</td>\n",
              "      <td>0.921519</td>\n",
              "      <td>0.910886</td>\n",
              "      <td>0.921772</td>\n",
              "      <td>0.920506</td>\n",
              "      <td>0.919241</td>\n",
              "    </tr>\n",
              "    <tr>\n",
              "      <th>4</th>\n",
              "      <td>0.846835</td>\n",
              "      <td>0.920506</td>\n",
              "      <td>0.916709</td>\n",
              "      <td>0.922532</td>\n",
              "      <td>0.920759</td>\n",
              "      <td>0.917975</td>\n",
              "      <td>0.918987</td>\n",
              "      <td>0.917468</td>\n",
              "      <td>0.920253</td>\n",
              "    </tr>\n",
              "    <tr>\n",
              "      <th>5</th>\n",
              "      <td>0.846835</td>\n",
              "      <td>0.922532</td>\n",
              "      <td>0.915443</td>\n",
              "      <td>0.919494</td>\n",
              "      <td>0.922532</td>\n",
              "      <td>0.916203</td>\n",
              "      <td>0.919241</td>\n",
              "      <td>0.914684</td>\n",
              "      <td>0.920253</td>\n",
              "    </tr>\n",
              "    <tr>\n",
              "      <th>6</th>\n",
              "      <td>0.846835</td>\n",
              "      <td>0.922278</td>\n",
              "      <td>0.908354</td>\n",
              "      <td>0.915443</td>\n",
              "      <td>0.919747</td>\n",
              "      <td>0.917215</td>\n",
              "      <td>0.915949</td>\n",
              "      <td>0.911139</td>\n",
              "      <td>0.917215</td>\n",
              "    </tr>\n",
              "    <tr>\n",
              "      <th>7</th>\n",
              "      <td>0.846835</td>\n",
              "      <td>0.917975</td>\n",
              "      <td>0.916456</td>\n",
              "      <td>0.919494</td>\n",
              "      <td>0.921519</td>\n",
              "      <td>0.915443</td>\n",
              "      <td>0.914937</td>\n",
              "      <td>0.909620</td>\n",
              "      <td>0.918481</td>\n",
              "    </tr>\n",
              "    <tr>\n",
              "      <th>8</th>\n",
              "      <td>0.846835</td>\n",
              "      <td>0.922278</td>\n",
              "      <td>0.913671</td>\n",
              "      <td>0.917468</td>\n",
              "      <td>0.921013</td>\n",
              "      <td>0.916456</td>\n",
              "      <td>0.918987</td>\n",
              "      <td>0.914177</td>\n",
              "      <td>0.918987</td>\n",
              "    </tr>\n",
              "    <tr>\n",
              "      <th>9</th>\n",
              "      <td>0.846835</td>\n",
              "      <td>0.915696</td>\n",
              "      <td>0.917722</td>\n",
              "      <td>0.916203</td>\n",
              "      <td>0.919747</td>\n",
              "      <td>0.917975</td>\n",
              "      <td>0.917215</td>\n",
              "      <td>0.913671</td>\n",
              "      <td>0.912405</td>\n",
              "    </tr>\n",
              "  </tbody>\n",
              "</table>\n",
              "</div>\n",
              "      <button class=\"colab-df-convert\" onclick=\"convertToInteractive('df-760eeede-51fc-43d3-ab48-6455c62bb437')\"\n",
              "              title=\"Convert this dataframe to an interactive table.\"\n",
              "              style=\"display:none;\">\n",
              "        \n",
              "  <svg xmlns=\"http://www.w3.org/2000/svg\" height=\"24px\"viewBox=\"0 0 24 24\"\n",
              "       width=\"24px\">\n",
              "    <path d=\"M0 0h24v24H0V0z\" fill=\"none\"/>\n",
              "    <path d=\"M18.56 5.44l.94 2.06.94-2.06 2.06-.94-2.06-.94-.94-2.06-.94 2.06-2.06.94zm-11 1L8.5 8.5l.94-2.06 2.06-.94-2.06-.94L8.5 2.5l-.94 2.06-2.06.94zm10 10l.94 2.06.94-2.06 2.06-.94-2.06-.94-.94-2.06-.94 2.06-2.06.94z\"/><path d=\"M17.41 7.96l-1.37-1.37c-.4-.4-.92-.59-1.43-.59-.52 0-1.04.2-1.43.59L10.3 9.45l-7.72 7.72c-.78.78-.78 2.05 0 2.83L4 21.41c.39.39.9.59 1.41.59.51 0 1.02-.2 1.41-.59l7.78-7.78 2.81-2.81c.8-.78.8-2.07 0-2.86zM5.41 20L4 18.59l7.72-7.72 1.47 1.35L5.41 20z\"/>\n",
              "  </svg>\n",
              "      </button>\n",
              "      \n",
              "  <style>\n",
              "    .colab-df-container {\n",
              "      display:flex;\n",
              "      flex-wrap:wrap;\n",
              "      gap: 12px;\n",
              "    }\n",
              "\n",
              "    .colab-df-convert {\n",
              "      background-color: #E8F0FE;\n",
              "      border: none;\n",
              "      border-radius: 50%;\n",
              "      cursor: pointer;\n",
              "      display: none;\n",
              "      fill: #1967D2;\n",
              "      height: 32px;\n",
              "      padding: 0 0 0 0;\n",
              "      width: 32px;\n",
              "    }\n",
              "\n",
              "    .colab-df-convert:hover {\n",
              "      background-color: #E2EBFA;\n",
              "      box-shadow: 0px 1px 2px rgba(60, 64, 67, 0.3), 0px 1px 3px 1px rgba(60, 64, 67, 0.15);\n",
              "      fill: #174EA6;\n",
              "    }\n",
              "\n",
              "    [theme=dark] .colab-df-convert {\n",
              "      background-color: #3B4455;\n",
              "      fill: #D2E3FC;\n",
              "    }\n",
              "\n",
              "    [theme=dark] .colab-df-convert:hover {\n",
              "      background-color: #434B5C;\n",
              "      box-shadow: 0px 1px 3px 1px rgba(0, 0, 0, 0.15);\n",
              "      filter: drop-shadow(0px 1px 2px rgba(0, 0, 0, 0.3));\n",
              "      fill: #FFFFFF;\n",
              "    }\n",
              "  </style>\n",
              "\n",
              "      <script>\n",
              "        const buttonEl =\n",
              "          document.querySelector('#df-760eeede-51fc-43d3-ab48-6455c62bb437 button.colab-df-convert');\n",
              "        buttonEl.style.display =\n",
              "          google.colab.kernel.accessAllowed ? 'block' : 'none';\n",
              "\n",
              "        async function convertToInteractive(key) {\n",
              "          const element = document.querySelector('#df-760eeede-51fc-43d3-ab48-6455c62bb437');\n",
              "          const dataTable =\n",
              "            await google.colab.kernel.invokeFunction('convertToInteractive',\n",
              "                                                     [key], {});\n",
              "          if (!dataTable) return;\n",
              "\n",
              "          const docLinkHtml = 'Like what you see? Visit the ' +\n",
              "            '<a target=\"_blank\" href=https://colab.research.google.com/notebooks/data_table.ipynb>data table notebook</a>'\n",
              "            + ' to learn more about interactive tables.';\n",
              "          element.innerHTML = '';\n",
              "          dataTable['output_type'] = 'display_data';\n",
              "          await google.colab.output.renderOutput(dataTable, element);\n",
              "          const docLink = document.createElement('div');\n",
              "          docLink.innerHTML = docLinkHtml;\n",
              "          element.appendChild(docLink);\n",
              "        }\n",
              "      </script>\n",
              "    </div>\n",
              "  </div>\n",
              "  "
            ]
          },
          "metadata": {},
          "execution_count": 173
        }
      ]
    },
    {
      "cell_type": "code",
      "source": [
        "# визуализируем данные сравнительной таблицы\n",
        "\n",
        "plt.figure(figsize=(10, 10))\n",
        "for item in range(len(model_list)):\n",
        "  plt.plot(range(compare_table.shape[0]), compare_table[model_name_list[item]], label=model_name_list[item], linewidth=3)\n",
        "  plt.legend()\n",
        "  plt.title('Test Accuracy of different models')\n",
        "  plt.xlabel('Epochs')\n",
        "  plt.ylabel('Accuracy')\n",
        "plt.show()"
      ],
      "metadata": {
        "colab": {
          "base_uri": "https://localhost:8080/",
          "height": 621
        },
        "id": "NLNGxaFgyD0J",
        "outputId": "9ff4e209-b10c-4f4e-e6bb-e914f83b3514"
      },
      "execution_count": 177,
      "outputs": [
        {
          "output_type": "display_data",
          "data": {
            "text/plain": [
              "<Figure size 720x720 with 1 Axes>"
            ],
            "image/png": "[encoded data removed]"
          },
          "metadata": {
            "needs_background": "light"
          }
        }
      ]
    },
    {
      "cell_type": "markdown",
      "source": [
        "### **ВЫВОД:**\n",
        "\n",
        "Наибольшую точность на тестовой выборке показали модели CNN, LSTM и GRU, ~ $0.92$. При этом модель LSTM быстрее всех достигла такой точности. Совмещенные модели (свертка + реккурентный слой и наоборот) не смогли превысить данное значение. Хуже всех обучалась простая RNN."
      ],
      "metadata": {
        "id": "urXnvQI2c-9U"
      }
    },
    {
      "cell_type": "code",
      "source": [
        "# score = model.evaluate(X_test_arr, y_test_c, batch_size=BATCH_SIZE, verbose=1)\n",
        "# print('\\n')\n",
        "# print('Test loss:', score[0])\n",
        "# print('Test accuracy:', score[1])\n",
        "\n",
        "# results = model.predict(X_test_arr, batch_size=BATCH_SIZE, verbose=1)"
      ],
      "metadata": {
        "id": "3-kbdETsl8rJ"
      },
      "execution_count": 120,
      "outputs": []
    }
  ]
}