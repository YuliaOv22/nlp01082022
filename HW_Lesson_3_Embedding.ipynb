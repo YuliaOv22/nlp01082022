{
  "nbformat": 4,
  "nbformat_minor": 0,
  "metadata": {
    "colab": {
      "name": "HW_Lesson_3_Embedding.ipynb",
      "provenance": [],
      "collapsed_sections": []
    },
    "kernelspec": {
      "name": "python3",
      "display_name": "Python 3"
    },
    "language_info": {
      "name": "python"
    },
    "widgets": {
      "application/vnd.jupyter.widget-state+json": {
        "e47184fa508b4f938e54e3243db60598": {
          "model_module": "@jupyter-widgets/controls",
          "model_name": "HBoxModel",
          "model_module_version": "1.5.0",
          "state": {
            "_dom_classes": [],
            "_model_module": "@jupyter-widgets/controls",
            "_model_module_version": "1.5.0",
            "_model_name": "HBoxModel",
            "_view_count": null,
            "_view_module": "@jupyter-widgets/controls",
            "_view_module_version": "1.5.0",
            "_view_name": "HBoxView",
            "box_style": "",
            "children": [
              "IPY_MODEL_78cc25fd96714150bad80a37492f2ed9",
              "IPY_MODEL_f5e7fe78ecdd4f99aecdcbc3352bac92",
              "IPY_MODEL_954393e1403b4d00bb60c8608dac397a"
            ],
            "layout": "IPY_MODEL_328f36c9dcec4802a7f916199a18c5ab"
          }
        },
        "78cc25fd96714150bad80a37492f2ed9": {
          "model_module": "@jupyter-widgets/controls",
          "model_name": "HTMLModel",
          "model_module_version": "1.5.0",
          "state": {
            "_dom_classes": [],
            "_model_module": "@jupyter-widgets/controls",
            "_model_module_version": "1.5.0",
            "_model_name": "HTMLModel",
            "_view_count": null,
            "_view_module": "@jupyter-widgets/controls",
            "_view_module_version": "1.5.0",
            "_view_name": "HTMLView",
            "description": "",
            "description_tooltip": null,
            "layout": "IPY_MODEL_c839fd372ebe48848694392d69dd49aa",
            "placeholder": "​",
            "style": "IPY_MODEL_1dbce5c9a0a949d7b47309d7bd74ae1e",
            "value": "100%"
          }
        },
        "f5e7fe78ecdd4f99aecdcbc3352bac92": {
          "model_module": "@jupyter-widgets/controls",
          "model_name": "FloatProgressModel",
          "model_module_version": "1.5.0",
          "state": {
            "_dom_classes": [],
            "_model_module": "@jupyter-widgets/controls",
            "_model_module_version": "1.5.0",
            "_model_name": "FloatProgressModel",
            "_view_count": null,
            "_view_module": "@jupyter-widgets/controls",
            "_view_module_version": "1.5.0",
            "_view_name": "ProgressView",
            "bar_style": "danger",
            "description": "",
            "description_tooltip": null,
            "layout": "IPY_MODEL_5c0fb6c686ae4f7ca734f1d9c178e7af",
            "max": 10001,
            "min": 0,
            "orientation": "horizontal",
            "style": "IPY_MODEL_911b6973961b4ed19779012acdcdca65",
            "value": 10000
          }
        },
        "954393e1403b4d00bb60c8608dac397a": {
          "model_module": "@jupyter-widgets/controls",
          "model_name": "HTMLModel",
          "model_module_version": "1.5.0",
          "state": {
            "_dom_classes": [],
            "_model_module": "@jupyter-widgets/controls",
            "_model_module_version": "1.5.0",
            "_model_name": "HTMLModel",
            "_view_count": null,
            "_view_module": "@jupyter-widgets/controls",
            "_view_module_version": "1.5.0",
            "_view_name": "HTMLView",
            "description": "",
            "description_tooltip": null,
            "layout": "IPY_MODEL_292f08bf441a4b7d9ed29ae773be1ecc",
            "placeholder": "​",
            "style": "IPY_MODEL_b62ad199bcf049fea311d72472477c91",
            "value": " 10000/10001 [16:15&lt;00:00, 10.21it/s]"
          }
        },
        "328f36c9dcec4802a7f916199a18c5ab": {
          "model_module": "@jupyter-widgets/base",
          "model_name": "LayoutModel",
          "model_module_version": "1.2.0",
          "state": {
            "_model_module": "@jupyter-widgets/base",
            "_model_module_version": "1.2.0",
            "_model_name": "LayoutModel",
            "_view_count": null,
            "_view_module": "@jupyter-widgets/base",
            "_view_module_version": "1.2.0",
            "_view_name": "LayoutView",
            "align_content": null,
            "align_items": null,
            "align_self": null,
            "border": null,
            "bottom": null,
            "display": null,
            "flex": null,
            "flex_flow": null,
            "grid_area": null,
            "grid_auto_columns": null,
            "grid_auto_flow": null,
            "grid_auto_rows": null,
            "grid_column": null,
            "grid_gap": null,
            "grid_row": null,
            "grid_template_areas": null,
            "grid_template_columns": null,
            "grid_template_rows": null,
            "height": null,
            "justify_content": null,
            "justify_items": null,
            "left": null,
            "margin": null,
            "max_height": null,
            "max_width": null,
            "min_height": null,
            "min_width": null,
            "object_fit": null,
            "object_position": null,
            "order": null,
            "overflow": null,
            "overflow_x": null,
            "overflow_y": null,
            "padding": null,
            "right": null,
            "top": null,
            "visibility": null,
            "width": null
          }
        },
        "c839fd372ebe48848694392d69dd49aa": {
          "model_module": "@jupyter-widgets/base",
          "model_name": "LayoutModel",
          "model_module_version": "1.2.0",
          "state": {
            "_model_module": "@jupyter-widgets/base",
            "_model_module_version": "1.2.0",
            "_model_name": "LayoutModel",
            "_view_count": null,
            "_view_module": "@jupyter-widgets/base",
            "_view_module_version": "1.2.0",
            "_view_name": "LayoutView",
            "align_content": null,
            "align_items": null,
            "align_self": null,
            "border": null,
            "bottom": null,
            "display": null,
            "flex": null,
            "flex_flow": null,
            "grid_area": null,
            "grid_auto_columns": null,
            "grid_auto_flow": null,
            "grid_auto_rows": null,
            "grid_column": null,
            "grid_gap": null,
            "grid_row": null,
            "grid_template_areas": null,
            "grid_template_columns": null,
            "grid_template_rows": null,
            "height": null,
            "justify_content": null,
            "justify_items": null,
            "left": null,
            "margin": null,
            "max_height": null,
            "max_width": null,
            "min_height": null,
            "min_width": null,
            "object_fit": null,
            "object_position": null,
            "order": null,
            "overflow": null,
            "overflow_x": null,
            "overflow_y": null,
            "padding": null,
            "right": null,
            "top": null,
            "visibility": null,
            "width": null
          }
        },
        "1dbce5c9a0a949d7b47309d7bd74ae1e": {
          "model_module": "@jupyter-widgets/controls",
          "model_name": "DescriptionStyleModel",
          "model_module_version": "1.5.0",
          "state": {
            "_model_module": "@jupyter-widgets/controls",
            "_model_module_version": "1.5.0",
            "_model_name": "DescriptionStyleModel",
            "_view_count": null,
            "_view_module": "@jupyter-widgets/base",
            "_view_module_version": "1.2.0",
            "_view_name": "StyleView",
            "description_width": ""
          }
        },
        "5c0fb6c686ae4f7ca734f1d9c178e7af": {
          "model_module": "@jupyter-widgets/base",
          "model_name": "LayoutModel",
          "model_module_version": "1.2.0",
          "state": {
            "_model_module": "@jupyter-widgets/base",
            "_model_module_version": "1.2.0",
            "_model_name": "LayoutModel",
            "_view_count": null,
            "_view_module": "@jupyter-widgets/base",
            "_view_module_version": "1.2.0",
            "_view_name": "LayoutView",
            "align_content": null,
            "align_items": null,
            "align_self": null,
            "border": null,
            "bottom": null,
            "display": null,
            "flex": null,
            "flex_flow": null,
            "grid_area": null,
            "grid_auto_columns": null,
            "grid_auto_flow": null,
            "grid_auto_rows": null,
            "grid_column": null,
            "grid_gap": null,
            "grid_row": null,
            "grid_template_areas": null,
            "grid_template_columns": null,
            "grid_template_rows": null,
            "height": null,
            "justify_content": null,
            "justify_items": null,
            "left": null,
            "margin": null,
            "max_height": null,
            "max_width": null,
            "min_height": null,
            "min_width": null,
            "object_fit": null,
            "object_position": null,
            "order": null,
            "overflow": null,
            "overflow_x": null,
            "overflow_y": null,
            "padding": null,
            "right": null,
            "top": null,
            "visibility": null,
            "width": null
          }
        },
        "911b6973961b4ed19779012acdcdca65": {
          "model_module": "@jupyter-widgets/controls",
          "model_name": "ProgressStyleModel",
          "model_module_version": "1.5.0",
          "state": {
            "_model_module": "@jupyter-widgets/controls",
            "_model_module_version": "1.5.0",
            "_model_name": "ProgressStyleModel",
            "_view_count": null,
            "_view_module": "@jupyter-widgets/base",
            "_view_module_version": "1.2.0",
            "_view_name": "StyleView",
            "bar_color": null,
            "description_width": ""
          }
        },
        "292f08bf441a4b7d9ed29ae773be1ecc": {
          "model_module": "@jupyter-widgets/base",
          "model_name": "LayoutModel",
          "model_module_version": "1.2.0",
          "state": {
            "_model_module": "@jupyter-widgets/base",
            "_model_module_version": "1.2.0",
            "_model_name": "LayoutModel",
            "_view_count": null,
            "_view_module": "@jupyter-widgets/base",
            "_view_module_version": "1.2.0",
            "_view_name": "LayoutView",
            "align_content": null,
            "align_items": null,
            "align_self": null,
            "border": null,
            "bottom": null,
            "display": null,
            "flex": null,
            "flex_flow": null,
            "grid_area": null,
            "grid_auto_columns": null,
            "grid_auto_flow": null,
            "grid_auto_rows": null,
            "grid_column": null,
            "grid_gap": null,
            "grid_row": null,
            "grid_template_areas": null,
            "grid_template_columns": null,
            "grid_template_rows": null,
            "height": null,
            "justify_content": null,
            "justify_items": null,
            "left": null,
            "margin": null,
            "max_height": null,
            "max_width": null,
            "min_height": null,
            "min_width": null,
            "object_fit": null,
            "object_position": null,
            "order": null,
            "overflow": null,
            "overflow_x": null,
            "overflow_y": null,
            "padding": null,
            "right": null,
            "top": null,
            "visibility": null,
            "width": null
          }
        },
        "b62ad199bcf049fea311d72472477c91": {
          "model_module": "@jupyter-widgets/controls",
          "model_name": "DescriptionStyleModel",
          "model_module_version": "1.5.0",
          "state": {
            "_model_module": "@jupyter-widgets/controls",
            "_model_module_version": "1.5.0",
            "_model_name": "DescriptionStyleModel",
            "_view_count": null,
            "_view_module": "@jupyter-widgets/base",
            "_view_module_version": "1.2.0",
            "_view_name": "StyleView",
            "description_width": ""
          }
        },
        "693b405af2a449ae9b9e7064f7251663": {
          "model_module": "@jupyter-widgets/controls",
          "model_name": "HBoxModel",
          "model_module_version": "1.5.0",
          "state": {
            "_dom_classes": [],
            "_model_module": "@jupyter-widgets/controls",
            "_model_module_version": "1.5.0",
            "_model_name": "HBoxModel",
            "_view_count": null,
            "_view_module": "@jupyter-widgets/controls",
            "_view_module_version": "1.5.0",
            "_view_name": "HBoxView",
            "box_style": "",
            "children": [
              "IPY_MODEL_da479568586d471b8d237fd7d6df3380",
              "IPY_MODEL_5b4cc1b719134be188a58f5eee5d8282",
              "IPY_MODEL_beb60eebb4d6439b9ac9b30c6245fcde"
            ],
            "layout": "IPY_MODEL_f4e02645be344b1b9498ea0f9da034f2"
          }
        },
        "da479568586d471b8d237fd7d6df3380": {
          "model_module": "@jupyter-widgets/controls",
          "model_name": "HTMLModel",
          "model_module_version": "1.5.0",
          "state": {
            "_dom_classes": [],
            "_model_module": "@jupyter-widgets/controls",
            "_model_module_version": "1.5.0",
            "_model_name": "HTMLModel",
            "_view_count": null,
            "_view_module": "@jupyter-widgets/controls",
            "_view_module_version": "1.5.0",
            "_view_name": "HTMLView",
            "description": "",
            "description_tooltip": null,
            "layout": "IPY_MODEL_8dd4bfb6e0084191b51ee86694f6bdb4",
            "placeholder": "​",
            "style": "IPY_MODEL_ec334704b0414375897f5b8f9fa5270c",
            "value": " 16%"
          }
        },
        "5b4cc1b719134be188a58f5eee5d8282": {
          "model_module": "@jupyter-widgets/controls",
          "model_name": "FloatProgressModel",
          "model_module_version": "1.5.0",
          "state": {
            "_dom_classes": [],
            "_model_module": "@jupyter-widgets/controls",
            "_model_module_version": "1.5.0",
            "_model_name": "FloatProgressModel",
            "_view_count": null,
            "_view_module": "@jupyter-widgets/controls",
            "_view_module_version": "1.5.0",
            "_view_name": "ProgressView",
            "bar_style": "danger",
            "description": "",
            "description_tooltip": null,
            "layout": "IPY_MODEL_37d00023c8ed4da6a7879021847ec7e5",
            "max": 60964,
            "min": 0,
            "orientation": "horizontal",
            "style": "IPY_MODEL_9b11e6910fe54aa19ecaa526e4ce086d",
            "value": 10000
          }
        },
        "beb60eebb4d6439b9ac9b30c6245fcde": {
          "model_module": "@jupyter-widgets/controls",
          "model_name": "HTMLModel",
          "model_module_version": "1.5.0",
          "state": {
            "_dom_classes": [],
            "_model_module": "@jupyter-widgets/controls",
            "_model_module_version": "1.5.0",
            "_model_name": "HTMLModel",
            "_view_count": null,
            "_view_module": "@jupyter-widgets/controls",
            "_view_module_version": "1.5.0",
            "_view_name": "HTMLView",
            "description": "",
            "description_tooltip": null,
            "layout": "IPY_MODEL_4406158e4fed4bc9ac13781c0ea9394b",
            "placeholder": "​",
            "style": "IPY_MODEL_d93e5556dce9415482dc48505783d28e",
            "value": " 10000/60964 [00:00&lt;00:00, 65466.94it/s]"
          }
        },
        "f4e02645be344b1b9498ea0f9da034f2": {
          "model_module": "@jupyter-widgets/base",
          "model_name": "LayoutModel",
          "model_module_version": "1.2.0",
          "state": {
            "_model_module": "@jupyter-widgets/base",
            "_model_module_version": "1.2.0",
            "_model_name": "LayoutModel",
            "_view_count": null,
            "_view_module": "@jupyter-widgets/base",
            "_view_module_version": "1.2.0",
            "_view_name": "LayoutView",
            "align_content": null,
            "align_items": null,
            "align_self": null,
            "border": null,
            "bottom": null,
            "display": null,
            "flex": null,
            "flex_flow": null,
            "grid_area": null,
            "grid_auto_columns": null,
            "grid_auto_flow": null,
            "grid_auto_rows": null,
            "grid_column": null,
            "grid_gap": null,
            "grid_row": null,
            "grid_template_areas": null,
            "grid_template_columns": null,
            "grid_template_rows": null,
            "height": null,
            "justify_content": null,
            "justify_items": null,
            "left": null,
            "margin": null,
            "max_height": null,
            "max_width": null,
            "min_height": null,
            "min_width": null,
            "object_fit": null,
            "object_position": null,
            "order": null,
            "overflow": null,
            "overflow_x": null,
            "overflow_y": null,
            "padding": null,
            "right": null,
            "top": null,
            "visibility": null,
            "width": null
          }
        },
        "8dd4bfb6e0084191b51ee86694f6bdb4": {
          "model_module": "@jupyter-widgets/base",
          "model_name": "LayoutModel",
          "model_module_version": "1.2.0",
          "state": {
            "_model_module": "@jupyter-widgets/base",
            "_model_module_version": "1.2.0",
            "_model_name": "LayoutModel",
            "_view_count": null,
            "_view_module": "@jupyter-widgets/base",
            "_view_module_version": "1.2.0",
            "_view_name": "LayoutView",
            "align_content": null,
            "align_items": null,
            "align_self": null,
            "border": null,
            "bottom": null,
            "display": null,
            "flex": null,
            "flex_flow": null,
            "grid_area": null,
            "grid_auto_columns": null,
            "grid_auto_flow": null,
            "grid_auto_rows": null,
            "grid_column": null,
            "grid_gap": null,
            "grid_row": null,
            "grid_template_areas": null,
            "grid_template_columns": null,
            "grid_template_rows": null,
            "height": null,
            "justify_content": null,
            "justify_items": null,
            "left": null,
            "margin": null,
            "max_height": null,
            "max_width": null,
            "min_height": null,
            "min_width": null,
            "object_fit": null,
            "object_position": null,
            "order": null,
            "overflow": null,
            "overflow_x": null,
            "overflow_y": null,
            "padding": null,
            "right": null,
            "top": null,
            "visibility": null,
            "width": null
          }
        },
        "ec334704b0414375897f5b8f9fa5270c": {
          "model_module": "@jupyter-widgets/controls",
          "model_name": "DescriptionStyleModel",
          "model_module_version": "1.5.0",
          "state": {
            "_model_module": "@jupyter-widgets/controls",
            "_model_module_version": "1.5.0",
            "_model_name": "DescriptionStyleModel",
            "_view_count": null,
            "_view_module": "@jupyter-widgets/base",
            "_view_module_version": "1.2.0",
            "_view_name": "StyleView",
            "description_width": ""
          }
        },
        "37d00023c8ed4da6a7879021847ec7e5": {
          "model_module": "@jupyter-widgets/base",
          "model_name": "LayoutModel",
          "model_module_version": "1.2.0",
          "state": {
            "_model_module": "@jupyter-widgets/base",
            "_model_module_version": "1.2.0",
            "_model_name": "LayoutModel",
            "_view_count": null,
            "_view_module": "@jupyter-widgets/base",
            "_view_module_version": "1.2.0",
            "_view_name": "LayoutView",
            "align_content": null,
            "align_items": null,
            "align_self": null,
            "border": null,
            "bottom": null,
            "display": null,
            "flex": null,
            "flex_flow": null,
            "grid_area": null,
            "grid_auto_columns": null,
            "grid_auto_flow": null,
            "grid_auto_rows": null,
            "grid_column": null,
            "grid_gap": null,
            "grid_row": null,
            "grid_template_areas": null,
            "grid_template_columns": null,
            "grid_template_rows": null,
            "height": null,
            "justify_content": null,
            "justify_items": null,
            "left": null,
            "margin": null,
            "max_height": null,
            "max_width": null,
            "min_height": null,
            "min_width": null,
            "object_fit": null,
            "object_position": null,
            "order": null,
            "overflow": null,
            "overflow_x": null,
            "overflow_y": null,
            "padding": null,
            "right": null,
            "top": null,
            "visibility": null,
            "width": null
          }
        },
        "9b11e6910fe54aa19ecaa526e4ce086d": {
          "model_module": "@jupyter-widgets/controls",
          "model_name": "ProgressStyleModel",
          "model_module_version": "1.5.0",
          "state": {
            "_model_module": "@jupyter-widgets/controls",
            "_model_module_version": "1.5.0",
            "_model_name": "ProgressStyleModel",
            "_view_count": null,
            "_view_module": "@jupyter-widgets/base",
            "_view_module_version": "1.2.0",
            "_view_name": "StyleView",
            "bar_color": null,
            "description_width": ""
          }
        },
        "4406158e4fed4bc9ac13781c0ea9394b": {
          "model_module": "@jupyter-widgets/base",
          "model_name": "LayoutModel",
          "model_module_version": "1.2.0",
          "state": {
            "_model_module": "@jupyter-widgets/base",
            "_model_module_version": "1.2.0",
            "_model_name": "LayoutModel",
            "_view_count": null,
            "_view_module": "@jupyter-widgets/base",
            "_view_module_version": "1.2.0",
            "_view_name": "LayoutView",
            "align_content": null,
            "align_items": null,
            "align_self": null,
            "border": null,
            "bottom": null,
            "display": null,
            "flex": null,
            "flex_flow": null,
            "grid_area": null,
            "grid_auto_columns": null,
            "grid_auto_flow": null,
            "grid_auto_rows": null,
            "grid_column": null,
            "grid_gap": null,
            "grid_row": null,
            "grid_template_areas": null,
            "grid_template_columns": null,
            "grid_template_rows": null,
            "height": null,
            "justify_content": null,
            "justify_items": null,
            "left": null,
            "margin": null,
            "max_height": null,
            "max_width": null,
            "min_height": null,
            "min_width": null,
            "object_fit": null,
            "object_position": null,
            "order": null,
            "overflow": null,
            "overflow_x": null,
            "overflow_y": null,
            "padding": null,
            "right": null,
            "top": null,
            "visibility": null,
            "width": null
          }
        },
        "d93e5556dce9415482dc48505783d28e": {
          "model_module": "@jupyter-widgets/controls",
          "model_name": "DescriptionStyleModel",
          "model_module_version": "1.5.0",
          "state": {
            "_model_module": "@jupyter-widgets/controls",
            "_model_module_version": "1.5.0",
            "_model_name": "DescriptionStyleModel",
            "_view_count": null,
            "_view_module": "@jupyter-widgets/base",
            "_view_module_version": "1.2.0",
            "_view_name": "StyleView",
            "description_width": ""
          }
        },
        "34502b3508004427893c734e56d1928a": {
          "model_module": "@jupyter-widgets/controls",
          "model_name": "HBoxModel",
          "model_module_version": "1.5.0",
          "state": {
            "_dom_classes": [],
            "_model_module": "@jupyter-widgets/controls",
            "_model_module_version": "1.5.0",
            "_model_name": "HBoxModel",
            "_view_count": null,
            "_view_module": "@jupyter-widgets/controls",
            "_view_module_version": "1.5.0",
            "_view_name": "HBoxView",
            "box_style": "",
            "children": [
              "IPY_MODEL_e80b7b33c7ad4bd29081379f95272498",
              "IPY_MODEL_01e290c18bf443319098cdea89527b31",
              "IPY_MODEL_d06a936a6d65495dbca75a3b6830e913"
            ],
            "layout": "IPY_MODEL_4d2e923b50684efb93126264a4f78646"
          }
        },
        "e80b7b33c7ad4bd29081379f95272498": {
          "model_module": "@jupyter-widgets/controls",
          "model_name": "HTMLModel",
          "model_module_version": "1.5.0",
          "state": {
            "_dom_classes": [],
            "_model_module": "@jupyter-widgets/controls",
            "_model_module_version": "1.5.0",
            "_model_name": "HTMLModel",
            "_view_count": null,
            "_view_module": "@jupyter-widgets/controls",
            "_view_module_version": "1.5.0",
            "_view_name": "HTMLView",
            "description": "",
            "description_tooltip": null,
            "layout": "IPY_MODEL_0e7cfb6c1a7b456bbfdf1e243bd953da",
            "placeholder": "​",
            "style": "IPY_MODEL_fddb4b78389c4cbd98d5e38666fd4fc3",
            "value": "100%"
          }
        },
        "01e290c18bf443319098cdea89527b31": {
          "model_module": "@jupyter-widgets/controls",
          "model_name": "FloatProgressModel",
          "model_module_version": "1.5.0",
          "state": {
            "_dom_classes": [],
            "_model_module": "@jupyter-widgets/controls",
            "_model_module_version": "1.5.0",
            "_model_name": "FloatProgressModel",
            "_view_count": null,
            "_view_module": "@jupyter-widgets/controls",
            "_view_module_version": "1.5.0",
            "_view_name": "ProgressView",
            "bar_style": "success",
            "description": "",
            "description_tooltip": null,
            "layout": "IPY_MODEL_08716903ed3c4b92a8ba87426389d6a4",
            "max": 10001,
            "min": 0,
            "orientation": "horizontal",
            "style": "IPY_MODEL_c70d4f0097204649a35c29ee9a5b9b07",
            "value": 10001
          }
        },
        "d06a936a6d65495dbca75a3b6830e913": {
          "model_module": "@jupyter-widgets/controls",
          "model_name": "HTMLModel",
          "model_module_version": "1.5.0",
          "state": {
            "_dom_classes": [],
            "_model_module": "@jupyter-widgets/controls",
            "_model_module_version": "1.5.0",
            "_model_name": "HTMLModel",
            "_view_count": null,
            "_view_module": "@jupyter-widgets/controls",
            "_view_module_version": "1.5.0",
            "_view_name": "HTMLView",
            "description": "",
            "description_tooltip": null,
            "layout": "IPY_MODEL_7f070ccefa1446338cee549364f78b6d",
            "placeholder": "​",
            "style": "IPY_MODEL_8ca38856fb854b47869a857d0df60a0b",
            "value": " 10001/10001 [14:51&lt;00:00, 11.29it/s]"
          }
        },
        "4d2e923b50684efb93126264a4f78646": {
          "model_module": "@jupyter-widgets/base",
          "model_name": "LayoutModel",
          "model_module_version": "1.2.0",
          "state": {
            "_model_module": "@jupyter-widgets/base",
            "_model_module_version": "1.2.0",
            "_model_name": "LayoutModel",
            "_view_count": null,
            "_view_module": "@jupyter-widgets/base",
            "_view_module_version": "1.2.0",
            "_view_name": "LayoutView",
            "align_content": null,
            "align_items": null,
            "align_self": null,
            "border": null,
            "bottom": null,
            "display": null,
            "flex": null,
            "flex_flow": null,
            "grid_area": null,
            "grid_auto_columns": null,
            "grid_auto_flow": null,
            "grid_auto_rows": null,
            "grid_column": null,
            "grid_gap": null,
            "grid_row": null,
            "grid_template_areas": null,
            "grid_template_columns": null,
            "grid_template_rows": null,
            "height": null,
            "justify_content": null,
            "justify_items": null,
            "left": null,
            "margin": null,
            "max_height": null,
            "max_width": null,
            "min_height": null,
            "min_width": null,
            "object_fit": null,
            "object_position": null,
            "order": null,
            "overflow": null,
            "overflow_x": null,
            "overflow_y": null,
            "padding": null,
            "right": null,
            "top": null,
            "visibility": null,
            "width": null
          }
        },
        "0e7cfb6c1a7b456bbfdf1e243bd953da": {
          "model_module": "@jupyter-widgets/base",
          "model_name": "LayoutModel",
          "model_module_version": "1.2.0",
          "state": {
            "_model_module": "@jupyter-widgets/base",
            "_model_module_version": "1.2.0",
            "_model_name": "LayoutModel",
            "_view_count": null,
            "_view_module": "@jupyter-widgets/base",
            "_view_module_version": "1.2.0",
            "_view_name": "LayoutView",
            "align_content": null,
            "align_items": null,
            "align_self": null,
            "border": null,
            "bottom": null,
            "display": null,
            "flex": null,
            "flex_flow": null,
            "grid_area": null,
            "grid_auto_columns": null,
            "grid_auto_flow": null,
            "grid_auto_rows": null,
            "grid_column": null,
            "grid_gap": null,
            "grid_row": null,
            "grid_template_areas": null,
            "grid_template_columns": null,
            "grid_template_rows": null,
            "height": null,
            "justify_content": null,
            "justify_items": null,
            "left": null,
            "margin": null,
            "max_height": null,
            "max_width": null,
            "min_height": null,
            "min_width": null,
            "object_fit": null,
            "object_position": null,
            "order": null,
            "overflow": null,
            "overflow_x": null,
            "overflow_y": null,
            "padding": null,
            "right": null,
            "top": null,
            "visibility": null,
            "width": null
          }
        },
        "fddb4b78389c4cbd98d5e38666fd4fc3": {
          "model_module": "@jupyter-widgets/controls",
          "model_name": "DescriptionStyleModel",
          "model_module_version": "1.5.0",
          "state": {
            "_model_module": "@jupyter-widgets/controls",
            "_model_module_version": "1.5.0",
            "_model_name": "DescriptionStyleModel",
            "_view_count": null,
            "_view_module": "@jupyter-widgets/base",
            "_view_module_version": "1.2.0",
            "_view_name": "StyleView",
            "description_width": ""
          }
        },
        "08716903ed3c4b92a8ba87426389d6a4": {
          "model_module": "@jupyter-widgets/base",
          "model_name": "LayoutModel",
          "model_module_version": "1.2.0",
          "state": {
            "_model_module": "@jupyter-widgets/base",
            "_model_module_version": "1.2.0",
            "_model_name": "LayoutModel",
            "_view_count": null,
            "_view_module": "@jupyter-widgets/base",
            "_view_module_version": "1.2.0",
            "_view_name": "LayoutView",
            "align_content": null,
            "align_items": null,
            "align_self": null,
            "border": null,
            "bottom": null,
            "display": null,
            "flex": null,
            "flex_flow": null,
            "grid_area": null,
            "grid_auto_columns": null,
            "grid_auto_flow": null,
            "grid_auto_rows": null,
            "grid_column": null,
            "grid_gap": null,
            "grid_row": null,
            "grid_template_areas": null,
            "grid_template_columns": null,
            "grid_template_rows": null,
            "height": null,
            "justify_content": null,
            "justify_items": null,
            "left": null,
            "margin": null,
            "max_height": null,
            "max_width": null,
            "min_height": null,
            "min_width": null,
            "object_fit": null,
            "object_position": null,
            "order": null,
            "overflow": null,
            "overflow_x": null,
            "overflow_y": null,
            "padding": null,
            "right": null,
            "top": null,
            "visibility": null,
            "width": null
          }
        },
        "c70d4f0097204649a35c29ee9a5b9b07": {
          "model_module": "@jupyter-widgets/controls",
          "model_name": "ProgressStyleModel",
          "model_module_version": "1.5.0",
          "state": {
            "_model_module": "@jupyter-widgets/controls",
            "_model_module_version": "1.5.0",
            "_model_name": "ProgressStyleModel",
            "_view_count": null,
            "_view_module": "@jupyter-widgets/base",
            "_view_module_version": "1.2.0",
            "_view_name": "StyleView",
            "bar_color": null,
            "description_width": ""
          }
        },
        "7f070ccefa1446338cee549364f78b6d": {
          "model_module": "@jupyter-widgets/base",
          "model_name": "LayoutModel",
          "model_module_version": "1.2.0",
          "state": {
            "_model_module": "@jupyter-widgets/base",
            "_model_module_version": "1.2.0",
            "_model_name": "LayoutModel",
            "_view_count": null,
            "_view_module": "@jupyter-widgets/base",
            "_view_module_version": "1.2.0",
            "_view_name": "LayoutView",
            "align_content": null,
            "align_items": null,
            "align_self": null,
            "border": null,
            "bottom": null,
            "display": null,
            "flex": null,
            "flex_flow": null,
            "grid_area": null,
            "grid_auto_columns": null,
            "grid_auto_flow": null,
            "grid_auto_rows": null,
            "grid_column": null,
            "grid_gap": null,
            "grid_row": null,
            "grid_template_areas": null,
            "grid_template_columns": null,
            "grid_template_rows": null,
            "height": null,
            "justify_content": null,
            "justify_items": null,
            "left": null,
            "margin": null,
            "max_height": null,
            "max_width": null,
            "min_height": null,
            "min_width": null,
            "object_fit": null,
            "object_position": null,
            "order": null,
            "overflow": null,
            "overflow_x": null,
            "overflow_y": null,
            "padding": null,
            "right": null,
            "top": null,
            "visibility": null,
            "width": null
          }
        },
        "8ca38856fb854b47869a857d0df60a0b": {
          "model_module": "@jupyter-widgets/controls",
          "model_name": "DescriptionStyleModel",
          "model_module_version": "1.5.0",
          "state": {
            "_model_module": "@jupyter-widgets/controls",
            "_model_module_version": "1.5.0",
            "_model_name": "DescriptionStyleModel",
            "_view_count": null,
            "_view_module": "@jupyter-widgets/base",
            "_view_module_version": "1.2.0",
            "_view_name": "StyleView",
            "description_width": ""
          }
        }
      }
    }
  },
  "cells": [
    {
      "cell_type": "markdown",
      "source": [
        "### **ПРАКТИЧЕСКОЕ ЗАДАНИЕ**"
      ],
      "metadata": {
        "id": "CDUmDnzVxCDq"
      }
    },
    {
      "cell_type": "markdown",
      "source": [
        "**Задача: Поиск похожих по эмбеддингам.**"
      ],
      "metadata": {
        "id": "bejCs64Zw5Jb"
      }
    },
    {
      "cell_type": "code",
      "source": [
        "# # Скачиваем датасет\n",
        "\n",
        "# !wget https://github.com/ods-ai-ml4sg/proj_news_viz/releases/download/data/gazeta.csv.gz\n",
        "# # Или данные можно скачать тут https://github.com/IlyaGusev/gazeta\n",
        "\n",
        "# # пример работы с ним \n",
        "# from corus import load_ods_gazeta\n",
        "# path = 'gazeta.csv.gz'\n",
        "# records = load_ods_gazeta(path)\n",
        "# next(records)"
      ],
      "metadata": {
        "id": "HwJHiKlsw-MI"
      },
      "execution_count": null,
      "outputs": []
    },
    {
      "cell_type": "markdown",
      "source": [
        "На основе word2vec/fasttext реализовать метод поиска ближайших статей (на вход метода должен приходить запрос (какой-то вопрос) и количество вариантов вывода к примеру 5-ть, ваш метод должен возвращать 5-ть ближайших статей к этому запросу).\n",
        "\n",
        "Проверить насколько хорошо работают подходы."
      ],
      "metadata": {
        "id": "UOhGuiy7xR63"
      }
    },
    {
      "cell_type": "code",
      "source": [
        "# импортируем библиотеки\n",
        "\n",
        "import json\n",
        "import string\n",
        "!pip install pymorphy2\n",
        "from pymorphy2 import MorphAnalyzer\n",
        "!pip install stop_words\n",
        "from stop_words import get_stop_words\n",
        "!pip install annoy\n",
        "import annoy\n",
        "from gensim.models import Word2Vec, FastText\n",
        "import pickle\n",
        "import numpy as np\n",
        "from tqdm import tqdm_notebook\n",
        "import warnings\n",
        "warnings.filterwarnings(\"ignore\")\n",
        "import matplotlib.pyplot as plt\n",
        "%matplotlib inline"
      ],
      "metadata": {
        "colab": {
          "base_uri": "https://localhost:8080/"
        },
        "id": "fOWGZYXP95Hg",
        "outputId": "aa786abc-7f3c-409e-d072-1aa75d3dfa4d"
      },
      "execution_count": 2,
      "outputs": [
        {
          "output_type": "stream",
          "name": "stdout",
          "text": [
            "Looking in indexes: https://pypi.org/simple, https://us-python.pkg.dev/colab-wheels/public/simple/\n",
            "Requirement already satisfied: pymorphy2 in /usr/local/lib/python3.7/dist-packages (0.9.1)\n",
            "Requirement already satisfied: dawg-python>=0.7.1 in /usr/local/lib/python3.7/dist-packages (from pymorphy2) (0.7.2)\n",
            "Requirement already satisfied: pymorphy2-dicts-ru<3.0,>=2.4 in /usr/local/lib/python3.7/dist-packages (from pymorphy2) (2.4.417127.4579844)\n",
            "Requirement already satisfied: docopt>=0.6 in /usr/local/lib/python3.7/dist-packages (from pymorphy2) (0.6.2)\n",
            "Looking in indexes: https://pypi.org/simple, https://us-python.pkg.dev/colab-wheels/public/simple/\n",
            "Requirement already satisfied: stop_words in /usr/local/lib/python3.7/dist-packages (2018.7.23)\n",
            "Looking in indexes: https://pypi.org/simple, https://us-python.pkg.dev/colab-wheels/public/simple/\n",
            "Requirement already satisfied: annoy in /usr/local/lib/python3.7/dist-packages (1.17.1)\n"
          ]
        }
      ]
    },
    {
      "cell_type": "code",
      "source": [
        "# дополнительные функции\n",
        "\n",
        "# функция распоковки датасета со статьями\n",
        "def get_datasets(path):\n",
        "  data = []\n",
        "  with open(path, 'r') as r:\n",
        "      for line in r:\n",
        "          data.append(json.loads(line))\n",
        "  data.sort(key=lambda x: x['date'])\n",
        "  return data\n",
        "\n",
        "\n",
        "# функция извлечения названий и основного текста статей\n",
        "def get_text(data):\n",
        "  return [data['title'], data['text']]\n",
        "\n",
        "\n",
        "# функция формирования токенов из текста\n",
        "def get_tokens(data, stop_words=None, morph_analyzer=None):\n",
        "\n",
        "  text = ''.join(i for i in data.strip() if i not in punct).split()  \n",
        "  tokens = [tkn.lower() for tkn in text if tkn not in stop_words]\n",
        "  tokens = [morpher.parse(tkn)[0].normal_form for tkn in tokens if len(tkn) > 1]\n",
        "  return tokens\n",
        "\n",
        "\n",
        "# функция возвращает 5 ближайших статей по запросу\n",
        "def get_response(text, index, model, index_map):\n",
        "    text = get_tokens(text)\n",
        "    vector = np.zeros(300)\n",
        "    norm = 0\n",
        "    for word in text:\n",
        "        if word in model.wv:\n",
        "            vector += model.wv[word]\n",
        "            norm += 1\n",
        "    if norm > 0:\n",
        "        vector = vector / norm\n",
        "    titles = index.get_nns_by_vector(vector, 5, )\n",
        "    return [index_map[i] for i in titles]\n",
        "\n",
        "\n",
        "# функция возвращает текст по названию статьи\n",
        "def read_article(article_name):\n",
        "  for item in range(len(x_train)):\n",
        "    if x_train[item]['title'] == article_name:\n",
        "      return x_train[item]['text']"
      ],
      "metadata": {
        "id": "RbI828ypeZMi"
      },
      "execution_count": 16,
      "outputs": []
    },
    {
      "cell_type": "code",
      "source": [
        "# загрузим статьи\n",
        "\n",
        "!wget https://www.dropbox.com/s/lb50mk5jujjjqbi/gazeta_jsonl_v2.tar.gz\n",
        "!tar -xvzf gazeta_jsonl_v2.tar.gz"
      ],
      "metadata": {
        "id": "6Ay_pMgo5kc0",
        "colab": {
          "base_uri": "https://localhost:8080/"
        },
        "outputId": "efaeb674-c4bf-4120-9d89-7474a7a69756"
      },
      "execution_count": 4,
      "outputs": [
        {
          "output_type": "stream",
          "name": "stdout",
          "text": [
            "--2022-08-27 08:50:25--  https://www.dropbox.com/s/lb50mk5jujjjqbi/gazeta_jsonl_v2.tar.gz\n",
            "Resolving www.dropbox.com (www.dropbox.com)... 162.125.65.18, 2620:100:6022:18::a27d:4212\n",
            "Connecting to www.dropbox.com (www.dropbox.com)|162.125.65.18|:443... connected.\n",
            "HTTP request sent, awaiting response... 301 Moved Permanently\n",
            "Location: /s/raw/lb50mk5jujjjqbi/gazeta_jsonl_v2.tar.gz [following]\n",
            "--2022-08-27 08:50:25--  https://www.dropbox.com/s/raw/lb50mk5jujjjqbi/gazeta_jsonl_v2.tar.gz\n",
            "Reusing existing connection to www.dropbox.com:443.\n",
            "HTTP request sent, awaiting response... 302 Found\n",
            "Location: https://uc95d3a0ef964f5037ed968cdaa0.dl.dropboxusercontent.com/cd/0/inline/Brweqkm4Qno6mN5KrYt1ye0MuvKWMqxPUmSL883eqgQFyFwOOnbRbSJpp6WcClo4aqoBYS3P9ZYprf-179Ke9xSa_n3yfVPqzPLuaUNodHsfN6YAuYg2J8Xju8icUiPbEZaH1r4E9z0FA8HygaMfgzNxPGs0jho7jO9ivTGf6APOrg/file# [following]\n",
            "--2022-08-27 08:50:25--  https://uc95d3a0ef964f5037ed968cdaa0.dl.dropboxusercontent.com/cd/0/inline/Brweqkm4Qno6mN5KrYt1ye0MuvKWMqxPUmSL883eqgQFyFwOOnbRbSJpp6WcClo4aqoBYS3P9ZYprf-179Ke9xSa_n3yfVPqzPLuaUNodHsfN6YAuYg2J8Xju8icUiPbEZaH1r4E9z0FA8HygaMfgzNxPGs0jho7jO9ivTGf6APOrg/file\n",
            "Resolving uc95d3a0ef964f5037ed968cdaa0.dl.dropboxusercontent.com (uc95d3a0ef964f5037ed968cdaa0.dl.dropboxusercontent.com)... 162.125.65.15, 2620:100:6022:15::a27d:420f\n",
            "Connecting to uc95d3a0ef964f5037ed968cdaa0.dl.dropboxusercontent.com (uc95d3a0ef964f5037ed968cdaa0.dl.dropboxusercontent.com)|162.125.65.15|:443... connected.\n",
            "HTTP request sent, awaiting response... 302 Found\n",
            "Location: /cd/0/inline2/BrwPQNEBxb79A5usU1mjB1fVbZ6kyLXFGxLBoEj-95X34EJy_LQ3Q6Ms6J-1zsk8_MJVWJdBFOx1SwvHmnFaxEtd5BFTcemvElp39EgQNEnywlR-IOWY9mcB0ekfl1hDzu9A61okIMVVPWH3iJ4RMht6othPX51mOc-cmGF4RaW4UigFx277nT5bJGWcIQBs3eAdKIi9_NWGjEwhS6vsrGPEHvTIgbjmd_nM0FQ8JGtLhFhdQGzHecOub9MaBopl5qGY_Usf6u2R48kED8maHRh8NVVi9FMIZmZGWrLQqlmSC5GxqN_g7N1k0g4qivfrVKTTxgeAybIdPWtr1bsZArHR2P6GzU5c578lyyBGJcsin_K7H7Ee8ipWRZzvQc8dMC0aAZhWf7Oyf2UR4m9F0L0LAjXK1HAmQ768DnVSqaP3dQ/file [following]\n",
            "--2022-08-27 08:50:26--  https://uc95d3a0ef964f5037ed968cdaa0.dl.dropboxusercontent.com/cd/0/inline2/BrwPQNEBxb79A5usU1mjB1fVbZ6kyLXFGxLBoEj-95X34EJy_LQ3Q6Ms6J-1zsk8_MJVWJdBFOx1SwvHmnFaxEtd5BFTcemvElp39EgQNEnywlR-IOWY9mcB0ekfl1hDzu9A61okIMVVPWH3iJ4RMht6othPX51mOc-cmGF4RaW4UigFx277nT5bJGWcIQBs3eAdKIi9_NWGjEwhS6vsrGPEHvTIgbjmd_nM0FQ8JGtLhFhdQGzHecOub9MaBopl5qGY_Usf6u2R48kED8maHRh8NVVi9FMIZmZGWrLQqlmSC5GxqN_g7N1k0g4qivfrVKTTxgeAybIdPWtr1bsZArHR2P6GzU5c578lyyBGJcsin_K7H7Ee8ipWRZzvQc8dMC0aAZhWf7Oyf2UR4m9F0L0LAjXK1HAmQ768DnVSqaP3dQ/file\n",
            "Reusing existing connection to uc95d3a0ef964f5037ed968cdaa0.dl.dropboxusercontent.com:443.\n",
            "HTTP request sent, awaiting response... 200 OK\n",
            "Length: 181540606 (173M) [application/octet-stream]\n",
            "Saving to: ‘gazeta_jsonl_v2.tar.gz’\n",
            "\n",
            "gazeta_jsonl_v2.tar 100%[===================>] 173.13M  22.6MB/s    in 7.8s    \n",
            "\n",
            "2022-08-27 08:50:35 (22.2 MB/s) - ‘gazeta_jsonl_v2.tar.gz’ saved [181540606/181540606]\n",
            "\n",
            "gazeta_train.jsonl\n",
            "gazeta_val.jsonl\n",
            "gazeta_test.jsonl\n"
          ]
        }
      ]
    },
    {
      "cell_type": "code",
      "source": [
        "# сформируем датасет\n",
        "\n",
        "train_path = 'gazeta_train.jsonl'\n",
        "# valid_path = 'gazeta_val.jsonl'\n",
        "# test_path = 'gazeta_test.jsonl'\n",
        "\n",
        "x_train = get_datasets(train_path)\n",
        "# x_val = get_datasets(valid_path)\n",
        "# x_test = get_datasets(test_path)\n",
        "\n",
        "print(f'Train length: {len(x_train)}')\n",
        "# print(f'Val length: {len(x_val)}')\n",
        "# print(f'Test length: {len(x_test)}')"
      ],
      "metadata": {
        "colab": {
          "base_uri": "https://localhost:8080/"
        },
        "id": "7Du6AA2x9gWm",
        "outputId": "eb21394c-19e5-404b-b0c4-02cecbfdabc0"
      },
      "execution_count": 5,
      "outputs": [
        {
          "output_type": "stream",
          "name": "stdout",
          "text": [
            "Train length: 60964\n"
          ]
        }
      ]
    },
    {
      "cell_type": "code",
      "source": [
        "x_train[1]"
      ],
      "metadata": {
        "id": "PnOeyeGy98s-",
        "colab": {
          "base_uri": "https://localhost:8080/"
        },
        "outputId": "85e60381-128d-40a2-bcc1-bf803ef1885e"
      },
      "execution_count": 6,
      "outputs": [
        {
          "output_type": "execute_result",
          "data": {
            "text/plain": [
              "{'date': '2010-06-01 10:42:59',\n",
              " 'url': 'https://www.gazeta.ru/culture/2010/06/01/a_3378006.shtml',\n",
              " 'summary': 'Британские затворники, московские модники, бразильский фанк и исламский панк, а также Мик Джаггер, группа Blur и фестивальные хроники, снятые на мобильник, – в Москве стартует Beat Film Festival.',\n",
              " 'title': 'Секс, наркотики и темный зал',\n",
              " 'text': \"Словосочетание «музыкальный кинофестиваль» уже не звучит непривычным оксюмороном — в наше бедное на гениев время разобраться в современной музыке порой проще с помощью наблюдения за участниками процесса. Так уже было, к примеру, с сандэнсовским фильмом «DiG!», влюбившим зрителей по всему миру в портлендского безумца Антона Ньюкомба и его группу Brian Jonestown Massacre. В столице картину показали год назад. Это был совсем камерный клубный показ в рамках фестиваля Music.doc, почти без рекламы, но о тех двух часах не пожалел никто из пары десятков случайных и не очень посетителей. То же можно сказать и о прочих показах. Стартующий в этот четверг Beat Film Festival – прямой наследник Music.doc. На этот раз к услугам киномеломанов самая авторитетная арт-хаусная площадка города, а не тесный клуб или помпезный «Иллюзион», а вместо собранной по сусекам программы – фильмы с не более чем двухлетним сроком давности. Картины «Bassweight» и «Favellla on Blast» рассказывают (соответственно) о все еще свежих дабстепе и балеарике – направлениях, с которыми сейчас принято связывать будущее электронной (и не только) музыки. Произведения львиной доли адептов этих стилей вне удолбанного танцпола или хотя бы прокуренного клуба приводят к внезапным вспышкам головной боли, однако породившая их среда, безусловно, заслуживает внимательно взгляда. Почему дабстеп появился в Лондоне, а балеарик – в бразильских фавеллах? Почему герои дабстепа прячут лица, а M.I.A., напротив, носит яркие лосины? Ну и главный вопрос – как секс, наркотики, густой смог и вечное похмелье конденсируют в музыку? О субкультуре другого порядка рассказывает картина «Taqwacore: The Birth of Punk Islam». Вынесенное в заглавие слово придумал писатель Майкл Мухаммед Найт для своего романа о нью-йоркских панках-мусульманах The Taqwacores. Выдуманный стиль дал толчок исламскому панку, стремительное развитие которого и стало причиной появления первого посвященного этому явлению фильма. Главным героем картины, как можно догадаться, стал сам писатель. Наш личный фаворит программы. Мостом между мейнстримовой и андеграундной культурами служит летопись двух фестивалей – московского «Пикника «Афиши»» и лондонского All Tomorrow's Parties. Если про первый все и так известно, история второго для многих станет открытием. Один из важнейших британских фестивалей славится не только своей демократичностью, но и тем, что его кураторами ежегодно становятся главные герои мировой альтернативной сцены – от Ника Кейва до Portishead. У посетителей Beat Film Festival есть шанс почувствовать всю прелесть этого предприятия – часть фильма смонтирована из любительской «мобилографии». Ну и, наконец, не обойдется и без знакомых широкой публике имен. Самой близкой россиянам картиной должна стать «Posters Came From The Walls» — рассказ о фанатах Depeche Mode по всему миру, не обошедший вниманием и некогда многочисленное российское фанатское коммьюнити. Другим потенциальным хитом программы может стать «No Distance Left To Run» — новейший извод истории группы Blur от рождения до последнего концерта в Гластонберри годичной давности. Впрочем, поговаривают, что и он был не последним, но это уже совсем другая история. Ну а откроется фестиваль в четверг фильмом «Stones in Exile», который в представлениях для сведущей публики, в общем, не нуждается. Это хроника года, проведенного группой The Rolling Stones в Париже во время записи недавно переизданного альбома «Exile On Main Street» — одной из лучших и точно самой безумной записи великих британцев. Иными словами, документальное свидетельство тех времен, когда изобретатель формулы «Секс, наркотики и рок-н-ролл» Мик Джаггер и его одногруппники в полной мере убеждали в действенности изобретенной идеологии. И прежде чем спрашивать, где же тут актуальность, стоит полюбопытствовать, что в их жизни изменилось с тех пор. The Beat Film Festival пройдет в кинотеатре 35 мм с 3 по 8 июня.\"}"
            ]
          },
          "metadata": {},
          "execution_count": 6
        }
      ]
    },
    {
      "cell_type": "code",
      "source": [
        "x_train[1]['text']"
      ],
      "metadata": {
        "colab": {
          "base_uri": "https://localhost:8080/",
          "height": 87
        },
        "id": "fE7uuD_MlTCa",
        "outputId": "4182ed58-8f08-4074-dc78-de46fcede428"
      },
      "execution_count": 7,
      "outputs": [
        {
          "output_type": "execute_result",
          "data": {
            "text/plain": [
              "\"Словосочетание «музыкальный кинофестиваль» уже не звучит непривычным оксюмороном — в наше бедное на гениев время разобраться в современной музыке порой проще с помощью наблюдения за участниками процесса. Так уже было, к примеру, с сандэнсовским фильмом «DiG!», влюбившим зрителей по всему миру в портлендского безумца Антона Ньюкомба и его группу Brian Jonestown Massacre. В столице картину показали год назад. Это был совсем камерный клубный показ в рамках фестиваля Music.doc, почти без рекламы, но о тех двух часах не пожалел никто из пары десятков случайных и не очень посетителей. То же можно сказать и о прочих показах. Стартующий в этот четверг Beat Film Festival – прямой наследник Music.doc. На этот раз к услугам киномеломанов самая авторитетная арт-хаусная площадка города, а не тесный клуб или помпезный «Иллюзион», а вместо собранной по сусекам программы – фильмы с не более чем двухлетним сроком давности. Картины «Bassweight» и «Favellla on Blast» рассказывают (соответственно) о все еще свежих дабстепе и балеарике – направлениях, с которыми сейчас принято связывать будущее электронной (и не только) музыки. Произведения львиной доли адептов этих стилей вне удолбанного танцпола или хотя бы прокуренного клуба приводят к внезапным вспышкам головной боли, однако породившая их среда, безусловно, заслуживает внимательно взгляда. Почему дабстеп появился в Лондоне, а балеарик – в бразильских фавеллах? Почему герои дабстепа прячут лица, а M.I.A., напротив, носит яркие лосины? Ну и главный вопрос – как секс, наркотики, густой смог и вечное похмелье конденсируют в музыку? О субкультуре другого порядка рассказывает картина «Taqwacore: The Birth of Punk Islam». Вынесенное в заглавие слово придумал писатель Майкл Мухаммед Найт для своего романа о нью-йоркских панках-мусульманах The Taqwacores. Выдуманный стиль дал толчок исламскому панку, стремительное развитие которого и стало причиной появления первого посвященного этому явлению фильма. Главным героем картины, как можно догадаться, стал сам писатель. Наш личный фаворит программы. Мостом между мейнстримовой и андеграундной культурами служит летопись двух фестивалей – московского «Пикника «Афиши»» и лондонского All Tomorrow's Parties. Если про первый все и так известно, история второго для многих станет открытием. Один из важнейших британских фестивалей славится не только своей демократичностью, но и тем, что его кураторами ежегодно становятся главные герои мировой альтернативной сцены – от Ника Кейва до Portishead. У посетителей Beat Film Festival есть шанс почувствовать всю прелесть этого предприятия – часть фильма смонтирована из любительской «мобилографии». Ну и, наконец, не обойдется и без знакомых широкой публике имен. Самой близкой россиянам картиной должна стать «Posters Came From The Walls» — рассказ о фанатах Depeche Mode по всему миру, не обошедший вниманием и некогда многочисленное российское фанатское коммьюнити. Другим потенциальным хитом программы может стать «No Distance Left To Run» — новейший извод истории группы Blur от рождения до последнего концерта в Гластонберри годичной давности. Впрочем, поговаривают, что и он был не последним, но это уже совсем другая история. Ну а откроется фестиваль в четверг фильмом «Stones in Exile», который в представлениях для сведущей публики, в общем, не нуждается. Это хроника года, проведенного группой The Rolling Stones в Париже во время записи недавно переизданного альбома «Exile On Main Street» — одной из лучших и точно самой безумной записи великих британцев. Иными словами, документальное свидетельство тех времен, когда изобретатель формулы «Секс, наркотики и рок-н-ролл» Мик Джаггер и его одногруппники в полной мере убеждали в действенности изобретенной идеологии. И прежде чем спрашивать, где же тут актуальность, стоит полюбопытствовать, что в их жизни изменилось с тех пор. The Beat Film Festival пройдет в кинотеатре 35 мм с 3 по 8 июня.\""
            ],
            "application/vnd.google.colaboratory.intrinsic+json": {
              "type": "string"
            }
          },
          "metadata": {},
          "execution_count": 7
        }
      ]
    },
    {
      "cell_type": "code",
      "source": [
        "# извлечем названия и основной текст из статей\n",
        "\n",
        "articles = []\n",
        "for line in tqdm_notebook(x_train):\n",
        "  articles.append(get_text(line))\n",
        "  if len(articles) > 10000: # сделать на всем датасете\n",
        "    break"
      ],
      "metadata": {
        "colab": {
          "base_uri": "https://localhost:8080/",
          "height": 49,
          "referenced_widgets": [
            "693b405af2a449ae9b9e7064f7251663",
            "da479568586d471b8d237fd7d6df3380",
            "5b4cc1b719134be188a58f5eee5d8282",
            "beb60eebb4d6439b9ac9b30c6245fcde",
            "f4e02645be344b1b9498ea0f9da034f2",
            "8dd4bfb6e0084191b51ee86694f6bdb4",
            "ec334704b0414375897f5b8f9fa5270c",
            "37d00023c8ed4da6a7879021847ec7e5",
            "9b11e6910fe54aa19ecaa526e4ce086d",
            "4406158e4fed4bc9ac13781c0ea9394b",
            "d93e5556dce9415482dc48505783d28e"
          ]
        },
        "id": "rqRDMduXthBd",
        "outputId": "70e8e4b8-a01f-4236-b126-fa7b37294125"
      },
      "execution_count": 10,
      "outputs": [
        {
          "output_type": "display_data",
          "data": {
            "text/plain": [
              "  0%|          | 0/60964 [00:00<?, ?it/s]"
            ],
            "application/vnd.jupyter.widget-view+json": {
              "version_major": 2,
              "version_minor": 0,
              "model_id": "693b405af2a449ae9b9e7064f7251663"
            }
          },
          "metadata": {}
        }
      ]
    },
    {
      "cell_type": "code",
      "source": [
        "articles[0]"
      ],
      "metadata": {
        "id": "5sCG0RajlzOK",
        "colab": {
          "base_uri": "https://localhost:8080/"
        },
        "outputId": "3931c9e4-6ab9-401d-a9db-a2ada70e77a9"
      },
      "execution_count": 12,
      "outputs": [
        {
          "output_type": "execute_result",
          "data": {
            "text/plain": [
              "['Налог в бак',\n",
              " 'Сегодня транспортный налог начисляется в зависимости от мощности автомобиля, причем цена для «сильных» машин выше, чем для малолитражек. Также ставку налога могут корректировать региональные власти: согласно Налоговому кодексу, базовый тариф, установленный правительством, может быть уменьшен в пять раз или увеличен до 10 раз. Сборы идут в региональные бюджеты, откуда растекаются на общие нужды. Транспортный налог — один из основных источников бюджетных доходов — предлагается направить исключительно на дорожные фонды. Так, автомобилисты будут понимать, за что они платят, а дорожники будут иметь гарантированный доход. Кроме налога дорожные фонды будут пополняться за счет бюджетных средств и проезда по платным дорогам. Более того, транспортный налог предлагается завуалировать в акцизы на бензин. Привычную и раздражающую систему ежегодной оплаты квитанции предлагается изменить, включив налог в стоимость топлива. Минэкономразвития говорит об удвоении акцизы, которая сегодня составляет 3,32 рубля за литр 92-го и 95-го бензина. Теперь платить будет не тот, кто купил машину мощнее, а тот, кто больше ездит. Владельцам многосильных автомобилей, которые сегодня отдают в год по 45–50 тысяч за машину, нововведение явно выгодно. Также выигрывают хозяева нескольких автомобилей, которые используются поочередно. Если в семье две-три машины, которые много стоят в гараже и не эксплуатируются, сейчас приходится платить за все. По новой схеме сбор будет значительно меньше. Но владельцы экономичных машин будут выкладывать гораздо больше при равном пробеге. Если цена бензина вырастет на 3,32 рубля, то владелец вазовской «девятки», потребляющей на 100 км в городе около 10 литров, заплатит в год 10162 рубля при среднем пробеге 30 тыс. км вместо 550 руб. по квитанции, а за Citroen C3 мощностью 73 л. с. и расходом 8,5 л на «сотню» придется в год выложить около 8,5 тысяч рублей. Сейчас – 511 руб. Хорошо укомплектованный Ford Focus cо 145-сильным мотором за 30 тыс. км. обойдется в 11155 «налоговых» рублей – на 6800 рублей дороже, чем при существующей ставке налогообложения, а вот налог на пожилой Mercedes-Benz S420 в кузове W140 при новой системе снизится почти вдвое. Сейчас владелец платит в год за 279 л. с. мотора около 41850 рублей. При среднем пробеге в 30 тыс. км в год и расходе топлива порядка 20 л на 100 км он истратит всего 6000 литров бензина и заплатит в казну вдвое меньше – 19920 рублей. С точки зрения власти решение отмены транспортного налога понятное и верное. В первую очередь, собираемость налога тут же возрастет до 100%, потому что новая система исключает возможность уклониться от уплаты. Кроме того, налоговая инспекция сэкономит бюджетные средства на доставке квитанций и судебных издержках при выколачивании средств с неплательщиков. Автоматически решается вопрос с бюрократической неразберихой после продажи машины или утилизации, когда налоговые органы присылают квитанцию на давно проданную машину. Но главное, что при новой схеме сборы значительно возрастут. Власти рассчитывают собирать до 62 млрд рублей в год. Экономисты уже предвидят тотальное повышение цен из-за роста стоимости перевозок. Ведь за бензин придется переплачивать и логистическим компаниям, которые включат дополнительные расходы в цену товара. Получается, что теперь за дороги будут платить не только автомобилисты, но и те, кто за рулем никогда не сидел. Но даже с учетом всех оговорок отмена транспортного налога — это важный и сильный политический шаг, который поможет снять напряжение в регионах. Дело в том, что скрытое налогообложение делает поборы незаметными и не травмирующими. Ведь власти и сейчас любят педалировать тем, что в стране самый низкий в Европе подоходный налог 13%. При этом они не афишируют другие отчисления в бюджет, которые снимаются с граждан с теми же акцизами и НДС. Есть также сомнения, что власти смогут обеспечить прозрачность расходования средств. Дорожные фонды в России уже существовали и были расформированы в 2000 году за коррупционность. Как предполагается распределять деньги между регионами и федеральным дорожным агентством и кто будет следить за потоками, в правительстве пока не решили.']"
            ]
          },
          "metadata": {},
          "execution_count": 12
        }
      ]
    },
    {
      "cell_type": "code",
      "source": [
        "# инициализируем морфоанализатор, запишем стоп-слова и пунктуацию в переменные\n",
        "\n",
        "morpher = MorphAnalyzer()\n",
        "stop_words = get_stop_words('ru')\n",
        "punct = list(string.punctuation + '—' + '–')"
      ],
      "metadata": {
        "id": "AcuxIFfpvyyi"
      },
      "execution_count": 13,
      "outputs": []
    },
    {
      "cell_type": "code",
      "source": [
        "# сформируем токены, соединив названия и основной текст статей в один список\n",
        "\n",
        "tokens = []\n",
        "for artcl in tqdm_notebook(articles):\n",
        "  temp = []\n",
        "  for item in artcl:    \n",
        "    temp += get_tokens(item, stop_words, morpher)\n",
        "  tokens.append(temp) \n",
        "  # if len(articles) > 2:\n",
        "  #   break"
      ],
      "metadata": {
        "colab": {
          "base_uri": "https://localhost:8080/",
          "height": 49,
          "referenced_widgets": [
            "34502b3508004427893c734e56d1928a",
            "e80b7b33c7ad4bd29081379f95272498",
            "01e290c18bf443319098cdea89527b31",
            "d06a936a6d65495dbca75a3b6830e913",
            "4d2e923b50684efb93126264a4f78646",
            "0e7cfb6c1a7b456bbfdf1e243bd953da",
            "fddb4b78389c4cbd98d5e38666fd4fc3",
            "08716903ed3c4b92a8ba87426389d6a4",
            "c70d4f0097204649a35c29ee9a5b9b07",
            "7f070ccefa1446338cee549364f78b6d",
            "8ca38856fb854b47869a857d0df60a0b"
          ]
        },
        "id": "qlqr_cSgu1_J",
        "outputId": "9ff0cd0f-465d-4ddc-8e34-dd32243d45a3"
      },
      "execution_count": 15,
      "outputs": [
        {
          "output_type": "display_data",
          "data": {
            "text/plain": [
              "  0%|          | 0/10001 [00:00<?, ?it/s]"
            ],
            "application/vnd.jupyter.widget-view+json": {
              "version_major": 2,
              "version_minor": 0,
              "model_id": "34502b3508004427893c734e56d1928a"
            }
          },
          "metadata": {}
        }
      ]
    },
    {
      "cell_type": "code",
      "source": [
        "tokens[140][:10]"
      ],
      "metadata": {
        "colab": {
          "base_uri": "https://localhost:8080/"
        },
        "id": "UIy9hXNUskD8",
        "outputId": "ea8a0ec8-8348-4817-9901-d14f505c683b"
      },
      "execution_count": 18,
      "outputs": [
        {
          "output_type": "execute_result",
          "data": {
            "text/plain": [
              "['renaultnissan',\n",
              " 'корейский',\n",
              " 'кухня',\n",
              " 'альянс',\n",
              " 'renault',\n",
              " 'nissan',\n",
              " 'официально',\n",
              " 'подтвердить',\n",
              " 'заинтересованность',\n",
              " 'приобретение']"
            ]
          },
          "metadata": {},
          "execution_count": 18
        }
      ]
    },
    {
      "cell_type": "code",
      "source": [
        "# сформируем эмбеддинги статьей\n",
        "\n",
        "modelW2V = Word2Vec(sentences=tokens, size=300, min_count=1, window=5)\n",
        "modelFT = FastText(sentences=tokens, size=300, min_count=1, window=5)"
      ],
      "metadata": {
        "id": "0znIB47NlTJ0"
      },
      "execution_count": 19,
      "outputs": []
    },
    {
      "cell_type": "code",
      "source": [
        "print('музычка' in modelW2V.wv)\n",
        "print('музычка' in modelFT.wv)"
      ],
      "metadata": {
        "colab": {
          "base_uri": "https://localhost:8080/"
        },
        "id": "5hkTdJtV7KwR",
        "outputId": "857149c9-b830-4191-d4b4-66a3ede010dd"
      },
      "execution_count": 23,
      "outputs": [
        {
          "output_type": "stream",
          "name": "stdout",
          "text": [
            "False\n",
            "True\n"
          ]
        }
      ]
    },
    {
      "cell_type": "code",
      "source": [
        "# воспользуемся библиотекой Annoy, которая выполняет приближенный поиск, облегченный KNN\n",
        "\n",
        "w2v_index = annoy.AnnoyIndex(300 ,'angular')\n",
        "ft_index = annoy.AnnoyIndex(300 ,'angular')\n",
        "index_map = {}\n",
        "counter = 0\n",
        "\n",
        "for line in tqdm_notebook(articles):\n",
        "        n_w2v = 0\n",
        "        n_ft = 0  \n",
        "\n",
        "        # записываем в словарь название статьи\n",
        "        index_map[counter] = line[0]    \n",
        "\n",
        "        # отделяем основной текст статьи\n",
        "        article_body = get_tokens(line[1])\n",
        "        \n",
        "        vector_w2v = np.zeros(300)\n",
        "        vector_ft = np.zeros(300)        \n",
        "\n",
        "        # идем по статьям и делаем эмбеддинги для токенов\n",
        "        for word in article_body:\n",
        "            if word in modelW2V.wv:\n",
        "                vector_w2v += modelW2V.wv[word]                \n",
        "                n_w2v += 1  # суммируем количество токенов в словаре\n",
        "            if word in modelFT.wv:\n",
        "                vector_ft += modelFT.wv[word]\n",
        "                n_ft += 1\n",
        "        \n",
        "        # усредняем, чтобы эмбеддинги не зависили от длины текста\n",
        "        if n_w2v > 0:\n",
        "            vector_w2v = vector_w2v / n_w2v\n",
        "        if n_ft > 0:\n",
        "            vector_ft = vector_ft / n_ft\n",
        "\n",
        "        # добавляем в индексы annoy\n",
        "        w2v_index.add_item(counter, vector_w2v)\n",
        "        ft_index.add_item(counter, vector_ft)\n",
        "            \n",
        "        counter += 1\n",
        "        \n",
        "        if counter > 10000:\n",
        "            break\n",
        "\n",
        "# разбиваем на центроиды\n",
        "w2v_index.build(10)\n",
        "ft_index.build(10)"
      ],
      "metadata": {
        "id": "x-0XeFqb6QHh",
        "colab": {
          "base_uri": "https://localhost:8080/",
          "height": 66,
          "referenced_widgets": [
            "e47184fa508b4f938e54e3243db60598",
            "78cc25fd96714150bad80a37492f2ed9",
            "f5e7fe78ecdd4f99aecdcbc3352bac92",
            "954393e1403b4d00bb60c8608dac397a",
            "328f36c9dcec4802a7f916199a18c5ab",
            "c839fd372ebe48848694392d69dd49aa",
            "1dbce5c9a0a949d7b47309d7bd74ae1e",
            "5c0fb6c686ae4f7ca734f1d9c178e7af",
            "911b6973961b4ed19779012acdcdca65",
            "292f08bf441a4b7d9ed29ae773be1ecc",
            "b62ad199bcf049fea311d72472477c91"
          ]
        },
        "outputId": "30c95148-dff2-4f39-ab67-ae5590189dd2"
      },
      "execution_count": null,
      "outputs": [
        {
          "output_type": "display_data",
          "data": {
            "text/plain": [
              "  0%|          | 0/10001 [00:00<?, ?it/s]"
            ],
            "application/vnd.jupyter.widget-view+json": {
              "version_major": 2,
              "version_minor": 0,
              "model_id": "e47184fa508b4f938e54e3243db60598"
            }
          },
          "metadata": {}
        },
        {
          "output_type": "execute_result",
          "data": {
            "text/plain": [
              "True"
            ]
          },
          "metadata": {},
          "execution_count": 286
        }
      ]
    },
    {
      "cell_type": "markdown",
      "source": [
        "### **РЕЗУЛЬТАТЫ**"
      ],
      "metadata": {
        "id": "ccN2ybs_kSyg"
      }
    },
    {
      "cell_type": "code",
      "source": [
        "TEXT = 'транспорт'\n",
        "print(get_response(TEXT, w2v_index, modelW2V, index_map))\n",
        "print(get_response(TEXT, ft_index, modelFT, index_map))\n",
        "\n",
        "# Word2Vec - тематики выпали соответствующие запросу\n",
        "# FastText - тематики выпали соответствующие запросу"
      ],
      "metadata": {
        "id": "6pA5-UZr985M",
        "colab": {
          "base_uri": "https://localhost:8080/"
        },
        "outputId": "3a818651-770b-4b4b-dff9-d390af1b199c"
      },
      "execution_count": null,
      "outputs": [
        {
          "output_type": "stream",
          "name": "stdout",
          "text": [
            "['Светофоры поумнеют', 'Мэрия подавляет коллапс интеллектом ', 'Шереметьево поедет через область', 'Пробка подходит к развязке', 'Москва расколется по линии моста']\n",
            "['Москва для пешеходов', 'Светофоры поумнеют', 'Фуры увязли в весне', 'Государство привьет транспорту интеллект', 'Иркутск не дотянул до нового аэропорта']\n"
          ]
        }
      ]
    },
    {
      "cell_type": "code",
      "source": [
        "TEXT = 'налоговый сбор'\n",
        "print(get_response(TEXT, w2v_index, modelW2V, index_map))\n",
        "print(get_response(TEXT, ft_index, modelFT, index_map))\n",
        "\n",
        "# Word2Vec - тематики выпали соответствующие запросу\n",
        "# FastText - справился хуже, 2 раза выпала одна и та же статья"
      ],
      "metadata": {
        "id": "E2hmcR-L988I",
        "colab": {
          "base_uri": "https://localhost:8080/"
        },
        "outputId": "10bafd9d-6ee5-456d-f123-115ebf901748"
      },
      "execution_count": null,
      "outputs": [
        {
          "output_type": "stream",
          "name": "stdout",
          "text": [
            "['Не как народ', 'Чиновников больше, зарплаты выше', 'Обама-писатель богаче Обамы-президента', 'Бюджет не справился с нулем', '«Для других аппетитов средств нет»']\n",
            "['ОСАГО перевалило за кризис', 'Авиапассажиры пополнят казну Германии', 'Частичное экономическое затмение', 'Власть увлеклась кризисом', 'Авиапассажиры пополнят казну Германии']\n"
          ]
        }
      ]
    },
    {
      "cell_type": "code",
      "source": [
        "TEXT = 'искусственный интеллект'\n",
        "print(get_response(TEXT, w2v_index, modelW2V, index_map))\n",
        "print(get_response(TEXT, ft_index, modelFT, index_map))\n",
        "\n",
        "# Word2Vec - ожидалось, что выпадут статьи по теме IT, но названия больше соответвуют тематике \"транспорт\"\n",
        "# FastText - выпали совершенно разные тематики"
      ],
      "metadata": {
        "id": "fv6dcy9o-Rd-",
        "colab": {
          "base_uri": "https://localhost:8080/"
        },
        "outputId": "2dc84707-e5a3-4d99-bafc-6b5094c3706f"
      },
      "execution_count": null,
      "outputs": [
        {
          "output_type": "stream",
          "name": "stdout",
          "text": [
            "['Так делать дороги нельзя ни в коем случае', 'Porsche в зоне рулежки', 'Застывшее движение', 'Мал золотник, да дорог', 'Стамбул колоссальный']\n",
            "['Manfrotto STILE — функциональность в итальянском стиле', 'Объем важен не только для прически', 'Нам нужны гаражи, а им – только наши деньги', 'Мал золотник, да дорог', 'Книги в интернете: скачать, прочесть, купить']\n"
          ]
        }
      ]
    },
    {
      "cell_type": "code",
      "source": [
        "TEXT = 'музыкальные новости'\n",
        "print(get_response(TEXT, w2v_index, modelW2V, index_map))\n",
        "print(get_response(TEXT, ft_index, modelFT, index_map))\n",
        "\n",
        "# Word2Vec - выпавшие тематики походят на запрос \"футбол\"\n",
        "# FastText - только первая статья подходит под тематику"
      ],
      "metadata": {
        "colab": {
          "base_uri": "https://localhost:8080/"
        },
        "id": "B96HGXhVCqAT",
        "outputId": "b370bd25-8a50-46a9-f224-6d74c3a5795b"
      },
      "execution_count": null,
      "outputs": [
        {
          "output_type": "stream",
          "name": "stdout",
          "text": [
            "['Контадор ушёл из «Астаны»', '«Галатасарай» заинтересовался Андреем Аршавиным', 'Андрей в списках не значится', 'Сине-гранатовое доминирование ', 'Фабрика футбола']\n",
            "['Албарн распустил Gorillaz', 'Губит людей не стаут', 'Королева встряхнула Англию', 'Камень с возу', '«Сплетница» созрела']\n"
          ]
        }
      ]
    },
    {
      "cell_type": "code",
      "source": [
        "TEXT = 'про футбол'\n",
        "print(get_response(TEXT, w2v_index, modelW2V, index_map))\n",
        "print(get_response(TEXT, ft_index, modelFT, index_map))\n",
        "\n",
        "# Word2Vec - тематики выпали соответствующие запросу\n",
        "# FastText - тематики выпали соответствующие запросу"
      ],
      "metadata": {
        "colab": {
          "base_uri": "https://localhost:8080/"
        },
        "id": "DTCRWJr_C2jo",
        "outputId": "74545bca-a609-4e6e-eb36-18dc7aed7303"
      },
      "execution_count": null,
      "outputs": [
        {
          "output_type": "stream",
          "name": "stdout",
          "text": [
            "['«Думаю, в Катаре будет спокойно»', '«Мы бежим впереди паровоза»', '«Спаллетти может тренировать сборную»', '«Овечкин расколол НХЛ»', '«Любите своих футболистов»']\n",
            "['«Селтик» без Макгиди', 'Невилл ушел на пенсию', 'Пареха вместе с Месси', 'Давидс вернулся в большой футбол', 'Жирков ждет Акинфеева']\n"
          ]
        }
      ]
    },
    {
      "cell_type": "code",
      "source": [
        "TEXT = 'как приготовить оливье'\n",
        "print(get_response(TEXT, w2v_index, modelW2V, index_map))\n",
        "print(get_response(TEXT, ft_index, modelFT, index_map))\n",
        "\n",
        "# Word2Vec - выпавшие тематики походят на запрос \"мода\"\n",
        "# FastText - выпали совершенно разные тематики"
      ],
      "metadata": {
        "colab": {
          "base_uri": "https://localhost:8080/"
        },
        "id": "yagg3hxSDAIS",
        "outputId": "e8c68fa5-8a0c-4544-b83f-ac3ca6677647"
      },
      "execution_count": null,
      "outputs": [
        {
          "output_type": "stream",
          "name": "stdout",
          "text": [
            "['Миланская мода: в полоску и в клетку', 'Против яркого: модные тренды будущего сезона', 'Модно рвать и мять', 'Такая-сякая прикончила отца', 'Лондон: нефтяные пятна и голый живот']\n",
            "['Сирота отстал под нож', 'Похитители приговорены к компенсации', 'Пираты осядут в Европе', 'В похищении чувствовалась женская рука', 'Стросс-Кан заинтересовал психиатров']\n"
          ]
        }
      ]
    },
    {
      "cell_type": "code",
      "source": [
        "read_article('Сирота отстал под нож')"
      ],
      "metadata": {
        "colab": {
          "base_uri": "https://localhost:8080/",
          "height": 87
        },
        "id": "J97axEKtBHA2",
        "outputId": "a8b75032-d12a-4adb-8e46-6ccd425a667c"
      },
      "execution_count": null,
      "outputs": [
        {
          "output_type": "execute_result",
          "data": {
            "text/plain": [
              "'Убийство произошло в городе Сент-Франсисвилл в штате Луизиана. Преступление было совершено 10 июня около 13.00. 8-летний Кирилл Казаков , носивший после усыновления имя Джексон Аттусо, гулял с приемной матерью и братом в лесу, сообщает телевизионный канал Луизианы WAFB. Мальчик катался на велосипеде и отстал от своей семьи. В этот момент его увидел подросток — 16-летний местный житель Тревор Риз. Он подошел к ребенку и стал наносить ему удары ножом — в спину и грудь. После того как его жертва перестала сопротивляться, преступник перерезал мальчику горло. Окровавленного подростка, выходящего из леса, встретил местный житель. Как сообщает пресса, убийца сам попросил его набрать 911. «Мне позвонил плотник и сообщил, что из леса вышел парень весь в крови, который сказал, что убил другого ребенка, — рассказал суду шериф Остин Дэниэл. — Я тут же приехал на место. Я был просто в шоке от того, что увидел, это была ужасная сцена». Подозреваемый не мог объяснить полиции, за что он убил ребенка. Сам Тревор Риз из вполне благополучной семьи, хорошо учился в школе. До сих пор неясно, что могло толкнуть подростка на преступление. СМИ Луизианы пока не приводят реакцию его родителей и школьников на случившееся. В минувшую среду на суде Ризу были предъявлены обвинения в жестоком немотивированном убийстве. За такое преступление в США предусмотрена смертная казнь, однако подростку грозит пожизненное заключение. Судья уже заявил, что Риза будут судить как взрослого, несмотря на то что он еще несовершеннолетний — 17 лет ему исполнится только 31 июля. Начало судебного разбирательства назначено на 24 июня. Это дело будет рассматривать коллегия присяжных. Убитый Кирилл Казаков был усыновлен 16 октября 2003 года в Благовещенске, передает ИТАР-ТАСС. Процесс передачи ребенка в приемную семью курировало луизианское агентство «Бикон-хаус», рассказала его исполнительный директор Энн Хьюз. По ее словам, 8 лет мальчику исполнилось 27 мая. Не исключено, что на суде будет выясняться, как получилось, что приемная мать оставила сына одного в лесу. О необходимости дать правовую оценку действиям матери ребенка заявил уполномоченный при президенте РФ по правам ребенка Павел Астахов. «Имели ли место халатность и невнимательность с их стороны по отношению к мальчику? Все эти обстоятельства подлежат подробному исследованию и надлежащей правовой оценке», — цитирует «Интерфакс» слова Астахова. «В данном случае вина матери не установлена, однако очевидно, что такая трагедия стала возможной из-за отсутствия надлежащего родительского контроля за усыновленным ребенком», — сказал детский омбудсмен. Заставить американцев быть более внимательными к приемным детям поможет договор по усыновлению между США и Россией, уверен Астахов. В ближайшее время документ будет подписан. «Американская сторона согласилась практически со всеми положениями договора, которые были предложены российской стороной и которые являлись принципиальными», — заявил накануне уполномоченный. По его словам, процесс подписания договора был несколько затянут в США, так как там было необходимо согласовать положения документа с законодательством некоторых штатов. Одной из главных побед, говорит Астахов, стало появление пункта о распространении положений договора на уже усыновленных детей и их приемных родителей. По словам омбудсмена, американцы долго сопротивлялись введению такого условия, однако россияне сумели добиться его включения. «Сейчас у нас нет информации об условиях проживания наших детей в приемных семьях, нет регулярных отчетов, мы не имеем возможности проконтролировать условия, в которых живут дети. Отсутствие сопровождения и поддержки приемных семей ставит под угрозу жизнь и здоровье детей, усыновленных из России», — пояснил Астахов. Первоначально сообщалось, что договор будет подписан 16 июня. Однако срок был перенесен. Работа над договором началась после того, как в апреле 2010 года приемная мать из Теннесси отправила семилетнего мальчика обратно в Россию с запиской, в которой отказывалась от него.'"
            ],
            "application/vnd.google.colaboratory.intrinsic+json": {
              "type": "string"
            }
          },
          "metadata": {},
          "execution_count": 304
        }
      ]
    },
    {
      "cell_type": "markdown",
      "source": [
        "### **ВЫВОД**\n",
        "\n",
        "В данной реализации лучше справляется метод **Word2Vec**, у него чаще выпадали ответы близкие по тематике запроса. Для повышения точности следует попробовать изменить некоторые параметры, например длину вектора эмбеддинга, количество центроид или добавить больше статей."
      ],
      "metadata": {
        "id": "Inng_0M0nQLB"
      }
    }
  ]
}