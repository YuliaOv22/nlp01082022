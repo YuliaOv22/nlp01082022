{
  "nbformat": 4,
  "nbformat_minor": 0,
  "metadata": {
    "accelerator": "GPU",
    "colab": {
      "provenance": [],
      "collapsed_sections": []
    },
    "kernelspec": {
      "display_name": "Python 3",
      "name": "python3"
    }
  },
  "cells": [
    {
      "cell_type": "markdown",
      "source": [
        "## **ПРАКТИЧЕСКОЕ ЗАДАНИЕ**"
      ],
      "metadata": {
        "id": "tJsJTQS0sGSI"
      }
    },
    {
      "cell_type": "markdown",
      "source": [
        "**Задание**\n",
        "\n",
        "Разобраться с моделькой генерации текста, собрать самим или взять датасет с вебинара и обучить генератор текстов."
      ],
      "metadata": {
        "id": "m8HV1GsMsLnt"
      }
    },
    {
      "cell_type": "code",
      "metadata": {
        "id": "yG_n40gFzf9s"
      },
      "source": [
        "# импортируем библиотеки\n",
        "\n",
        "import tensorflow as tf\n",
        "import numpy as np\n",
        "import os\n",
        "import time"
      ],
      "execution_count": 26,
      "outputs": []
    },
    {
      "cell_type": "code",
      "metadata": {
        "id": "-an5tHuaRmqD",
        "colab": {
          "base_uri": "https://localhost:8080/"
        },
        "outputId": "05fe8527-5fd0-4eac-de0b-141997263c59"
      },
      "source": [
        "# загрузим текст Евгения Онегина\n",
        "\n",
        "path_to_file = '/content/drive/MyDrive/Colab Notebooks/NLP/evgenyi_onegin.txt'\n",
        "# path_to_file = '/content/drive/MyDrive/Копия evgenyi_onegin.txt'\n",
        "\n",
        "text = open(path_to_file, 'rb').read().decode(encoding='utf-8')\n",
        "print('Length of text (number of characters in it): {} characters'.format(len(text)))"
      ],
      "execution_count": 27,
      "outputs": [
        {
          "output_type": "stream",
          "name": "stdout",
          "text": [
            "Length of text (number of characters in it): 286984 characters\n"
          ]
        }
      ]
    },
    {
      "cell_type": "code",
      "metadata": {
        "colab": {
          "base_uri": "https://localhost:8080/"
        },
        "id": "Duhg9NrUymwO",
        "outputId": "784d3202-f4c4-4586-ea6f-12b8c8a6269b"
      },
      "source": [
        "print(text[:1000])"
      ],
      "execution_count": 28,
      "outputs": [
        {
          "output_type": "stream",
          "name": "stdout",
          "text": [
            "Александр Сергеевич Пушкин\n",
            "\n",
            "                                Евгений Онегин\n",
            "                                Роман в стихах\n",
            "\n",
            "                        Не мысля гордый свет забавить,\n",
            "                        Вниманье дружбы возлюбя,\n",
            "                        Хотел бы я тебе представить\n",
            "                        Залог достойнее тебя,\n",
            "                        Достойнее души прекрасной,\n",
            "                        Святой исполненной мечты,\n",
            "                        Поэзии живой и ясной,\n",
            "                        Высоких дум и простоты;\n",
            "                        Но так и быть - рукой пристрастной\n",
            "                        Прими собранье пестрых глав,\n",
            "                        Полусмешных, полупечальных,\n",
            "                        Простонародных, идеальных,\n",
            "                        Небрежный плод моих забав,\n",
            "                        Бессонниц, легких вдохновений,\n",
            "                        Незрелых и увядших лет,\n",
            "                        Ума холодных наблюдений\n",
            "                        И сердца горестных замет.\n",
            "\n",
            "            \n"
          ]
        }
      ]
    },
    {
      "cell_type": "code",
      "metadata": {
        "colab": {
          "base_uri": "https://localhost:8080/"
        },
        "id": "IlCgQBRVymwR",
        "outputId": "cc9e2b63-ec44-4ee4-f4ac-0ebce32844af"
      },
      "source": [
        "# Посмотрим на количество уникальных символов в тексте\n",
        "vocab = sorted(set(text))\n",
        "print('{} unique characters'.format(len(vocab)))"
      ],
      "execution_count": 29,
      "outputs": [
        {
          "output_type": "stream",
          "name": "stdout",
          "text": [
            "131 unique characters\n"
          ]
        }
      ]
    },
    {
      "cell_type": "code",
      "metadata": {
        "id": "IalZLbvOzf-F"
      },
      "source": [
        "# Сделаем словарь из уникальных символов и индексов \n",
        "\n",
        "char2idx = {u:i for i, u in enumerate(vocab)}\n",
        "idx2char = np.array(vocab)\n",
        "\n",
        "text_as_int = np.array([char2idx[c] for c in text])"
      ],
      "execution_count": 30,
      "outputs": []
    },
    {
      "cell_type": "code",
      "metadata": {
        "colab": {
          "base_uri": "https://localhost:8080/"
        },
        "id": "p-DhY8bbTY3g",
        "outputId": "77f02d4c-510c-4234-86ce-ce3ca186fd0e"
      },
      "source": [
        "text_as_int[:500], text[:500], len(text_as_int), len(text)"
      ],
      "execution_count": 31,
      "outputs": [
        {
          "output_type": "execute_result",
          "data": {
            "text/plain": [
              "(array([ 71, 110, 104, 109, 116,  99, 112, 103, 115,   1,  87, 104, 115,\n",
              "        102, 104, 104, 101, 107, 122,   1,  85, 118, 123, 109, 107, 112,\n",
              "          0,   0,   1,   1,   1,   1,   1,   1,   1,   1,   1,   1,   1,\n",
              "          1,   1,   1,   1,   1,   1,   1,   1,   1,   1,   1,   1,   1,\n",
              "          1,   1,   1,   1,   1,   1,   1,   1,  76, 101, 102, 104, 112,\n",
              "        107, 108,   1,  84, 112, 104, 102, 107, 112,   0,   1,   1,   1,\n",
              "          1,   1,   1,   1,   1,   1,   1,   1,   1,   1,   1,   1,   1,\n",
              "          1,   1,   1,   1,   1,   1,   1,   1,   1,   1,   1,   1,   1,\n",
              "          1,   1,   1,  86, 113, 111,  99, 112,   1, 101,   1, 116, 117,\n",
              "        107, 120,  99, 120,   0,   0,   1,   1,   1,   1,   1,   1,   1,\n",
              "          1,   1,   1,   1,   1,   1,   1,   1,   1,   1,   1,   1,   1,\n",
              "          1,   1,   1,   1,  83, 104,   1, 111, 126, 116, 110, 130,   1,\n",
              "        102, 113, 115, 103, 126, 108,   1, 116, 101, 104, 117,   1, 106,\n",
              "         99, 100,  99, 101, 107, 117, 127,   7,   0,   1,   1,   1,   1,\n",
              "          1,   1,   1,   1,   1,   1,   1,   1,   1,   1,   1,   1,   1,\n",
              "          1,   1,   1,   1,   1,   1,   1,  73, 112, 107, 111,  99, 112,\n",
              "        127, 104,   1, 103, 115, 118, 105, 100, 126,   1, 101, 113, 106,\n",
              "        110, 129, 100, 130,   7,   0,   1,   1,   1,   1,   1,   1,   1,\n",
              "          1,   1,   1,   1,   1,   1,   1,   1,   1,   1,   1,   1,   1,\n",
              "          1,   1,   1,   1,  91, 113, 117, 104, 110,   1, 100, 126,   1,\n",
              "        130,   1, 117, 104, 100, 104,   1, 114, 115, 104, 103, 116, 117,\n",
              "         99, 101, 107, 117, 127,   0,   1,   1,   1,   1,   1,   1,   1,\n",
              "          1,   1,   1,   1,   1,   1,   1,   1,   1,   1,   1,   1,   1,\n",
              "          1,   1,   1,   1,  78,  99, 110, 113, 102,   1, 103, 113, 116,\n",
              "        117, 113, 108, 112, 104, 104,   1, 117, 104, 100, 130,   7,   0,\n",
              "          1,   1,   1,   1,   1,   1,   1,   1,   1,   1,   1,   1,   1,\n",
              "          1,   1,   1,   1,   1,   1,   1,   1,   1,   1,   1,  75, 113,\n",
              "        116, 117, 113, 108, 112, 104, 104,   1, 103, 118, 123, 107,   1,\n",
              "        114, 115, 104, 109, 115,  99, 116, 112, 113, 108,   7,   0,   1,\n",
              "          1,   1,   1,   1,   1,   1,   1,   1,   1,   1,   1,   1,   1,\n",
              "          1,   1,   1,   1,   1,   1,   1,   1,   1,   1,  87, 101, 130,\n",
              "        117, 113, 108,   1, 107, 116, 114, 113, 110, 112, 104, 112, 112,\n",
              "        113, 108,   1, 111, 104, 122, 117, 126,   7,   0,   1,   1,   1,\n",
              "          1,   1,   1,   1,   1,   1,   1,   1,   1,   1,   1,   1,   1,\n",
              "          1,   1,   1,   1,   1,   1,   1,   1,  85, 113, 128, 106, 107,\n",
              "        107,   1, 105, 107, 101, 113, 108,   1, 107,   1, 130, 116, 112,\n",
              "        113, 108,   7,   0,   1,   1,   1,   1,   1,   1,   1,   1,   1,\n",
              "          1,   1,   1,   1,   1,   1,   1,   1,   1,   1,   1,   1,   1,\n",
              "          1,   1,  73, 126, 116, 113]),\n",
              " 'Александр Сергеевич Пушкин\\n\\n                                Евгений Онегин\\n                                Роман в стихах\\n\\n                        Не мысля гордый свет забавить,\\n                        Вниманье дружбы возлюбя,\\n                        Хотел бы я тебе представить\\n                        Залог достойнее тебя,\\n                        Достойнее души прекрасной,\\n                        Святой исполненной мечты,\\n                        Поэзии живой и ясной,\\n                        Высо',\n",
              " 286984,\n",
              " 286984)"
            ]
          },
          "metadata": {},
          "execution_count": 31
        }
      ]
    },
    {
      "cell_type": "code",
      "metadata": {
        "colab": {
          "base_uri": "https://localhost:8080/"
        },
        "id": "0UHJDA39zf-O",
        "outputId": "a671d528-1a48-4f17-bd8c-1a003674fd68"
      },
      "source": [
        "# Переведем текст в тензор\n",
        "\n",
        "char_dataset = tf.data.Dataset.from_tensor_slices(text_as_int)\n",
        "for i in char_dataset.take(5):\n",
        "    print(idx2char[i.numpy()])"
      ],
      "execution_count": 32,
      "outputs": [
        {
          "output_type": "stream",
          "name": "stdout",
          "text": [
            "А\n",
            "л\n",
            "е\n",
            "к\n",
            "с\n"
          ]
        }
      ]
    },
    {
      "cell_type": "code",
      "metadata": {
        "colab": {
          "base_uri": "https://localhost:8080/"
        },
        "id": "l4hkDU3i7ozi",
        "outputId": "2bec01cd-0b99-41c7-be0c-d7359dacaf1a"
      },
      "source": [
        "# Разделим данные на батчи\n",
        "\n",
        "seq_length = 100\n",
        "sequences = char_dataset.batch(seq_length+1, drop_remainder=True)\n",
        "for item in sequences.take(5):\n",
        "    print(repr(''.join(idx2char[item.numpy()])))"
      ],
      "execution_count": 33,
      "outputs": [
        {
          "output_type": "stream",
          "name": "stdout",
          "text": [
            "'Александр Сергеевич Пушкин\\n\\n                                Евгений Онегин\\n                          '\n",
            "'      Роман в стихах\\n\\n                        Не мысля гордый свет забавить,\\n                        '\n",
            "'Вниманье дружбы возлюбя,\\n                        Хотел бы я тебе представить\\n                        '\n",
            "'Залог достойнее тебя,\\n                        Достойнее души прекрасной,\\n                        Свят'\n",
            "'ой исполненной мечты,\\n                        Поэзии живой и ясной,\\n                        Высоких д'\n"
          ]
        }
      ]
    },
    {
      "cell_type": "code",
      "metadata": {
        "id": "9NGu-FkO_kYU"
      },
      "source": [
        "# Функция разделения текста на данные для обучения и таргет\n",
        "\n",
        "def split_input_target(chunk):\n",
        "    input_text = chunk[:-1]\n",
        "    target_text = chunk[1:]\n",
        "    return input_text, target_text"
      ],
      "execution_count": 34,
      "outputs": []
    },
    {
      "cell_type": "code",
      "source": [
        "# Разделим данные. Происходит смещение не 1 символ\n",
        "\n",
        "dataset = sequences.map(split_input_target)\n",
        "for input_example, target_example in  dataset.take(1):\n",
        "    print('Input data: ', repr(''.join(idx2char[input_example.numpy()])))\n",
        "    print('Target data:', repr(''.join(idx2char[target_example.numpy()])))"
      ],
      "metadata": {
        "colab": {
          "base_uri": "https://localhost:8080/"
        },
        "id": "nP4JC-PlYwYF",
        "outputId": "300fd66a-bfd7-4521-c30c-971e7226e494"
      },
      "execution_count": 35,
      "outputs": [
        {
          "output_type": "stream",
          "name": "stdout",
          "text": [
            "Input data:  'Александр Сергеевич Пушкин\\n\\n                                Евгений Онегин\\n                         '\n",
            "Target data: 'лександр Сергеевич Пушкин\\n\\n                                Евгений Онегин\\n                          '\n"
          ]
        }
      ]
    },
    {
      "cell_type": "code",
      "metadata": {
        "colab": {
          "base_uri": "https://localhost:8080/"
        },
        "id": "p2pGotuNzf-S",
        "outputId": "d40c93b4-3207-42e2-8273-2e4bf8739a8e"
      },
      "source": [
        "# Зададим некоторые параметры, перемешаем данные и поделим на батчи\n",
        "\n",
        "BATCH_SIZE = 64\n",
        "BUFFER_SIZE = 10000\n",
        "\n",
        "dataset = dataset.shuffle(BUFFER_SIZE).batch(BATCH_SIZE, drop_remainder=True)\n",
        "dataset"
      ],
      "execution_count": 36,
      "outputs": [
        {
          "output_type": "execute_result",
          "data": {
            "text/plain": [
              "<BatchDataset element_spec=(TensorSpec(shape=(64, 100), dtype=tf.int64, name=None), TensorSpec(shape=(64, 100), dtype=tf.int64, name=None))>"
            ]
          },
          "metadata": {},
          "execution_count": 36
        }
      ]
    },
    {
      "cell_type": "code",
      "source": [
        "# Зададим архитектуру модели генерации текста\n",
        "\n",
        "def build_model(vocab_size, embedding_dim, batch_size):\n",
        "    model = tf.keras.Sequential([\n",
        "        tf.keras.layers.Embedding(vocab_size, embedding_dim,\n",
        "                                  batch_input_shape=[batch_size, None]),\n",
        "                                 \n",
        "        # tf.keras.layers.GRU(1024,\n",
        "        #                     return_sequences=True,\n",
        "        #                     stateful=False,\n",
        "        #                     recurrent_initializer='glorot_uniform'),\n",
        "\n",
        "        tf.keras.layers.LSTM(1024,\n",
        "                            return_sequences=True,\n",
        "                            stateful=True,\n",
        "                            recurrent_initializer='glorot_uniform'),\n",
        "        \n",
        "        tf.keras.layers.LSTM(1024,\n",
        "                            return_sequences=True,\n",
        "                            stateful=True,\n",
        "                            recurrent_initializer='glorot_uniform'),\n",
        "\n",
        "        tf.keras.layers.LSTM(1024,\n",
        "                            return_sequences=True,\n",
        "                            stateful=True,\n",
        "                            recurrent_initializer='glorot_uniform'),\n",
        "\n",
        "        tf.keras.layers.LSTM(1024,\n",
        "                            return_sequences=True,\n",
        "                            stateful=True,\n",
        "                            recurrent_initializer='glorot_uniform'),\n",
        "                                   \n",
        "         tf.keras.layers.Dense(vocab_size)\n",
        "    ])\n",
        "    return model"
      ],
      "metadata": {
        "id": "uSXslYyjZ1WN"
      },
      "execution_count": 37,
      "outputs": []
    },
    {
      "cell_type": "code",
      "source": [
        "# Построим модель\n",
        "\n",
        "EMBEDDING_DIM = 256\n",
        "model = build_model(vocab_size=len(vocab),\n",
        "                    embedding_dim=EMBEDDING_DIM,\n",
        "                    batch_size=BATCH_SIZE)"
      ],
      "metadata": {
        "id": "Bowvt8QelV8w"
      },
      "execution_count": 38,
      "outputs": []
    },
    {
      "cell_type": "code",
      "metadata": {
        "id": "C-_70kKAPrPU",
        "colab": {
          "base_uri": "https://localhost:8080/"
        },
        "outputId": "a0a5a1ee-ffe7-42a7-bf1a-9f01e295407c"
      },
      "source": [
        "# Посмотрим на выходную размерность предсказаний\n",
        "\n",
        "for input_example_batch, target_example_batch in dataset.take(1):\n",
        "    example_batch_predictions = model(input_example_batch)\n",
        "    print(example_batch_predictions.shape, \"# (batch_size, sequence_length, vocab_size)\")"
      ],
      "execution_count": 39,
      "outputs": [
        {
          "output_type": "stream",
          "name": "stdout",
          "text": [
            "(64, 100, 131) # (batch_size, sequence_length, vocab_size)\n"
          ]
        }
      ]
    },
    {
      "cell_type": "code",
      "metadata": {
        "colab": {
          "base_uri": "https://localhost:8080/"
        },
        "id": "vPGmAAXmVLGC",
        "outputId": "fab18e9b-f92d-4b72-ede6-143d73498db0"
      },
      "source": [
        "model.summary()"
      ],
      "execution_count": 40,
      "outputs": [
        {
          "output_type": "stream",
          "name": "stdout",
          "text": [
            "Model: \"sequential_2\"\n",
            "_________________________________________________________________\n",
            " Layer (type)                Output Shape              Param #   \n",
            "=================================================================\n",
            " embedding_2 (Embedding)     (64, None, 256)           33536     \n",
            "                                                                 \n",
            " lstm_8 (LSTM)               (64, None, 1024)          5246976   \n",
            "                                                                 \n",
            " lstm_9 (LSTM)               (64, None, 1024)          8392704   \n",
            "                                                                 \n",
            " lstm_10 (LSTM)              (64, None, 1024)          8392704   \n",
            "                                                                 \n",
            " lstm_11 (LSTM)              (64, None, 1024)          8392704   \n",
            "                                                                 \n",
            " dense_2 (Dense)             (64, None, 131)           134275    \n",
            "                                                                 \n",
            "=================================================================\n",
            "Total params: 30,592,899\n",
            "Trainable params: 30,592,899\n",
            "Non-trainable params: 0\n",
            "_________________________________________________________________\n"
          ]
        }
      ]
    },
    {
      "cell_type": "code",
      "metadata": {
        "id": "aFkC1pcZjQFq"
      },
      "source": [
        "# example_batch_predictions[0]"
      ],
      "execution_count": 41,
      "outputs": []
    },
    {
      "cell_type": "code",
      "metadata": {
        "id": "4V4MfFg0RQJg",
        "colab": {
          "base_uri": "https://localhost:8080/"
        },
        "outputId": "1f7c770d-454c-4cc3-e32a-726de606215f"
      },
      "source": [
        "# Посмотрим на пример генерации необученной модели\n",
        "\n",
        "sampled_indices = tf.random.categorical(example_batch_predictions[0], num_samples=1)\n",
        "sampled_indices = tf.squeeze(sampled_indices,axis=-1).numpy()\n",
        "\n",
        "print(\"Input: \\n\", repr(\"\".join(idx2char[input_example_batch[0]])))\n",
        "print()\n",
        "print(\"Next Char Predictions: \\n\", repr(\"\".join(idx2char[sampled_indices])))"
      ],
      "execution_count": 42,
      "outputs": [
        {
          "output_type": "stream",
          "name": "stdout",
          "text": [
            "Input: \n",
            " 'ша его\\n                        Не слышит горя моего.\\n\\n                                     XXXI\\n\\n   '\n",
            "\n",
            "Next Char Predictions: \n",
            " '\\'DqQэ;h(IсШГЖ)oFБь\"ШЗ1КМАXОeк,H}MlzkVэVШ8я1NfА4шLAзАуПdЛФ8йeЖ1юdз2шfдцТzжkGwIyЛъtп09X0АEWlЯLЖh\\nRААuB'\n"
          ]
        }
      ]
    },
    {
      "cell_type": "code",
      "metadata": {
        "colab": {
          "base_uri": "https://localhost:8080/"
        },
        "id": "4HrXTACTdzY-",
        "outputId": "4e61dc1a-3758-4261-aa00-ccab7992852c"
      },
      "source": [
        "# Зададим функцию потерь\n",
        "\n",
        "def loss(labels, logits):\n",
        "    return tf.keras.losses.sparse_categorical_crossentropy(labels, logits, from_logits=True)\n",
        "\n",
        "example_batch_loss = loss(target_example_batch, example_batch_predictions)\n",
        "print(\"Prediction shape: \", example_batch_predictions.shape, \" # (batch_size, sequence_length, vocab_size)\")\n",
        "print(\"scalar_loss:      \", example_batch_loss.numpy().mean())"
      ],
      "execution_count": 43,
      "outputs": [
        {
          "output_type": "stream",
          "name": "stdout",
          "text": [
            "Prediction shape:  (64, 100, 131)  # (batch_size, sequence_length, vocab_size)\n",
            "scalar_loss:       4.8770537\n"
          ]
        }
      ]
    },
    {
      "cell_type": "code",
      "source": [
        "# место для хранения checkpoint\n",
        "checkpoint_dir = './training_checkpoints'\n",
        "# Имя файла checkpoint\n",
        "checkpoint_prefix = os.path.join(checkpoint_dir, \"ckpt_{epoch}\")\n",
        "\n",
        "checkpoint_callback = tf.keras.callbacks.ModelCheckpoint(\n",
        "    filepath=checkpoint_prefix,\n",
        "    save_freq=44*100, # сохраняем каждую сотую эпоху - в эпохе 44 батча (это видно при запуске обучения)\n",
        "    save_weights_only=True,\n",
        "    )"
      ],
      "metadata": {
        "id": "E7XhUN_ltmCZ"
      },
      "execution_count": 44,
      "outputs": []
    },
    {
      "cell_type": "code",
      "metadata": {
        "id": "DDl1_Een6rL0",
        "colab": {
          "base_uri": "https://localhost:8080/"
        },
        "outputId": "03b0ed48-d4e8-4d22-9c07-88c481819764"
      },
      "source": [
        "# Обучим модель\n",
        "\n",
        "EPOCHS = 100\n",
        "model.compile(optimizer='adam', loss=loss, metrics='accuracy')\n",
        "history = model.fit(dataset, epochs=EPOCHS, callbacks=[checkpoint_callback])"
      ],
      "execution_count": 45,
      "outputs": [
        {
          "output_type": "stream",
          "name": "stdout",
          "text": [
            "Epoch 1/100\n",
            "44/44 [==============================] - 18s 312ms/step - loss: 2.3679 - accuracy: 0.5487\n",
            "Epoch 2/100\n",
            "44/44 [==============================] - 14s 316ms/step - loss: 1.7852 - accuracy: 0.5647\n",
            "Epoch 3/100\n",
            "44/44 [==============================] - 14s 319ms/step - loss: 1.6271 - accuracy: 0.5804\n",
            "Epoch 4/100\n",
            "44/44 [==============================] - 14s 321ms/step - loss: 1.4885 - accuracy: 0.5956\n",
            "Epoch 5/100\n",
            "44/44 [==============================] - 15s 324ms/step - loss: 1.4074 - accuracy: 0.6046\n",
            "Epoch 6/100\n",
            "44/44 [==============================] - 15s 326ms/step - loss: 1.3611 - accuracy: 0.6132\n",
            "Epoch 7/100\n",
            "44/44 [==============================] - 15s 326ms/step - loss: 1.3337 - accuracy: 0.6207\n",
            "Epoch 8/100\n",
            "44/44 [==============================] - 15s 326ms/step - loss: 1.2943 - accuracy: 0.6291\n",
            "Epoch 9/100\n",
            "44/44 [==============================] - 15s 325ms/step - loss: 1.2878 - accuracy: 0.6335\n",
            "Epoch 10/100\n",
            "44/44 [==============================] - 15s 328ms/step - loss: 1.2451 - accuracy: 0.6406\n",
            "Epoch 11/100\n",
            "44/44 [==============================] - 15s 328ms/step - loss: 1.2319 - accuracy: 0.6480\n",
            "Epoch 12/100\n",
            "44/44 [==============================] - 15s 328ms/step - loss: 1.1949 - accuracy: 0.6563\n",
            "Epoch 13/100\n",
            "44/44 [==============================] - 15s 331ms/step - loss: 1.1640 - accuracy: 0.6629\n",
            "Epoch 14/100\n",
            "44/44 [==============================] - 15s 333ms/step - loss: 1.1500 - accuracy: 0.6704\n",
            "Epoch 15/100\n",
            "44/44 [==============================] - 15s 335ms/step - loss: 1.1289 - accuracy: 0.6781\n",
            "Epoch 16/100\n",
            "44/44 [==============================] - 15s 334ms/step - loss: 1.0913 - accuracy: 0.6871\n",
            "Epoch 17/100\n",
            "44/44 [==============================] - 15s 335ms/step - loss: 1.0612 - accuracy: 0.6946\n",
            "Epoch 18/100\n",
            "44/44 [==============================] - 15s 333ms/step - loss: 1.0325 - accuracy: 0.7027\n",
            "Epoch 19/100\n",
            "44/44 [==============================] - 15s 336ms/step - loss: 1.0043 - accuracy: 0.7113\n",
            "Epoch 20/100\n",
            "44/44 [==============================] - 15s 337ms/step - loss: 0.9745 - accuracy: 0.7182\n",
            "Epoch 21/100\n",
            "44/44 [==============================] - 15s 335ms/step - loss: 0.9541 - accuracy: 0.7268\n",
            "Epoch 22/100\n",
            "44/44 [==============================] - 15s 337ms/step - loss: 0.9156 - accuracy: 0.7364\n",
            "Epoch 23/100\n",
            "44/44 [==============================] - 15s 335ms/step - loss: 0.8761 - accuracy: 0.7463\n",
            "Epoch 24/100\n",
            "44/44 [==============================] - 15s 337ms/step - loss: 0.8388 - accuracy: 0.7569\n",
            "Epoch 25/100\n",
            "44/44 [==============================] - 15s 338ms/step - loss: 0.8067 - accuracy: 0.7687\n",
            "Epoch 26/100\n",
            "44/44 [==============================] - 15s 336ms/step - loss: 0.7697 - accuracy: 0.7786\n",
            "Epoch 27/100\n",
            "44/44 [==============================] - 15s 337ms/step - loss: 0.7331 - accuracy: 0.7906\n",
            "Epoch 28/100\n",
            "44/44 [==============================] - 15s 336ms/step - loss: 0.6909 - accuracy: 0.8031\n",
            "Epoch 29/100\n",
            "44/44 [==============================] - 15s 336ms/step - loss: 0.6341 - accuracy: 0.8179\n",
            "Epoch 30/100\n",
            "44/44 [==============================] - 15s 338ms/step - loss: 0.6083 - accuracy: 0.8306\n",
            "Epoch 31/100\n",
            "44/44 [==============================] - 15s 339ms/step - loss: 0.5774 - accuracy: 0.8449\n",
            "Epoch 32/100\n",
            "44/44 [==============================] - 15s 337ms/step - loss: 0.5305 - accuracy: 0.8582\n",
            "Epoch 33/100\n",
            "44/44 [==============================] - 15s 336ms/step - loss: 0.4850 - accuracy: 0.8691\n",
            "Epoch 34/100\n",
            "44/44 [==============================] - 15s 338ms/step - loss: 0.4798 - accuracy: 0.8774\n",
            "Epoch 35/100\n",
            "44/44 [==============================] - 15s 335ms/step - loss: 0.4401 - accuracy: 0.8873\n",
            "Epoch 36/100\n",
            "44/44 [==============================] - 15s 335ms/step - loss: 0.3968 - accuracy: 0.8964\n",
            "Epoch 37/100\n",
            "44/44 [==============================] - 15s 336ms/step - loss: 0.3947 - accuracy: 0.8997\n",
            "Epoch 38/100\n",
            "44/44 [==============================] - 15s 335ms/step - loss: 0.3993 - accuracy: 0.9021\n",
            "Epoch 39/100\n",
            "44/44 [==============================] - 15s 337ms/step - loss: 0.3744 - accuracy: 0.9064\n",
            "Epoch 40/100\n",
            "44/44 [==============================] - 15s 335ms/step - loss: 0.3580 - accuracy: 0.9099\n",
            "Epoch 41/100\n",
            "44/44 [==============================] - 15s 337ms/step - loss: 0.3505 - accuracy: 0.9124\n",
            "Epoch 42/100\n",
            "44/44 [==============================] - 15s 335ms/step - loss: 0.3332 - accuracy: 0.9144\n",
            "Epoch 43/100\n",
            "44/44 [==============================] - 15s 334ms/step - loss: 0.3178 - accuracy: 0.9161\n",
            "Epoch 44/100\n",
            "44/44 [==============================] - 15s 335ms/step - loss: 0.3117 - accuracy: 0.9175\n",
            "Epoch 45/100\n",
            "44/44 [==============================] - 15s 336ms/step - loss: 0.3107 - accuracy: 0.9180\n",
            "Epoch 46/100\n",
            "44/44 [==============================] - 15s 335ms/step - loss: 0.3362 - accuracy: 0.9168\n",
            "Epoch 47/100\n",
            "44/44 [==============================] - 15s 337ms/step - loss: 0.3123 - accuracy: 0.9191\n",
            "Epoch 48/100\n",
            "44/44 [==============================] - 15s 335ms/step - loss: 0.3019 - accuracy: 0.9202\n",
            "Epoch 49/100\n",
            "44/44 [==============================] - 15s 334ms/step - loss: 0.3040 - accuracy: 0.9208\n",
            "Epoch 50/100\n",
            "44/44 [==============================] - 15s 337ms/step - loss: 0.3107 - accuracy: 0.9207\n",
            "Epoch 51/100\n",
            "44/44 [==============================] - 15s 338ms/step - loss: 0.3008 - accuracy: 0.9215\n",
            "Epoch 52/100\n",
            "44/44 [==============================] - 15s 339ms/step - loss: 0.2888 - accuracy: 0.9231\n",
            "Epoch 53/100\n",
            "44/44 [==============================] - 15s 337ms/step - loss: 0.2798 - accuracy: 0.9251\n",
            "Epoch 54/100\n",
            "44/44 [==============================] - 15s 338ms/step - loss: 0.2764 - accuracy: 0.9257\n",
            "Epoch 55/100\n",
            "44/44 [==============================] - 15s 336ms/step - loss: 0.2911 - accuracy: 0.9254\n",
            "Epoch 56/100\n",
            "44/44 [==============================] - 15s 338ms/step - loss: 0.2781 - accuracy: 0.9265\n",
            "Epoch 57/100\n",
            "44/44 [==============================] - 15s 336ms/step - loss: 0.2699 - accuracy: 0.9282\n",
            "Epoch 58/100\n",
            "44/44 [==============================] - 15s 338ms/step - loss: 0.2649 - accuracy: 0.9296\n",
            "Epoch 59/100\n",
            "44/44 [==============================] - 15s 339ms/step - loss: 0.2594 - accuracy: 0.9308\n",
            "Epoch 60/100\n",
            "44/44 [==============================] - 15s 340ms/step - loss: 0.2732 - accuracy: 0.9303\n",
            "Epoch 61/100\n",
            "44/44 [==============================] - 15s 340ms/step - loss: 0.2878 - accuracy: 0.9272\n",
            "Epoch 62/100\n",
            "44/44 [==============================] - 15s 337ms/step - loss: 0.2598 - accuracy: 0.9315\n",
            "Epoch 63/100\n",
            "44/44 [==============================] - 15s 336ms/step - loss: 0.2792 - accuracy: 0.9293\n",
            "Epoch 64/100\n",
            "44/44 [==============================] - 15s 337ms/step - loss: 0.2562 - accuracy: 0.9328\n",
            "Epoch 65/100\n",
            "44/44 [==============================] - 15s 339ms/step - loss: 0.2829 - accuracy: 0.9303\n",
            "Epoch 66/100\n",
            "44/44 [==============================] - 15s 340ms/step - loss: 0.2673 - accuracy: 0.9323\n",
            "Epoch 67/100\n",
            "44/44 [==============================] - 15s 338ms/step - loss: 0.2456 - accuracy: 0.9355\n",
            "Epoch 68/100\n",
            "44/44 [==============================] - 15s 336ms/step - loss: 0.2375 - accuracy: 0.9379\n",
            "Epoch 69/100\n",
            "44/44 [==============================] - 15s 338ms/step - loss: 0.2592 - accuracy: 0.9349\n",
            "Epoch 70/100\n",
            "44/44 [==============================] - 15s 339ms/step - loss: 0.2471 - accuracy: 0.9367\n",
            "Epoch 71/100\n",
            "44/44 [==============================] - 15s 340ms/step - loss: 0.2290 - accuracy: 0.9410\n",
            "Epoch 72/100\n",
            "44/44 [==============================] - 15s 338ms/step - loss: 0.2257 - accuracy: 0.9422\n",
            "Epoch 73/100\n",
            "44/44 [==============================] - 15s 336ms/step - loss: 0.2557 - accuracy: 0.9367\n",
            "Epoch 74/100\n",
            "44/44 [==============================] - 15s 335ms/step - loss: 0.2419 - accuracy: 0.9397\n",
            "Epoch 75/100\n",
            "44/44 [==============================] - 15s 337ms/step - loss: 0.2208 - accuracy: 0.9438\n",
            "Epoch 76/100\n",
            "44/44 [==============================] - 15s 336ms/step - loss: 0.2115 - accuracy: 0.9464\n",
            "Epoch 77/100\n",
            "44/44 [==============================] - 15s 337ms/step - loss: 0.2401 - accuracy: 0.9412\n",
            "Epoch 78/100\n",
            "44/44 [==============================] - 15s 335ms/step - loss: 0.2293 - accuracy: 0.9431\n",
            "Epoch 79/100\n",
            "44/44 [==============================] - 15s 334ms/step - loss: 0.2069 - accuracy: 0.9484\n",
            "Epoch 80/100\n",
            "44/44 [==============================] - 15s 334ms/step - loss: 0.2027 - accuracy: 0.9499\n",
            "Epoch 81/100\n",
            "44/44 [==============================] - 15s 336ms/step - loss: 0.1968 - accuracy: 0.9520\n",
            "Epoch 82/100\n",
            "44/44 [==============================] - 15s 337ms/step - loss: 0.1932 - accuracy: 0.9528\n",
            "Epoch 83/100\n",
            "44/44 [==============================] - 15s 338ms/step - loss: 0.2468 - accuracy: 0.9409\n",
            "Epoch 84/100\n",
            "44/44 [==============================] - 15s 339ms/step - loss: 0.2139 - accuracy: 0.9464\n",
            "Epoch 85/100\n",
            "44/44 [==============================] - 15s 341ms/step - loss: 0.2110 - accuracy: 0.9480\n",
            "Epoch 86/100\n",
            "44/44 [==============================] - 15s 338ms/step - loss: 0.1962 - accuracy: 0.9523\n",
            "Epoch 87/100\n",
            "44/44 [==============================] - 15s 340ms/step - loss: 0.1851 - accuracy: 0.9558\n",
            "Epoch 88/100\n",
            "44/44 [==============================] - 15s 340ms/step - loss: 0.1797 - accuracy: 0.9575\n",
            "Epoch 89/100\n",
            "44/44 [==============================] - 15s 340ms/step - loss: 0.1742 - accuracy: 0.9588\n",
            "Epoch 90/100\n",
            "44/44 [==============================] - 15s 338ms/step - loss: 0.2155 - accuracy: 0.9474\n",
            "Epoch 91/100\n",
            "44/44 [==============================] - 15s 341ms/step - loss: 0.2173 - accuracy: 0.9497\n",
            "Epoch 92/100\n",
            "44/44 [==============================] - 16s 342ms/step - loss: 0.2005 - accuracy: 0.9512\n",
            "Epoch 93/100\n",
            "44/44 [==============================] - 15s 338ms/step - loss: 0.2213 - accuracy: 0.9481\n",
            "Epoch 94/100\n",
            "44/44 [==============================] - 15s 339ms/step - loss: 0.2250 - accuracy: 0.9444\n",
            "Epoch 95/100\n",
            "44/44 [==============================] - 15s 340ms/step - loss: 0.2025 - accuracy: 0.9493\n",
            "Epoch 96/100\n",
            "44/44 [==============================] - 15s 341ms/step - loss: 0.1876 - accuracy: 0.9528\n",
            "Epoch 97/100\n",
            "44/44 [==============================] - 15s 341ms/step - loss: 0.1702 - accuracy: 0.9596\n",
            "Epoch 98/100\n",
            "44/44 [==============================] - 15s 342ms/step - loss: 0.1871 - accuracy: 0.9540\n",
            "Epoch 99/100\n",
            "44/44 [==============================] - 15s 339ms/step - loss: 0.1683 - accuracy: 0.9606\n",
            "Epoch 100/100\n",
            "44/44 [==============================] - 16s 362ms/step - loss: 0.1702 - accuracy: 0.9590\n"
          ]
        }
      ]
    },
    {
      "cell_type": "code",
      "source": [
        "#Находим имя файла последней сохраненной контрольной точки\n",
        "tf.train.latest_checkpoint(checkpoint_dir)"
      ],
      "metadata": {
        "colab": {
          "base_uri": "https://localhost:8080/",
          "height": 36
        },
        "id": "QOUfft8st2Nt",
        "outputId": "fda699eb-ba97-443e-ade3-061454780bcd"
      },
      "execution_count": 46,
      "outputs": [
        {
          "output_type": "execute_result",
          "data": {
            "text/plain": [
              "'./training_checkpoints/ckpt_100'"
            ],
            "application/vnd.google.colaboratory.intrinsic+json": {
              "type": "string"
            }
          },
          "metadata": {},
          "execution_count": 46
        }
      ]
    },
    {
      "cell_type": "code",
      "source": [
        "#строим модель\n",
        "model = build_model(len(vocab), 256, batch_size=1)\n",
        "\n",
        "#загружаем веса из последней сохраненной контрольной точки в модель\n",
        "model.load_weights(tf.train.latest_checkpoint(checkpoint_dir))\n",
        "\n",
        "# model.build(tf.TensorShape([1, None]))"
      ],
      "metadata": {
        "id": "rHkDsgT0t2Qc",
        "colab": {
          "base_uri": "https://localhost:8080/"
        },
        "outputId": "431170b5-5c02-4d03-a291-a33b27ab4321"
      },
      "execution_count": 47,
      "outputs": [
        {
          "output_type": "execute_result",
          "data": {
            "text/plain": [
              "<tensorflow.python.training.tracking.util.CheckpointLoadStatus at 0x7f8a561db590>"
            ]
          },
          "metadata": {},
          "execution_count": 47
        }
      ]
    },
    {
      "cell_type": "code",
      "source": [
        "model.summary()"
      ],
      "metadata": {
        "colab": {
          "base_uri": "https://localhost:8080/"
        },
        "id": "cdy0dZDUtERy",
        "outputId": "d5930df9-e9aa-49c2-efb6-c6754e8fc71f"
      },
      "execution_count": 48,
      "outputs": [
        {
          "output_type": "stream",
          "name": "stdout",
          "text": [
            "Model: \"sequential_3\"\n",
            "_________________________________________________________________\n",
            " Layer (type)                Output Shape              Param #   \n",
            "=================================================================\n",
            " embedding_3 (Embedding)     (1, None, 256)            33536     \n",
            "                                                                 \n",
            " lstm_12 (LSTM)              (1, None, 1024)           5246976   \n",
            "                                                                 \n",
            " lstm_13 (LSTM)              (1, None, 1024)           8392704   \n",
            "                                                                 \n",
            " lstm_14 (LSTM)              (1, None, 1024)           8392704   \n",
            "                                                                 \n",
            " lstm_15 (LSTM)              (1, None, 1024)           8392704   \n",
            "                                                                 \n",
            " dense_3 (Dense)             (1, None, 131)            134275    \n",
            "                                                                 \n",
            "=================================================================\n",
            "Total params: 30,592,899\n",
            "Trainable params: 30,592,899\n",
            "Non-trainable params: 0\n",
            "_________________________________________________________________\n"
          ]
        }
      ]
    },
    {
      "cell_type": "code",
      "metadata": {
        "id": "WvuwZBX5Ogfd",
        "colab": {
          "base_uri": "https://localhost:8080/"
        },
        "outputId": "a9e6002a-81ac-4050-b23e-5825303d4c3a"
      },
      "source": [
        "# Посмотрим на результаты генерации текста обученной модели\n",
        "\n",
        "def generate_text(model, start_string):\n",
        "    # Evaluation step (generating text using the learned model)\n",
        "\n",
        "    # Number of characters to generate\n",
        "    num_generate = 1000\n",
        "\n",
        "    # Converting our start string to numbers (vectorizing)\n",
        "    input_eval = [char2idx[s] for s in start_string]\n",
        "    input_eval = tf.expand_dims(input_eval, 0)\n",
        "\n",
        "    # Empty string to store our results\n",
        "    text_generated = []\n",
        "\n",
        "    # Low temperature results in more predictable text.\n",
        "    # Higher temperature results in more surprising text.\n",
        "    # Experiment to find the best setting.\n",
        "    temperature = 1\n",
        "\n",
        "    # Here batch size == 1\n",
        "    model.reset_states()\n",
        "    for i in range(num_generate):\n",
        "        predictions = model(input_eval)\n",
        "        predictions = tf.squeeze(predictions, 0)\n",
        "\n",
        "        # using a categorical distribution to predict the character returned by the model\n",
        "        predictions = predictions / temperature\n",
        "        predicted_id = tf.random.categorical(predictions, num_samples=1)[-1, 0].numpy()\n",
        "\n",
        "        # Pass the predicted character as the next input to the model\n",
        "        # along with the previous hidden state\n",
        "        input_eval = tf.expand_dims([predicted_id], 0)\n",
        "\n",
        "        text_generated.append(idx2char[predicted_id])\n",
        "\n",
        "    return (start_string + ''.join(text_generated))\n",
        "\n",
        "text_ = generate_text(model, start_string=u\"И вот идет уже \")\n",
        "print(text_)"
      ],
      "execution_count": 49,
      "outputs": [
        {
          "output_type": "stream",
          "name": "stdout",
          "text": [
            "И вот идет уже не взвений\n",
            "                           В тебе не встретишь, свет пустой.\n",
            "\n",
            "                                  Скоркаться не дожил,\n",
            "                     XVI\n",
            "\n",
            "                          Уж темно: в санки он садится.\n",
            "                                    Врова полна, дде он Жремен страшный вред,\n",
            "                           Читать в глаза своим любезным\n",
            "                          Сосед наш неуч; сумасбит.\n",
            "                          Что пылких душ неосторожность\n",
            "                        Самолюбивую ничтожнят\".\n",
            "                         Сердечный друг, желанный друг,\n",
            "                         Почетный гражданин кулодом {36}.\n",
            "                        Пошли же внука своего.\n",
            "                         \"Мой друг, вот бог тебе порука\".\n",
            "       И он, все клуши степной\n",
            "                    Об,\n",
            "                         Татьяну милую мою!\n",
            "\n",
            "                                     IV\n",
            "\n",
            "                      Так мысль ее далече бродит:\n",
            "                           И начитаться не могу.\n",
            "                        Цетей условленны\n"
          ]
        }
      ]
    }
  ]
}