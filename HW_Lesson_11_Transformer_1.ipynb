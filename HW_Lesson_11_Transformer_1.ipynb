{
  "nbformat": 4,
  "nbformat_minor": 0,
  "metadata": {
    "colab": {
      "provenance": [],
      "collapsed_sections": []
    },
    "kernelspec": {
      "display_name": "Python 3",
      "name": "python3"
    },
    "widgets": {
      "application/vnd.jupyter.widget-state+json": {
        "b497c3d2efe845639ec800922fdf1762": {
          "model_module": "@jupyter-widgets/controls",
          "model_name": "HBoxModel",
          "model_module_version": "1.5.0",
          "state": {
            "_dom_classes": [],
            "_model_module": "@jupyter-widgets/controls",
            "_model_module_version": "1.5.0",
            "_model_name": "HBoxModel",
            "_view_count": null,
            "_view_module": "@jupyter-widgets/controls",
            "_view_module_version": "1.5.0",
            "_view_name": "HBoxView",
            "box_style": "",
            "children": [
              "IPY_MODEL_ed8cfef3e8394afca20c71f990924e3c",
              "IPY_MODEL_2d85d95095f942a2ba32e49c49a6eba9",
              "IPY_MODEL_93145262d0fa42e5bbfa4995b2b0b8f4"
            ],
            "layout": "IPY_MODEL_f3f77ceb3ea34a0a8b439917e7c8ec24"
          }
        },
        "ed8cfef3e8394afca20c71f990924e3c": {
          "model_module": "@jupyter-widgets/controls",
          "model_name": "HTMLModel",
          "model_module_version": "1.5.0",
          "state": {
            "_dom_classes": [],
            "_model_module": "@jupyter-widgets/controls",
            "_model_module_version": "1.5.0",
            "_model_name": "HTMLModel",
            "_view_count": null,
            "_view_module": "@jupyter-widgets/controls",
            "_view_module_version": "1.5.0",
            "_view_name": "HTMLView",
            "description": "",
            "description_tooltip": null,
            "layout": "IPY_MODEL_7cf5b6b7db5a4d42a7673795af5bbeb5",
            "placeholder": "​",
            "style": "IPY_MODEL_44c32e3bfb3e43bb8230a264029df39c",
            "value": "Downloading: 100%"
          }
        },
        "2d85d95095f942a2ba32e49c49a6eba9": {
          "model_module": "@jupyter-widgets/controls",
          "model_name": "FloatProgressModel",
          "model_module_version": "1.5.0",
          "state": {
            "_dom_classes": [],
            "_model_module": "@jupyter-widgets/controls",
            "_model_module_version": "1.5.0",
            "_model_name": "FloatProgressModel",
            "_view_count": null,
            "_view_module": "@jupyter-widgets/controls",
            "_view_module_version": "1.5.0",
            "_view_name": "ProgressView",
            "bar_style": "success",
            "description": "",
            "description_tooltip": null,
            "layout": "IPY_MODEL_08f991cbbbc44946935e69325e0a5b8e",
            "max": 1164465181,
            "min": 0,
            "orientation": "horizontal",
            "style": "IPY_MODEL_4b17fb38fc5b4f74a4c42b5f9b321990",
            "value": 1164465181
          }
        },
        "93145262d0fa42e5bbfa4995b2b0b8f4": {
          "model_module": "@jupyter-widgets/controls",
          "model_name": "HTMLModel",
          "model_module_version": "1.5.0",
          "state": {
            "_dom_classes": [],
            "_model_module": "@jupyter-widgets/controls",
            "_model_module_version": "1.5.0",
            "_model_name": "HTMLModel",
            "_view_count": null,
            "_view_module": "@jupyter-widgets/controls",
            "_view_module_version": "1.5.0",
            "_view_name": "HTMLView",
            "description": "",
            "description_tooltip": null,
            "layout": "IPY_MODEL_b87625653b6a4aef855e80d7e479f81b",
            "placeholder": "​",
            "style": "IPY_MODEL_bd882b59919d47ca9816f28e624f7397",
            "value": " 1.16G/1.16G [01:21&lt;00:00, 13.4MB/s]"
          }
        },
        "f3f77ceb3ea34a0a8b439917e7c8ec24": {
          "model_module": "@jupyter-widgets/base",
          "model_name": "LayoutModel",
          "model_module_version": "1.2.0",
          "state": {
            "_model_module": "@jupyter-widgets/base",
            "_model_module_version": "1.2.0",
            "_model_name": "LayoutModel",
            "_view_count": null,
            "_view_module": "@jupyter-widgets/base",
            "_view_module_version": "1.2.0",
            "_view_name": "LayoutView",
            "align_content": null,
            "align_items": null,
            "align_self": null,
            "border": null,
            "bottom": null,
            "display": null,
            "flex": null,
            "flex_flow": null,
            "grid_area": null,
            "grid_auto_columns": null,
            "grid_auto_flow": null,
            "grid_auto_rows": null,
            "grid_column": null,
            "grid_gap": null,
            "grid_row": null,
            "grid_template_areas": null,
            "grid_template_columns": null,
            "grid_template_rows": null,
            "height": null,
            "justify_content": null,
            "justify_items": null,
            "left": null,
            "margin": null,
            "max_height": null,
            "max_width": null,
            "min_height": null,
            "min_width": null,
            "object_fit": null,
            "object_position": null,
            "order": null,
            "overflow": null,
            "overflow_x": null,
            "overflow_y": null,
            "padding": null,
            "right": null,
            "top": null,
            "visibility": null,
            "width": null
          }
        },
        "7cf5b6b7db5a4d42a7673795af5bbeb5": {
          "model_module": "@jupyter-widgets/base",
          "model_name": "LayoutModel",
          "model_module_version": "1.2.0",
          "state": {
            "_model_module": "@jupyter-widgets/base",
            "_model_module_version": "1.2.0",
            "_model_name": "LayoutModel",
            "_view_count": null,
            "_view_module": "@jupyter-widgets/base",
            "_view_module_version": "1.2.0",
            "_view_name": "LayoutView",
            "align_content": null,
            "align_items": null,
            "align_self": null,
            "border": null,
            "bottom": null,
            "display": null,
            "flex": null,
            "flex_flow": null,
            "grid_area": null,
            "grid_auto_columns": null,
            "grid_auto_flow": null,
            "grid_auto_rows": null,
            "grid_column": null,
            "grid_gap": null,
            "grid_row": null,
            "grid_template_areas": null,
            "grid_template_columns": null,
            "grid_template_rows": null,
            "height": null,
            "justify_content": null,
            "justify_items": null,
            "left": null,
            "margin": null,
            "max_height": null,
            "max_width": null,
            "min_height": null,
            "min_width": null,
            "object_fit": null,
            "object_position": null,
            "order": null,
            "overflow": null,
            "overflow_x": null,
            "overflow_y": null,
            "padding": null,
            "right": null,
            "top": null,
            "visibility": null,
            "width": null
          }
        },
        "44c32e3bfb3e43bb8230a264029df39c": {
          "model_module": "@jupyter-widgets/controls",
          "model_name": "DescriptionStyleModel",
          "model_module_version": "1.5.0",
          "state": {
            "_model_module": "@jupyter-widgets/controls",
            "_model_module_version": "1.5.0",
            "_model_name": "DescriptionStyleModel",
            "_view_count": null,
            "_view_module": "@jupyter-widgets/base",
            "_view_module_version": "1.2.0",
            "_view_name": "StyleView",
            "description_width": ""
          }
        },
        "08f991cbbbc44946935e69325e0a5b8e": {
          "model_module": "@jupyter-widgets/base",
          "model_name": "LayoutModel",
          "model_module_version": "1.2.0",
          "state": {
            "_model_module": "@jupyter-widgets/base",
            "_model_module_version": "1.2.0",
            "_model_name": "LayoutModel",
            "_view_count": null,
            "_view_module": "@jupyter-widgets/base",
            "_view_module_version": "1.2.0",
            "_view_name": "LayoutView",
            "align_content": null,
            "align_items": null,
            "align_self": null,
            "border": null,
            "bottom": null,
            "display": null,
            "flex": null,
            "flex_flow": null,
            "grid_area": null,
            "grid_auto_columns": null,
            "grid_auto_flow": null,
            "grid_auto_rows": null,
            "grid_column": null,
            "grid_gap": null,
            "grid_row": null,
            "grid_template_areas": null,
            "grid_template_columns": null,
            "grid_template_rows": null,
            "height": null,
            "justify_content": null,
            "justify_items": null,
            "left": null,
            "margin": null,
            "max_height": null,
            "max_width": null,
            "min_height": null,
            "min_width": null,
            "object_fit": null,
            "object_position": null,
            "order": null,
            "overflow": null,
            "overflow_x": null,
            "overflow_y": null,
            "padding": null,
            "right": null,
            "top": null,
            "visibility": null,
            "width": null
          }
        },
        "4b17fb38fc5b4f74a4c42b5f9b321990": {
          "model_module": "@jupyter-widgets/controls",
          "model_name": "ProgressStyleModel",
          "model_module_version": "1.5.0",
          "state": {
            "_model_module": "@jupyter-widgets/controls",
            "_model_module_version": "1.5.0",
            "_model_name": "ProgressStyleModel",
            "_view_count": null,
            "_view_module": "@jupyter-widgets/base",
            "_view_module_version": "1.2.0",
            "_view_name": "StyleView",
            "bar_color": null,
            "description_width": ""
          }
        },
        "b87625653b6a4aef855e80d7e479f81b": {
          "model_module": "@jupyter-widgets/base",
          "model_name": "LayoutModel",
          "model_module_version": "1.2.0",
          "state": {
            "_model_module": "@jupyter-widgets/base",
            "_model_module_version": "1.2.0",
            "_model_name": "LayoutModel",
            "_view_count": null,
            "_view_module": "@jupyter-widgets/base",
            "_view_module_version": "1.2.0",
            "_view_name": "LayoutView",
            "align_content": null,
            "align_items": null,
            "align_self": null,
            "border": null,
            "bottom": null,
            "display": null,
            "flex": null,
            "flex_flow": null,
            "grid_area": null,
            "grid_auto_columns": null,
            "grid_auto_flow": null,
            "grid_auto_rows": null,
            "grid_column": null,
            "grid_gap": null,
            "grid_row": null,
            "grid_template_areas": null,
            "grid_template_columns": null,
            "grid_template_rows": null,
            "height": null,
            "justify_content": null,
            "justify_items": null,
            "left": null,
            "margin": null,
            "max_height": null,
            "max_width": null,
            "min_height": null,
            "min_width": null,
            "object_fit": null,
            "object_position": null,
            "order": null,
            "overflow": null,
            "overflow_x": null,
            "overflow_y": null,
            "padding": null,
            "right": null,
            "top": null,
            "visibility": null,
            "width": null
          }
        },
        "bd882b59919d47ca9816f28e624f7397": {
          "model_module": "@jupyter-widgets/controls",
          "model_name": "DescriptionStyleModel",
          "model_module_version": "1.5.0",
          "state": {
            "_model_module": "@jupyter-widgets/controls",
            "_model_module_version": "1.5.0",
            "_model_name": "DescriptionStyleModel",
            "_view_count": null,
            "_view_module": "@jupyter-widgets/base",
            "_view_module_version": "1.2.0",
            "_view_name": "StyleView",
            "description_width": ""
          }
        },
        "e6403992626c434eaf8a286e9de346cc": {
          "model_module": "@jupyter-widgets/controls",
          "model_name": "HBoxModel",
          "model_module_version": "1.5.0",
          "state": {
            "_dom_classes": [],
            "_model_module": "@jupyter-widgets/controls",
            "_model_module_version": "1.5.0",
            "_model_name": "HBoxModel",
            "_view_count": null,
            "_view_module": "@jupyter-widgets/controls",
            "_view_module_version": "1.5.0",
            "_view_name": "HBoxView",
            "box_style": "",
            "children": [
              "IPY_MODEL_80dae252e61647bc83a56db8c8efd129",
              "IPY_MODEL_d5c41b2c8c82464a8c977e89ac7284a1",
              "IPY_MODEL_d979b2767233457a89f9cc1fde706617"
            ],
            "layout": "IPY_MODEL_d679086d5d2e46c981758e33b2ea9e04"
          }
        },
        "80dae252e61647bc83a56db8c8efd129": {
          "model_module": "@jupyter-widgets/controls",
          "model_name": "HTMLModel",
          "model_module_version": "1.5.0",
          "state": {
            "_dom_classes": [],
            "_model_module": "@jupyter-widgets/controls",
            "_model_module_version": "1.5.0",
            "_model_name": "HTMLModel",
            "_view_count": null,
            "_view_module": "@jupyter-widgets/controls",
            "_view_module_version": "1.5.0",
            "_view_name": "HTMLView",
            "description": "",
            "description_tooltip": null,
            "layout": "IPY_MODEL_47bd6f55472e4387a3247808eb7cbc93",
            "placeholder": "​",
            "style": "IPY_MODEL_8c2309cdbd1842c7976d9ab7903bdd2a",
            "value": ""
          }
        },
        "d5c41b2c8c82464a8c977e89ac7284a1": {
          "model_module": "@jupyter-widgets/controls",
          "model_name": "FloatProgressModel",
          "model_module_version": "1.5.0",
          "state": {
            "_dom_classes": [],
            "_model_module": "@jupyter-widgets/controls",
            "_model_module_version": "1.5.0",
            "_model_name": "FloatProgressModel",
            "_view_count": null,
            "_view_module": "@jupyter-widgets/controls",
            "_view_module_version": "1.5.0",
            "_view_name": "ProgressView",
            "bar_style": "success",
            "description": "",
            "description_tooltip": null,
            "layout": "IPY_MODEL_a98702040e12482ba27ca688dd9a87d3",
            "max": 1,
            "min": 0,
            "orientation": "horizontal",
            "style": "IPY_MODEL_24d2ee5aaaf241d891b418916073ab65",
            "value": 0
          }
        },
        "d979b2767233457a89f9cc1fde706617": {
          "model_module": "@jupyter-widgets/controls",
          "model_name": "HTMLModel",
          "model_module_version": "1.5.0",
          "state": {
            "_dom_classes": [],
            "_model_module": "@jupyter-widgets/controls",
            "_model_module_version": "1.5.0",
            "_model_name": "HTMLModel",
            "_view_count": null,
            "_view_module": "@jupyter-widgets/controls",
            "_view_module_version": "1.5.0",
            "_view_name": "HTMLView",
            "description": "",
            "description_tooltip": null,
            "layout": "IPY_MODEL_3da4386425e448279a1f15c124b6b633",
            "placeholder": "​",
            "style": "IPY_MODEL_1671f7bf181d4862a24dbf200ec65ba0",
            "value": " 0/0 [00:00&lt;?, ?it/s]"
          }
        },
        "d679086d5d2e46c981758e33b2ea9e04": {
          "model_module": "@jupyter-widgets/base",
          "model_name": "LayoutModel",
          "model_module_version": "1.2.0",
          "state": {
            "_model_module": "@jupyter-widgets/base",
            "_model_module_version": "1.2.0",
            "_model_name": "LayoutModel",
            "_view_count": null,
            "_view_module": "@jupyter-widgets/base",
            "_view_module_version": "1.2.0",
            "_view_name": "LayoutView",
            "align_content": null,
            "align_items": null,
            "align_self": null,
            "border": null,
            "bottom": null,
            "display": null,
            "flex": null,
            "flex_flow": null,
            "grid_area": null,
            "grid_auto_columns": null,
            "grid_auto_flow": null,
            "grid_auto_rows": null,
            "grid_column": null,
            "grid_gap": null,
            "grid_row": null,
            "grid_template_areas": null,
            "grid_template_columns": null,
            "grid_template_rows": null,
            "height": null,
            "justify_content": null,
            "justify_items": null,
            "left": null,
            "margin": null,
            "max_height": null,
            "max_width": null,
            "min_height": null,
            "min_width": null,
            "object_fit": null,
            "object_position": null,
            "order": null,
            "overflow": null,
            "overflow_x": null,
            "overflow_y": null,
            "padding": null,
            "right": null,
            "top": null,
            "visibility": null,
            "width": null
          }
        },
        "47bd6f55472e4387a3247808eb7cbc93": {
          "model_module": "@jupyter-widgets/base",
          "model_name": "LayoutModel",
          "model_module_version": "1.2.0",
          "state": {
            "_model_module": "@jupyter-widgets/base",
            "_model_module_version": "1.2.0",
            "_model_name": "LayoutModel",
            "_view_count": null,
            "_view_module": "@jupyter-widgets/base",
            "_view_module_version": "1.2.0",
            "_view_name": "LayoutView",
            "align_content": null,
            "align_items": null,
            "align_self": null,
            "border": null,
            "bottom": null,
            "display": null,
            "flex": null,
            "flex_flow": null,
            "grid_area": null,
            "grid_auto_columns": null,
            "grid_auto_flow": null,
            "grid_auto_rows": null,
            "grid_column": null,
            "grid_gap": null,
            "grid_row": null,
            "grid_template_areas": null,
            "grid_template_columns": null,
            "grid_template_rows": null,
            "height": null,
            "justify_content": null,
            "justify_items": null,
            "left": null,
            "margin": null,
            "max_height": null,
            "max_width": null,
            "min_height": null,
            "min_width": null,
            "object_fit": null,
            "object_position": null,
            "order": null,
            "overflow": null,
            "overflow_x": null,
            "overflow_y": null,
            "padding": null,
            "right": null,
            "top": null,
            "visibility": null,
            "width": null
          }
        },
        "8c2309cdbd1842c7976d9ab7903bdd2a": {
          "model_module": "@jupyter-widgets/controls",
          "model_name": "DescriptionStyleModel",
          "model_module_version": "1.5.0",
          "state": {
            "_model_module": "@jupyter-widgets/controls",
            "_model_module_version": "1.5.0",
            "_model_name": "DescriptionStyleModel",
            "_view_count": null,
            "_view_module": "@jupyter-widgets/base",
            "_view_module_version": "1.2.0",
            "_view_name": "StyleView",
            "description_width": ""
          }
        },
        "a98702040e12482ba27ca688dd9a87d3": {
          "model_module": "@jupyter-widgets/base",
          "model_name": "LayoutModel",
          "model_module_version": "1.2.0",
          "state": {
            "_model_module": "@jupyter-widgets/base",
            "_model_module_version": "1.2.0",
            "_model_name": "LayoutModel",
            "_view_count": null,
            "_view_module": "@jupyter-widgets/base",
            "_view_module_version": "1.2.0",
            "_view_name": "LayoutView",
            "align_content": null,
            "align_items": null,
            "align_self": null,
            "border": null,
            "bottom": null,
            "display": null,
            "flex": null,
            "flex_flow": null,
            "grid_area": null,
            "grid_auto_columns": null,
            "grid_auto_flow": null,
            "grid_auto_rows": null,
            "grid_column": null,
            "grid_gap": null,
            "grid_row": null,
            "grid_template_areas": null,
            "grid_template_columns": null,
            "grid_template_rows": null,
            "height": null,
            "justify_content": null,
            "justify_items": null,
            "left": null,
            "margin": null,
            "max_height": null,
            "max_width": null,
            "min_height": null,
            "min_width": null,
            "object_fit": null,
            "object_position": null,
            "order": null,
            "overflow": null,
            "overflow_x": null,
            "overflow_y": null,
            "padding": null,
            "right": null,
            "top": null,
            "visibility": null,
            "width": "20px"
          }
        },
        "24d2ee5aaaf241d891b418916073ab65": {
          "model_module": "@jupyter-widgets/controls",
          "model_name": "ProgressStyleModel",
          "model_module_version": "1.5.0",
          "state": {
            "_model_module": "@jupyter-widgets/controls",
            "_model_module_version": "1.5.0",
            "_model_name": "ProgressStyleModel",
            "_view_count": null,
            "_view_module": "@jupyter-widgets/base",
            "_view_module_version": "1.2.0",
            "_view_name": "StyleView",
            "bar_color": null,
            "description_width": ""
          }
        },
        "3da4386425e448279a1f15c124b6b633": {
          "model_module": "@jupyter-widgets/base",
          "model_name": "LayoutModel",
          "model_module_version": "1.2.0",
          "state": {
            "_model_module": "@jupyter-widgets/base",
            "_model_module_version": "1.2.0",
            "_model_name": "LayoutModel",
            "_view_count": null,
            "_view_module": "@jupyter-widgets/base",
            "_view_module_version": "1.2.0",
            "_view_name": "LayoutView",
            "align_content": null,
            "align_items": null,
            "align_self": null,
            "border": null,
            "bottom": null,
            "display": null,
            "flex": null,
            "flex_flow": null,
            "grid_area": null,
            "grid_auto_columns": null,
            "grid_auto_flow": null,
            "grid_auto_rows": null,
            "grid_column": null,
            "grid_gap": null,
            "grid_row": null,
            "grid_template_areas": null,
            "grid_template_columns": null,
            "grid_template_rows": null,
            "height": null,
            "justify_content": null,
            "justify_items": null,
            "left": null,
            "margin": null,
            "max_height": null,
            "max_width": null,
            "min_height": null,
            "min_width": null,
            "object_fit": null,
            "object_position": null,
            "order": null,
            "overflow": null,
            "overflow_x": null,
            "overflow_y": null,
            "padding": null,
            "right": null,
            "top": null,
            "visibility": null,
            "width": null
          }
        },
        "1671f7bf181d4862a24dbf200ec65ba0": {
          "model_module": "@jupyter-widgets/controls",
          "model_name": "DescriptionStyleModel",
          "model_module_version": "1.5.0",
          "state": {
            "_model_module": "@jupyter-widgets/controls",
            "_model_module_version": "1.5.0",
            "_model_name": "DescriptionStyleModel",
            "_view_count": null,
            "_view_module": "@jupyter-widgets/base",
            "_view_module_version": "1.2.0",
            "_view_name": "StyleView",
            "description_width": ""
          }
        },
        "94bf5bf0be3141b099b6564c41777561": {
          "model_module": "@jupyter-widgets/controls",
          "model_name": "HBoxModel",
          "model_module_version": "1.5.0",
          "state": {
            "_dom_classes": [],
            "_model_module": "@jupyter-widgets/controls",
            "_model_module_version": "1.5.0",
            "_model_name": "HBoxModel",
            "_view_count": null,
            "_view_module": "@jupyter-widgets/controls",
            "_view_module_version": "1.5.0",
            "_view_name": "HBoxView",
            "box_style": "",
            "children": [
              "IPY_MODEL_194a8599f6f04866842c23412bae4495",
              "IPY_MODEL_464a3f9db0ca4f54bacf10d94ebf967d",
              "IPY_MODEL_2d38b88db4754345a823656d55c4af13"
            ],
            "layout": "IPY_MODEL_5576d57e5d6548dbbfe4b7a23ff75ed9"
          }
        },
        "194a8599f6f04866842c23412bae4495": {
          "model_module": "@jupyter-widgets/controls",
          "model_name": "HTMLModel",
          "model_module_version": "1.5.0",
          "state": {
            "_dom_classes": [],
            "_model_module": "@jupyter-widgets/controls",
            "_model_module_version": "1.5.0",
            "_model_name": "HTMLModel",
            "_view_count": null,
            "_view_module": "@jupyter-widgets/controls",
            "_view_module_version": "1.5.0",
            "_view_name": "HTMLView",
            "description": "",
            "description_tooltip": null,
            "layout": "IPY_MODEL_9699c455bc254a67920178508d762c57",
            "placeholder": "​",
            "style": "IPY_MODEL_1518d61d72e844238cc584e147ccb1b9",
            "value": " 16%"
          }
        },
        "464a3f9db0ca4f54bacf10d94ebf967d": {
          "model_module": "@jupyter-widgets/controls",
          "model_name": "FloatProgressModel",
          "model_module_version": "1.5.0",
          "state": {
            "_dom_classes": [],
            "_model_module": "@jupyter-widgets/controls",
            "_model_module_version": "1.5.0",
            "_model_name": "FloatProgressModel",
            "_view_count": null,
            "_view_module": "@jupyter-widgets/controls",
            "_view_module_version": "1.5.0",
            "_view_name": "ProgressView",
            "bar_style": "danger",
            "description": "",
            "description_tooltip": null,
            "layout": "IPY_MODEL_a77682d9b95f4c1b93ad3c266b7ec4b2",
            "max": 60964,
            "min": 0,
            "orientation": "horizontal",
            "style": "IPY_MODEL_12e8c7097b294f128293d460776dda3c",
            "value": 10000
          }
        },
        "2d38b88db4754345a823656d55c4af13": {
          "model_module": "@jupyter-widgets/controls",
          "model_name": "HTMLModel",
          "model_module_version": "1.5.0",
          "state": {
            "_dom_classes": [],
            "_model_module": "@jupyter-widgets/controls",
            "_model_module_version": "1.5.0",
            "_model_name": "HTMLModel",
            "_view_count": null,
            "_view_module": "@jupyter-widgets/controls",
            "_view_module_version": "1.5.0",
            "_view_name": "HTMLView",
            "description": "",
            "description_tooltip": null,
            "layout": "IPY_MODEL_010ce0bcfa8a4c4dad01702c7df9034c",
            "placeholder": "​",
            "style": "IPY_MODEL_d345860b2a2e48e28948334d1a25b874",
            "value": " 10000/60964 [00:00&lt;1:26:18,  9.84it/s]"
          }
        },
        "5576d57e5d6548dbbfe4b7a23ff75ed9": {
          "model_module": "@jupyter-widgets/base",
          "model_name": "LayoutModel",
          "model_module_version": "1.2.0",
          "state": {
            "_model_module": "@jupyter-widgets/base",
            "_model_module_version": "1.2.0",
            "_model_name": "LayoutModel",
            "_view_count": null,
            "_view_module": "@jupyter-widgets/base",
            "_view_module_version": "1.2.0",
            "_view_name": "LayoutView",
            "align_content": null,
            "align_items": null,
            "align_self": null,
            "border": null,
            "bottom": null,
            "display": null,
            "flex": null,
            "flex_flow": null,
            "grid_area": null,
            "grid_auto_columns": null,
            "grid_auto_flow": null,
            "grid_auto_rows": null,
            "grid_column": null,
            "grid_gap": null,
            "grid_row": null,
            "grid_template_areas": null,
            "grid_template_columns": null,
            "grid_template_rows": null,
            "height": null,
            "justify_content": null,
            "justify_items": null,
            "left": null,
            "margin": null,
            "max_height": null,
            "max_width": null,
            "min_height": null,
            "min_width": null,
            "object_fit": null,
            "object_position": null,
            "order": null,
            "overflow": null,
            "overflow_x": null,
            "overflow_y": null,
            "padding": null,
            "right": null,
            "top": null,
            "visibility": null,
            "width": null
          }
        },
        "9699c455bc254a67920178508d762c57": {
          "model_module": "@jupyter-widgets/base",
          "model_name": "LayoutModel",
          "model_module_version": "1.2.0",
          "state": {
            "_model_module": "@jupyter-widgets/base",
            "_model_module_version": "1.2.0",
            "_model_name": "LayoutModel",
            "_view_count": null,
            "_view_module": "@jupyter-widgets/base",
            "_view_module_version": "1.2.0",
            "_view_name": "LayoutView",
            "align_content": null,
            "align_items": null,
            "align_self": null,
            "border": null,
            "bottom": null,
            "display": null,
            "flex": null,
            "flex_flow": null,
            "grid_area": null,
            "grid_auto_columns": null,
            "grid_auto_flow": null,
            "grid_auto_rows": null,
            "grid_column": null,
            "grid_gap": null,
            "grid_row": null,
            "grid_template_areas": null,
            "grid_template_columns": null,
            "grid_template_rows": null,
            "height": null,
            "justify_content": null,
            "justify_items": null,
            "left": null,
            "margin": null,
            "max_height": null,
            "max_width": null,
            "min_height": null,
            "min_width": null,
            "object_fit": null,
            "object_position": null,
            "order": null,
            "overflow": null,
            "overflow_x": null,
            "overflow_y": null,
            "padding": null,
            "right": null,
            "top": null,
            "visibility": null,
            "width": null
          }
        },
        "1518d61d72e844238cc584e147ccb1b9": {
          "model_module": "@jupyter-widgets/controls",
          "model_name": "DescriptionStyleModel",
          "model_module_version": "1.5.0",
          "state": {
            "_model_module": "@jupyter-widgets/controls",
            "_model_module_version": "1.5.0",
            "_model_name": "DescriptionStyleModel",
            "_view_count": null,
            "_view_module": "@jupyter-widgets/base",
            "_view_module_version": "1.2.0",
            "_view_name": "StyleView",
            "description_width": ""
          }
        },
        "a77682d9b95f4c1b93ad3c266b7ec4b2": {
          "model_module": "@jupyter-widgets/base",
          "model_name": "LayoutModel",
          "model_module_version": "1.2.0",
          "state": {
            "_model_module": "@jupyter-widgets/base",
            "_model_module_version": "1.2.0",
            "_model_name": "LayoutModel",
            "_view_count": null,
            "_view_module": "@jupyter-widgets/base",
            "_view_module_version": "1.2.0",
            "_view_name": "LayoutView",
            "align_content": null,
            "align_items": null,
            "align_self": null,
            "border": null,
            "bottom": null,
            "display": null,
            "flex": null,
            "flex_flow": null,
            "grid_area": null,
            "grid_auto_columns": null,
            "grid_auto_flow": null,
            "grid_auto_rows": null,
            "grid_column": null,
            "grid_gap": null,
            "grid_row": null,
            "grid_template_areas": null,
            "grid_template_columns": null,
            "grid_template_rows": null,
            "height": null,
            "justify_content": null,
            "justify_items": null,
            "left": null,
            "margin": null,
            "max_height": null,
            "max_width": null,
            "min_height": null,
            "min_width": null,
            "object_fit": null,
            "object_position": null,
            "order": null,
            "overflow": null,
            "overflow_x": null,
            "overflow_y": null,
            "padding": null,
            "right": null,
            "top": null,
            "visibility": null,
            "width": null
          }
        },
        "12e8c7097b294f128293d460776dda3c": {
          "model_module": "@jupyter-widgets/controls",
          "model_name": "ProgressStyleModel",
          "model_module_version": "1.5.0",
          "state": {
            "_model_module": "@jupyter-widgets/controls",
            "_model_module_version": "1.5.0",
            "_model_name": "ProgressStyleModel",
            "_view_count": null,
            "_view_module": "@jupyter-widgets/base",
            "_view_module_version": "1.2.0",
            "_view_name": "StyleView",
            "bar_color": null,
            "description_width": ""
          }
        },
        "010ce0bcfa8a4c4dad01702c7df9034c": {
          "model_module": "@jupyter-widgets/base",
          "model_name": "LayoutModel",
          "model_module_version": "1.2.0",
          "state": {
            "_model_module": "@jupyter-widgets/base",
            "_model_module_version": "1.2.0",
            "_model_name": "LayoutModel",
            "_view_count": null,
            "_view_module": "@jupyter-widgets/base",
            "_view_module_version": "1.2.0",
            "_view_name": "LayoutView",
            "align_content": null,
            "align_items": null,
            "align_self": null,
            "border": null,
            "bottom": null,
            "display": null,
            "flex": null,
            "flex_flow": null,
            "grid_area": null,
            "grid_auto_columns": null,
            "grid_auto_flow": null,
            "grid_auto_rows": null,
            "grid_column": null,
            "grid_gap": null,
            "grid_row": null,
            "grid_template_areas": null,
            "grid_template_columns": null,
            "grid_template_rows": null,
            "height": null,
            "justify_content": null,
            "justify_items": null,
            "left": null,
            "margin": null,
            "max_height": null,
            "max_width": null,
            "min_height": null,
            "min_width": null,
            "object_fit": null,
            "object_position": null,
            "order": null,
            "overflow": null,
            "overflow_x": null,
            "overflow_y": null,
            "padding": null,
            "right": null,
            "top": null,
            "visibility": null,
            "width": null
          }
        },
        "d345860b2a2e48e28948334d1a25b874": {
          "model_module": "@jupyter-widgets/controls",
          "model_name": "DescriptionStyleModel",
          "model_module_version": "1.5.0",
          "state": {
            "_model_module": "@jupyter-widgets/controls",
            "_model_module_version": "1.5.0",
            "_model_name": "DescriptionStyleModel",
            "_view_count": null,
            "_view_module": "@jupyter-widgets/base",
            "_view_module_version": "1.2.0",
            "_view_name": "StyleView",
            "description_width": ""
          }
        },
        "f3cb1897da944091bed3b201327ba15a": {
          "model_module": "@jupyter-widgets/controls",
          "model_name": "HBoxModel",
          "model_module_version": "1.5.0",
          "state": {
            "_dom_classes": [],
            "_model_module": "@jupyter-widgets/controls",
            "_model_module_version": "1.5.0",
            "_model_name": "HBoxModel",
            "_view_count": null,
            "_view_module": "@jupyter-widgets/controls",
            "_view_module_version": "1.5.0",
            "_view_name": "HBoxView",
            "box_style": "",
            "children": [
              "IPY_MODEL_2436487aaad14b339192a3296459eb79",
              "IPY_MODEL_1f569acc509b43088d9c821ea60724e8",
              "IPY_MODEL_66f194c6e06b4496859641ec6002de1d"
            ],
            "layout": "IPY_MODEL_07d13d050a194576aae90b3fb3a4045f"
          }
        },
        "2436487aaad14b339192a3296459eb79": {
          "model_module": "@jupyter-widgets/controls",
          "model_name": "HTMLModel",
          "model_module_version": "1.5.0",
          "state": {
            "_dom_classes": [],
            "_model_module": "@jupyter-widgets/controls",
            "_model_module_version": "1.5.0",
            "_model_name": "HTMLModel",
            "_view_count": null,
            "_view_module": "@jupyter-widgets/controls",
            "_view_module_version": "1.5.0",
            "_view_name": "HTMLView",
            "description": "",
            "description_tooltip": null,
            "layout": "IPY_MODEL_2129599a871b473f9ecaed2c527b2869",
            "placeholder": "​",
            "style": "IPY_MODEL_b8b5da4a6f0f4c48acab8b9a88378d2d",
            "value": "100%"
          }
        },
        "1f569acc509b43088d9c821ea60724e8": {
          "model_module": "@jupyter-widgets/controls",
          "model_name": "FloatProgressModel",
          "model_module_version": "1.5.0",
          "state": {
            "_dom_classes": [],
            "_model_module": "@jupyter-widgets/controls",
            "_model_module_version": "1.5.0",
            "_model_name": "FloatProgressModel",
            "_view_count": null,
            "_view_module": "@jupyter-widgets/controls",
            "_view_module_version": "1.5.0",
            "_view_name": "ProgressView",
            "bar_style": "success",
            "description": "",
            "description_tooltip": null,
            "layout": "IPY_MODEL_bdf6ca5dee7e42cf9f6c5490acd2a03b",
            "max": 10001,
            "min": 0,
            "orientation": "horizontal",
            "style": "IPY_MODEL_f77b1ea029244227ba332992ec720784",
            "value": 10001
          }
        },
        "66f194c6e06b4496859641ec6002de1d": {
          "model_module": "@jupyter-widgets/controls",
          "model_name": "HTMLModel",
          "model_module_version": "1.5.0",
          "state": {
            "_dom_classes": [],
            "_model_module": "@jupyter-widgets/controls",
            "_model_module_version": "1.5.0",
            "_model_name": "HTMLModel",
            "_view_count": null,
            "_view_module": "@jupyter-widgets/controls",
            "_view_module_version": "1.5.0",
            "_view_name": "HTMLView",
            "description": "",
            "description_tooltip": null,
            "layout": "IPY_MODEL_843d54259f0544cbb4c5fa572de5ffd0",
            "placeholder": "​",
            "style": "IPY_MODEL_47e8027f6640477980895526ab2bafa3",
            "value": " 10001/10001 [11:00&lt;00:00, 14.80it/s]"
          }
        },
        "07d13d050a194576aae90b3fb3a4045f": {
          "model_module": "@jupyter-widgets/base",
          "model_name": "LayoutModel",
          "model_module_version": "1.2.0",
          "state": {
            "_model_module": "@jupyter-widgets/base",
            "_model_module_version": "1.2.0",
            "_model_name": "LayoutModel",
            "_view_count": null,
            "_view_module": "@jupyter-widgets/base",
            "_view_module_version": "1.2.0",
            "_view_name": "LayoutView",
            "align_content": null,
            "align_items": null,
            "align_self": null,
            "border": null,
            "bottom": null,
            "display": null,
            "flex": null,
            "flex_flow": null,
            "grid_area": null,
            "grid_auto_columns": null,
            "grid_auto_flow": null,
            "grid_auto_rows": null,
            "grid_column": null,
            "grid_gap": null,
            "grid_row": null,
            "grid_template_areas": null,
            "grid_template_columns": null,
            "grid_template_rows": null,
            "height": null,
            "justify_content": null,
            "justify_items": null,
            "left": null,
            "margin": null,
            "max_height": null,
            "max_width": null,
            "min_height": null,
            "min_width": null,
            "object_fit": null,
            "object_position": null,
            "order": null,
            "overflow": null,
            "overflow_x": null,
            "overflow_y": null,
            "padding": null,
            "right": null,
            "top": null,
            "visibility": null,
            "width": null
          }
        },
        "2129599a871b473f9ecaed2c527b2869": {
          "model_module": "@jupyter-widgets/base",
          "model_name": "LayoutModel",
          "model_module_version": "1.2.0",
          "state": {
            "_model_module": "@jupyter-widgets/base",
            "_model_module_version": "1.2.0",
            "_model_name": "LayoutModel",
            "_view_count": null,
            "_view_module": "@jupyter-widgets/base",
            "_view_module_version": "1.2.0",
            "_view_name": "LayoutView",
            "align_content": null,
            "align_items": null,
            "align_self": null,
            "border": null,
            "bottom": null,
            "display": null,
            "flex": null,
            "flex_flow": null,
            "grid_area": null,
            "grid_auto_columns": null,
            "grid_auto_flow": null,
            "grid_auto_rows": null,
            "grid_column": null,
            "grid_gap": null,
            "grid_row": null,
            "grid_template_areas": null,
            "grid_template_columns": null,
            "grid_template_rows": null,
            "height": null,
            "justify_content": null,
            "justify_items": null,
            "left": null,
            "margin": null,
            "max_height": null,
            "max_width": null,
            "min_height": null,
            "min_width": null,
            "object_fit": null,
            "object_position": null,
            "order": null,
            "overflow": null,
            "overflow_x": null,
            "overflow_y": null,
            "padding": null,
            "right": null,
            "top": null,
            "visibility": null,
            "width": null
          }
        },
        "b8b5da4a6f0f4c48acab8b9a88378d2d": {
          "model_module": "@jupyter-widgets/controls",
          "model_name": "DescriptionStyleModel",
          "model_module_version": "1.5.0",
          "state": {
            "_model_module": "@jupyter-widgets/controls",
            "_model_module_version": "1.5.0",
            "_model_name": "DescriptionStyleModel",
            "_view_count": null,
            "_view_module": "@jupyter-widgets/base",
            "_view_module_version": "1.2.0",
            "_view_name": "StyleView",
            "description_width": ""
          }
        },
        "bdf6ca5dee7e42cf9f6c5490acd2a03b": {
          "model_module": "@jupyter-widgets/base",
          "model_name": "LayoutModel",
          "model_module_version": "1.2.0",
          "state": {
            "_model_module": "@jupyter-widgets/base",
            "_model_module_version": "1.2.0",
            "_model_name": "LayoutModel",
            "_view_count": null,
            "_view_module": "@jupyter-widgets/base",
            "_view_module_version": "1.2.0",
            "_view_name": "LayoutView",
            "align_content": null,
            "align_items": null,
            "align_self": null,
            "border": null,
            "bottom": null,
            "display": null,
            "flex": null,
            "flex_flow": null,
            "grid_area": null,
            "grid_auto_columns": null,
            "grid_auto_flow": null,
            "grid_auto_rows": null,
            "grid_column": null,
            "grid_gap": null,
            "grid_row": null,
            "grid_template_areas": null,
            "grid_template_columns": null,
            "grid_template_rows": null,
            "height": null,
            "justify_content": null,
            "justify_items": null,
            "left": null,
            "margin": null,
            "max_height": null,
            "max_width": null,
            "min_height": null,
            "min_width": null,
            "object_fit": null,
            "object_position": null,
            "order": null,
            "overflow": null,
            "overflow_x": null,
            "overflow_y": null,
            "padding": null,
            "right": null,
            "top": null,
            "visibility": null,
            "width": null
          }
        },
        "f77b1ea029244227ba332992ec720784": {
          "model_module": "@jupyter-widgets/controls",
          "model_name": "ProgressStyleModel",
          "model_module_version": "1.5.0",
          "state": {
            "_model_module": "@jupyter-widgets/controls",
            "_model_module_version": "1.5.0",
            "_model_name": "ProgressStyleModel",
            "_view_count": null,
            "_view_module": "@jupyter-widgets/base",
            "_view_module_version": "1.2.0",
            "_view_name": "StyleView",
            "bar_color": null,
            "description_width": ""
          }
        },
        "843d54259f0544cbb4c5fa572de5ffd0": {
          "model_module": "@jupyter-widgets/base",
          "model_name": "LayoutModel",
          "model_module_version": "1.2.0",
          "state": {
            "_model_module": "@jupyter-widgets/base",
            "_model_module_version": "1.2.0",
            "_model_name": "LayoutModel",
            "_view_count": null,
            "_view_module": "@jupyter-widgets/base",
            "_view_module_version": "1.2.0",
            "_view_name": "LayoutView",
            "align_content": null,
            "align_items": null,
            "align_self": null,
            "border": null,
            "bottom": null,
            "display": null,
            "flex": null,
            "flex_flow": null,
            "grid_area": null,
            "grid_auto_columns": null,
            "grid_auto_flow": null,
            "grid_auto_rows": null,
            "grid_column": null,
            "grid_gap": null,
            "grid_row": null,
            "grid_template_areas": null,
            "grid_template_columns": null,
            "grid_template_rows": null,
            "height": null,
            "justify_content": null,
            "justify_items": null,
            "left": null,
            "margin": null,
            "max_height": null,
            "max_width": null,
            "min_height": null,
            "min_width": null,
            "object_fit": null,
            "object_position": null,
            "order": null,
            "overflow": null,
            "overflow_x": null,
            "overflow_y": null,
            "padding": null,
            "right": null,
            "top": null,
            "visibility": null,
            "width": null
          }
        },
        "47e8027f6640477980895526ab2bafa3": {
          "model_module": "@jupyter-widgets/controls",
          "model_name": "DescriptionStyleModel",
          "model_module_version": "1.5.0",
          "state": {
            "_model_module": "@jupyter-widgets/controls",
            "_model_module_version": "1.5.0",
            "_model_name": "DescriptionStyleModel",
            "_view_count": null,
            "_view_module": "@jupyter-widgets/base",
            "_view_module_version": "1.2.0",
            "_view_name": "StyleView",
            "description_width": ""
          }
        },
        "ccf5e0ba8aac479b94fcf4daccd53608": {
          "model_module": "@jupyter-widgets/controls",
          "model_name": "HBoxModel",
          "model_module_version": "1.5.0",
          "state": {
            "_dom_classes": [],
            "_model_module": "@jupyter-widgets/controls",
            "_model_module_version": "1.5.0",
            "_model_name": "HBoxModel",
            "_view_count": null,
            "_view_module": "@jupyter-widgets/controls",
            "_view_module_version": "1.5.0",
            "_view_name": "HBoxView",
            "box_style": "",
            "children": [
              "IPY_MODEL_319ef863834040b09e1e4def8834d1ce",
              "IPY_MODEL_91ffea2c5c9047d9aca321d250ada9a2",
              "IPY_MODEL_b488a2d2b50b46f898b03d2f7451e02c"
            ],
            "layout": "IPY_MODEL_9b75636f03cb487c80cac2bfd0ab09fe"
          }
        },
        "319ef863834040b09e1e4def8834d1ce": {
          "model_module": "@jupyter-widgets/controls",
          "model_name": "HTMLModel",
          "model_module_version": "1.5.0",
          "state": {
            "_dom_classes": [],
            "_model_module": "@jupyter-widgets/controls",
            "_model_module_version": "1.5.0",
            "_model_name": "HTMLModel",
            "_view_count": null,
            "_view_module": "@jupyter-widgets/controls",
            "_view_module_version": "1.5.0",
            "_view_name": "HTMLView",
            "description": "",
            "description_tooltip": null,
            "layout": "IPY_MODEL_415c7f1f01de4ca2aa06a54e95c7c151",
            "placeholder": "​",
            "style": "IPY_MODEL_e777141d3c7b401f90d616e26638ef6a",
            "value": "100%"
          }
        },
        "91ffea2c5c9047d9aca321d250ada9a2": {
          "model_module": "@jupyter-widgets/controls",
          "model_name": "FloatProgressModel",
          "model_module_version": "1.5.0",
          "state": {
            "_dom_classes": [],
            "_model_module": "@jupyter-widgets/controls",
            "_model_module_version": "1.5.0",
            "_model_name": "FloatProgressModel",
            "_view_count": null,
            "_view_module": "@jupyter-widgets/controls",
            "_view_module_version": "1.5.0",
            "_view_name": "ProgressView",
            "bar_style": "success",
            "description": "",
            "description_tooltip": null,
            "layout": "IPY_MODEL_da7653e1ae154f7ba40598e812b7abc3",
            "max": 10001,
            "min": 0,
            "orientation": "horizontal",
            "style": "IPY_MODEL_29be8d382d8240c2bdfddb483b2e333a",
            "value": 10001
          }
        },
        "b488a2d2b50b46f898b03d2f7451e02c": {
          "model_module": "@jupyter-widgets/controls",
          "model_name": "HTMLModel",
          "model_module_version": "1.5.0",
          "state": {
            "_dom_classes": [],
            "_model_module": "@jupyter-widgets/controls",
            "_model_module_version": "1.5.0",
            "_model_name": "HTMLModel",
            "_view_count": null,
            "_view_module": "@jupyter-widgets/controls",
            "_view_module_version": "1.5.0",
            "_view_name": "HTMLView",
            "description": "",
            "description_tooltip": null,
            "layout": "IPY_MODEL_8cd66cc5f9f94567ba5ec702cf050877",
            "placeholder": "​",
            "style": "IPY_MODEL_ce4a29c11c0147028d126945421a6cf4",
            "value": " 10001/10001 [03:22&lt;00:00, 49.77it/s]"
          }
        },
        "9b75636f03cb487c80cac2bfd0ab09fe": {
          "model_module": "@jupyter-widgets/base",
          "model_name": "LayoutModel",
          "model_module_version": "1.2.0",
          "state": {
            "_model_module": "@jupyter-widgets/base",
            "_model_module_version": "1.2.0",
            "_model_name": "LayoutModel",
            "_view_count": null,
            "_view_module": "@jupyter-widgets/base",
            "_view_module_version": "1.2.0",
            "_view_name": "LayoutView",
            "align_content": null,
            "align_items": null,
            "align_self": null,
            "border": null,
            "bottom": null,
            "display": null,
            "flex": null,
            "flex_flow": null,
            "grid_area": null,
            "grid_auto_columns": null,
            "grid_auto_flow": null,
            "grid_auto_rows": null,
            "grid_column": null,
            "grid_gap": null,
            "grid_row": null,
            "grid_template_areas": null,
            "grid_template_columns": null,
            "grid_template_rows": null,
            "height": null,
            "justify_content": null,
            "justify_items": null,
            "left": null,
            "margin": null,
            "max_height": null,
            "max_width": null,
            "min_height": null,
            "min_width": null,
            "object_fit": null,
            "object_position": null,
            "order": null,
            "overflow": null,
            "overflow_x": null,
            "overflow_y": null,
            "padding": null,
            "right": null,
            "top": null,
            "visibility": null,
            "width": null
          }
        },
        "415c7f1f01de4ca2aa06a54e95c7c151": {
          "model_module": "@jupyter-widgets/base",
          "model_name": "LayoutModel",
          "model_module_version": "1.2.0",
          "state": {
            "_model_module": "@jupyter-widgets/base",
            "_model_module_version": "1.2.0",
            "_model_name": "LayoutModel",
            "_view_count": null,
            "_view_module": "@jupyter-widgets/base",
            "_view_module_version": "1.2.0",
            "_view_name": "LayoutView",
            "align_content": null,
            "align_items": null,
            "align_self": null,
            "border": null,
            "bottom": null,
            "display": null,
            "flex": null,
            "flex_flow": null,
            "grid_area": null,
            "grid_auto_columns": null,
            "grid_auto_flow": null,
            "grid_auto_rows": null,
            "grid_column": null,
            "grid_gap": null,
            "grid_row": null,
            "grid_template_areas": null,
            "grid_template_columns": null,
            "grid_template_rows": null,
            "height": null,
            "justify_content": null,
            "justify_items": null,
            "left": null,
            "margin": null,
            "max_height": null,
            "max_width": null,
            "min_height": null,
            "min_width": null,
            "object_fit": null,
            "object_position": null,
            "order": null,
            "overflow": null,
            "overflow_x": null,
            "overflow_y": null,
            "padding": null,
            "right": null,
            "top": null,
            "visibility": null,
            "width": null
          }
        },
        "e777141d3c7b401f90d616e26638ef6a": {
          "model_module": "@jupyter-widgets/controls",
          "model_name": "DescriptionStyleModel",
          "model_module_version": "1.5.0",
          "state": {
            "_model_module": "@jupyter-widgets/controls",
            "_model_module_version": "1.5.0",
            "_model_name": "DescriptionStyleModel",
            "_view_count": null,
            "_view_module": "@jupyter-widgets/base",
            "_view_module_version": "1.2.0",
            "_view_name": "StyleView",
            "description_width": ""
          }
        },
        "da7653e1ae154f7ba40598e812b7abc3": {
          "model_module": "@jupyter-widgets/base",
          "model_name": "LayoutModel",
          "model_module_version": "1.2.0",
          "state": {
            "_model_module": "@jupyter-widgets/base",
            "_model_module_version": "1.2.0",
            "_model_name": "LayoutModel",
            "_view_count": null,
            "_view_module": "@jupyter-widgets/base",
            "_view_module_version": "1.2.0",
            "_view_name": "LayoutView",
            "align_content": null,
            "align_items": null,
            "align_self": null,
            "border": null,
            "bottom": null,
            "display": null,
            "flex": null,
            "flex_flow": null,
            "grid_area": null,
            "grid_auto_columns": null,
            "grid_auto_flow": null,
            "grid_auto_rows": null,
            "grid_column": null,
            "grid_gap": null,
            "grid_row": null,
            "grid_template_areas": null,
            "grid_template_columns": null,
            "grid_template_rows": null,
            "height": null,
            "justify_content": null,
            "justify_items": null,
            "left": null,
            "margin": null,
            "max_height": null,
            "max_width": null,
            "min_height": null,
            "min_width": null,
            "object_fit": null,
            "object_position": null,
            "order": null,
            "overflow": null,
            "overflow_x": null,
            "overflow_y": null,
            "padding": null,
            "right": null,
            "top": null,
            "visibility": null,
            "width": null
          }
        },
        "29be8d382d8240c2bdfddb483b2e333a": {
          "model_module": "@jupyter-widgets/controls",
          "model_name": "ProgressStyleModel",
          "model_module_version": "1.5.0",
          "state": {
            "_model_module": "@jupyter-widgets/controls",
            "_model_module_version": "1.5.0",
            "_model_name": "ProgressStyleModel",
            "_view_count": null,
            "_view_module": "@jupyter-widgets/base",
            "_view_module_version": "1.2.0",
            "_view_name": "StyleView",
            "bar_color": null,
            "description_width": ""
          }
        },
        "8cd66cc5f9f94567ba5ec702cf050877": {
          "model_module": "@jupyter-widgets/base",
          "model_name": "LayoutModel",
          "model_module_version": "1.2.0",
          "state": {
            "_model_module": "@jupyter-widgets/base",
            "_model_module_version": "1.2.0",
            "_model_name": "LayoutModel",
            "_view_count": null,
            "_view_module": "@jupyter-widgets/base",
            "_view_module_version": "1.2.0",
            "_view_name": "LayoutView",
            "align_content": null,
            "align_items": null,
            "align_self": null,
            "border": null,
            "bottom": null,
            "display": null,
            "flex": null,
            "flex_flow": null,
            "grid_area": null,
            "grid_auto_columns": null,
            "grid_auto_flow": null,
            "grid_auto_rows": null,
            "grid_column": null,
            "grid_gap": null,
            "grid_row": null,
            "grid_template_areas": null,
            "grid_template_columns": null,
            "grid_template_rows": null,
            "height": null,
            "justify_content": null,
            "justify_items": null,
            "left": null,
            "margin": null,
            "max_height": null,
            "max_width": null,
            "min_height": null,
            "min_width": null,
            "object_fit": null,
            "object_position": null,
            "order": null,
            "overflow": null,
            "overflow_x": null,
            "overflow_y": null,
            "padding": null,
            "right": null,
            "top": null,
            "visibility": null,
            "width": null
          }
        },
        "ce4a29c11c0147028d126945421a6cf4": {
          "model_module": "@jupyter-widgets/controls",
          "model_name": "DescriptionStyleModel",
          "model_module_version": "1.5.0",
          "state": {
            "_model_module": "@jupyter-widgets/controls",
            "_model_module_version": "1.5.0",
            "_model_name": "DescriptionStyleModel",
            "_view_count": null,
            "_view_module": "@jupyter-widgets/base",
            "_view_module_version": "1.2.0",
            "_view_name": "StyleView",
            "description_width": ""
          }
        }
      }
    },
    "accelerator": "GPU"
  },
  "cells": [
    {
      "cell_type": "markdown",
      "source": [
        "### **ПРАКТИЧЕСКОЕ ЗАДАНИЕ**"
      ],
      "metadata": {
        "id": "XPwlbTXl0IE6"
      }
    },
    {
      "cell_type": "markdown",
      "source": [
        "**Задание**\n",
        "\n",
        "1. Взять предобученную трансформерную архитектуру и решить задачу перевода (для того же корпуса что вы выбрали из предыдущего дз).\n",
        "2. скачиваем готовый новостной датасет скачиваем из https://github.com/natasha/corus/blob/master/README.md любой новостной датасет:\n",
        "\n",
        "    * реализовать метод поиска ближайших статей (на вход метода должен приходить запрос (какой-то вопрос) и количество вариантов вывода к примеру топ 5-ть или 3-ри, ваш метод должен возвращать топ-k ближайших статей к этому запросу);\n",
        "    * визуально оценить качество."
      ],
      "metadata": {
        "id": "4ClG6Ngx0Ih-"
      }
    },
    {
      "cell_type": "code",
      "metadata": {
        "id": "tnxXKDjq3jEL"
      },
      "source": [
        "# import tensorflow as tf\n",
        "# import matplotlib.pyplot as plt\n",
        "# import matplotlib.ticker as ticker\n",
        "# from sklearn.model_selection import train_test_split\n",
        "# import unicodedata\n",
        "# import re\n",
        "# import numpy as np\n",
        "# import os\n",
        "# import io\n",
        "# import time"
      ],
      "execution_count": null,
      "outputs": []
    },
    {
      "cell_type": "code",
      "source": [
        "# Импортируем библиотеки\n",
        "\n",
        "!pip install transformers\n",
        "!pip install sacremoses\n",
        "import transformers\n",
        "from transformers import FSMTForConditionalGeneration, FSMTTokenizer\n",
        "import warnings\n",
        "warnings.filterwarnings(\"ignore\")"
      ],
      "metadata": {
        "id": "H9LZyaKBHpMT",
        "outputId": "9d0735e8-2bcc-450b-d571-91905aae3fce",
        "colab": {
          "base_uri": "https://localhost:8080/",
          "height": 830,
          "referenced_widgets": [
            "e6403992626c434eaf8a286e9de346cc",
            "80dae252e61647bc83a56db8c8efd129",
            "d5c41b2c8c82464a8c977e89ac7284a1",
            "d979b2767233457a89f9cc1fde706617",
            "d679086d5d2e46c981758e33b2ea9e04",
            "47bd6f55472e4387a3247808eb7cbc93",
            "8c2309cdbd1842c7976d9ab7903bdd2a",
            "a98702040e12482ba27ca688dd9a87d3",
            "24d2ee5aaaf241d891b418916073ab65",
            "3da4386425e448279a1f15c124b6b633",
            "1671f7bf181d4862a24dbf200ec65ba0"
          ]
        }
      },
      "execution_count": 5,
      "outputs": [
        {
          "output_type": "stream",
          "name": "stdout",
          "text": [
            "Looking in indexes: https://pypi.org/simple, https://us-python.pkg.dev/colab-wheels/public/simple/\n",
            "Collecting transformers\n",
            "  Downloading transformers-4.22.1-py3-none-any.whl (4.9 MB)\n",
            "\u001b[K     |████████████████████████████████| 4.9 MB 4.0 MB/s \n",
            "\u001b[?25hRequirement already satisfied: packaging>=20.0 in /usr/local/lib/python3.7/dist-packages (from transformers) (21.3)\n",
            "Requirement already satisfied: regex!=2019.12.17 in /usr/local/lib/python3.7/dist-packages (from transformers) (2022.6.2)\n",
            "Requirement already satisfied: tqdm>=4.27 in /usr/local/lib/python3.7/dist-packages (from transformers) (4.64.1)\n",
            "Requirement already satisfied: importlib-metadata in /usr/local/lib/python3.7/dist-packages (from transformers) (4.12.0)\n",
            "Requirement already satisfied: filelock in /usr/local/lib/python3.7/dist-packages (from transformers) (3.8.0)\n",
            "Requirement already satisfied: requests in /usr/local/lib/python3.7/dist-packages (from transformers) (2.23.0)\n",
            "Collecting tokenizers!=0.11.3,<0.13,>=0.11.1\n",
            "  Downloading tokenizers-0.12.1-cp37-cp37m-manylinux_2_12_x86_64.manylinux2010_x86_64.whl (6.6 MB)\n",
            "\u001b[K     |████████████████████████████████| 6.6 MB 44.1 MB/s \n",
            "\u001b[?25hCollecting huggingface-hub<1.0,>=0.9.0\n",
            "  Downloading huggingface_hub-0.9.1-py3-none-any.whl (120 kB)\n",
            "\u001b[K     |████████████████████████████████| 120 kB 61.2 MB/s \n",
            "\u001b[?25hRequirement already satisfied: numpy>=1.17 in /usr/local/lib/python3.7/dist-packages (from transformers) (1.21.6)\n",
            "Requirement already satisfied: pyyaml>=5.1 in /usr/local/lib/python3.7/dist-packages (from transformers) (6.0)\n",
            "Requirement already satisfied: typing-extensions>=3.7.4.3 in /usr/local/lib/python3.7/dist-packages (from huggingface-hub<1.0,>=0.9.0->transformers) (4.1.1)\n",
            "Requirement already satisfied: pyparsing!=3.0.5,>=2.0.2 in /usr/local/lib/python3.7/dist-packages (from packaging>=20.0->transformers) (3.0.9)\n",
            "Requirement already satisfied: zipp>=0.5 in /usr/local/lib/python3.7/dist-packages (from importlib-metadata->transformers) (3.8.1)\n",
            "Requirement already satisfied: urllib3!=1.25.0,!=1.25.1,<1.26,>=1.21.1 in /usr/local/lib/python3.7/dist-packages (from requests->transformers) (1.24.3)\n",
            "Requirement already satisfied: certifi>=2017.4.17 in /usr/local/lib/python3.7/dist-packages (from requests->transformers) (2022.6.15)\n",
            "Requirement already satisfied: idna<3,>=2.5 in /usr/local/lib/python3.7/dist-packages (from requests->transformers) (2.10)\n",
            "Requirement already satisfied: chardet<4,>=3.0.2 in /usr/local/lib/python3.7/dist-packages (from requests->transformers) (3.0.4)\n",
            "Installing collected packages: tokenizers, huggingface-hub, transformers\n",
            "Successfully installed huggingface-hub-0.9.1 tokenizers-0.12.1 transformers-4.22.1\n",
            "Looking in indexes: https://pypi.org/simple, https://us-python.pkg.dev/colab-wheels/public/simple/\n",
            "Collecting sacremoses\n",
            "  Downloading sacremoses-0.0.53.tar.gz (880 kB)\n",
            "\u001b[K     |████████████████████████████████| 880 kB 4.0 MB/s \n",
            "\u001b[?25hRequirement already satisfied: regex in /usr/local/lib/python3.7/dist-packages (from sacremoses) (2022.6.2)\n",
            "Requirement already satisfied: six in /usr/local/lib/python3.7/dist-packages (from sacremoses) (1.15.0)\n",
            "Requirement already satisfied: click in /usr/local/lib/python3.7/dist-packages (from sacremoses) (7.1.2)\n",
            "Requirement already satisfied: joblib in /usr/local/lib/python3.7/dist-packages (from sacremoses) (1.1.0)\n",
            "Requirement already satisfied: tqdm in /usr/local/lib/python3.7/dist-packages (from sacremoses) (4.64.1)\n",
            "Building wheels for collected packages: sacremoses\n",
            "  Building wheel for sacremoses (setup.py) ... \u001b[?25l\u001b[?25hdone\n",
            "  Created wheel for sacremoses: filename=sacremoses-0.0.53-py3-none-any.whl size=895260 sha256=b530fed9312cfcc8d9cdd1be4e44230261d728fb6b15079f6af6933bf58173ee\n",
            "  Stored in directory: /root/.cache/pip/wheels/87/39/dd/a83eeef36d0bf98e7a4d1933a4ad2d660295a40613079bafc9\n",
            "Successfully built sacremoses\n",
            "Installing collected packages: sacremoses\n",
            "Successfully installed sacremoses-0.0.53\n"
          ]
        },
        {
          "output_type": "stream",
          "name": "stderr",
          "text": [
            "The cache for model files in Transformers v4.22.0 has been updated. Migrating your old cache. This is a one-time only operation. You can interrupt this and resume the migration later on by calling `transformers.utils.move_cache()`.\n"
          ]
        },
        {
          "output_type": "stream",
          "name": "stdout",
          "text": [
            "Moving 0 files to the new cache system\n"
          ]
        },
        {
          "output_type": "display_data",
          "data": {
            "text/plain": [
              "0it [00:00, ?it/s]"
            ],
            "application/vnd.jupyter.widget-view+json": {
              "version_major": 2,
              "version_minor": 0,
              "model_id": "e6403992626c434eaf8a286e9de346cc"
            }
          },
          "metadata": {}
        }
      ]
    },
    {
      "cell_type": "markdown",
      "metadata": {
        "id": "J0Qjg6vuaHNt"
      },
      "source": [
        "### **МАШИННЫЙ ПЕРЕВОД ЧЕРЕЗ ТРАНСФОРМЕР**"
      ]
    },
    {
      "cell_type": "code",
      "source": [
        "# Загрузим трансформер для перевода в паре русский-английский\n",
        "\n",
        "mname = \"facebook/wmt19-ru-en\"\n",
        "tokenizer = FSMTTokenizer.from_pretrained(mname)\n",
        "model = FSMTForConditionalGeneration.from_pretrained(mname)\n",
        "\n",
        "\n",
        "# Функция перевода\n",
        "def translation_ru_en(input):\n",
        "    input_ids = tokenizer.encode(input, return_tensors=\"pt\")\n",
        "    outputs = model.generate(input_ids)\n",
        "    decoded = tokenizer.decode(outputs[0], skip_special_tokens=True)\n",
        "\n",
        "    print(input)\n",
        "    print(decoded)\n",
        "    print()"
      ],
      "metadata": {
        "colab": {
          "base_uri": "https://localhost:8080/",
          "height": 49,
          "referenced_widgets": [
            "b497c3d2efe845639ec800922fdf1762",
            "ed8cfef3e8394afca20c71f990924e3c",
            "2d85d95095f942a2ba32e49c49a6eba9",
            "93145262d0fa42e5bbfa4995b2b0b8f4",
            "f3f77ceb3ea34a0a8b439917e7c8ec24",
            "7cf5b6b7db5a4d42a7673795af5bbeb5",
            "44c32e3bfb3e43bb8230a264029df39c",
            "08f991cbbbc44946935e69325e0a5b8e",
            "4b17fb38fc5b4f74a4c42b5f9b321990",
            "b87625653b6a4aef855e80d7e479f81b",
            "bd882b59919d47ca9816f28e624f7397"
          ]
        },
        "id": "kBdXBkUsK4EA",
        "outputId": "5f1bb6f5-5032-4b61-d632-36f42fd4c6a6"
      },
      "execution_count": null,
      "outputs": [
        {
          "output_type": "display_data",
          "data": {
            "text/plain": [
              "Downloading:   0%|          | 0.00/1.16G [00:00<?, ?B/s]"
            ],
            "application/vnd.jupyter.widget-view+json": {
              "version_major": 2,
              "version_minor": 0,
              "model_id": "b497c3d2efe845639ec800922fdf1762"
            }
          },
          "metadata": {}
        }
      ]
    },
    {
      "cell_type": "code",
      "source": [
        "# Посмотрим на перевод\n",
        "\n",
        "translation_ru_en('Привет!')\n",
        "translation_ru_en('Небо.')\n",
        "translation_ru_en('Зеленое яблоко.')\n",
        "translation_ru_en('Красивая газета.')\n",
        "translation_ru_en('Меня зовут Юля.')\n",
        "translation_ru_en('Нужно взять ластик.')\n",
        "translation_ru_en('Сегодня хорошая погода.')\n",
        "translation_ru_en('Попробуй сделать это.')\n",
        "translation_ru_en('Как проехать до аптеки?')\n",
        "translation_ru_en('Вы бывали в Испании?')\n",
        "translation_ru_en('Я люблю, когда идет снег.')\n",
        "translation_ru_en('Чтобы жить, нужно кушать.')\n",
        "translation_ru_en('Откуда у него велосипед?')\n",
        "translation_ru_en('Алеша, выходи поиграть в мяч!')\n",
        "translation_ru_en('Вы часто готовите сладкие булочки?')\n",
        "translation_ru_en('Он сходил в магазин и купил молоко.')\n",
        "translation_ru_en('Слово не воробей, вылетит — не поймаешь')\n",
        "translation_ru_en('Хочу провести следующий Новый год за городом.')\n",
        "translation_ru_en('За окном бушует ураган, довольно опасно выходить на улицу.')\n",
        "translation_ru_en('Зачем некоторые люди употребляют алкоголь и потом смеются?')\n",
        "translation_ru_en('Я люблю рисовать пастелью различные картины: цветы, животных, пейзажи.')\n",
        "translation_ru_en('Скоро я поеду в другой город смотреть на северное сияние и больших плавающих китов.')\n",
        "translation_ru_en('Она каждое утро делает макияж, завтракает, едет на метро, чтобы снова работать в поте лица.')"
      ],
      "metadata": {
        "id": "z7wbEU3xK4HY",
        "colab": {
          "base_uri": "https://localhost:8080/"
        },
        "outputId": "ec10f5a8-7642-4fac-8706-addf30ba7bc6"
      },
      "execution_count": null,
      "outputs": [
        {
          "output_type": "stream",
          "name": "stdout",
          "text": [
            "Привет!\n",
            "Hello!\n",
            "\n",
            "Небо.\n",
            "Heaven.\n",
            "\n",
            "Зеленое яблоко.\n",
            "The Green Apple.\n",
            "\n",
            "Красивая газета.\n",
            "A beautiful newspaper.\n",
            "\n",
            "Меня зовут Юля.\n",
            "My name is Julia.\n",
            "\n",
            "Нужно взять ластик.\n",
            "You need to take the eraser.\n",
            "\n",
            "Сегодня хорошая погода.\n",
            "Today is good weather.\n",
            "\n",
            "Попробуй сделать это.\n",
            "Try it.\n",
            "\n",
            "Как проехать до аптеки?\n",
            "How do I get to the pharmacy?\n",
            "\n",
            "Вы бывали в Испании?\n",
            "Have you been to Spain?\n",
            "\n",
            "Я люблю, когда идет снег.\n",
            "I love when it's snowing.\n",
            "\n",
            "Чтобы жить, нужно кушать.\n",
            "To live, you have to eat.\n",
            "\n",
            "Откуда у него велосипед?\n",
            "Where does his bike come from?\n",
            "\n",
            "Алеша, выходи поиграть в мяч!\n",
            "Alesha, come out to play ball!\n",
            "\n",
            "Вы часто готовите сладкие булочки?\n",
            "Do you often make sweet buns?\n",
            "\n",
            "Он сходил в магазин и купил молоко.\n",
            "He went to the shop and bought milk.\n",
            "\n",
            "Слово не воробей, вылетит — не поймаешь\n",
            "Word don't sparrow, fly out - you won't catch it\n",
            "\n",
            "Хочу провести следующий Новый год за городом.\n",
            "I want to spend the next New Year out of town.\n",
            "\n",
            "За окном бушует ураган, довольно опасно выходить на улицу.\n",
            "A hurricane is raging outside, it is quite dangerous to go outside.\n",
            "\n",
            "Зачем некоторые люди употребляют алкоголь и потом смеются?\n",
            "Why do some people drink alcohol and then laugh?\n",
            "\n",
            "Я люблю рисовать пастелью различные картины: цветы, животных, пейзажи.\n",
            "I like to paint different paintings in pastel: flowers, animals, landscapes.\n",
            "\n",
            "Скоро я поеду в другой город смотреть на северное сияние и больших плавающих китов.\n",
            "Soon I will go to another city to watch the Northern Lights and great whales swimming.\n",
            "\n",
            "Она каждое утро делает макияж, завтракает, едет на метро, чтобы снова работать в поте лица.\n",
            "She does her make-up every morning, has breakfast, takes the subway to work up a sweat again.\n",
            "\n"
          ]
        }
      ]
    },
    {
      "cell_type": "markdown",
      "source": [
        "#### **ВЫВОД:**\n",
        "\n",
        "Перевод просто чудный!"
      ],
      "metadata": {
        "id": "iXnrGTWt2S9m"
      }
    },
    {
      "cell_type": "markdown",
      "metadata": {
        "id": "KHdYBKyO374l"
      },
      "source": [
        "### **МЕТОД ПОИСКА БЛИЖАЙШИХ СТАТЕЙ ЧЕРЕЗ ТРАНСФОРМЕР**\n",
        "\n",
        "**\"bert-base-cased\"**"
      ]
    },
    {
      "cell_type": "code",
      "source": [
        "# скачиваем готовый новостной датасет скачиваем из https://github.com/natasha/corus/blob/master/README.md любой новостной датасет:\n",
        "\n",
        "# реализовать метод поиска ближайших статей (на вход метода должен приходить запрос (какой-то вопрос) и количество вариантов вывода к примеру топ 5-ть или 3-ри, ваш метод должен возвращать топ-k ближайших статей к этому запросу);\n",
        "# визуально оценить качество."
      ],
      "metadata": {
        "id": "q3ydfM6vHwi3"
      },
      "execution_count": null,
      "outputs": []
    },
    {
      "cell_type": "code",
      "source": [
        "import json\n",
        "!pip install annoy\n",
        "import annoy\n",
        "import numpy as np\n",
        "from tqdm import tqdm_notebook\n",
        "from transformers import BertTokenizer, BertModel\n",
        "import torch"
      ],
      "metadata": {
        "id": "uwgxuwQvHwmH"
      },
      "execution_count": null,
      "outputs": []
    },
    {
      "cell_type": "code",
      "source": [
        "# Функция распоковки датасета со статьями\n",
        "def get_datasets(path):\n",
        "  data = []\n",
        "  with open(path, 'r') as r:\n",
        "      for line in r:\n",
        "          data.append(json.loads(line))\n",
        "  data.sort(key=lambda x: x['date'])\n",
        "  return data\n",
        "\n",
        "\n",
        "# Функция извлечения названий и основного текста статей\n",
        "def get_text(data):\n",
        "  return [data['title'], data['text']]"
      ],
      "metadata": {
        "id": "nKXRYdz_35ea"
      },
      "execution_count": 3,
      "outputs": []
    },
    {
      "cell_type": "code",
      "source": [
        "# Загрузим статьи\n",
        "\n",
        "!wget https://www.dropbox.com/s/lb50mk5jujjjqbi/gazeta_jsonl_v2.tar.gz\n",
        "!tar -xvzf gazeta_jsonl_v2.tar.gz"
      ],
      "metadata": {
        "id": "ap0SPqbu35jc"
      },
      "execution_count": null,
      "outputs": []
    },
    {
      "cell_type": "code",
      "source": [
        "# Сформируем датасет\n",
        "\n",
        "train_path = 'gazeta_train.jsonl'\n",
        "# valid_path = 'gazeta_val.jsonl'\n",
        "# test_path = 'gazeta_test.jsonl'\n",
        "\n",
        "x_train = get_datasets(train_path)\n",
        "# x_val = get_datasets(valid_path)\n",
        "# x_test = get_datasets(test_path)\n",
        "\n",
        "print(f'Train length: {len(x_train)}')\n",
        "# print(f'Val length: {len(x_val)}')\n",
        "# print(f'Test length: {len(x_test)}')"
      ],
      "metadata": {
        "colab": {
          "base_uri": "https://localhost:8080/"
        },
        "id": "eog_kVMz35nl",
        "outputId": "b981bd78-56ff-4a75-af29-2a1d6c0176e4"
      },
      "execution_count": 6,
      "outputs": [
        {
          "output_type": "stream",
          "name": "stdout",
          "text": [
            "Train length: 60964\n"
          ]
        }
      ]
    },
    {
      "cell_type": "code",
      "source": [
        "x_train[1]"
      ],
      "metadata": {
        "colab": {
          "base_uri": "https://localhost:8080/"
        },
        "id": "1LIL7sya35rd",
        "outputId": "ec299062-27d2-4fae-b220-69e68fdb9eac"
      },
      "execution_count": 7,
      "outputs": [
        {
          "output_type": "execute_result",
          "data": {
            "text/plain": [
              "{'date': '2010-06-01 10:42:59',\n",
              " 'url': 'https://www.gazeta.ru/culture/2010/06/01/a_3378006.shtml',\n",
              " 'summary': 'Британские затворники, московские модники, бразильский фанк и исламский панк, а также Мик Джаггер, группа Blur и фестивальные хроники, снятые на мобильник, – в Москве стартует Beat Film Festival.',\n",
              " 'title': 'Секс, наркотики и темный зал',\n",
              " 'text': \"Словосочетание «музыкальный кинофестиваль» уже не звучит непривычным оксюмороном — в наше бедное на гениев время разобраться в современной музыке порой проще с помощью наблюдения за участниками процесса. Так уже было, к примеру, с сандэнсовским фильмом «DiG!», влюбившим зрителей по всему миру в портлендского безумца Антона Ньюкомба и его группу Brian Jonestown Massacre. В столице картину показали год назад. Это был совсем камерный клубный показ в рамках фестиваля Music.doc, почти без рекламы, но о тех двух часах не пожалел никто из пары десятков случайных и не очень посетителей. То же можно сказать и о прочих показах. Стартующий в этот четверг Beat Film Festival – прямой наследник Music.doc. На этот раз к услугам киномеломанов самая авторитетная арт-хаусная площадка города, а не тесный клуб или помпезный «Иллюзион», а вместо собранной по сусекам программы – фильмы с не более чем двухлетним сроком давности. Картины «Bassweight» и «Favellla on Blast» рассказывают (соответственно) о все еще свежих дабстепе и балеарике – направлениях, с которыми сейчас принято связывать будущее электронной (и не только) музыки. Произведения львиной доли адептов этих стилей вне удолбанного танцпола или хотя бы прокуренного клуба приводят к внезапным вспышкам головной боли, однако породившая их среда, безусловно, заслуживает внимательно взгляда. Почему дабстеп появился в Лондоне, а балеарик – в бразильских фавеллах? Почему герои дабстепа прячут лица, а M.I.A., напротив, носит яркие лосины? Ну и главный вопрос – как секс, наркотики, густой смог и вечное похмелье конденсируют в музыку? О субкультуре другого порядка рассказывает картина «Taqwacore: The Birth of Punk Islam». Вынесенное в заглавие слово придумал писатель Майкл Мухаммед Найт для своего романа о нью-йоркских панках-мусульманах The Taqwacores. Выдуманный стиль дал толчок исламскому панку, стремительное развитие которого и стало причиной появления первого посвященного этому явлению фильма. Главным героем картины, как можно догадаться, стал сам писатель. Наш личный фаворит программы. Мостом между мейнстримовой и андеграундной культурами служит летопись двух фестивалей – московского «Пикника «Афиши»» и лондонского All Tomorrow's Parties. Если про первый все и так известно, история второго для многих станет открытием. Один из важнейших британских фестивалей славится не только своей демократичностью, но и тем, что его кураторами ежегодно становятся главные герои мировой альтернативной сцены – от Ника Кейва до Portishead. У посетителей Beat Film Festival есть шанс почувствовать всю прелесть этого предприятия – часть фильма смонтирована из любительской «мобилографии». Ну и, наконец, не обойдется и без знакомых широкой публике имен. Самой близкой россиянам картиной должна стать «Posters Came From The Walls» — рассказ о фанатах Depeche Mode по всему миру, не обошедший вниманием и некогда многочисленное российское фанатское коммьюнити. Другим потенциальным хитом программы может стать «No Distance Left To Run» — новейший извод истории группы Blur от рождения до последнего концерта в Гластонберри годичной давности. Впрочем, поговаривают, что и он был не последним, но это уже совсем другая история. Ну а откроется фестиваль в четверг фильмом «Stones in Exile», который в представлениях для сведущей публики, в общем, не нуждается. Это хроника года, проведенного группой The Rolling Stones в Париже во время записи недавно переизданного альбома «Exile On Main Street» — одной из лучших и точно самой безумной записи великих британцев. Иными словами, документальное свидетельство тех времен, когда изобретатель формулы «Секс, наркотики и рок-н-ролл» Мик Джаггер и его одногруппники в полной мере убеждали в действенности изобретенной идеологии. И прежде чем спрашивать, где же тут актуальность, стоит полюбопытствовать, что в их жизни изменилось с тех пор. The Beat Film Festival пройдет в кинотеатре 35 мм с 3 по 8 июня.\"}"
            ]
          },
          "metadata": {},
          "execution_count": 7
        }
      ]
    },
    {
      "cell_type": "code",
      "source": [
        "# Извлечем названия и основной текст из статей\n",
        "\n",
        "articles = []\n",
        "for line in tqdm_notebook(x_train):\n",
        "  articles.append(get_text(line))\n",
        "  if len(articles) > 10000: # сделать на всем датасете\n",
        "    break"
      ],
      "metadata": {
        "colab": {
          "base_uri": "https://localhost:8080/",
          "height": 49,
          "referenced_widgets": [
            "94bf5bf0be3141b099b6564c41777561",
            "194a8599f6f04866842c23412bae4495",
            "464a3f9db0ca4f54bacf10d94ebf967d",
            "2d38b88db4754345a823656d55c4af13",
            "5576d57e5d6548dbbfe4b7a23ff75ed9",
            "9699c455bc254a67920178508d762c57",
            "1518d61d72e844238cc584e147ccb1b9",
            "a77682d9b95f4c1b93ad3c266b7ec4b2",
            "12e8c7097b294f128293d460776dda3c",
            "010ce0bcfa8a4c4dad01702c7df9034c",
            "d345860b2a2e48e28948334d1a25b874"
          ]
        },
        "id": "2lgkViSK4WGS",
        "outputId": "a4166700-7968-49ff-ba9e-f7932ac881d3"
      },
      "execution_count": 8,
      "outputs": [
        {
          "output_type": "display_data",
          "data": {
            "text/plain": [
              "  0%|          | 0/60964 [00:00<?, ?it/s]"
            ],
            "application/vnd.jupyter.widget-view+json": {
              "version_major": 2,
              "version_minor": 0,
              "model_id": "94bf5bf0be3141b099b6564c41777561"
            }
          },
          "metadata": {}
        }
      ]
    },
    {
      "cell_type": "code",
      "source": [
        "articles[0]"
      ],
      "metadata": {
        "colab": {
          "base_uri": "https://localhost:8080/"
        },
        "id": "Tr02TnU24WJJ",
        "outputId": "a54d4e72-d9bd-46eb-8fb1-77c8f5af4d57"
      },
      "execution_count": 9,
      "outputs": [
        {
          "output_type": "execute_result",
          "data": {
            "text/plain": [
              "['Налог в бак',\n",
              " 'Сегодня транспортный налог начисляется в зависимости от мощности автомобиля, причем цена для «сильных» машин выше, чем для малолитражек. Также ставку налога могут корректировать региональные власти: согласно Налоговому кодексу, базовый тариф, установленный правительством, может быть уменьшен в пять раз или увеличен до 10 раз. Сборы идут в региональные бюджеты, откуда растекаются на общие нужды. Транспортный налог — один из основных источников бюджетных доходов — предлагается направить исключительно на дорожные фонды. Так, автомобилисты будут понимать, за что они платят, а дорожники будут иметь гарантированный доход. Кроме налога дорожные фонды будут пополняться за счет бюджетных средств и проезда по платным дорогам. Более того, транспортный налог предлагается завуалировать в акцизы на бензин. Привычную и раздражающую систему ежегодной оплаты квитанции предлагается изменить, включив налог в стоимость топлива. Минэкономразвития говорит об удвоении акцизы, которая сегодня составляет 3,32 рубля за литр 92-го и 95-го бензина. Теперь платить будет не тот, кто купил машину мощнее, а тот, кто больше ездит. Владельцам многосильных автомобилей, которые сегодня отдают в год по 45–50 тысяч за машину, нововведение явно выгодно. Также выигрывают хозяева нескольких автомобилей, которые используются поочередно. Если в семье две-три машины, которые много стоят в гараже и не эксплуатируются, сейчас приходится платить за все. По новой схеме сбор будет значительно меньше. Но владельцы экономичных машин будут выкладывать гораздо больше при равном пробеге. Если цена бензина вырастет на 3,32 рубля, то владелец вазовской «девятки», потребляющей на 100 км в городе около 10 литров, заплатит в год 10162 рубля при среднем пробеге 30 тыс. км вместо 550 руб. по квитанции, а за Citroen C3 мощностью 73 л. с. и расходом 8,5 л на «сотню» придется в год выложить около 8,5 тысяч рублей. Сейчас – 511 руб. Хорошо укомплектованный Ford Focus cо 145-сильным мотором за 30 тыс. км. обойдется в 11155 «налоговых» рублей – на 6800 рублей дороже, чем при существующей ставке налогообложения, а вот налог на пожилой Mercedes-Benz S420 в кузове W140 при новой системе снизится почти вдвое. Сейчас владелец платит в год за 279 л. с. мотора около 41850 рублей. При среднем пробеге в 30 тыс. км в год и расходе топлива порядка 20 л на 100 км он истратит всего 6000 литров бензина и заплатит в казну вдвое меньше – 19920 рублей. С точки зрения власти решение отмены транспортного налога понятное и верное. В первую очередь, собираемость налога тут же возрастет до 100%, потому что новая система исключает возможность уклониться от уплаты. Кроме того, налоговая инспекция сэкономит бюджетные средства на доставке квитанций и судебных издержках при выколачивании средств с неплательщиков. Автоматически решается вопрос с бюрократической неразберихой после продажи машины или утилизации, когда налоговые органы присылают квитанцию на давно проданную машину. Но главное, что при новой схеме сборы значительно возрастут. Власти рассчитывают собирать до 62 млрд рублей в год. Экономисты уже предвидят тотальное повышение цен из-за роста стоимости перевозок. Ведь за бензин придется переплачивать и логистическим компаниям, которые включат дополнительные расходы в цену товара. Получается, что теперь за дороги будут платить не только автомобилисты, но и те, кто за рулем никогда не сидел. Но даже с учетом всех оговорок отмена транспортного налога — это важный и сильный политический шаг, который поможет снять напряжение в регионах. Дело в том, что скрытое налогообложение делает поборы незаметными и не травмирующими. Ведь власти и сейчас любят педалировать тем, что в стране самый низкий в Европе подоходный налог 13%. При этом они не афишируют другие отчисления в бюджет, которые снимаются с граждан с теми же акцизами и НДС. Есть также сомнения, что власти смогут обеспечить прозрачность расходования средств. Дорожные фонды в России уже существовали и были расформированы в 2000 году за коррупционность. Как предполагается распределять деньги между регионами и федеральным дорожным агентством и кто будет следить за потоками, в правительстве пока не решили.']"
            ]
          },
          "metadata": {},
          "execution_count": 9
        }
      ]
    },
    {
      "cell_type": "code",
      "source": [
        "device = torch.device('cuda:0' if torch.cuda.is_available() else 'cpu')\n",
        "device"
      ],
      "metadata": {
        "colab": {
          "base_uri": "https://localhost:8080/"
        },
        "id": "gk_WznpGURWD",
        "outputId": "9dd13546-ace7-40f0-b6c4-87dd2dc8959f"
      },
      "execution_count": 14,
      "outputs": [
        {
          "output_type": "execute_result",
          "data": {
            "text/plain": [
              "device(type='cuda', index=0)"
            ]
          },
          "metadata": {},
          "execution_count": 14
        }
      ]
    },
    {
      "cell_type": "code",
      "source": [
        "# Загрузим модель Берт\n",
        "\n",
        "tokenizer = BertTokenizer.from_pretrained(\"bert-base-cased\")\n",
        "model = BertModel.from_pretrained(\"bert-base-cased\").to(device)\n",
        "\n",
        "# text = \"Replace me by any text you'd like.\"\n",
        "# encoded_input = tokenizer(text, return_tensors='pt')\n",
        "# output = model(**encoded_input)"
      ],
      "metadata": {
        "id": "D_mdZFGy4WTr",
        "colab": {
          "base_uri": "https://localhost:8080/"
        },
        "outputId": "1f88bb2d-306a-4c6d-c8df-8429b76642cd"
      },
      "execution_count": 65,
      "outputs": [
        {
          "output_type": "stream",
          "name": "stderr",
          "text": [
            "Some weights of the model checkpoint at bert-base-cased were not used when initializing BertModel: ['cls.seq_relationship.weight', 'cls.predictions.transform.LayerNorm.bias', 'cls.predictions.transform.dense.weight', 'cls.predictions.transform.dense.bias', 'cls.predictions.decoder.weight', 'cls.predictions.transform.LayerNorm.weight', 'cls.predictions.bias', 'cls.seq_relationship.bias']\n",
            "- This IS expected if you are initializing BertModel from the checkpoint of a model trained on another task or with another architecture (e.g. initializing a BertForSequenceClassification model from a BertForPreTraining model).\n",
            "- This IS NOT expected if you are initializing BertModel from the checkpoint of a model that you expect to be exactly identical (initializing a BertForSequenceClassification model from a BertForSequenceClassification model).\n"
          ]
        }
      ]
    },
    {
      "cell_type": "code",
      "source": [
        "# Воспользуемся библиотекой Annoy, которая выполняет приближенный поиск, облегченный KNN\n",
        "\n",
        "bert_index = annoy.AnnoyIndex(768 ,'angular')\n",
        "index_map = {}\n",
        "index_map_text = {}\n",
        "counter = 0\n",
        "\n",
        "for line in tqdm_notebook(articles):        \n",
        "\n",
        "        # записываем в словарь название статьи\n",
        "        index_map[counter] = line[0]    \n",
        "        index_map_text[counter] = line[1] \n",
        "\n",
        "        # отделяем основной текст статьи и токенезируем его               \n",
        "        article_body = tokenizer(line[1], max_length=512, truncation=True, return_tensors='pt').to(device) \n",
        "\n",
        "        # создаем вектор статьи\n",
        "        vector_bert = model(**article_body).pooler_output[0]\n",
        "       \n",
        "        # добавляем векторы в индексы annoy\n",
        "        bert_index.add_item(counter, vector_bert)\n",
        "            \n",
        "        counter += 1\n",
        "        \n",
        "        # if counter > 2:\n",
        "        #     break\n",
        "\n",
        "# разбиваем на центроиды\n",
        "bert_index.build(15)"
      ],
      "metadata": {
        "id": "5iaSVgKUHwpM",
        "colab": {
          "base_uri": "https://localhost:8080/",
          "height": 66,
          "referenced_widgets": [
            "f3cb1897da944091bed3b201327ba15a",
            "2436487aaad14b339192a3296459eb79",
            "1f569acc509b43088d9c821ea60724e8",
            "66f194c6e06b4496859641ec6002de1d",
            "07d13d050a194576aae90b3fb3a4045f",
            "2129599a871b473f9ecaed2c527b2869",
            "b8b5da4a6f0f4c48acab8b9a88378d2d",
            "bdf6ca5dee7e42cf9f6c5490acd2a03b",
            "f77b1ea029244227ba332992ec720784",
            "843d54259f0544cbb4c5fa572de5ffd0",
            "47e8027f6640477980895526ab2bafa3"
          ]
        },
        "outputId": "bf3b1d91-b227-46c6-81f1-c8d180c26f2b"
      },
      "execution_count": 71,
      "outputs": [
        {
          "output_type": "display_data",
          "data": {
            "text/plain": [
              "  0%|          | 0/10001 [00:00<?, ?it/s]"
            ],
            "application/vnd.jupyter.widget-view+json": {
              "version_major": 2,
              "version_minor": 0,
              "model_id": "f3cb1897da944091bed3b201327ba15a"
            }
          },
          "metadata": {}
        },
        {
          "output_type": "execute_result",
          "data": {
            "text/plain": [
              "True"
            ]
          },
          "metadata": {},
          "execution_count": 71
        }
      ]
    },
    {
      "cell_type": "code",
      "source": [
        "# Функция возвращает 5 ближайших статей по запросу\n",
        "\n",
        "def get_response(text, model, index, index_map):\n",
        "    text = tokenizer(text, max_length=512, truncation=True, return_tensors='pt').to(device)  \n",
        "    vector = model(**text).pooler_output[0]\n",
        "    titles = index.get_nns_by_vector(vector, 5)\n",
        "    return [(index_map[i], index_map_text[i]) for i in titles]"
      ],
      "metadata": {
        "id": "ZvfH1sa76ynG"
      },
      "execution_count": 72,
      "outputs": []
    },
    {
      "cell_type": "code",
      "source": [
        "TEXT = 'транспорт'\n",
        "print(get_response(TEXT, model, bert_index, index_map))"
      ],
      "metadata": {
        "colab": {
          "base_uri": "https://localhost:8080/"
        },
        "id": "6rrmzbOD6yqi",
        "outputId": "f9ec5da4-fb5d-4dd8-8e4f-ab514afcba58"
      },
      "execution_count": 73,
      "outputs": [
        {
          "output_type": "stream",
          "name": "stdout",
          "text": [
            "[('Хорваты припомнят мундиаль', 'Хорватия — Мальта 17 ноября, 19:30 Загреб, стадион «Максимир» Котировки БК «Марафон» на вторник:1.03 -24.00-55.00 Финляндия - Сан-Марино 17 ноября, 19:30 Хельсинки, стадион «Олимпийский» Котировки БК «Марафон» на вторник:1.01-19.50-60.00 Пока сразу 72 национальные команды со всего мира в среду будут выяснять отношения в рамках товарищеских поединков, в отборочном цикле чемпионата Европы-2012, что пройдет на газонах польских и украинских свежепостроенных арен, состоятся аж два самых что ни на есть боевых противостояния. Хорватская дружина Славена Билич а, в ходе отбора на минувший чемпионат мира лишенная путевки в ЮАР сборными Англии и Украины, буквально пылает желанием реабилитироваться и как можно скорее обеспечить свое присутствие на первенстве Европы. На помощь хорватам уже успел прийти жребий, «назначивший» их соперниками в борьбе за право поиграть в главном турнире континента сборные Греции, Израиля, Латвии, Грузии и Мальты. Именно с последними в среду и предстоит сразиться команде Хорватии. Для нее встреча с мальтийцами, ожидаемо занимающими последнюю строчку в таблице группы F, — отличный шанс, напротив, возглавить эту самую таблицу. В случае победы хорваты, имеющие на настоящий момент на одну игру меньше, чем греки, обойдут их на два очка. Команде же Мальты победа даже не поможет опередить идущих на пятом месте латышей, так велико ее отставание от соперников по группе. «Любой результат, отличный от победы, будет провалом, — заявил официальному сайту УЕФА Билич. – Более того, хорватские болельщики хотят не просто увидеть наш триумф, они хотят, чтобы их команда показала красивую игру. В последних встречах мы высоко подняли планку, и теперь должны ей соответствовать. Если мы обыграем мальтийцев, то возглавим группу. Это не значит, что мы станем значительно ближе к путевке на Евро, но это лидерство поможет нам психологически». «Сборной Мальты нечего терять, так что, нет сомнений, они постараются доставить нам побольше неприятностей, — уверен нападающий «Гамбурга» и сборной Хорватии Младен Петрич. – Тренер уже заверил нас, что в этом отборочном цикле мальтийцы порой показывают очень неплохой футбол. Нам важно не терять концентрацию и играть как обычно. Думаю, для нас самое главное – забить первыми. А там уже будет легче». Примечательно, что последняя встреча сборных Хорватии и Мальты, состоявшаяся в рамках отбора на мундиаль-2006, завершилась вничью со счетом 1:1. Впрочем, с тех пор хорватская дружина почти полностью обновилась. Из тех, кто играл в той команде, сегодня цвета сборной защищают лишь четверо — Стипе Плетикоса, Дарио Срна, Йосип Шимунич и Нико Кранчар. У мальтицев же ту ничью еще помнят пятеро футболистов. Во втором боевом матче, что состоится в среду, сборная Финляндии примет гостей из Сан-Марино. В этой встрече расклад сил, казалось бы, такой же неравный, как и в первой, однако на самом деле все не так очевидно. Ни финны, ни сан-маринцы еще не набрали в нынешнем цикле не очка. Учитывая, что в одной группе с ними выступают команды Нидерландов и Швеции, надеяться им уже практически не на что. Правда, за успех финской сборной, пожалуй, говорит то, что команда из Сан-Марино на 21 мяч, забитый в четырех матчах соперниками, так и не ответила ни одним своим. Посему вряд ли стоит ожидать, что в Хельсинки гости вдруг забьют достаточное для победы количество голов. Так что финнам флаг, как говорится, в руки. А там, глядишь, оппоненты оступятся, и команда Олли Хуттунена, на днях сменившего на посту наставника Стюарта Бакстера, и поборется-таки за путевку на Евро. Новости о главном футбольном турнире континента, положение команд в турнирных таблицах отборочных групп и многое другое можно узнать на странице Евро-2012.'), ('«Роснефть» идет в Европу', '«Роснефть» «находится на продвинутой стадии переговоров» по покупке 50% Ruhr Oel GmbH, имеющей доли в четырех германских нефтеперерабатывающих заводах (Bayern Oil, Gelsenkirchen, MiRO Karlsruhe, PCK Schwedt), сообщает The Wall Street Journal , ссылаясь на осведомленные источники. Если сделка состоится, Ruhr Oel станет первым зарубежным перерабатывающим активом «Роснефти» — пока все downstream-активы госкомпании располагаются на территории России. Продает актив венесуэльская госкомпания Petroleos de Venezuela SA, сумма сделки оценивается в $1—2 млрд. Ранее половина Ruhr Oel оценивалась в $2 млрд, однако на стоимость актива повлияло перепроизводство нефтепродуктов и снижение спроса на них в Европе. Оставшиеся 50% Ruhr Oel принадлежат британской British Petroleum. По информации WSJ, в обмен на отказ ВР от преимущественного права выкупа акций Ruhr Oel «Роснефть» предложила британцам участие в разработке арктического шельфа. Речь идет о восточно-приновоземельских участках, расположенных на шельфе Карского моря, в районе острова Новая Земля, сообщает «Интерфакс» со ссылкой на источник в «Роснефти». Заявки на геологоразведку этих участков госкомпания подала еще весной. В «Роснефти» «Газете.Ru» отказались комментировать потенциальную сделку по покупке 50% НПЗ, однако источник «Интерфакса» сообщает, что переговоры действительно ведутся и не исключено, что договоренность между сторонами будет достигнута уже до конца сентября. «Роснефть» с British Petroleum сотрудничает уже давно — у компаний есть совместный проект на Сахалине, а кроме того, ВР владеет 1,4% акций «Роснефти», купив их в ходе IPO госкомпании в 2006 году за $1 млрд. Выход на немецкий рынок нефтепродуктов с помощью ВР для «Роснефти» может не ограничиться приобретением половины Ruhr Oel. В рамках программы продажи активов британская компания планирует выручить в общей сложности $30 млрд, эти деньги пойдут на ликвидацию последствий аварии в заливе и выплаты штрафов и компенсаций. Уже были заключены две сделки, которые принесли ВР $8,7 млрд. В конце июля на рынке появилась информация о том, что ВР готовится продать свою германскую структуру Aral, владеющую сетью автозаправок. Продажа этого актива принесла бы ВР около $2,6 млрд, а в качестве потенциальных покупателей наряду с французской Total и европейской ассоциацией Avia International называлась «Роснефть». Единственное, что говорило тогда не в пользу покупателя из России, — отсутствие у «Роснефти» в Германии перерабатывающих мощностей. С покупкой Ruhr Oel ситуация изменится. «Если «Роснефть» покупает переработку, логично приобрести и АЗС, — говорит аналитик ИФД «Капиталъ» Виталий Крюков. — А под рукой как раз есть сеть, принадлежащая ВР. Маржа от переработки сейчас на рекордно низком уровне, и комплексная покупка (то есть не только доли в НПЗ, но и сбытовой сети) улучшит экономику сделки для «Роснефти»». Впрочем, Крюков допускает, что «Роснефть» может приобрести Aral не целиком, а пропорционально своему участию в НПЗ. В то же время эксперт отмечает, что золотое время переработки прошло, во всяком случае в Европе. «Спрос вялый, практически не растет, запасы накоплены крупные, есть избыток мощностей — 7 млн баррелей в сутки, — перечисляет Крюков. — Перспективы переработки в Европе очень слабые. Сейчас все идут в Азию». «Роснефть» же идет в Европу, по мнению Крюкова, возможно, преследуя определенные геополитические цели, помимо экономики.'), ('Мужские игрушки Мердока', \"News Corp. Руперта Мердока приобрела компанию UGO Entertainment у издающего Cosmopolitan , Esquire и Harper's Bazaar медиаконгломерата Hearst Corp., основанного Уильямом Херстом. Интернет-ресурсы, которыми управляет UGO Entertainment, расчитаны на мужчин в возрасте от 18 до 35 лет, они пишут о новинках в кино, индустрии видеоигр и технологий, а также о новостях спорта и «горячих девушках». Теперь управлять сайтами UGO, включая Ugo.com и 1Up.com, будет медиаподразделение корпорации Мердока IGN Entertainment. «Эта сделка мгновенно поднимает нас на новый уровень и позиционирует нас как поставщика услуг для десятков миллионов поклонников игр по всему миру», — говорит президент IGN Entertainment Рой Бехат. Подразделение IGN управляет аналогичными проектами News Corp — IGN.com, GameSpy, FilePlanet, Direct2Drive и TeamBox. Участники рынка считают, что сделка позволит Мердоку расширить присутствие News Corp на рынке онлайн-видеоигр. Объединив IGN и UGO, News Corp получит ежемесячную аудиторию в 70 млн человек, отмечает Los Angeles Times. «IGN и 1up — огромные ресурсы, более 10 лет работающие на рынке развлекательного контента и новостей. Основная ценность порталов — аудитория», — говорит советник по социальным коммуникациям компании «SM&Partners» Джин Колесников. Цена сделки официально не оглашается. Но, по оценкам экспертов, она могла составить несколько миллионов долларов. Hearst приобрела UGO в 2007 году за $100 млн. Компанию IGN холдинг Мердока купил в 2005 году за $650 млн долларов спустя несколько месяцев после сделки по поглощению сети MySpace. Покупая UGO Entertainment, Мердок может иметь и другой расчет кроме расширения присутствия на рынке игр и контента для мужчин, полагают эксперты. «Мердоку не удается продать MySpaсe, несмотря на то что он уже сильно подвинулся по цене. Возможно, замысел в том, что за счет онлайн-игр этот проект удастся лучше монетизировать и либо превратить в более высокодоходный, либо продать по более привлекательной цене», — не ислючает аналитик ИХ «Финам» Леонид Делицын .\"), ('Рынки ждут отчетов', \"Российский фондовый рынок начал неделю падением. В первые минуты торгов рублевый ММВБ сократился на 0,26% и составил 1320,73 пункта. Долларовый РТС, открывающийся на полчаса раньше, к этому времени потерял 0,15% и составил 1357,40 пункта. Российский рынок акций падает, несмотря на благоприятный внешний фон. Так, торги в Азии проходят в «зеленой зоне»: сводный индекс Азиатско-Тихоокеанского региона MSCI Pacific поднялся на 0,2%. Китайский Shanghai Composite прибавил 0,9%, гонконгский Hang Seng — 0,67%, южнокорейский Kospi — 0,64%, австралийский ASX — 0,34%. Лишь японский Nikkei 225 упал на 0,39%. В плюсе закрылись западные площадки. Британский FTSE вырос на 0,54%, немецкий DAX — на 0,49%, французский CAC 40 — на 0,46%. При этом подъем на европейских площадках по итогам прошлой недели был максимальным с начала года: индекс 600 крупнейших предприятий региона Stoxx Europe 600 подскочил на 5,4%. На американских площадках также преобладали быки: Dow Jones Industrial Average поднялся на 0,58%, Nasdaq Composite — на 0,97%, Standard & Poor's 500 вырос на 0,72%, а по итогам недели — на 5,4%, что является максимальным подъемом с начала года. Главным драйвером роста стало улучшение прогноза Международного валютного фонда ( МВФ ) о состоянии экономики. Мировой ВВП в 2010 году прибавит 4,6%, а не 4,2%, как ожидалось в апреле. Главным локомотивом роста глобальной экономики станут развивающиеся страны. Так, ВВП Китая, по оценке МВФ, вырастет на 10,5% против ранее прогнозируемых 10%, ВВП Бразилии — на 7,1% против 5,5%, ВВП России — на 4,3% против 4%, ВВП Индии — на 9,4% против 8,8%. В среднем развивающиеся экономики вырастут в этом году на 6,8%. На развитые страны МВФ смотрит не столь оптимистично: ВВП еврозоны вырастет в этом году всего на 1%. «Хотя мы прогнозируем продолжение восстановления, очевидно, что риски замедления резко возросли», — считает главный экономист МВФ Оливер Бланчард. Торможение роста связано с «неопределенностью в суверенном и финансовом секторах еврозоны». Речь идет о сокращении бюджетных расходов и, как следствие, сворачивании программ по поддержки экономики, на которые пошли правительства западных стран, чтобы не допустить разрастания долгового кризиса. «События последних нескольких месяцев дали понять, что еще слишком рано объявлять об окончании кризиса. Правительства и центробанки Европы и всего мира продолжают принимать быстрые, решительные и эффективные действия в ответ на изменившиеся экономические финансовые условия», — заявил в конце прошлой недели глава Европейского центробанка Жан-Клод Трише, добавив, что строгая экономия денег необходима, поскольку альтернативы нет. По его словам, меры консолидации «помогут превратить нынешнее улучшение в стабильный рост». Прошедшая неделя была позитивной и для российских площадок: РТС прибавил 3,3%, ММВБ — 2,8%. «Неделя выдалась позитивной благодаря коррекции на российском фондовом рынке и позитивных сигналов с внешних площадок», — объясняет аналитик NetTrader.Ru Александр Бабайкин. «Российский рынок поверил, что внешние рынки успокоились: безостановочное падение индексов S&P и Dow Jones в течение семи сессий подряд закончилось мини-ралли, и теперь американские индексы стоят выше важных уровней поддержки в 1040 пунктов по S&P и 10000 пунктов по Dow Jones», , — соглашается управляющий активами ИК «Грандис Капитал» Андрей Толстоусов. На этой неделе настроение инвесторов будет зависеть от новостей из США и Европы. Во-первых, начинают публиковать квартальную отчетность американские компании, прежде всего металлурги, банки и IT- компании. «Ближайшим сопротивлением для ММВБ выступает значение 1355 пунктов и далее 1370 пунктов. Изменение настроений на американских площадках в преддверии сезона отчетностей на положительные может поддержать и наши рынки», — говорит аналитик компании «Атон» Наталья Выгодина. Кроме того, в конце недели должны быть опубликованы данные стресс-тестов европейских банков. «Они могут принести немало как позитивных, так и негативных сюрпризов. И, пожалуй, именно результаты стресс-тестов станут определяющими для всех рынков на ближайшие несколько недель», — заключает Толстоусов.\"), ('Свободны как обычно', 'По итогам 2010 года Россия заняла 143-е место из 179 в рейтинге «Индекс экономической свободы», который рассчитывается исследовательским центром Heritage Foundation (США) совместно с газетой Wall Sreet Journal. Годом ранее Россия занимала 146-е место из 183. В 2008-м она была 134-й, в 2007-м ― 120-й из 161. Это рейтинг ежегодно рассчитывается экспертами фонда по десяти основным категориям, учитывающим степень экономической, торговой свободы, инвестиционной открытости страны, вмешательство государства в экономику, уровень коррупции и т. д. Некоторые показатели Россия улучшила, некоторые ухудшила. Но сумма осталась прежней ― 50,5 пункта из 100 возможных. По мнению Heritage, в России за год несколько уменьшился уровень коррупции, выросла свобода рынка труда, финансового и бюджетного сектора. Хуже стало с вмешательством государства в экономику и свободой торговой деятельности. Инвестиционный климат остался на прежнем уровне. Ближайшими соседями России в рейтинге стали Эфиопия, Сейшельские острова, Микронезия, Непал, Лаос, Сирия и Вьетнам. От группы экономически несвободных стран Россию отделяют всего 0,4 пункта. Там уже находятся Белоруссия (155-е место), Узбекистан (163-е), Украина (164-е) и Туркмения (169-е). Последнее, 179-е место в рейтинге досталось Северной Корее. Индекс ее экономической свободы по версии Heritage составил 1 пункт. Самой же свободной экономикой в мире 17-й раз подряд признается китайская автономия Гонконг. (Материковый Китай на 135-м месте.) Эксперты фонда оценили экономику Гонконга по высшему разряду ― в 89,7 балла. На втором месте Сингапур с показателем 87,2 балла. Третье место у Австралии (82,5). В десятку лидеров также вошли Новая Зеландия, Швейцария, Канада, Ирландия, Дания, США и Бахрейн. Отечественным экспертам кажется забавным, что Heritage Foundation разглядел улучшение ситуации с коррупцией в России. «На одних только госконтрактах был разворован триллион рублей, это признают сами власти. Какое уж тут улучшение», ― недоумевает руководитель департамента стратегического анализа компании ФБК Игорь Николаев. Видимо, эксперты фонда подошли формально к этому показателю. Раз был принят закон о том, чтобы доходы декларировали не только чиновники, но и члены их семей, значит, коррупции станет меньше, иронизирует Николаев. С чем можно согласиться, так это что у бюджетного сектора экономики стало больше свободы, считает Николаев. Этому способствовал принятый закон об автономных организациях ― они получили возможность извлекать прибыль, одновременно имея подпитку из бюджета. Больше свободы стало и на рынке труда, согласен эксперт ING-банка Дмитрий Полевой. Это произошло благодаря правительственным программам по поддержке занятости, принятым в кризис: безработным выделяли разовые пособия, им предоставлялась возможность за счет государства получить другую профессию или переехать в регион, в котором есть вакансии. Улучшение свободы в финансовом секторе объясняется тем, что власти в прошлом году не повышали налоги. Но в этом году налоговая нагрузка опять вырастет. «Замена ЕСН на повышенные страховые взносы и рост ставки НДПИ, скорее всего, отбросит Россию в рейтинге Heritage еще ниже», ― прогнозирует Полевой. Ухудшение же свободы в торговой деятельности, по мнению эксперта, объясняется тем, что в прошлом году российские власти «не гнушались возводить торговые барьеры». «Кроме того, вспомните принятый закон о торговле, позволяющий властям регулировать цены на социально важные продукты питания», ― добавляет Николаев. Впрочем, ухудшение свободы торговли было незначительным, всего на 0,2 пункта. В зачет явно пошло создание Россией Таможенного союза с Казахстаном и Белоруссией, а также активно проводившаяся унификация российского законодательства во внешнеэкономической сфере с законами ЕС и ВТО , отмечает Полевой. Более высокие позиции России в рейтинге Heritage в докризисные годы объясняются тем, что огосударствление экономики было не столь объемным, полагает Николаев. В кризис же государство было вынуждено вмешиваться в экономику, чтобы поддержать ее. Но дело не только в этом, считает глава Экспертной экономической группы Евсей Гурвич : «В последние годы последовательно росли административные барьеры, усиливался монополизм, ограничивались возможности для внешних инвесторов, нарастала коррупция, увеличивалось прямое участие государства в экономике». Впрочем, экономическая свобода ― далеко не все, что требуется для успешного развития, отмечает эксперт. «Среди лидеров рейтинга, например, Ирландия и Эстония, которые были среди рекордсменов кризисного падения производства. А Китай в рейтинге на 135-м месте, рядом с Россией, но его экономика продолжает расти по 10% в год, все увеличивая свою долю в мировом ВВП (сейчас он занимает второе место по объему экономики после США)», ― напоминает Гурвич.')]\n"
          ]
        }
      ]
    },
    {
      "cell_type": "code",
      "source": [
        "TEXT = 'победитель конкурса'\n",
        "print(get_response(TEXT, model, bert_index, index_map))"
      ],
      "metadata": {
        "colab": {
          "base_uri": "https://localhost:8080/"
        },
        "id": "QBdVsgm_1B0i",
        "outputId": "e55a3532-dacf-4ede-80ad-13d01e0bcea3"
      },
      "execution_count": 74,
      "outputs": [
        {
          "output_type": "stream",
          "name": "stdout",
          "text": [
            "[('Порно уходит в резервацию', 'Порнодомен .xxx заработал и уже доступен для регистрации сайтов. Три сайта — xxx.xxx, sex.xxx и porn.xxx — были зарегистрированы в субботу и сейчас работают в закрытом режиме. Компания ICM Registry, занимающаяся продажей адресов в порнодомене, ранее заявляла, что интернет-ресурсы в зоне .xxx будут открыты лишь для работников порноиндустрии. Это требование может привести к проблемам с регистрацией: она не имеет силы закона до тех пор, пока суд не признал материалы сайта порнографическими, предупреждает The Wall Street Journal. Официально домен .xxx открыт только для регистрации порносайтов, поэтому все, что опубликовано в этой зоне, является порнографией. За каждым сайтом также будет следить фонд по надзору в интернете IFFOR, одобрение которого обязательно при регистрации. Сама ICM Registry открыла два корпоративных сайта в порнозоне — icm.xxx и icmregistry.xxx. Владельцы торговых марок смогут защитить свои бренды, обещает ICM. С сентября администраторы порноресурсов смогут забронировать имена сайтов в зоне «.xxx», которые откроются в ноябре. Но владельцы премиум-сайтов смогут открывать их в ближайшие недели. ICM зарезервировала уже около 600 тысяч имен в порнозоне, выручка от продажи которых может составить $30 млн в год. Цена регистрации сайта в зоне .xxx начинается от $70 в год плюс $60 комиссии, в то время как сайт в зоне .com обойдется в $10 в год. За несколько лет ICM потратила $20 млн на лоббирование создания порнозоны. Первые три сайта — xxx.xxx, sex.xxx и porn.xxx, скорее всего, зарегистрированы киберсквоттерами для последующей перепродажи, предполагают эксперты WSJ. Недавно адрес sex.com был продан за $12 млн. Начало регистрации в зоне .xxx — это официальный старт проекта, ожесточенные споры о целесообразности которого продолжались 11 лет. В конце марта некоммерческая корпорация ICANN, управляющая системой интернет-адресов, впервые пошла наперекор мнению правительств и религиозных активистов, одобрив создание порнодомена. ICANN подверглась жесткой критике со стороны Белого дома. «Мы разочарованы, что ICANN игнорировала рекомендации правительств стран всего мира, в том числе США. Решение противоречит мировым интересам, подрывает стабильность и безопасность в интернете, открывает новые возможности для блокировки сети со стороны правительств», – заявил Fox News советник президента США по информации и коммуникациям Лоуренс Стриклинг. Порнографы также выступили против мнения ICANN, опасаясь обязательной перерегистрации в зоне .xxx и появления цензуры в порнозоне. Ассоциация производителей и продавцов порнографии The Free Speech Coalition призывает к бойкоту зоны .xxx. Участники рынка также обеспокоены перспективой блокирования порнозоны в сети в «консервативных странах». Индия и Саудовская Аравия уже сообщали о возможной блокировке всех сайтов в домене .xxx. «Введение доменной зоны оправдано только в том случае, если будет сопровождаться запретом на размещение порнографии на других ресурсах. Для этого необходимо детально проработать процедуру закрытия порнографических сайтов в других доменных зонах и их перевода в зону .xxx с точки зрения российского законодательства», — заявлял «Газете.Ru» председатель правления «Лиги безопасного интернета» Константин Малофеев. Параллельно он предложил «разрешить провайдерам взимать плату за доступ к сайтам этой доменной зоны».'), ('В Москву со своим прицелом', '24-летнюю жительницу Техаса Анну Ферманову арестовали в Нью-Йорке после ее возвращения из России, сообщает во вторник NY Daily News. Задержание провели еще 15 июля, уточняет издание. Ферманова, которая родилась в Латвии, но является гражданкой США, четыре месяца назад, в марте, вылетала в Москву из нью-йоркского аэропорта имени Джона Кеннеди. При досмотре багажа у пассажирки обнаружили три оптических прицела ночного видения для винтовок и обвинили ее в контрабанде высокотехнологичного оружия. Один из прицелов Raptor 4X Night Vision Weapons Sight стоит $7 тыс., еще два прицела — около $4 тыс. каждый. Все они внесены в специальный список вооружений, для вывоза которого необходимо разрешение госдепа США. Требуемых документов у Фермановой не оказалось. Кроме того, 24-летняя жительница Техаса перед погрузкой прицелов в сумку закрасила черным маркером серийные номера и удалила идентификационные маркеры. Несмотря на подозрения, Фермановой все же разрешили вылететь в Москву, предварительно изъяв у нее прицелы и взяв обязательство о явке в полицию после возвращения. В день прилета американку уже ждали в аэропорту имени Кеннеди, где она и была задержана. Суд отпустил Ферманову под залог $50 тысяч, сейчас она находится под домашним арестом. Ожидается, что уже в августе ее снова привезут в Нью-Йорк. До разбирательства по существу американка будет под надзором полиции, ей запрещено покидать дом в пригороде Далласа, где она живет. Обвиняемая по образованию косметолог, кроме того, подрабатывает учительницей английского. В суде Ферманова призналась, что закрасила маркером серийные номера прицелов, но свою вину в незаконном вывозе оружия отрицала. Она объяснила, что купила прицелы через интернет, а в Россию их повезла, чтобы отдать знакомым мужа, которым они нужны для охоты. Адвокат Фермановой Скотт Палмер объяснил журналистам, что его подзащитная часто бывает в России с мужем, который работает в финансовом секторе, сообщает Associated Press. Палмер назвал выдвинутые обвинения «глупыми» и намерен настаивать на оправдании Фермановой. Адвокат также призвал не связывать ее задержание с недавним шпионским скандалом. Некоторые американские и британские СМИ, в том числе NY Daily News и The Mirror, уже сравнили 24-летнюю жительницу Техаса с задержанной в США Анной Чепмен. Журналисты отмечают, что Ферманову арестовали через две недели после Чепмен и она также активно, как шпионка из Волгограда, пользуется социальными сетями: на Facebook обнаружилось множество ее фотографий, которые тут же появились на страницах газет.'), ('«Лахта-центр» с видом на Финский залив', '«Газпром» выбрал новое место для строительства своего делового центра. Компания «Газпром» купила землю на окраине Санкт-Петербурга, по адресу Лахтинское шоссе, дом 2, для строительства своего делового центра. Участок в 140 тысяч квадратных метров у группы компании ЛСР приобрела дочка «Газпрома» — общественно-деловой центр (ОДЦ) «Охта». Об этом «Газете.Ru» сообщила представитель ОДЦ Татьяна Юрьева. «Участок находится недалеко от Финского залива, — сказала Юрьева. — Там будет построено здание, штаб-квартира компании. Но его параметры пока не определены». При этом в ОДЦ затруднились пояснить, будет ли перенесен на новое место старый проект небоскреба или компания объявит новый конкурс. Напомним, из бюджета в 60 млрд рублей «Газпром» потратил на создание «Охта-центра» около 7 млрд, включая проектирование моста и археологические раскопки. Сейчас по адресу Лахтинское шоссе, дом 2, расположены четыре здания, с первого по четвертый корпус. Их арендуют автомастерские, строительные фирмы, нефтяники, выставочные центры. Выкупленный участок находится рядом. С одной стороны от него на расстоянии около 300 метров начинается Финский залив. С другой в 100 метрах проходит железная дорога, ведущая из Петербурга в Сестрорецк. В строительной компании ЛСР «Газете.Ru» рассказали, что ранее использовали участок под склады и переработку песка. И добавили, что довольны договором о купле-продаже. Обе стороны отказались раскрыть стоимость сделки. «Стоимость сделки примерно 1,5 млрд рублей, — сказал источник «Газеты.Ru» в Смольном. — Скорее всего, в ближайшее время «Газпром» купит и соседние участки, которые не принадлежат ЛСР». Защитники архитектурного облика Петербурга говорят, что в будущем у нового проекта могут возникнуть проблемы. «Правила землепользования и застройки (ПЗЗ) предполагают, что в этом месте нельзя строить здания выше 27 метров, — сказал «Газете.Ru» директор центра экспертиз ЭКОМ Александр Карпов. — Если «Газпром» захочет повторить историю с 400-метровой башней, нужно будет вносить изменения в генплан и ПЗЗ. В любом случае мы надеемся, что будет произведено 3D-моделирование объекта, после чего станет ясно, вторгается ли здание в панораму исторического центра». По словам Карпова, небоскреб будет видно из центра, хотя он будет находиться примерно в 9 километрах. «Скажем, силуэт башни будет видно за Ростральными колоннами, и он будет восприниматься как далекая перспектива. Как это будет выглядеть — пока неясно», — говорит директор центра эксперт. Депутат законодательного собрания Петербурга Алексей Ковалев , один из самых ярых противников строительства башни в историческом центре, полагает, что «Газпром» будет строить высотное здание. «Логика простая, — объясняет Ковалев. — Для них чем больше денег удастся выкачать из бюджета компании и перевести в частные руки, тем лучше. Проект «Охта-центра», по более или менее официальным данным, оценивается в 1,8 млрд долларов. Вот и считайте. Они сами себе на голову ищут проблемы. Эту хренотень будет видно на фоне Петропавловской крепости. На протяжении от Троицкого моста до Дворцового». Место, выбранное «Газпромом», расположено на Лахтинском шоссе, по которому ежедневно передвигается кортеж губернатора Петербурга Валентины Матвиенко , везущий ее в Смольный из дома в поселке Комарово. Перед владельцами центра возникнет проблема транспортной доступности, отмечают эксперты: маршрутки и автобусы до Сестрорецка и Зеленогорска уже сейчас застревают в пробках, которые часто образуются на этом участке дороги. До ближайшей железнодорожной платформы Лахта около полутора километров. «Транспортная проблема в этом районе есть, — говорит Карпов. — И она станет серьезной загвоздкой для «Газпрома». Компания в некотором смысле поступила эгоистично, не став договариваться с городом о месте строительства бизнес-кластера, а купив участок самостоятельно. Как они теперь будут решать транспортный вопрос — непонятно. Возможно, задействуют железную дорогу или разработают проект скоростного трамвая до ближайшего метро». В ОДЦ «Охта» надеются, что транспортную проблему удастся решить. «Рядом с участком строится Западный скоростной диаметр, — говорит Татьяна Юрьева. — Будет запущен транспортный коридор по Пироговской набережной. Поэтому проблем возникнуть не должно». «И куда они поедут по этому ЗСД? — в свою очередь, возмущается депутат Ковалев. — В аэропорт? Или на Васильевский? Чтобы попасть в такую же пробку?..» Напомним, в начале декабря 2010 года, выступая на съезде строителей Петербурга, губернатор Матвиенко сделала громкое заявление : «Мы приняли совместное с «Газпромом» окончательное решение о необходимости переноса проекта». Губернатор сказала, что на это решение повлияло общественное мнение. Градозащитники пять лет боролись против возведения башни напротив Смольного. Эксперты, однако, сочли, что окончательное решение было принято президентом страны. Как бы то ни было, такой поворот стал неожиданным для «Газпрома». За две недели до заявления губернатора представители ЗАО ОДЦ «Охта» сообщили, что строительство башни высотой в 396 метров начнется летом 2011 года. «Проект прошел федеральную государственную экспертизу, — сказал тогда Александр Бобков , исполнительный директор компании. — Часть данных проекта мы передали городу для разработки инфраструктуры прилегающих районов. За наш счет будет построен мост через реку Охту и реконструирована набережная Невы. Если не будет форс-мажора, строительство начнется весной-летом следующего года». После того как форс-мажор наступил, представители «Газпрома» обвинили петербуржцев в косности, публично объявив о планах построить небоскреб в Ленинградской области или в Омске. Но город не захотел терять инвестора, и Смольный предложил «Охта-центру» несколько вариантов. В итоге газпромовцы нашли участок самостоятельно.'), ('Винная мода: сладкое наступает', \"Херес-де-Ла-Фронтера — центр знаменитого винодельческого региона в Испании. Его крепленые вина выдерживаются по особой солерной системе. Что она собой представляет? Представьте несколько соединенных между собой вертикальных рядов бочек. В верхнюю бочку наливают молодое вино, которое постепенно перемещается вниз. В нижней бочке-солере собирают сложный напиток, состоящий из урожаев разных лет. Выделяют восемь стилей хереса, от легких и сухих к насыщенным и сладким: Manzanilla, Fino, Amontillado, Oloroso, Palo Cortado, Cream, Moscatel и Pedro Ximenez. Херес-де-Ла-Фронтера — это также неофициальная столица крепленых, десертных и природно-сладких вин: раз в два года в городе проводится «Международный салон благородных вин», посвященный исключительно напиткам этого жанра. Выставка, также известная как Vinoble, проходит в мавританской крепости Эль-Алькасар, которая за многие века не утратила своего грозного и неприступного вида, а теперь стала бастионом сладкого виноделия в буквальном смысле слова. В этом году производители всеми возможными средствами боролись с распространенным мнением о том, что сладкие вина хороши только на десерт. Сегодня сладкие винные стили проигрывают сухим в том числе потому, что люди не знают их настоящих гастрономических возможностей. По инерции они воспринимаются исключительно как напитки с повышенным содержанием сахара, поэтому обычно подаются по тому же принципу, что и сладкие блюда. Расширить эногастрономические горизонты — одна из идей, наиболее громко прозвучавших на Vinoble 2010. Для ее воплощения были задействованы разные форматы — от презентаций мишленовских поваров до дегустаций, а также тематических ланчей и ужинов с производителями. На юге Испании, в регионе Монтилья-Морилес, выпускают десертные вина из сорта педро хименес. Для них виноград подвяливают, сусло крепят, а затем выдерживают в бочках по солерной системе, как хересы. Эти вина очень сладкие, почти как мед: минимальное количество сахара составляет около 300 граммов на литр. На первый взгляд предлагать их на аперитив кажется экстремальным. Но если учесть, что к аперитивному напитку принято подавать легкие закуски, то дело принимает другой оборот. Pedro Ximenez и мини-слойки с рокфором или с печенкой разжигают аппетит, то есть успешно справляются со своим заданием. Сладкие вина теперь более активно продвигаются и как ингредиенты в составе блюд, не обязательно десертных. Папка к дегустации Pedro Ximenez на Vinoble 2010 включала многостраничную подборку рецептов, половина из которых была посвящена основным блюдам, включая жаркое и лазанью. За несколько недель до Vinoble на другой винной выставке итальянский шеф Эрнст Кнам удивил публику неожиданной, но эффектной парой: жареное говяжье филе и сладкое Asti, популярный игристый напиток из винограда москато, который выпускают в итальянском Пьемонте. Кнам считает, что нетрадиционные элементы можно успешно сочетать, если между ними созданы общие вкусовые связи. Говядина с Asti сработала потому, что мясо было предварительно замариновано в этом же вине. Производители десертных вин берут на заметку новые гастрономические влияния. Одно из них касается нестандартной подачи блюд. Классическая иерархия «закуска — основное блюдо — десерт» разрушается. Блюда с элементами сладкого, соленого, пряного, горького вкусов могут подавать в любой момент. Это меняет и традиционную схему сервировки вин: полусладкие и сладкие теперь могут предшествовать сухим. Показательным в этом отношении был ланч у Emilio Lustau, производителя артизанальных хересов (артизанальный — сделанный небольшой партией — ред.). После сухих вин Manzanilla и Amontillado гостям предложили насыщенный десертный херес East India к мильфею из фуа-гра с карамелизованным сыром и зеленым яблоком; за этим последовало блюдо из тунца с более сухим по вкусу Palo Cortado. Обед закончился традиционно — красные фрукты и мороженое с хересным уксусом подали с тягучим хересом Pedro Ximenez. Благодаря авангардисту Феррану Адриа и другим креативным шеф-поварам в мире значительно возрос интерес к испанской кухне. Рестораны высокого класса — хорошая витрина и для вин, в том числе сладких. Представители ведущей компании — производителя хересов Gonzalez Byass утверждают, что испанские рестораны в Лондоне создали новую моду на этот напиток. Великобритания — традиционно важный рынок сладких и крепленых вин. Англичанам приписывают авторство по крайней мере двух напитков этой категории — портвейна и марсалы. В последнее время эти вина сильно страдали из-за старомодного имиджа «напитка пенсионеров», но ситуация, похоже, меняется. Недавно в Лондоне открылся первый хересный бар, где предлагаются вина высокого качества. Посетители могут попробовать основную гамму стилей — от сухого Fino до десертных Moscatel и Pedro Ximenez. Поляризация потребительских вкусов — еще одна нарастающая тенденция, которую отмечают производители. Если раньше спросом пользовались хересы в середине сладкого спектра, особенно все вариации стиля Cream (Pale Cream, Medium Cream), то теперь предпочтения стали контрастными. Люди выбирают либо очень сухие вина — Fino и Manzanilla, либо совсем сладкие — Pedro Ximenez и Moscatel. Один из главных авторитетов по хересу Хесус Баркин заявляет, что промежуточные стили Cream никогда не отражали настоящего характера вин, потому что были созданы искусственно, в угоду рынку. Также усилилось внимание к премиальным нишевым категориям, таким как VORS (Very Old Rare Sherry, выдержка более 30 лет), и винтажным хересам, а также винам, выпущенным ограниченными партиями, с коллекционной ценностью. Улавливая новый тренд, компания Emilio Lustau в этом году представит линейку VORS, состоящую из Amontillado, Palo Cortado, Oloroso и Pedro Ximenez, выпущенную в количестве одной тысячи бутылок, а также винтажный Oloroso-1997. О повышенном интересе к дорогим напиткам говорит и Доминик Симингтон из портвейнного дома Symington Family Estates: «Объем вин в базовом сегменте сокращается, а в премиальном растет, то есть потребители переключаются на покупку более дорогих портвейнов». Эксперт выделяет две категории, движущие продажи: портвейны Tawny 10-летней выдержки и Ruby в верхнем ценовом сегменте. Новые направления массового туризма также помогают создавать моду на сладкие вина. Значительное увеличение британского спроса на крепленые Madeira за последние месяцы виноторговцы объясняют тем, что бюджетные авиалинии открыли рейсы на остров Мадейра. Крупная сеть супермаркетов Waitrose, известная хорошей подборкой вин, объявила, что продажи мадеры за последний год поднялись на 20%. Теперь ассортимент расширен с 5 до 17 марок. В магазине Waitrose, расположенном в центре финансового района Лондона, даже представлена столетняя мадера D'Oliveiras 1910 Sercial, которая продается по 250 фунтов стерлингов. Наконец, в этом году сладкие вина были включены в дегустационную часть экзамена на степень Master of Wine. Выпускники международного The Institute of Masters of Wine считаются наиболее компетентными специалистами в индустрии вина. И, хотя десертные стили навряд ли поднимутся до пика исторической славы, это внимание сигналит о том, что их по крайней мере стали вновь воспринимать серьезно.\"), ('Европа разморозила ЮКОС', 'Верховный суд Нидерландов разморозил счета компании Yukos International UK B.V., на которых находятся средства от продажи ранее принадлежащих ЮКОС у 53,7% акций литовского НПЗ Mazeikiu Nafta и 49% акций словацкой Transpetrol (в общей сложности около $1,45 млрд). Счета компании были заморожены в 2009 году, после того как на них заявила свои права компания «Промнефтьстрой» (ранее входила в структуру государственной «Роснефти», в настоящее время принадлежит американскому бизнесмену Стивену Линчу ). В 2007 году в процессе банкротства ЮКОСа «Промнефтьстрой» приобрела за 7,838 млрд рублей компанию Yukos Finance B. V. — материнскую структуру Yukos International. Покупатели заявили права на активы Yukos International UK B.V., и в качестве обеспечительной меры по иску «Промнефтьстроя» Амстердамский апелляционный суд в 2009 году наложил арест на счета компании. Решение нидерландского суда основано на непризнании законности аукционов, проводившихся в ходе банкротства нефтегазовой компании ЮКОС, которая ранее находилась под контролем Group Menatep (крупнейшими акционерами выступали предприниматели Михаил Ходорковский и Платон Лебедев, после их ареста владельцами активов стали Леонид Невзлин и ряд топ-менеджеров Menatep). В частности, в октябре 2010 года голландские суды признали результат торгов по Yukos Finance B. V. нелегитимным: по мнению судей, «Промнефтьстрой» не является законным владельцем Yukos International. Теперь по решению суда Yukos International вновь получает доступ к своим счетам. Михаил Брудно , совладелец Menatep, не раскрывает планов по использованию размороженных активов. «В Yukos International UK считают владельцами компании бывших акционеров ЮКОСа. Мне нечего к этому добавить», — подчеркнул он. Связаться с Леонидом Невзлиным во вторник днем не удалось. Тим Осборн , глава Group Menatep, сказал «Газете.Ru», что «размороженные $1,5 млрд — это деньги Yukos International». «Сейчас эти деньги на счетах Yukos International. А я директор GML. Мы не имеем прямого доступа или контроля над этими деньгами, пока их распределяет Yukos International», — говорит он. Клэр Дэвидсон , представитель бывших акционеров ЮКОСа, говорит, что бывшие менеджеры ЮКОСа через два фонда в Голландии договорились распределять все освобожденные активы между «невинными жертвами экспроприации ЮКОСа». «Бывший менеджмент ЮКОСа попытается найти всех пострадавших акционеров - более 55 тыс. человек по всему миру и согласовать с ними процесс распределения активов», говорит Дэвидсон. «Но сейчас в Голландии идет несколько судебных процессов. Мы надеемся, они закончатся в следующем году и тогда менеджмент фондов начнет распределять средства», - добавила она. Решения голландских судов в отношении аукционов, на которых распродавались активы ЮКОСа, основаны на том, что правоохранительная система Нидерландов не признала законным и сам факт банкротства российской нефтяной компании. В 2007 году Амстердамский суд отказался признать полномочия конкурсного управляющего ЮКОСа Эдуарда Ребгуна. С 2007 года же тянулась тяжба между голландской «дочкой» ЮКОСа Yukos Capital S.a.r.l и «Роснефтью»: Yukos Capital требовала заплатить 12,9 млрд рублей, которые она в 2004 году предоставила в качестве займа «Юганснкнефтегазу». Затем «Юганскнефтегаз» перешел под контроль «Роснефти», но деньги Yukos Capital возвращены не были. Потерпев неудачу в российских судах, Yukos Capital обратилась в апелляционный суд Амстердама, который встал на сторону истца. «Роснефть» попыталась обжаловать это решение в Верховном суде Нидерландов, но в обжаловании было отказано. В итоге «Роснефть» прошлым летом выплатила требуемую сумму. Вопросы, связанные с ЮКОСом, принципиальны для высших властей России и, соответственно, для госкомпании «Роснефть», признают политологи, но видят, что в последнее время позиция госкомпании по «делу ЮКОСа» смягчилась. » Евросоюз активно выступает в защиту Михаила Ходорковского и Платона Лебедева , отчасти этим объясняются решения нидерландских судов, — напоминает эксперт Центра политической конъюнктуры Дмитрий Абзалов. — «Роснефть» не хочет слишком заострять вопрос денежных расчетов с «дочками» ЮКОСа, госкомпании проще заплатить». По мнению Абзалова, «Роснефти» необходимо поддерживать благоприятный новостной фон в преддверии размещения акций. Он считает последнее решение голладского суда «непринципиальным». «Евросоюз не станет добиваться отмены решения по банкротству ЮКОСа как такового, — уверен Абзалов. — Это стало бы слишком серьезным ударом по отношениям с Россией».')]\n"
          ]
        }
      ]
    },
    {
      "cell_type": "code",
      "source": [
        "TEXT = 'красота и уход'\n",
        "print(get_response(TEXT, model, bert_index, index_map))"
      ],
      "metadata": {
        "colab": {
          "base_uri": "https://localhost:8080/"
        },
        "id": "ehMZjqe134iS",
        "outputId": "6b357437-579c-4f8e-bcee-8085bbd766f1"
      },
      "execution_count": 75,
      "outputs": [
        {
          "output_type": "stream",
          "name": "stdout",
          "text": [
            "[('Запрос на правду', 'Российская сторона, по-видимому, сделала все, что считает возможным, чтобы представить отчет Межгосударственного авиационного комитета о причинах авиакатастрофы, в которой погиб президент Польши Лех Качиньский , максимально убедительно и публично. Презентация отчета на пресс-конференции с видеореконструкцией событий и подробными комментариями председателя МАК Татьяны Анодиной и главы технической комиссии комитета Алексея Морозова произвела серьезное впечатление на экспертов. Напряжение между Москвой и Варшавой это вряд ли снимет, ведь выводы МАК остаются прежними: в катастрофе повинны экипаж и оказывавшие на него давление высокопоставленные польские чиновники, а ответственности российских диспетчеров или роли, которую могли бы сыграть недостатки технического оснащения аэродрома под Смоленском, не усматривается. Поэтому Варшава, скорее всего, останется недовольна и будет настаивать на том, что вопрос не закрыт. Но это политическая составляющая дела. А помимо нее следует отметить, что усилия наших чиновников в публичной аргументации в пользу собственной версии в данном случае беспрецедентны. Уже сам «продвинутый» характер презентации и уровень отвечавших на вопросы журналистов персон ранее в подобных случаях не встречались. А жаль. Подобное, пусть сколь угодно спорное, но открытое и компетентное обсуждение проблем было бы более чем уместно и в других авиапроисшествиях в России, хотя бы даже они не затрагивали иностранных президентов. Только за последние месяцы несколько аварий ТУ-154 — в Коми, Сургуте, Домодедовском аэропорту — вызывали массу вопросов у людей. Это, разумеется, касается не только самолетов. Не было такой высокотехнологичной презентации после коллапса в столичных аэропортах, а ведь она была бы весьма кстати, учитывая количество затронутых граждан. А сколько не так давно было шума, споров и спекуляций вокруг аварии на Саяно-Шушенской ГЭС? События, на несколько недель посеявшего настоящую панику среди нескольких десятков тысяч человек, живущих поблизости? Но с объяснениями было туговато. То есть громкие заявления начальства во всех этих случаях были, а вот чтобы подробно и публично разобрать ситуацию — этого не было. Этой зимой целые районы Подмосковья оказались без света. Об этом пишут газеты, по этому поводу даже высказываются официальные лица. Но надо полагать, что выяснение причин этого ЧП не так сложно технически, как расследование техногенной аварии на огромной электростанции или авиакатастрофы. Однако никаких признаков того, что инстанции готовят открытый и подробный отчет по этому ЧП, нет и в помине. А ведь подобные казусы в других регионах страны происходят еще чаще, и там граждане уж наверное интересуются, что делать и кто виноват. В случае с авиакатастрофой под Смоленском и чиновники МАК, и российские политики заранее знают, что их самые убедительные, самые открытые отчеты о случившемся все равно натолкнутся на скепсис, а то и открытое неприятие в Польше. И все же предпринимают недюжинные усилия, чтобы как можно лучше выглядеть в этой истории. Такова степень уважения к этой аудитории — дипломатическим кругам, международному сообществу, политикам и гражданам соседней страны, наконец. В других случаях этой мотивации нет. Жители Подмосковья или Саяногорска не в силах устроить международный скандал, а их гражданское возмущение оказывает пренебрежительно малый эффект. Попытки сделать такое возмущение весомым для власти аргументом в последнее время предпринимаются (как в истории с «синими ведерками»), но они редки, а у политической элиты вызывают скорее недоумение, чем уважение. Понятно, что ситуация, в которой правительство озабочено тем, чтобы ответы на вопросы получил в первую очередь его собственный народ, — это идеал. И достижим ни в коем случае не по доброй воле этого правительства (потому что никто не любит отчитываться), а тогда, когда работают средства принуждения правительств к такому поведению. В России этих средств нет. У нас, наверное, самое свободное и независимое правительство в цивилизованном мире. Независимое прежде всего от собственных граждан.'), ('Порно уходит в резервацию', 'Порнодомен .xxx заработал и уже доступен для регистрации сайтов. Три сайта — xxx.xxx, sex.xxx и porn.xxx — были зарегистрированы в субботу и сейчас работают в закрытом режиме. Компания ICM Registry, занимающаяся продажей адресов в порнодомене, ранее заявляла, что интернет-ресурсы в зоне .xxx будут открыты лишь для работников порноиндустрии. Это требование может привести к проблемам с регистрацией: она не имеет силы закона до тех пор, пока суд не признал материалы сайта порнографическими, предупреждает The Wall Street Journal. Официально домен .xxx открыт только для регистрации порносайтов, поэтому все, что опубликовано в этой зоне, является порнографией. За каждым сайтом также будет следить фонд по надзору в интернете IFFOR, одобрение которого обязательно при регистрации. Сама ICM Registry открыла два корпоративных сайта в порнозоне — icm.xxx и icmregistry.xxx. Владельцы торговых марок смогут защитить свои бренды, обещает ICM. С сентября администраторы порноресурсов смогут забронировать имена сайтов в зоне «.xxx», которые откроются в ноябре. Но владельцы премиум-сайтов смогут открывать их в ближайшие недели. ICM зарезервировала уже около 600 тысяч имен в порнозоне, выручка от продажи которых может составить $30 млн в год. Цена регистрации сайта в зоне .xxx начинается от $70 в год плюс $60 комиссии, в то время как сайт в зоне .com обойдется в $10 в год. За несколько лет ICM потратила $20 млн на лоббирование создания порнозоны. Первые три сайта — xxx.xxx, sex.xxx и porn.xxx, скорее всего, зарегистрированы киберсквоттерами для последующей перепродажи, предполагают эксперты WSJ. Недавно адрес sex.com был продан за $12 млн. Начало регистрации в зоне .xxx — это официальный старт проекта, ожесточенные споры о целесообразности которого продолжались 11 лет. В конце марта некоммерческая корпорация ICANN, управляющая системой интернет-адресов, впервые пошла наперекор мнению правительств и религиозных активистов, одобрив создание порнодомена. ICANN подверглась жесткой критике со стороны Белого дома. «Мы разочарованы, что ICANN игнорировала рекомендации правительств стран всего мира, в том числе США. Решение противоречит мировым интересам, подрывает стабильность и безопасность в интернете, открывает новые возможности для блокировки сети со стороны правительств», – заявил Fox News советник президента США по информации и коммуникациям Лоуренс Стриклинг. Порнографы также выступили против мнения ICANN, опасаясь обязательной перерегистрации в зоне .xxx и появления цензуры в порнозоне. Ассоциация производителей и продавцов порнографии The Free Speech Coalition призывает к бойкоту зоны .xxx. Участники рынка также обеспокоены перспективой блокирования порнозоны в сети в «консервативных странах». Индия и Саудовская Аравия уже сообщали о возможной блокировке всех сайтов в домене .xxx. «Введение доменной зоны оправдано только в том случае, если будет сопровождаться запретом на размещение порнографии на других ресурсах. Для этого необходимо детально проработать процедуру закрытия порнографических сайтов в других доменных зонах и их перевода в зону .xxx с точки зрения российского законодательства», — заявлял «Газете.Ru» председатель правления «Лиги безопасного интернета» Константин Малофеев. Параллельно он предложил «разрешить провайдерам взимать плату за доступ к сайтам этой доменной зоны».'), ('Хорваты припомнят мундиаль', 'Хорватия — Мальта 17 ноября, 19:30 Загреб, стадион «Максимир» Котировки БК «Марафон» на вторник:1.03 -24.00-55.00 Финляндия - Сан-Марино 17 ноября, 19:30 Хельсинки, стадион «Олимпийский» Котировки БК «Марафон» на вторник:1.01-19.50-60.00 Пока сразу 72 национальные команды со всего мира в среду будут выяснять отношения в рамках товарищеских поединков, в отборочном цикле чемпионата Европы-2012, что пройдет на газонах польских и украинских свежепостроенных арен, состоятся аж два самых что ни на есть боевых противостояния. Хорватская дружина Славена Билич а, в ходе отбора на минувший чемпионат мира лишенная путевки в ЮАР сборными Англии и Украины, буквально пылает желанием реабилитироваться и как можно скорее обеспечить свое присутствие на первенстве Европы. На помощь хорватам уже успел прийти жребий, «назначивший» их соперниками в борьбе за право поиграть в главном турнире континента сборные Греции, Израиля, Латвии, Грузии и Мальты. Именно с последними в среду и предстоит сразиться команде Хорватии. Для нее встреча с мальтийцами, ожидаемо занимающими последнюю строчку в таблице группы F, — отличный шанс, напротив, возглавить эту самую таблицу. В случае победы хорваты, имеющие на настоящий момент на одну игру меньше, чем греки, обойдут их на два очка. Команде же Мальты победа даже не поможет опередить идущих на пятом месте латышей, так велико ее отставание от соперников по группе. «Любой результат, отличный от победы, будет провалом, — заявил официальному сайту УЕФА Билич. – Более того, хорватские болельщики хотят не просто увидеть наш триумф, они хотят, чтобы их команда показала красивую игру. В последних встречах мы высоко подняли планку, и теперь должны ей соответствовать. Если мы обыграем мальтийцев, то возглавим группу. Это не значит, что мы станем значительно ближе к путевке на Евро, но это лидерство поможет нам психологически». «Сборной Мальты нечего терять, так что, нет сомнений, они постараются доставить нам побольше неприятностей, — уверен нападающий «Гамбурга» и сборной Хорватии Младен Петрич. – Тренер уже заверил нас, что в этом отборочном цикле мальтийцы порой показывают очень неплохой футбол. Нам важно не терять концентрацию и играть как обычно. Думаю, для нас самое главное – забить первыми. А там уже будет легче». Примечательно, что последняя встреча сборных Хорватии и Мальты, состоявшаяся в рамках отбора на мундиаль-2006, завершилась вничью со счетом 1:1. Впрочем, с тех пор хорватская дружина почти полностью обновилась. Из тех, кто играл в той команде, сегодня цвета сборной защищают лишь четверо — Стипе Плетикоса, Дарио Срна, Йосип Шимунич и Нико Кранчар. У мальтицев же ту ничью еще помнят пятеро футболистов. Во втором боевом матче, что состоится в среду, сборная Финляндии примет гостей из Сан-Марино. В этой встрече расклад сил, казалось бы, такой же неравный, как и в первой, однако на самом деле все не так очевидно. Ни финны, ни сан-маринцы еще не набрали в нынешнем цикле не очка. Учитывая, что в одной группе с ними выступают команды Нидерландов и Швеции, надеяться им уже практически не на что. Правда, за успех финской сборной, пожалуй, говорит то, что команда из Сан-Марино на 21 мяч, забитый в четырех матчах соперниками, так и не ответила ни одним своим. Посему вряд ли стоит ожидать, что в Хельсинки гости вдруг забьют достаточное для победы количество голов. Так что финнам флаг, как говорится, в руки. А там, глядишь, оппоненты оступятся, и команда Олли Хуттунена, на днях сменившего на посту наставника Стюарта Бакстера, и поборется-таки за путевку на Евро. Новости о главном футбольном турнире континента, положение команд в турнирных таблицах отборочных групп и многое другое можно узнать на странице Евро-2012.'), ('«Лента» на шею', 'Глава московского офиса американского фонда TPG Capital Джеффри Финк покинул свой пост, новой кандидатуры на эту должность пока нет, сообщил «Интерфаксу» в понедельник информированный источник. По его словам, официальная трактовка случившегося — переезд Джеффри Финка на новую работу в Дубай. Однако, отметил собеседник агентства, «истинной причиной ухода Финка со своего поста стала ситуация, сложившаяся вокруг питерской сети гипермаркетов «Лента», в которой фонд Luna Holding, куда входят TPG и » ВТБ Капитал», владеет 30,8% акций. Финк был «против нарушения договора с другим инвестором — «Свободой» (владеет 44% «Ленты») — и выражал несогласие с методами работы фонда в России». В частности, по данным источника в компании, Финк был против «силового захвата офиса «Ленты», полагая, что это сделает невозможным дальнейшую работу фонда TPG на постсоветском пространстве». Скандальный корпоративный конфликт между акционерами «Ленты» начался в мае 2010 года. Контролирующий «Свободу» Август Мейер инициировал увольнение тогдашнего гендиректора сети Дюннинга и назначение на его место Ющенко, миноритарного акционера компании. Однако 17 августа произошла смена гендиректора — с этого дня руководителем компании в ЕГРЮЛ вновь значится Дюннинг. Захват власти произошел с использованием силовых методов. Перемена не устроила Мейера, одного из основных держателей акций «Ленты», полагавшего, что стоящие за Дюннингом TPG Capital и « ВТБ Капитал » намерены продать предприятие американской Wal-Mart Stores. Однако источник, близкий к акционерам «Ленты», заявил «Газете.Ru», что информация о связи отставки Финка и корпоративным конфликтом в «Ленте» является вымыслом, инициированным с тем, чтобы оставшиеся акционеры выкупили долю «Свободы» по высокой цене. «Мы разговариваем с информагентствами по поводу достоверности информации, опубликованной в них», — отметили в коммуникативном агентстве Grayling, занимающимся пиаром TPG. В TPG официально информацию об уходе топ-менеджера не комментируют. В пресс-службе ВТБ от комментариев также воздержались. Официальный представитель Luna Holding Владимир Мельников заявил только, что смены структуры акционеров фонда и выхода кого-либо из владельцев «Ленты», несмотря на все события, пока не планируется. Связаться с представителями «Свободы» в понедельник не удалось. Скандал с уходом топ-менеджера TPG Capital не должен повлиять на другой крупный проект фонда — грядущую покупку 10% акций ВТБ на сумму не менее $3 млрд пулом инвесторов во главе с фондом, надеются эксперты. «Если даже информация подтвердится, никакого влияния на сделку она не окажет. Это личное решение Финка. Возможно, его не устроила работа на постсоветском пространстве или принципы работы самого фонда. В любом случае помимо «Ленты» направления работы фонда достаточно широкие», —говорит аналитик «Велес Капитала» Юрий Кравченко. «Это не позиция фонда. Это директор офиса в Москве и это его частное, личное мнение. Если бы это было мнение головного фонда, оно было бы выражено в другой форме. Это были бы официальные заявления, — соглашается гендиректор ИК «Церих Кэпитал Менеджмент» Александр Щеглов. — Скандал с «Лентой» и уход менеджера, хоть и связаны косвенно, они никоим образом не характеризует позицию фонда». Финк возглавил московский офис TPG Capital в январе 2009 года, сразу после неудачной сделки по приобретению фармацевтической компании «СИА Интернейшнл», в результате которой фонд понес убытки более чем в $50 млн.'), ('Дерипаска стыкуется со «Скай Экспрессом»', 'Группа «Базовый Элемент», принадлежащая Олегу Дерипаске, ведет переговоры о приобретении 51% акций лоукостера «Скай Экспресс», сообщил «Интерфакс» со ссылкой на источник, знакомый с ходом переговоров. По его словам, «финальной точки еще не поставлено», но сделка может быть завершена в ближайшее время. В переговорах также участвует администрация Краснодарского края. По словам источника, администрация заинтересована в развитии авиационного сектора края и сохранении базового перевозчика — «Авиалиний Кубани». Источник, близкий к сделке, подтвердил «Газете.Ru», что «Базэл» и «Скай Экспресс» ведут переговоры. В компаниях отказались от комментариев. «Скай Экспресс» переживает не лучшие времена. В конце прошлой недели Росавиация сообщила, что может приостановить деятельность авиаперевозчика из-за регулярных задержек рейсов. По данным Росавиации , количество задержанных рейсов «Скай Экспресса» увеличилось в 2,5 раза по сравнению с аналогичным периодом прошлого года, а каждый четвертый рейс выполняется с задержкой от двух до шести часов и более. «Главной причиной такой ситуации явилось то, что в настоящее время почти половина парка воздушных судов проходит плавное техническое обслуживание и в перевозках задействовано лишь пять самолетов из девяти», — отмечается в сообщении ведомства. Руководство компании знало о том, что такая ситуация может возникнуть, но меры по пропорциональному сокращению регулярных и чартерных рейсов приняло с большим опозданием, считают в Росавиации. Под угрозой приостановления сертификации «Скай Экспресс» уже отменил 64 рейса в течение ближайших 10 дней, чтобы обеспечить соблюдение расписания. Среди них 34 внутрироссийских регулярных рейса и 30 международных чартерных. Остается еще одна проблема — тяжелое финансовое положение компании. В первом квартале, по словам экспертов, в «Скай Экспрессе» было снижение среднемесячной выручки и отрицательный среднемесячный чистый денежный поток. В самой компании финансовую ситуацию оценивают как удовлетворительную. «Доходы компании за шесть месяцев выросли на 9%, что свидетельствует о стабилизации финансового состояния авиакомпании как проекта на инвестиционной стадии, когда компания не достигла уровня самоокупаемости», — объясняют в «Скай Экспресс». «Скай Экспресс» в последнее время критикуют за наличие больших долгов, которые, по сути, являются долгами перед акционерами. Те стартовые инвестиции, которые были ими сделаны, до сих пор не вернулись», — говорит глава аналитической службы агентства «Авиапорт» Олег Пантелеев. Впрочем, до сих пор непонятен состав акционеров компании. «Скай Экспресс» создавали совладельцы AirUnion Борис и Александр Абрамович. В 2008 году 75% акций компании были проданы председателю совету директоров аэропорта Внуково Виталию Ванцеву , который на сегодняшний день отрицает свое отношение к авиаперевозчику. Еще 20% принадлежат Европейскому банку реконструкции и развития. «Если бы знали, кому принадлежат акции, было бы проще понять, почему продается контрольный пакет», — считает Пантелеев. По словам источника «Газеты.Ru», нынешние трудности «Скай Экспресса» связаны с тем, что авиаперевозчик не получил поддержки акционеров в кризис. Сделка выгодна для обеих сторон. «Базэл», которому принадлежат «Авиалинии Кубани», хочет развивать свою составляющую по авиаперевозкам, и за счет «Скай Экспресса» есть возможность расширить доступный флот. «Хотя самолеты «Скай Экспресса» и не новые, но их техническое состояние позволяет их эксплуатировать. А в преддверии и в период сочинской Олимпиады это могло бы быть интересно», — объясняет Пантелеев, добавляя, что у нового акционера «Скай Экспресса» может оказаться достаточно средств, чтобы вернуть лоукостеру высокие темпы развития. Если сделка состоится, то общая доля двух компаний — «Скай Экспресса» и «Авиалиний Кубании» — по объемам перевезенных пассажиров на внутренних линиях превысит 5%, что позволит им войти в пятерку крупнейших внутренних авиаперевозчиков. Вопрос в том, захочет ли Дерипаска развивать сегмент низкобюджетных перевозок. «Возможно, речь будет идти об увеличении своего присутствия в регионе за счет «Скай Экспресса», — заключает Пантелеев.')]\n"
          ]
        }
      ]
    },
    {
      "cell_type": "code",
      "source": [
        "TEXT = 'искуссветный интеллект'\n",
        "print(get_response(TEXT, model, bert_index, index_map))"
      ],
      "metadata": {
        "id": "hqXxyBfz6yt1",
        "colab": {
          "base_uri": "https://localhost:8080/"
        },
        "outputId": "b40daabc-1f56-47fa-b026-ae8d0d96d2a7"
      },
      "execution_count": 33,
      "outputs": [
        {
          "output_type": "stream",
          "name": "stdout",
          "text": [
            "['«Дали Гелашвили отдохнуть»', 'Русская «Катюша» для Олимпиады', '«Сила, способная противостоять Сечину» ', 'Защитник леса вышел под подписку', 'Выбрали и подрались']\n"
          ]
        }
      ]
    },
    {
      "cell_type": "code",
      "source": [
        "TEXT = 'полиция'\n",
        "print(get_response(TEXT, model, bert_index, index_map))"
      ],
      "metadata": {
        "id": "MdqFdi6HVqY-",
        "colab": {
          "base_uri": "https://localhost:8080/"
        },
        "outputId": "6886fbb9-3941-499c-cb66-480f0a66bd6c"
      },
      "execution_count": 34,
      "outputs": [
        {
          "output_type": "stream",
          "name": "stdout",
          "text": [
            "['Новости компьютерных и консольных игр', 'США попали в сети AT&T', 'Европа разморозила ЮКОС', 'Инвесторы встали на якорь', 'В Москву со своим прицелом']\n"
          ]
        }
      ]
    },
    {
      "cell_type": "code",
      "source": [
        "TEXT = 'налоги'\n",
        "print(get_response(TEXT, model, bert_index, index_map))"
      ],
      "metadata": {
        "id": "tCYyPNyfVqkK",
        "colab": {
          "base_uri": "https://localhost:8080/"
        },
        "outputId": "43528ace-971d-4cdc-9930-5421b71b1be7"
      },
      "execution_count": 35,
      "outputs": [
        {
          "output_type": "stream",
          "name": "stdout",
          "text": [
            "['Хорваты припомнят мундиаль', '«Лахта-центр» с видом на Финский залив', 'ТНК-ВР меняет деньги на «Роснефть»', '«Роснефть» идет в Европу', 'Порно уходит в резервацию']\n"
          ]
        }
      ]
    },
    {
      "cell_type": "markdown",
      "metadata": {
        "id": "znW9YTaJkcW4"
      },
      "source": [
        "### **МЕТОД ПОИСКА БЛИЖАЙШИХ СТАТЕЙ ЧЕРЕЗ ТРАНСФОРМЕР**\n",
        "\n",
        "**\"symanto/sn-xlm-roberta-base-snli-mnli-anli-xnli\"**"
      ]
    },
    {
      "cell_type": "code",
      "source": [
        "!pip install sentence_transformers\n",
        "from sentence_transformers import SentenceTransformer"
      ],
      "metadata": {
        "id": "kgCTIlZd6yzO"
      },
      "execution_count": null,
      "outputs": []
    },
    {
      "cell_type": "code",
      "source": [
        "# создаем экземпляр модели\n",
        "model = SentenceTransformer('symanto/sn-xlm-roberta-base-snli-mnli-anli-xnli').to(device)"
      ],
      "metadata": {
        "id": "t23RkFCZgmUx"
      },
      "execution_count": 38,
      "outputs": []
    },
    {
      "cell_type": "code",
      "source": [
        "# Воспользуемся библиотекой Annoy, которая выполняет приближенный поиск, облегченный KNN\n",
        "\n",
        "model_index = annoy.AnnoyIndex(768 ,'angular')\n",
        "index_map = {}\n",
        "index_map_text = {}\n",
        "counter = 0\n",
        "\n",
        "for line in tqdm_notebook(articles):  \n",
        "\n",
        "        index_map[counter] = line[0]\n",
        "        index_map_text[counter] = line[1]\n",
        "        vector_model = model.encode(line[1])\n",
        "        model_index.add_item(counter, vector_model) \n",
        "        counter += 1\n",
        "        \n",
        "        if counter > 100000:\n",
        "            break\n",
        "\n",
        "model_index.build(15) "
      ],
      "metadata": {
        "id": "wRb93xSl6y2W",
        "colab": {
          "base_uri": "https://localhost:8080/",
          "height": 66,
          "referenced_widgets": [
            "ccf5e0ba8aac479b94fcf4daccd53608",
            "319ef863834040b09e1e4def8834d1ce",
            "91ffea2c5c9047d9aca321d250ada9a2",
            "b488a2d2b50b46f898b03d2f7451e02c",
            "9b75636f03cb487c80cac2bfd0ab09fe",
            "415c7f1f01de4ca2aa06a54e95c7c151",
            "e777141d3c7b401f90d616e26638ef6a",
            "da7653e1ae154f7ba40598e812b7abc3",
            "29be8d382d8240c2bdfddb483b2e333a",
            "8cd66cc5f9f94567ba5ec702cf050877",
            "ce4a29c11c0147028d126945421a6cf4"
          ]
        },
        "outputId": "e2e21efa-799e-4cc4-ce78-294ae784716e"
      },
      "execution_count": 61,
      "outputs": [
        {
          "output_type": "display_data",
          "data": {
            "text/plain": [
              "  0%|          | 0/10001 [00:00<?, ?it/s]"
            ],
            "application/vnd.jupyter.widget-view+json": {
              "version_major": 2,
              "version_minor": 0,
              "model_id": "ccf5e0ba8aac479b94fcf4daccd53608"
            }
          },
          "metadata": {}
        },
        {
          "output_type": "execute_result",
          "data": {
            "text/plain": [
              "True"
            ]
          },
          "metadata": {},
          "execution_count": 61
        }
      ]
    },
    {
      "cell_type": "code",
      "source": [
        "# Функция возвращает 5 ближайших статей по запросу\n",
        "\n",
        "def get_response(text, model, index, index_map):\n",
        "  # embedding новости\n",
        "    vector = model.encode(text)\n",
        "    similar_news = index.get_nns_by_vector(vector, 5)\n",
        "    result = [(index_map[i], index_map_text[i]) for i in similar_news]\n",
        "    return result"
      ],
      "metadata": {
        "id": "bpRTICNRgxHj"
      },
      "execution_count": 62,
      "outputs": []
    },
    {
      "cell_type": "code",
      "source": [
        "TEXT = 'транспорт'\n",
        "print(get_response(TEXT, model, model_index, index_map))"
      ],
      "metadata": {
        "colab": {
          "base_uri": "https://localhost:8080/"
        },
        "id": "8eW53OGbgxN_",
        "outputId": "0a22d829-8541-418e-9549-711d25b7b811"
      },
      "execution_count": 63,
      "outputs": [
        {
          "output_type": "stream",
          "name": "stdout",
          "text": [
            "[('Москва и Лондон: нашел несколько отличий', 'Водители не сигналят в бешенстве зазевавшемуся на проезжей части улицы пешеходу, а сбавляют скорость и позволяют недотепе добраться до тротуара. Автобусы не захлопывают двери перед подбегающим пассажиром, а открывают их, если видят, что кто-то еще хотел бы сесть в красную громадину. И все это воспринимают как само собой разумеющееся – для чего же еще существуют автобусы, как не для того, чтоб подбросить человека в нужное место! Если вы, что называется, не первой молодости, в автобусе стоять вам скорее всего не придется. Место уступят, просить не нужно. Возможно, действуют призывы табличек у сидений на первом этаже – уступи место тем, кто не в состоянии подняться на второй этаж. Но, право, я ни разу не видел, чтобы в московском общественном транспорте молодые лбы поспешили подняться с кресел, обозначенных как «места для пассажиров с детьми, инвалидов, беременных и лиц преклонного возраста». Создается впечатление, что приоритет здесь - удобства и комфорт для человека. В то время как в Москве за славные годы лужковского правления общественный транспорт, например, полностью деградировал, не сохранив даже советского наследия, в Лондоне знаменитые красные автобусы следуют один за другим в любой день недели и времени суток. Часть маршрутов работает 24 часа, если меньше – курсируют ночные автобусы. Забавно, но интервал их движения практически такой же, как у московских автобусов в часы пик! Немало улиц в центральной части Лондона не только не шире, но зачастую уже московских. Но таких безумных пробок, как наши, не увидишь даже в часы пик. Кстати, об улицах. Здесь никто не раскрашивает бордюрный камень как полицейский шлагбаум. Когда я спросил, почему этого не делают, меня не сразу поняли. Красить бордюры? Зачем? Есть хорошая дорожная разметка, дорожное полотно без ям и ухабов, зачем малевать камни?! Или вам некуда деньги девать или нужно «пристроить» краску, которую производят предприятия «своих» людей – реакция была однозначной. И еще об улицах. Здесь ни разу мне не встретилась не только стая бродячих собак, но даже и одиночка. А поверьте, я бродил не только по Пикадилли и Оксфорд-стрит. Значит, проблема-то решаема, а сколько лет нам в Москве внушают, что ну никак от бродячих животных не избавиться. Еду из Домодедова домой. Вот чего мне в Лондоне не хватало! Улиц, полностью занавешенных рекламными щитами и перетяжками! Ну, здравствуй, Москва!'), ('Секта затянула автобус под поезд', 'Водитель автобуса, в который врезался поезд в Днепропетровской области, мог участвовать «в деструктивных сектах». По словам начальника пресс-центра МВД Украины Дмитрия Андреева, это одна из оперативных следственных версий. Он отметил, что уголовное дело по факту ДТП возбуждено по ч. 3 ст. 286 УК Украины (нарушение правил дорожного движения, приведшее к смерти двух и более лиц). Нарушение ПДД — основная версия следствия на данном этапе, отметил Андреев. «Но в расследовании уголовного дела мы рассматриваем весь спектр версий, даже самые нестандартные. Одной из них является как раз участие водителя в деструктивных сектах», — отметил собеседник. Что именно заставило правоохранительные органы рассматривать эту версию, Андреев говорить отказался, сославшись на тайну следствия. Помимо нее следственный отдел при МВД Украины рассматривает также версии о технической неисправность автобуса и плохом самочувствии водителя. «Версия про секты такая же рабочая, как и все остальные», — говорит Андреев. ДТП в Днепропетровской области произошло 12 октября на неохраняемом железнодорожном переезде трассы Марганец — Никополь. Муниципальный автобус Mercedes совершал регулярный рейс. По словам очевидцев, водитель автобуса вел себя перед ДТП странно. Он подъехал к переезду, вышел из автобуса, затем сел за руль снова и выехал на пути, когда поезд был в 15—20 метрах от переезда. Несмотря на красный свет и предупреждающий сигнал, автобус продолжил движение. Удар пришелся в центральную часть автобуса. Как рассказали в МВД, поезд протащил автобус по рельсам еще 300 метров. В автобусе находились 49 пассажиров и 56-летний водитель. На месте скончались 38 человек. Еще пятеро умерли в больнице. Среди погибших дети и водитель автобуса. Состояние семерых врачи оценивают по-прежнему как крайне тяжелое. При этом, как отметил Андреев, пятеро пострадавших пассажиров — люди пожилого возраста. Глава госавтоинспекции Украины Валерий Лозовой заявил, что автобус был перегружен: машина подобного типа рассчитана только на 40 человек — 20 сидячих и 20 стоячих мест. В ГАИ Украины «Интерфаксу» сообщили также, что права водитель получил 36 лет назад, за рулем автобуса он провел 20 лет. Перед выездом он прошел обязательный медицинский осмотр. Известно, что за год на водителя было составлено два административных протокола за нарушение правил дорожного движения. Андреев сказал, что по уголовному делу, которое расследует следственный отдел центрального аппарата МВД Украины, опрошено уже более 40 свидетелей. Три из них — непосредственные свидетели аварии. «Опрашивали железнодорожников, жителей частного сектора, находящегося рядом с дорогой, разных людей», — сказал собеседник. Получить показания пассажиров пока невозможно, подчеркнул Андреев: все выжившие находятся в реанимации.'), ('«Жигули» застряли между вагонами', 'В ночь на среду в Волгоградской области на 1169-м километре перегона Ингеловский — Эльтон Приволжской железной дороги произошла странная автокатастрофа. На 97-м километре трассы Палласовка — Эльтон автомобиль ВАЗ-2106 синего цвета столкнулся с грузовым составом, сообщает ГУВД по Волгоградской области. ДТП случилось на неохраняемом железнодорожном переезде, оборудованном сигнализацией и светофором. 29-летний водитель «шестерки» в нарушение пункта 15.2 ПДД не убедился в отсутствии приближающегося поезда и двинулся на переезд. «В результате он врезался в грузовой железнодорожный состав, который следовал со станции Палласовка в сторону станции Эльтон. «Жигули» вклинились между шестым и седьмым вагонами», — сообщили в ГУВД. Машинист локомотива не заметил, что в его состав врезался автомобиль. Еще 12 километров после столкновения поезд тащил «Жигули» по путям. Машина превратилась в сплошную груду железа. Прибывавшие через час после ДТП спасатели обнаружили в практически уничтоженной автомашине между кусками металла семь человек. Двое из них, 24-летний и 27-летний пассажиры, уже были мертвы. Водитель «Жигулей» еще дышал, его срочно госпитализировали в участковую больницу поселка Эльтон Палласовского района Волгоградской области. Однако от полученных травм он скончался на операционном столе. Еще четверо пассажиров автомашины в возрасте от 17 до 22 лет были госпитализированы в ЦРБ Палласовского района. С телесными повреждениями различной степени тяжести все они находятся в реанимации. Водитель и шесть пассажиров, находившиеся в салоне «шестерки», — местные жители-мусульмане и возвращались с праздника жертвоприношения Курбан-байрам, сообщили «Газете.Ru» в ГИБДД Волгоградской области. Пока неизвестно, был ли водитель «шестерки» в состоянии алкогольного опьянения и что его побудило выехать на железнодорожные пути, по которым двигался состав. ГУВД по данному происшествию проводит проверку. В службе корпоративных коммуникаций Приволжской железной дороги (филиал ОАО РЖД ) сообщают, что в связи происшествием на час было задержано отправление пригородного поезда № 6066 сообщением Палласовка — Верхний Баскунчак. «ДТП случилось на технически оснащенном переезде, — заявили железнодорожники. — Переездная световая и звуковая сигнализация исправны. Дорожные знаки имеются. Подходы к переезду и настил оборудованы в соответствии с правилами содержания переездов».'), ('Автобус пропорол 22 машины', 'Во Владивостоке рейсовый автобус, следовавший по маршруту «16к», потерял управление. Авария произошла в 8.30 по местному времени в центральной части города, на спуске Невельского-Спиридонова, сообщает пресс-служба ГИБДД Приморского края. Неконтролируемый автобус пронесся более 200 метров, сметая машины, оказавшиеся на его пути. Остановить автобус смог только высокий бордюр, в который он врезался, перед этим буквально размозжив малолитражку Toyota Wish о джип Mitsubishi Pajero. В результате 22 машины получили серьезные повреждения, восемь из них не подлежат восстановлению, поскольку у них полностью смята кузовная часть. Один из автомобилей перевернулся от удара, потребовалась помощь спасателей, чтобы поставить его на колеса. За помощью к медикам обратились четыре человека, ехавших в автобусе. Все они получили ушибы и ссадины. Больше в аварии никто не пострадал. По предварительной версии следствия, у автобуса отказали тормоза. По свидетельству пассажиров, водитель жал на педаль, но после этого раздавался металлический скрежет. Согласно заключению технадзора ГИБДД Приморья, внешний осмотр тормозной системы автобуса не выявил в ней неисправностей. Более точную причину аварии покажут только результаты экспертизы. У транспортников существует своя версия ДТП. По мнению президента Приморской ассоциации транспортных компаний Игоря Кравцова, всему виной человеческий фактор. Водителя отвлек кто-то из пассажиров, он не смотрел на дорогу, не увидел автомобиль впереди и не успел остановить 15-тонную машину. Пассажирский автобус, попавший в ДТП, принадлежит владивостокскому городскому маршрутному клубу «Экспресс». Эта компания имеет плохую репутацию в Приморье. Прокуратурой Приморского края не раз выявлялись нарушения в деятельности этой компании, а по данным ГИБДД, за второе полугодие 2010 года водители ВГМК «Экспресс» 157 раз привлекались к административной ответственности за нарушение ПДД. После этой аварии местные власти инициировали проверку всех автотранспортных предприятий. «Проверке подвергнутся все транспортные компании. Этому автобусу было 17 лет при сроке службы 12 лет», — цитирует региональное агентство Prima Media слова главы города Игоря Пушкарева. Чуть позже, в среду, во Владивостоке произошло еще одно крупное ДТП. На Бородинской улице в районе мусоросжигательного завода столкнулись два грузовика, Fuso и КамАЗ, карета «скорой помощи», легковой автомобиль Toyota Starlet и кроссовер Isuzu Vehi Cross. По предварительным данным, виновником аварии стал водитель КамАЗа, который не справился с управлением. КамАЗ на полном ходу врезался в Fuso, который наехал на легковушку, подмял ее под себя и вынес с обочины. Водитель Toyota Starlet погиб на месте, три человека пострадали. Водитель Fuso находится в реанимации. Два человека, которых сначала приняли за случайных прохожих, попавших под машину, оказались пассажирами китайского грузовика. От удара они вылетели на обочину. Пострадавшие были доставлены в больницу с тяжелыми травмами головы. Водитель КамАЗа также находится в больнице. Еще два человека получили ушибы, когда в приехавшую на место первого ДТП карету «скорой помощи» въехал Isuzu Vehi Cross. По предварительной версии, водители автомобилей не смогли разъехаться на развилке.'), ('Рестайлинг феодализма', '«Государственный технический осмотр транспортных средств» выделяется среди прочих наших порядков и процедур только одним ― наглостью, с которой дикий феодальный обычай живет, здравствует, сам себя поддерживает и даже не пытается прикинуться чем-то современным и полезным. На других участках нашей действительности это принято слегка камуфлировать. А тут ― нет. Из каждых двухсот аварий всего одна в прошлом году произошла по причине технической неисправности автомобиля. Но даже и эту одну связать хоть как-нибудь с хорошим или плохим прохождением техосмотра никто и не думает. Ведь лицо, выдавшее талон ТО, никакой ответственности за последующие аварии не несет. Соответственно, и вопрос, старательно или не старательно оно проверяло данную машину или даже вовсе в глаза ее не видало, отпадает сам собой. Сказать, что техосмотр поражен коррупцией, от которой его будто бы надо лечить, значит ставить абсолютно неверный диагноз, за которым может последовать только неверное лечение. О коррупции имеет смысл говорить, если должностные лица выполняют какую-то целесообразную работу, но занимаются мздоимством. А техосмотр, как и большинство прочих существующих у нас контрольных, надзорных и разрешительных процедур, ничего целесообразного в себе не содержит и существует только ради того, чтобы эти самые должностные лица собирали дань со всех остальных лиц. В эпоху феодализма это так и называлось ― «кормление». Жаль, что этот емкий термин вышел из употребления и вместо него в ходу какие-то слова-обманки. Они только сбивают с толку. В том числе и тех, кто по-своему пытается исправить ситуацию. Например, устраивает антикоррупционые кампании. Но «очищать» феодальный обычай от коррупции ― только издеваться над людьми. Установка видеокамер и другие антикоррупционые новации в столичной ГИБДД привели лишь к двух-трехкратному росту расценок для тех, кто покупает талон за деньги, и к выматывающим очередям для всех, кто пытается пройти процедуру по формальным правилам. Ведь к работе «по правилам» не приспособлена ни пропускная способность системы, ни, тем более, ее сотрудники, оскорбленные лишением законной, в их глазах, привилегии и функционирующие поэтому в замедленном режиме. Бессмысленность ТО настолько очевидна, что уже с позапрошлого года в Госдуме циркулируют законопроекты, нацеленные на то, чтобы хоть немного уменьшить масштабы этой беды. А в начале 2010-го приказ как-то модернизировать систему техосмотров впервые отдал Медведев. И в июле 2010-го нижняя палата приняла в первом чтении закон, в значительной мере (хоть и не полностью) выводящий ТО из ведения МВД и позволяющий проводить его в обычных автосервисах. Но дальнейшее прохождение закона увязло в согласованиях со структурами, ничуть не намеренными упускать из рук этот выгодный обычай. Причина не только в том, что благие пожелания и решения президента у нас вполне позволяется игнорировать, если они бьют по каким-то серьезным интересам, как это случилось, например, с гуманными поправками в УК и УПК, ограничивающими предварительное заключение, которые просто бойкотируются судами. Но применительно к ситуации с ТО первоначальная позиция Кремля сама была достаточно расплывчатой. В прошлогоднем президентском заключении на думский законопроект, присланном после прохождения первого его чтения, критиковалось позволение делать ТО в автосервисах, как открывающее возможность навязывать платные услуги потребителю. И эти колебания Кремля тоже сыграли роль в том, что закон с тех пор буксует. Хотя если уж ТО вообще сохранять, то ясно, что в наших реалиях спор может идти только об одном ― кому достанутся эти ежегодные десятки миллиардов рублей, легально или нелегально выкладываемые автовладельцами за исполнение бессмысленного ритуала. И наверно уж лучше, если лишний доход получат те, кто выполняет еще и какую-то полезную работу, чем те, кто ничего полезного выполнять не собирается. И вот Дмитрий Медведев повторяет сейчас свой призыв исправить ситуацию с ТО и делает при этом шаг вперед в осмыслении самого вопроса. Точнее, полшага. С одной стороны, президент впервые допускает возможность полной отмены техосмотра, демонстрируя стопроцентное понимание сути явления: «Наши автомобилисты часами выстаивают в очередях. Для чего? Для того чтобы получить никчемную бумажку…» А с другой стороны, это понимание ничуть не мешает президенту допустить и совершенно другую возможность, а именно, «никчемную бумажку» сохранить, но каким-то способом сделать ее получение «беспроблемным для граждан». Какого-то другого смысла, кроме неуверенности Медведева в собственных возможностях, в этом наборе вариантов увидеть не получается. Ведь «беспроблемность для граждан» ― это, можно сказать, конек наших властей, излюбленное их обещание народу с первых же лет путинской эры. Из сменяющих друг друга лучезарных посулов можно составить целую брошюру ― от «принципа одного окна» и до «электронного правительства». Все они клонились к избавлению простонародья от застарелых проблем, однако всегда оборачивались созданием новых. Да и как иначе? Каждая новая проблема для простого человека – это новая феодальная привилегия для чиновника. И до тех пор, пока у нас все решают чиновники, проблем (и, соответственно, привилегий) может становиться только больше. Даже и отвлекаясь от того, что власть президента неполна, поскольку есть еще и премьер-министр, сами по себе попытки Медведева понемножку, по кирпичику переделать систему одна за другой срываются просто из-за того, что важнейшим узлам этой феодальной системы в современной стране вообще нет места. Они не подлежат переделке и могут быть только упразднены. А какие феодалы добровольно согласятся перестать быть феодалами? Поэтому для упразднения или хоть реального ослабления даже и такого скромного кусочка системы, как ТО, нужен не просто приказ сверху, но и давление снизу. Автовладельцев десятки миллионов. Их возмущение растет и, может быть, уже начинает перевешивать привычное автоматическое смирение перед феодализмом на дорогах. Только в этом и надежда на то, что новый закон о техосмотре не станет очередным мыльным пузырем и хоть что-нибудь изменит в пользу рядовых людей.')]\n"
          ]
        }
      ]
    },
    {
      "cell_type": "code",
      "source": [
        "TEXT = 'победитель конкурса'\n",
        "print(get_response(TEXT, model, bert_index, index_map))"
      ],
      "metadata": {
        "colab": {
          "base_uri": "https://localhost:8080/"
        },
        "id": "moGHIBDrgxUP",
        "outputId": "49b43089-84bb-4074-b040-42d60346844b"
      },
      "execution_count": 64,
      "outputs": [
        {
          "output_type": "stream",
          "name": "stdout",
          "text": [
            "[('Новости компьютерных и консольных игр', 'Также смотрите в этом выпуске: — Kane & Lynch 2 сбежали «на золото» раньше положенного — R.U.S.E. предлагает познакомиться на нейтральной территории — Star Wars: The Old Republic открылась узкому кругу посвящённых — Guild Wars 2 — умирать, так с пользой! — Batman: Arkham Asylum 2 — игра может сменить название, а город мэра'), ('США попали в сети AT&T', 'Американский телекоммуникационный гигант AT&T Inc. покупает у крупнейшего в Европе телекоммуникационного концерна Deutsche Telekom принадлежащий ему оператор мобильной связи T-Mobile USA. Сумма сделки составит $39 млрд, из которых Deutsche Telekom AG получит деньгами $25 млрд. Кроме того, AT&T перадаст германской компании пакет из 8% своих акций, а также введет ее представителей в свой совет директоров. Соглашение об этом было одобрено руководством обеих компаний. AT&T платит большую премию к реальной цене T-Mobile USA. Так, Bank of America Merrill Lynch в декабре оценивал стоимость оператора на уровне $23,2 млрд, а эксперты JPMorgan Cazenove в $25,5 млрд. AT&T — крупнейший оператор как сотовой, так и фиксированной телефонной связи в США. По состоянию на январь 2011 года, компания имела более 95,5 миллионов клиентов. T-Mobile USA — четвертый по величине оператор беспроводной связи в США, имеющий больше 34 миллионов клиентов. Сделка приведет к созданию доминирующего на рынке оператора со 130 миллионами клиентов: ее ближайший преследователь — оператор Verizon Wireless — имеет клиентскую базу в 94 миллионов подписчиков, у третьей по величине телекоммуникационной корпорации США Sprint Nextel почти 50 млн клиентов по стране. AT&T обещает, что, если слияние будет одобрено, высокоскоростной беспроводной интернет-доступ по технологии LTE придет даже в «глубинку». Существующего у AT&T спектра частот для развития сети было недостаточно — теперь же клиенты перестанут жаловаться на связь, уверяют в компании. Клиенты T-Mobile USA тоже получат выгоду от этой сделки, считает аналитик Forrester Research Чарльз Голвин : пользователи оператора смогут приобрести у него iPhone и прочие модели телефонов, ранее доступные только с контрактом от AT&T. Однако решение о слиянии должно быть еще одобрено антимонопольными органами США. Сделка может получить и отрицательный отзыв, ведь доля совместной компании на рынке страны может превысить 40%. Потребители T-Mobile USA, согласно сообщениям американских СМИ, опасаются роста стоимости мобильной связи. Оператор уже лидер на рынке беспроводной связи США, и потребители жалуются на скрытые комиссии, которые берет себе компания, отмечает консультант Consumers Union Пауль Десай. «Конкурент AT&T — компания Sprint Nextel Corp — также уже негативно отозвалась о предстоящей сделке и планирует поднять этот вопрос в федеральной комиссии по связи и в министерстве юстиции , поэтому простым и легким одобрение такой сделки не будет», — прогнозирует управляющий партнер ГК «Содействие бизнес проектам» Ольга Пономарёва. Кроме того, разрешительные органы должны будут учесть мнение профсоюзов, уже выражающих беспокойство, что в результате слияния могут пройти большие сокращения персонала из-за закрытия дублирующих точек обеих компаний. В AT&T, впрочем, ожидают, что сделка рано или поздно будет одобрена. Компания даже пошла на условие, включенное в договор Deutsche Telekom, согласно которому та при срыве сделки получит неустойку в $3 млрд, что составляет 8% от её стоимости. Обычно, напоминает The New York Times , такие отступные составляют 5%.'), ('Европа разморозила ЮКОС', 'Верховный суд Нидерландов разморозил счета компании Yukos International UK B.V., на которых находятся средства от продажи ранее принадлежащих ЮКОС у 53,7% акций литовского НПЗ Mazeikiu Nafta и 49% акций словацкой Transpetrol (в общей сложности около $1,45 млрд). Счета компании были заморожены в 2009 году, после того как на них заявила свои права компания «Промнефтьстрой» (ранее входила в структуру государственной «Роснефти», в настоящее время принадлежит американскому бизнесмену Стивену Линчу ). В 2007 году в процессе банкротства ЮКОСа «Промнефтьстрой» приобрела за 7,838 млрд рублей компанию Yukos Finance B. V. — материнскую структуру Yukos International. Покупатели заявили права на активы Yukos International UK B.V., и в качестве обеспечительной меры по иску «Промнефтьстроя» Амстердамский апелляционный суд в 2009 году наложил арест на счета компании. Решение нидерландского суда основано на непризнании законности аукционов, проводившихся в ходе банкротства нефтегазовой компании ЮКОС, которая ранее находилась под контролем Group Menatep (крупнейшими акционерами выступали предприниматели Михаил Ходорковский и Платон Лебедев, после их ареста владельцами активов стали Леонид Невзлин и ряд топ-менеджеров Menatep). В частности, в октябре 2010 года голландские суды признали результат торгов по Yukos Finance B. V. нелегитимным: по мнению судей, «Промнефтьстрой» не является законным владельцем Yukos International. Теперь по решению суда Yukos International вновь получает доступ к своим счетам. Михаил Брудно , совладелец Menatep, не раскрывает планов по использованию размороженных активов. «В Yukos International UK считают владельцами компании бывших акционеров ЮКОСа. Мне нечего к этому добавить», — подчеркнул он. Связаться с Леонидом Невзлиным во вторник днем не удалось. Тим Осборн , глава Group Menatep, сказал «Газете.Ru», что «размороженные $1,5 млрд — это деньги Yukos International». «Сейчас эти деньги на счетах Yukos International. А я директор GML. Мы не имеем прямого доступа или контроля над этими деньгами, пока их распределяет Yukos International», — говорит он. Клэр Дэвидсон , представитель бывших акционеров ЮКОСа, говорит, что бывшие менеджеры ЮКОСа через два фонда в Голландии договорились распределять все освобожденные активы между «невинными жертвами экспроприации ЮКОСа». «Бывший менеджмент ЮКОСа попытается найти всех пострадавших акционеров - более 55 тыс. человек по всему миру и согласовать с ними процесс распределения активов», говорит Дэвидсон. «Но сейчас в Голландии идет несколько судебных процессов. Мы надеемся, они закончатся в следующем году и тогда менеджмент фондов начнет распределять средства», - добавила она. Решения голландских судов в отношении аукционов, на которых распродавались активы ЮКОСа, основаны на том, что правоохранительная система Нидерландов не признала законным и сам факт банкротства российской нефтяной компании. В 2007 году Амстердамский суд отказался признать полномочия конкурсного управляющего ЮКОСа Эдуарда Ребгуна. С 2007 года же тянулась тяжба между голландской «дочкой» ЮКОСа Yukos Capital S.a.r.l и «Роснефтью»: Yukos Capital требовала заплатить 12,9 млрд рублей, которые она в 2004 году предоставила в качестве займа «Юганснкнефтегазу». Затем «Юганскнефтегаз» перешел под контроль «Роснефти», но деньги Yukos Capital возвращены не были. Потерпев неудачу в российских судах, Yukos Capital обратилась в апелляционный суд Амстердама, который встал на сторону истца. «Роснефть» попыталась обжаловать это решение в Верховном суде Нидерландов, но в обжаловании было отказано. В итоге «Роснефть» прошлым летом выплатила требуемую сумму. Вопросы, связанные с ЮКОСом, принципиальны для высших властей России и, соответственно, для госкомпании «Роснефть», признают политологи, но видят, что в последнее время позиция госкомпании по «делу ЮКОСа» смягчилась. » Евросоюз активно выступает в защиту Михаила Ходорковского и Платона Лебедева , отчасти этим объясняются решения нидерландских судов, — напоминает эксперт Центра политической конъюнктуры Дмитрий Абзалов. — «Роснефть» не хочет слишком заострять вопрос денежных расчетов с «дочками» ЮКОСа, госкомпании проще заплатить». По мнению Абзалова, «Роснефти» необходимо поддерживать благоприятный новостной фон в преддверии размещения акций. Он считает последнее решение голладского суда «непринципиальным». «Евросоюз не станет добиваться отмены решения по банкротству ЮКОСа как такового, — уверен Абзалов. — Это стало бы слишком серьезным ударом по отношениям с Россией».'), ('Прохоров «разобрал» биатлон', 'Женская сборная России впервые в истории осталась без медалей чемпионата мира. В последний день чемпионата в Ханты-Мансийске наши девушки провалились в эстафете, заняв девятое место. По ходу гонки президент Союза биатлонистов России Михаил Прохоров уволил старшего тренера, а Ольга Зайцева призналась, что уйдет из сборной. 1. Германия (Андреа Хенкель, Мириам Гёсснер, Тина Бахманн, Магдалена Нойнер) - 1:13,31,1 (2+13) 2. Украина (Валентина Семеренко, Вита Семеренко, Алена Пидгрушная, Оксана Хвостенко) + 24,5 (0+4) 3. Франция (Анаис Бескон, Мари-Лор Брюне, Софии Байлли, Мари Дорен) + 47,2 (0+9) 4. Белоруссия + 1:47,4 (1+6) 5. Италия + 2:42,7 (1+7) 6. Норвегия + 2:53,1 (2+14)7. Швеция + 3:04,0 (0+9) 8. Словакия + 4:12,7 (1+12) 9. Россия (Екатерина Юрлова, Анна Богалий-Титовец, Светлана Слепцова, Ольга Зайцева) + 4:33,2 (6+12) 10. Польша + 4:55,5 (0+9) По-большому счету ожидать успешной гонки не приходилось, но такого провала не ожидал никто. Президент Союза биатлонистов России Михаил Прохоров накануне даже излучал оптимизм, говоря про медали в женской эстафете. «Преимущество в скорости компенсируется стрельбой, — сказал Прохоров в интервью «России-2». — Верю в наших девушек. Какой-то особой формулы успеха нет. Очевидно, что мы не на лучшем ходу. Верю, что соберутся, покажут командный дух и порадуют болельщиков». В нашей команде произошли небольшие изменения. На первом этапе побежала Екатерина Юрлова , а на втором Анна Богалий-Титовец. Изначально планировалось наоборот, но как выяснилось в гонке — шило на мыло. Именно на первых двух этапах сборная России показала худшее выступление за последние годы. А начиналось все великолепно. Юрлова идеально отработала «лежку», при этом конкуренты немцы и норвежцы «намазали». Но уже на следующем огневом рубеже начались проблемы. Три промаха подряд отбросили нашу сборную далеко от первого места, но это еще не было самым дном. По словам тренерского штаба Юрлова на данный момент является лучшим стрелком в нашей сборной. После этого за дальнейшие этапы стало страшно. Как оказалось не безосновательно. На втором этапе за Россию бежала Богалий-Титовец и она сумела, кажется, навечно войти в историю отечественного биатлона. Промах за промахом на первом своем огневом рубеже. Многое доводилось видеть. И четыре промаха Максима Чудова накануне были чем-то из ряда вон. Но пять промахов подряд на «лежке» и абсолютна черная картинка незакрытых мишеней --это катастрофа. После этого огневого рубежа Россия проигрывала первому месту почти четыре минуты, и боролась со сборной Великобритании за 19-е место. На четвертой стрельбе Богалий исправилась, отработав на удивление гладко и сразу отыграв 30 секунд у лидера, но было ясно всем, что эстафета для нашей сборной окончена. За двумя оставшимися этапами, на которых бежали Светлана Слепцова и Ольга Зайцева, смотреть было неинтересно. Зато слова главного тренера сборной России Владимира Барнашов а были очень кстати. Впрочем, внятно он говорить не мог: «Нет ответа на вопрос, почему проваливаемся, — сказал Барнашов по ходу гонки. — Команда находится в разобранном состоянии». Удивительно слышать по ходу эстафеты такое признание от главного тренера сборной. По сути он признал тот факт, что в департаменте Прохорова бардак. Кто разобрал нашу сборную и когда это произошло Барнашов не уточнил. Кстати президент СБР тут же, по ходу эстафеты, и это что-то особенное, уволил старшего тренера Анатолия Хованцева с поста главного тренера женской сборной России. Между тем, за первое место сражались сборные команды Германии, Украины и Белоруссии. Им ветер не мешал и трасса была удобной. В итоге, первое место заняли немки. Второе заняли украинки. Третье место досталось французской сборной. Сборная России на заключительных этапах смогла оторваться от британцев и закончила эстафету на девятом месте. Примечательно, что все это на домашнем чемпионате. Как бы нам не пришлось привыкать к таким вот разгромам в родных стенах. Впереди Олимпиада в Сочи-2014 и чемпионат мира по футболу 2018. После эстафеты Ольга Зайцева сделала сенсационное признание, что уходит из сборной. «В этом сезоне буду заканчивать. Раз сказала, так и будет. Пора уже. Хотела закончить красиво, но не получилось. Тем более пора», — призналась Зайцева. Относительно завершившейся эстафеты Зайцева сделала несколько резких заявлений. «Это не ваше дело и не дело болельщиков рассуждать о выступлении нашей сборной, — сказала Зайцева. — Люди, у нас три серебряные медали. Это нормально! Печально, что уволили Хованцева. Раз в России у нас все так делается, рубится с плеча, то пусть так и будет». Новости биатлона, а также многое другое можно узнать на странице зимних видов спорта.'), ('Мордашов переоценивает золото', 'Золотодобывающее подразделение «Северстали» Nord Gold N.V. установило ценовой диапазон для размещения на Лондонской фондовой бирже в пределах от 300 до 390 пенсов за акцию, сообщила компания. Капитализация после размещения оценена в 2,5—3,2 млрд фунтов стерлингов ($4—5,1 млрд), привлечь компания хочет около $1 млрд. Окончательная цена размещения будет определена 11 февраля. Компания рассчитывает на премиальный листинг, который позволит привлечь максимально широкий круг инвесторов. Организаторами сделки выбраны Credit Suisse, «Тройка диалог» и Morgan Stanley. Выручка Nord Gold за 9 месяцев 2010 года составила $485 млн, нормализованный показатель EBITDA — $234 млн. По итогам 2010 года компании произвела около 589 тыс. унций драгметалла. В состав компании входят 8 действующих активов в четырех странах — России, Казахстане, Гвинее и Буркина-Фасо, а также ряд объектов на стадии развития и разведки. Один из организаторов IPO полагает, что Nord Gold в 2011 году увеличит показатель EBITDA до $543 млн с ожидаемых $365 млн в 2010 году. В 2012 году показатель ожидается на уровне $612 млн, в 2013 году — $734 млн. Рентабельность по EBITDA компании, полагает источник, в 2010—2013 годах будет колебаться в диапазоне 48—50% при ценах на золото в диапазоне $1350—1600 за унцию. Nord Gold станет четвертой российской компанией, выходящей в этом году на фондовую биржу Лондона. На этой неделе группа ГМС («Гидравлические машины и системы»), производящая чугун и коксующийся уголь компания «Кокс» и Челябинский трубопрокатный завод ( ЧТПЗ ) объявили ценовые диапазоны планируемых размещений. Объем каждого из последних трех размещений составляет около $500 млн. ГМС планирует продать почти 50% своих акций и выручить за них до $570 млн долларов, таким образом, капитализация компании составит $1,1—1,5 млрд. Группа «Кокс» планирует вывести на рынок примерно 20% своих бумаг в рамках двойного листинга в Москве и Лондоне. Цена размещения намечена в коридоре от $6,25 до $8 за акцию или от $12,5 до $16 за GDR. ЧТПЗ наметил цену размещения в пределах $3,5—4,6 за акцию и GDR. После проведения допэмиссии и продажи акционером существующих акций на общую сумму от $630 млн до $828 млн капитализация ЧТПЗ оценивается в $2—2,7 млрд. Эта «четверка» станет первым звеном в цепочке российских размещений 2011 года на общую сумму $15—20 млрд, прогнозирует Financial Times. Январь обычно считается тихим периодом на рынке IPO, но российские компании торопятся выйти на биржу до того, как государство начнет серию размещений в рамках приватизационной программы объемом $5—10 млрд, поясняют эксперты. Откладывать размещения на более поздний срок может быть рискованно, поскольку волна продаж по программе приватизации может обернуться избыточным предложением ценных бумаг на рынке, предупреждает аналитик Goldman Sachs Ричард Кормак. В ближайшие два года, согласно программе, должны быть проданы пакеты акций ВТБ , Сбербанка , «Совкомфлота» , ФСК ЕЭС , «Русгидро». Сейчас, считает Кормак, рынок способен принять бумаги, так как цены на сырье выросли до предкризисного уровня. Рынки на подъеме, и инвесторы ищут новые идеи, но диапазон цены размещения Nord Gold кажется «несколько завышенным», а ЧТПЗ, скорее всего, разместится по нижней границе ценового диапазона, предполагает Николай Сосновский из «Уралсиба». Все четыре компании, по всей вероятности, смогут привлечь именно финансовых инвесторов, а не «стратегов», подчеркивает эксперт.')]\n"
          ]
        }
      ]
    },
    {
      "cell_type": "code",
      "source": [
        "TEXT = 'красота и уход'\n",
        "print(get_response(TEXT, model, bert_index, index_map))"
      ],
      "metadata": {
        "colab": {
          "base_uri": "https://localhost:8080/"
        },
        "id": "pcW6sfhagxXr",
        "outputId": "5e41ca4c-c07b-4adf-eec9-2bf7a0db8ca8"
      },
      "execution_count": 44,
      "outputs": [
        {
          "output_type": "stream",
          "name": "stdout",
          "text": [
            "['Hermitage подбирается к Чайке', 'Сбербанк впал в «Детский мир»', 'Дедушка на миллион долларов', 'Дефицит растет быстрее доходов', 'Правый руль объехал статистику ']\n"
          ]
        }
      ]
    },
    {
      "cell_type": "code",
      "source": [
        "TEXT = 'искуссветный интеллект'\n",
        "print(get_response(TEXT, model, bert_index, index_map))"
      ],
      "metadata": {
        "colab": {
          "base_uri": "https://localhost:8080/"
        },
        "id": "-0i4oscOg9j3",
        "outputId": "be9ec07f-7821-4fb9-95cb-0395eb57c9cb"
      },
      "execution_count": 45,
      "outputs": [
        {
          "output_type": "stream",
          "name": "stdout",
          "text": [
            "['Новости компьютерных и консольных игр', 'Гриффин угадал с машиной', 'Прохоров «разобрал» биатлон', 'Латвийский реванш Демченко', '«Челси» опять поиграет мускулами']\n"
          ]
        }
      ]
    },
    {
      "cell_type": "code",
      "source": [
        "TEXT = 'полиция'\n",
        "print(get_response(TEXT, model, bert_index, index_map))"
      ],
      "metadata": {
        "colab": {
          "base_uri": "https://localhost:8080/"
        },
        "id": "TUrfZKn7g9m1",
        "outputId": "3fedd110-e85f-43d2-af95-549d94c547f1"
      },
      "execution_count": 46,
      "outputs": [
        {
          "output_type": "stream",
          "name": "stdout",
          "text": [
            "['Страна Магнитского', '«Охта-центр» подкопался под археологов ', 'Команда BMW меняет тренера', 'Fiat купит Chrysler в кредит', 'Утопленники наказали Северную Корею']\n"
          ]
        }
      ]
    },
    {
      "cell_type": "code",
      "source": [
        "TEXT = 'налоги'\n",
        "print(get_response(TEXT, model, bert_index, index_map))"
      ],
      "metadata": {
        "colab": {
          "base_uri": "https://localhost:8080/"
        },
        "id": "tW2z9nEdg9p7",
        "outputId": "477a0625-4768-4d20-8f1e-61226b59754a"
      },
      "execution_count": 47,
      "outputs": [
        {
          "output_type": "stream",
          "name": "stdout",
          "text": [
            "['Мильнер сел на «таблетки»', 'Pontiac припарковался в музее', 'Завещание Фердинанда Пиеха', 'Doors пополам', 'Пицца с долгами']\n"
          ]
        }
      ]
    }
  ]
}