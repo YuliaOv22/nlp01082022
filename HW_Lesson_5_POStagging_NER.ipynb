{
  "nbformat": 4,
  "nbformat_minor": 0,
  "metadata": {
    "colab": {
      "provenance": [],
      "collapsed_sections": []
    },
    "kernelspec": {
      "name": "python3",
      "display_name": "Python 3"
    },
    "language_info": {
      "name": "python"
    }
  },
  "cells": [
    {
      "cell_type": "markdown",
      "source": [
        "## **ПРАКТИЧЕСКОЕ ЗАДАНИЕ**"
      ],
      "metadata": {
        "id": "DR-YJqvWDNuF"
      }
    },
    {
      "cell_type": "markdown",
      "source": [
        "**Задание 1.** \n",
        "\n",
        "Написать теггер на данных с русским языком\n",
        "\n",
        "- проверить UnigramTagger, BigramTagger, TrigramTagger и их комбинации\n",
        "- написать свой теггер как на занятии, попробовать разные векторайзеры, добавить знание не только букв но и слов\n",
        "- сравнить все реализованные методы, сделать выводы\n",
        " \n",
        "**Задание 2.** \n",
        "\n",
        "Проверить, насколько хорошо работает NER\n",
        "\n",
        "Данные брать из http://www.labinform.ru/pub/named_entities/\n",
        "\n",
        "- проверить NER из nltk/spacy/deeppavlov.\n",
        "- написать свой NER, попробовать разные подходы.\n",
        " - передаём в сетку токен и его соседей.\n",
        " - передаём в сетку только токен.\n",
        " - свой вариант.\n",
        "- сравнить свои реализованные подходы на качество — вывести precision/recall/f1_score.\n"
      ],
      "metadata": {
        "id": "1P6WcWN8DMPd"
      }
    },
    {
      "cell_type": "markdown",
      "source": [
        "### **ЗАДАНИЕ 1. Теггер на данных с русским языком.**"
      ],
      "metadata": {
        "id": "Ta07qOFgHSrX"
      }
    },
    {
      "cell_type": "code",
      "execution_count": null,
      "metadata": {
        "id": "8VCi-vkUCxTO"
      },
      "outputs": [],
      "source": [
        "# Загружаем библиотеки\n",
        "\n",
        "import os\n",
        "import pandas as pd\n",
        "import numpy as np\n",
        "import requests\n",
        "from bs4 import BeautifulSoup\n",
        "import re\n",
        "import nltk\n",
        "nltk.download('punkt')\n",
        "nltk.download('tagsets')\n",
        "nltk.download('averaged_perceptron_tagger_ru')\n",
        "nltk.download('averaged_perceptron_tagger')\n",
        "nltk.download('maxent_ne_chunker')\n",
        "nltk.download('words')\n",
        "from nltk.corpus import brown\n",
        "from nltk.tag import DefaultTagger, UnigramTagger, BigramTagger, TrigramTagger, RegexpTagger\n",
        "import warnings\n",
        "warnings.filterwarnings(\"ignore\")\n",
        "import string\n",
        "from nltk.tag.sequential import SequentialBackoffTagger\n",
        "from sklearn.feature_extraction.text import CountVectorizer, HashingVectorizer, TfidfVectorizer\n",
        "from sklearn.linear_model import LogisticRegression\n",
        "from sklearn.metrics import accuracy_score\n",
        "from sklearn.preprocessing import LabelEncoder\n",
        "from scipy.sparse import hstack, vstack"
      ]
    },
    {
      "cell_type": "code",
      "source": [
        "# Вспомогательные функции\n",
        "\n",
        "# Функция парсинга страницы\n",
        "def url_to_string(url):\n",
        "    res = requests.get(url)\n",
        "    html = res.text\n",
        "    soup = BeautifulSoup(html, 'html5lib')\n",
        "    for script in soup(['script', 'style', 'aside']):\n",
        "        script.extract()\n",
        "    return \" \".join(re.split(r'[\\n\\t]+', soup.get_text()))\n",
        "\n",
        "\n",
        "# Функция комбинирования теггеров\n",
        "def backoff_tagger(train_sents, tagger_classes, backoff=None, patterns=None):\n",
        "    for cls in tagger_classes:\n",
        "      if cls == RegexpTagger:\n",
        "        backoff = cls(patterns, backoff=backoff)\n",
        "      else:\n",
        "        backoff = cls(train_sents, backoff=backoff)\n",
        "    return backoff\n",
        "\n",
        "\n",
        "# Кастомный теггер, размечающий английские слова в русском тексте как NONLEX\n",
        "class EngTagger(SequentialBackoffTagger):\n",
        "\n",
        "    def __init__(self, eng_set, backoff=None):\n",
        "        self.eng_set = set([item.lower() for item in string.ascii_lowercase]) \n",
        "        super().__init__(backoff)\n",
        "\n",
        "    def choose_tag(self, tokens, index, history):\n",
        "        word = tokens[index]\n",
        "        if word[0].lower() in self.eng_set:\n",
        "             return 'NONLEX'\n",
        "        else:\n",
        "             return None"
      ],
      "metadata": {
        "id": "32IG1mXQJFr_"
      },
      "execution_count": null,
      "outputs": []
    },
    {
      "cell_type": "code",
      "source": [
        "compare_table = pd.DataFrame(columns=['Tagger', 'Score'])"
      ],
      "metadata": {
        "id": "y5hE_AFVB9OA"
      },
      "execution_count": null,
      "outputs": []
    },
    {
      "cell_type": "code",
      "source": [
        "# Загрузим тренировочный и тестовый тексты\n",
        "\n",
        "train = url_to_string('https://berza.ru/a-modular-spring-loaded-actuator/')\n",
        "test = url_to_string('https://berza.ru/aws-panorama/')\n",
        "train"
      ],
      "metadata": {
        "colab": {
          "base_uri": "https://localhost:8080/",
          "height": 52
        },
        "id": "xM0AtIRIJG-W",
        "outputId": "57f6f7c5-9f97-4a9d-9dda-1f95cffd346c"
      },
      "execution_count": null,
      "outputs": [
        {
          "output_type": "execute_result",
          "data": {
            "text/plain": [
              "' Создан ДНК-наноробот, который поможет изучать процессы в клетках                            Перейти к содержимому                          05.09.2022                                                                                                                                                                                                                                                                                                                                                                                                                                                                                                                                                                                                                                                                                                                                                                                                                                                                                                                                                                                                                                                                                                                                                                                                                                          Берза                                 Искусственный интеллект и машинное обучение, чат-боты и голосовые ассистенты, роботы и дроны, виртуальная и дополненная реальность.                                                          О проекте Помочь проекту Новости Искусственный интеллект и машинное обучение Чат-боты и голосовые ассистенты Роботы и дроны Виртуальная и дополненная реальность Мероприятия Библиотека Искусственный интеллект и машинное обучение Чат-боты и голосовые ассистенты Роботы и дроны Виртуальная и дополненная реальность Контакты Подписаться                    Найти:              Меню                                 О проекте Помочь проекту Новости Искусственный интеллект и машинное обучение Чат-боты и голосовые ассистенты Роботы и дроны Виртуальная и дополненная реальность Мероприятия Библиотека Искусственный интеллект и машинное обучение Чат-боты и голосовые ассистенты Роботы и дроны Виртуальная и дополненная реальность Контакты Подписаться                     Наш канал в Telegram: https://t.me/berzaru Новости / Роботы и дроны Создан ДНК-наноробот, который поможет изучать процессы в клетках  Автор: Алексей Клёсов01.09.202201.09.2022 Французские учёные сконструировали нанороботов из ДНК, которые способны находить на поверхности клеток специфичные белки и приводить их в действие, запуская биохимические процессы внутри клеток. Такие устройства являются удобным зондом для изучения важных биохимических сигналов. Результаты научной работы опубликованы в журнале Nature Communications. Исследователи сконструировали нанолебёдку, используя метод ДНК-оригами. Устройство может оказывать механическое воздействие на белки, включённые в мембраны клеток. Принцип работы нанолебёдки основан на призматическом соединении, когда два тела (поршень и цилиндр) скользят вдоль общей оси, не вращаясь. «Стержень» соединяется со специфическим рецептором на мембране, а затем отталкивается от мембраны с помощью молекулярных пружин, создавая на рецепторе механическое напряжение. Такое устройство полезно для исследований работы молекулярных механосенсоров — специфических рецепторов, которые чувствительны к механическим воздействиям и посылают сигналы внутри клеток, регулируя ключевые биологические процессы. До сих пор функции механорецепторов изучались с помощью атомно-силовой микроскопии, а также магнитных и оптических пинцетов, однако эти методы трудоёмки, ограничены низкой пропускной способностью и молекулярной специфичностью. Нанолебёдка состоит из трёх фрагментов: центрального поршня-цилиндра и двух посадочных опор. Поршень сформирован шестью спиралями ЛНК длиной 60 нанометров, а между ним и цилиндром остаётся зазор два нанометра для свободного скольжения. На вершине поршня находится стопор обратного хода, который соединён с цилиндром шестью одноцепочечными нитями ДНК, действующими как пружины. Ещё шесть цепочек соединяют нижнюю часть цилиндра с нижним кончиком поршня. Посадочные опоры удерживают устройство на поверхности мембраны. Исследователи испытали устройство в автономном режиме работы на интегриновых рецепторах у клеток рака молочной железы человека MCF-7. Когда интегрины связываются с сигнальной молекулой (лигандом), они вытягиваются на 19 нанометров, запуская различные биохимические реакции внутри клеток. В эксперименте нанолебёдки, вооружённые распознающими рецепторы молекулами, обнаруживали неактивные интегрины, связывались с ними и оттягивали до активного состояния. При этом внутри клеток запускались реакции, которые учёные отслеживали визуально с помощью антител с флуоресцентными метками. Всего на одной раковой клетке было обнаружено более девяти тысяч нанороботов. В контролируемом режиме работы нанолебёдки учёные добавляли олигонуклеотиды — короткие цепочки нуклеотидов — которые соединялись с ДНК-пружинами, изменяя их жёсткость. Это позволило регулировать высоту подъёма поршня на 10, 20 и 33 нанометра. В целом, контролируемая сила воздействия нанороботов на поверхностные белки клеток достигала порядка одной триллионной ньютона. Такая точность позволяет учёным определять, какая именно сила воздействия на механорецепторы необходима для того, чтобы активировать ключевые сигнальные пути во многих биологических и патологических процессах. Навигация по записям Предыдущая запись Предыдущая запись: Пятнадцатый региональный чемпионат конкурса «Цифровой прорыв. Сезон: искусственный интеллект»Следующая запись Следующая запись: «Logistics Champions» — программа для стартапов в сфере логистики                                Алексей Клёсов                               Посмотреть все записи автора Алексей Клёсов →                  Вам также может понравиться                                                                                                                                                                                             Вебинар по теме информационной безопасности в облаке                                                      20.08.202220.08.2022                                                                                                                                                                                                     Машинное обучение помогло учёным диагностировать «звон в ушах»                                                      25.11.202025.11.2020                                                                                                                                                                                                     Митап по инновационным решениям в логистике от Фонда Сколково                                                      09.07.202014.07.2020                           О проекте Новости Мероприятия Библиотека Контакты Помочь проекту Электронная почта: berzaru@mail.ru Канал в Telegram: @berzaru Подписаться на рассылку Политика обработки персональных данных '"
            ],
            "application/vnd.google.colaboratory.intrinsic+json": {
              "type": "string"
            }
          },
          "metadata": {},
          "execution_count": 4
        }
      ]
    },
    {
      "cell_type": "code",
      "source": [
        "# Токенизируем тексты\n",
        "\n",
        "train_tokens = nltk.word_tokenize(train, language='russian')\n",
        "test_tokens = nltk.word_tokenize(test, language='russian')\n",
        "train_tokens[:15]"
      ],
      "metadata": {
        "colab": {
          "base_uri": "https://localhost:8080/"
        },
        "id": "viKyQTcvIZn2",
        "outputId": "724e3e4d-2254-48f5-bc4e-a807731f780e"
      },
      "execution_count": null,
      "outputs": [
        {
          "output_type": "execute_result",
          "data": {
            "text/plain": [
              "['Создан',\n",
              " 'ДНК-наноробот',\n",
              " ',',\n",
              " 'который',\n",
              " 'поможет',\n",
              " 'изучать',\n",
              " 'процессы',\n",
              " 'в',\n",
              " 'клетках',\n",
              " 'Перейти',\n",
              " 'к',\n",
              " 'содержимому',\n",
              " '05.09.2022',\n",
              " 'Берза',\n",
              " 'Искусственный']"
            ]
          },
          "metadata": {},
          "execution_count": 5
        }
      ]
    },
    {
      "cell_type": "code",
      "source": [
        "# Сделаем теггирование текстов\n",
        "\n",
        "train_data = [nltk.pos_tag(train_tokens, lang ='rus')]\n",
        "test_data = [nltk.pos_tag(test_tokens, lang ='rus')]"
      ],
      "metadata": {
        "id": "W2WZJ5eDcz2Q"
      },
      "execution_count": null,
      "outputs": []
    },
    {
      "cell_type": "code",
      "source": [
        "# Выделим теги\n",
        "\n",
        "tags = [item[1] for item in train_data[0]]\n",
        "tags[:15]"
      ],
      "metadata": {
        "colab": {
          "base_uri": "https://localhost:8080/"
        },
        "id": "ry7wiAwScm05",
        "outputId": "9f22a894-1302-4542-caa6-9f8ff877c214"
      },
      "execution_count": null,
      "outputs": [
        {
          "output_type": "execute_result",
          "data": {
            "text/plain": [
              "['V',\n",
              " 'S',\n",
              " 'NONLEX',\n",
              " 'A-PRO=m',\n",
              " 'V',\n",
              " 'V',\n",
              " 'S',\n",
              " 'PR',\n",
              " 'S',\n",
              " 'V',\n",
              " 'PR',\n",
              " 'S',\n",
              " 'NUM=ciph',\n",
              " 'S',\n",
              " 'A=m']"
            ]
          },
          "metadata": {},
          "execution_count": 7
        }
      ]
    },
    {
      "cell_type": "code",
      "source": [
        "# Посмотрим, как работает UnigramTagger\n",
        "\n",
        "unigram_tagger = UnigramTagger(train_data)\n",
        "display(unigram_tagger.tag(test_tokens)[:20], unigram_tagger.evaluate(test_data))"
      ],
      "metadata": {
        "colab": {
          "base_uri": "https://localhost:8080/",
          "height": 381
        },
        "id": "LAy1EPl0cq_f",
        "outputId": "5e25ad2c-0f05-4991-e938-22c066e18763"
      },
      "execution_count": null,
      "outputs": [
        {
          "output_type": "display_data",
          "data": {
            "text/plain": [
              "[('Создан', 'V'),\n",
              " ('искусственный', 'A=m'),\n",
              " ('интеллект', 'S'),\n",
              " (',', 'NONLEX'),\n",
              " ('который', 'A-PRO=m'),\n",
              " ('будет', None),\n",
              " ('контролировать', None),\n",
              " ('работников', None),\n",
              " ('Перейти', 'V'),\n",
              " ('к', 'PR'),\n",
              " ('содержимому', 'S'),\n",
              " ('05.09.2022', 'NUM=ciph'),\n",
              " ('Берза', 'S'),\n",
              " ('Искусственный', 'A=m'),\n",
              " ('интеллект', 'S'),\n",
              " ('и', 'CONJ'),\n",
              " ('машинное', 'A=n'),\n",
              " ('обучение', 'S'),\n",
              " (',', 'NONLEX'),\n",
              " ('чат-боты', 'S')]"
            ]
          },
          "metadata": {}
        },
        {
          "output_type": "display_data",
          "data": {
            "text/plain": [
              "0.5222672064777328"
            ]
          },
          "metadata": {}
        }
      ]
    },
    {
      "cell_type": "code",
      "source": [
        "compare_table.loc[0] = ['UnigramTagger', unigram_tagger.evaluate(test_data)]\n",
        "compare_table"
      ],
      "metadata": {
        "colab": {
          "base_uri": "https://localhost:8080/",
          "height": 81
        },
        "id": "8hAAP5TLBNGW",
        "outputId": "423c1e32-d3bd-4c2a-80df-e039823ebb1a"
      },
      "execution_count": null,
      "outputs": [
        {
          "output_type": "execute_result",
          "data": {
            "text/plain": [
              "          Tagger     Score\n",
              "0  UnigramTagger  0.522267"
            ],
            "text/html": [
              "\n",
              "  <div id=\"df-cb71565a-7bdf-458e-bd06-9fa5b59f866c\">\n",
              "    <div class=\"colab-df-container\">\n",
              "      <div>\n",
              "<style scoped>\n",
              "    .dataframe tbody tr th:only-of-type {\n",
              "        vertical-align: middle;\n",
              "    }\n",
              "\n",
              "    .dataframe tbody tr th {\n",
              "        vertical-align: top;\n",
              "    }\n",
              "\n",
              "    .dataframe thead th {\n",
              "        text-align: right;\n",
              "    }\n",
              "</style>\n",
              "<table border=\"1\" class=\"dataframe\">\n",
              "  <thead>\n",
              "    <tr style=\"text-align: right;\">\n",
              "      <th></th>\n",
              "      <th>Tagger</th>\n",
              "      <th>Score</th>\n",
              "    </tr>\n",
              "  </thead>\n",
              "  <tbody>\n",
              "    <tr>\n",
              "      <th>0</th>\n",
              "      <td>UnigramTagger</td>\n",
              "      <td>0.522267</td>\n",
              "    </tr>\n",
              "  </tbody>\n",
              "</table>\n",
              "</div>\n",
              "      <button class=\"colab-df-convert\" onclick=\"convertToInteractive('df-cb71565a-7bdf-458e-bd06-9fa5b59f866c')\"\n",
              "              title=\"Convert this dataframe to an interactive table.\"\n",
              "              style=\"display:none;\">\n",
              "        \n",
              "  <svg xmlns=\"http://www.w3.org/2000/svg\" height=\"24px\"viewBox=\"0 0 24 24\"\n",
              "       width=\"24px\">\n",
              "    <path d=\"M0 0h24v24H0V0z\" fill=\"none\"/>\n",
              "    <path d=\"M18.56 5.44l.94 2.06.94-2.06 2.06-.94-2.06-.94-.94-2.06-.94 2.06-2.06.94zm-11 1L8.5 8.5l.94-2.06 2.06-.94-2.06-.94L8.5 2.5l-.94 2.06-2.06.94zm10 10l.94 2.06.94-2.06 2.06-.94-2.06-.94-.94-2.06-.94 2.06-2.06.94z\"/><path d=\"M17.41 7.96l-1.37-1.37c-.4-.4-.92-.59-1.43-.59-.52 0-1.04.2-1.43.59L10.3 9.45l-7.72 7.72c-.78.78-.78 2.05 0 2.83L4 21.41c.39.39.9.59 1.41.59.51 0 1.02-.2 1.41-.59l7.78-7.78 2.81-2.81c.8-.78.8-2.07 0-2.86zM5.41 20L4 18.59l7.72-7.72 1.47 1.35L5.41 20z\"/>\n",
              "  </svg>\n",
              "      </button>\n",
              "      \n",
              "  <style>\n",
              "    .colab-df-container {\n",
              "      display:flex;\n",
              "      flex-wrap:wrap;\n",
              "      gap: 12px;\n",
              "    }\n",
              "\n",
              "    .colab-df-convert {\n",
              "      background-color: #E8F0FE;\n",
              "      border: none;\n",
              "      border-radius: 50%;\n",
              "      cursor: pointer;\n",
              "      display: none;\n",
              "      fill: #1967D2;\n",
              "      height: 32px;\n",
              "      padding: 0 0 0 0;\n",
              "      width: 32px;\n",
              "    }\n",
              "\n",
              "    .colab-df-convert:hover {\n",
              "      background-color: #E2EBFA;\n",
              "      box-shadow: 0px 1px 2px rgba(60, 64, 67, 0.3), 0px 1px 3px 1px rgba(60, 64, 67, 0.15);\n",
              "      fill: #174EA6;\n",
              "    }\n",
              "\n",
              "    [theme=dark] .colab-df-convert {\n",
              "      background-color: #3B4455;\n",
              "      fill: #D2E3FC;\n",
              "    }\n",
              "\n",
              "    [theme=dark] .colab-df-convert:hover {\n",
              "      background-color: #434B5C;\n",
              "      box-shadow: 0px 1px 3px 1px rgba(0, 0, 0, 0.15);\n",
              "      filter: drop-shadow(0px 1px 2px rgba(0, 0, 0, 0.3));\n",
              "      fill: #FFFFFF;\n",
              "    }\n",
              "  </style>\n",
              "\n",
              "      <script>\n",
              "        const buttonEl =\n",
              "          document.querySelector('#df-cb71565a-7bdf-458e-bd06-9fa5b59f866c button.colab-df-convert');\n",
              "        buttonEl.style.display =\n",
              "          google.colab.kernel.accessAllowed ? 'block' : 'none';\n",
              "\n",
              "        async function convertToInteractive(key) {\n",
              "          const element = document.querySelector('#df-cb71565a-7bdf-458e-bd06-9fa5b59f866c');\n",
              "          const dataTable =\n",
              "            await google.colab.kernel.invokeFunction('convertToInteractive',\n",
              "                                                     [key], {});\n",
              "          if (!dataTable) return;\n",
              "\n",
              "          const docLinkHtml = 'Like what you see? Visit the ' +\n",
              "            '<a target=\"_blank\" href=https://colab.research.google.com/notebooks/data_table.ipynb>data table notebook</a>'\n",
              "            + ' to learn more about interactive tables.';\n",
              "          element.innerHTML = '';\n",
              "          dataTable['output_type'] = 'display_data';\n",
              "          await google.colab.output.renderOutput(dataTable, element);\n",
              "          const docLink = document.createElement('div');\n",
              "          docLink.innerHTML = docLinkHtml;\n",
              "          element.appendChild(docLink);\n",
              "        }\n",
              "      </script>\n",
              "    </div>\n",
              "  </div>\n",
              "  "
            ]
          },
          "metadata": {},
          "execution_count": 9
        }
      ]
    },
    {
      "cell_type": "code",
      "source": [
        "# Посмотрим, как работает BigramTagger\n",
        "\n",
        "bigram_tagger = BigramTagger(train_data, backoff=unigram_tagger)\n",
        "display(bigram_tagger.tag(test_tokens)[:20], bigram_tagger.evaluate(test_data))"
      ],
      "metadata": {
        "colab": {
          "base_uri": "https://localhost:8080/",
          "height": 381
        },
        "id": "y4FUbKlucrGC",
        "outputId": "ab448eeb-19ae-4e53-f9cb-809843e3037d"
      },
      "execution_count": null,
      "outputs": [
        {
          "output_type": "display_data",
          "data": {
            "text/plain": [
              "[('Создан', 'V'),\n",
              " ('искусственный', 'A=m'),\n",
              " ('интеллект', 'S'),\n",
              " (',', 'NONLEX'),\n",
              " ('который', 'A-PRO=m'),\n",
              " ('будет', None),\n",
              " ('контролировать', None),\n",
              " ('работников', None),\n",
              " ('Перейти', 'V'),\n",
              " ('к', 'PR'),\n",
              " ('содержимому', 'S'),\n",
              " ('05.09.2022', 'NUM=ciph'),\n",
              " ('Берза', 'S'),\n",
              " ('Искусственный', 'A=m'),\n",
              " ('интеллект', 'S'),\n",
              " ('и', 'CONJ'),\n",
              " ('машинное', 'A=n'),\n",
              " ('обучение', 'S'),\n",
              " (',', 'NONLEX'),\n",
              " ('чат-боты', 'S')]"
            ]
          },
          "metadata": {}
        },
        {
          "output_type": "display_data",
          "data": {
            "text/plain": [
              "0.5242914979757085"
            ]
          },
          "metadata": {}
        }
      ]
    },
    {
      "cell_type": "code",
      "source": [
        "compare_table.loc[1] = ['BigramTagger', bigram_tagger.evaluate(test_data)]"
      ],
      "metadata": {
        "id": "lQpQPO6cBjH7"
      },
      "execution_count": null,
      "outputs": []
    },
    {
      "cell_type": "code",
      "source": [
        "# Посмотрим, как работает TrigramTagger\n",
        "\n",
        "trigram_tagger = TrigramTagger(train_data, backoff=bigram_tagger)\n",
        "display(trigram_tagger.tag(test_tokens)[:20], trigram_tagger.evaluate(test_data))"
      ],
      "metadata": {
        "colab": {
          "base_uri": "https://localhost:8080/",
          "height": 381
        },
        "id": "4xZ22nlIQlxx",
        "outputId": "06e3e380-927a-423c-d37b-886de225af3b"
      },
      "execution_count": null,
      "outputs": [
        {
          "output_type": "display_data",
          "data": {
            "text/plain": [
              "[('Создан', 'V'),\n",
              " ('искусственный', 'A=m'),\n",
              " ('интеллект', 'S'),\n",
              " (',', 'NONLEX'),\n",
              " ('который', 'A-PRO=m'),\n",
              " ('будет', None),\n",
              " ('контролировать', None),\n",
              " ('работников', None),\n",
              " ('Перейти', 'V'),\n",
              " ('к', 'PR'),\n",
              " ('содержимому', 'S'),\n",
              " ('05.09.2022', 'NUM=ciph'),\n",
              " ('Берза', 'S'),\n",
              " ('Искусственный', 'A=m'),\n",
              " ('интеллект', 'S'),\n",
              " ('и', 'CONJ'),\n",
              " ('машинное', 'A=n'),\n",
              " ('обучение', 'S'),\n",
              " (',', 'NONLEX'),\n",
              " ('чат-боты', 'S')]"
            ]
          },
          "metadata": {}
        },
        {
          "output_type": "display_data",
          "data": {
            "text/plain": [
              "0.5242914979757085"
            ]
          },
          "metadata": {}
        }
      ]
    },
    {
      "cell_type": "code",
      "source": [
        "compare_table.loc[2] = ['TrigramTagger', trigram_tagger.evaluate(test_data)]"
      ],
      "metadata": {
        "id": "JHcJvZVuBnZv"
      },
      "execution_count": null,
      "outputs": []
    },
    {
      "cell_type": "code",
      "source": [
        "# Посмотрим, как работает вместе 3 варинта теггеров\n",
        "\n",
        "backoff = DefaultTagger('NN')\n",
        "combo_tagger = backoff_tagger(train_data,  \n",
        "                              [UnigramTagger, BigramTagger, TrigramTagger],  \n",
        "                              backoff=backoff)\n",
        "display(combo_tagger.tag(test_tokens)[:20], combo_tagger.evaluate(test_data))"
      ],
      "metadata": {
        "colab": {
          "base_uri": "https://localhost:8080/",
          "height": 381
        },
        "id": "E13cCjKDUGYS",
        "outputId": "a88426da-094b-4124-fa3d-a96ebdfe71fe"
      },
      "execution_count": null,
      "outputs": [
        {
          "output_type": "display_data",
          "data": {
            "text/plain": [
              "[('Создан', 'V'),\n",
              " ('искусственный', 'A=m'),\n",
              " ('интеллект', 'S'),\n",
              " (',', 'NONLEX'),\n",
              " ('который', 'A-PRO=m'),\n",
              " ('будет', 'NN'),\n",
              " ('контролировать', 'NN'),\n",
              " ('работников', 'NN'),\n",
              " ('Перейти', 'V'),\n",
              " ('к', 'PR'),\n",
              " ('содержимому', 'S'),\n",
              " ('05.09.2022', 'NUM=ciph'),\n",
              " ('Берза', 'S'),\n",
              " ('Искусственный', 'A=m'),\n",
              " ('интеллект', 'S'),\n",
              " ('и', 'CONJ'),\n",
              " ('машинное', 'A=n'),\n",
              " ('обучение', 'S'),\n",
              " (',', 'NONLEX'),\n",
              " ('чат-боты', 'S')]"
            ]
          },
          "metadata": {}
        },
        {
          "output_type": "display_data",
          "data": {
            "text/plain": [
              "0.5242914979757085"
            ]
          },
          "metadata": {}
        }
      ]
    },
    {
      "cell_type": "code",
      "source": [
        "compare_table.loc[3] = ['UBTTagger', combo_tagger.evaluate(test_data)]"
      ],
      "metadata": {
        "id": "xJTN2L_5Bs0R"
      },
      "execution_count": null,
      "outputs": []
    },
    {
      "cell_type": "code",
      "source": [
        "# Добавим кастомный теггер по разметке английских слов как NONLEX\n",
        "\n",
        "backoff = DefaultTagger('NN')\n",
        "combo2_tagger = backoff_tagger(train_data,  \n",
        "                              [UnigramTagger, BigramTagger, TrigramTagger, EngTagger],  \n",
        "                              backoff=backoff)\n",
        "display(combo2_tagger.tag(test_tokens)[:20], combo2_tagger.evaluate(test_data))"
      ],
      "metadata": {
        "colab": {
          "base_uri": "https://localhost:8080/",
          "height": 381
        },
        "id": "j024EDm3UGmT",
        "outputId": "d63a5fa9-87ca-49a3-85ac-1dd8194af429"
      },
      "execution_count": null,
      "outputs": [
        {
          "output_type": "display_data",
          "data": {
            "text/plain": [
              "[('Создан', 'V'),\n",
              " ('искусственный', 'A=m'),\n",
              " ('интеллект', 'S'),\n",
              " (',', 'NONLEX'),\n",
              " ('который', 'A-PRO=m'),\n",
              " ('будет', 'NN'),\n",
              " ('контролировать', 'NN'),\n",
              " ('работников', 'NN'),\n",
              " ('Перейти', 'V'),\n",
              " ('к', 'PR'),\n",
              " ('содержимому', 'S'),\n",
              " ('05.09.2022', 'NUM=ciph'),\n",
              " ('Берза', 'S'),\n",
              " ('Искусственный', 'A=m'),\n",
              " ('интеллект', 'S'),\n",
              " ('и', 'CONJ'),\n",
              " ('машинное', 'A=n'),\n",
              " ('обучение', 'S'),\n",
              " (',', 'NONLEX'),\n",
              " ('чат-боты', 'S')]"
            ]
          },
          "metadata": {}
        },
        {
          "output_type": "display_data",
          "data": {
            "text/plain": [
              "0.582995951417004"
            ]
          },
          "metadata": {}
        }
      ]
    },
    {
      "cell_type": "code",
      "source": [
        "compare_table.loc[4] = ['UBTETagger', combo2_tagger.evaluate(test_data)]"
      ],
      "metadata": {
        "id": "a6oBqd4vBz9i"
      },
      "execution_count": null,
      "outputs": []
    },
    {
      "cell_type": "code",
      "source": [
        "# Добавим теггер RegexpTagger снекоторыми масками слов\n",
        "\n",
        "patterns = [\n",
        "    (r'.*[аи]ть$', 'V'),                \n",
        "    (r'.*[ёеи]т$', 'V'),               \n",
        "    (r'.*[и][ея]$', 'S'),                 \n",
        "    (r'.*л[ю]$', 'S'),                \n",
        "    (r'.*[ёе]нны*', 'A=m'),              \n",
        "    (r'.*ческ*', 'A=m'),               \n",
        "]\n",
        "\n",
        "backoff = DefaultTagger('NN')\n",
        "combo3_tagger = backoff_tagger(train_data,  \n",
        "                              [RegexpTagger, UnigramTagger, BigramTagger, TrigramTagger, EngTagger],  \n",
        "                              backoff=backoff, \n",
        "                              patterns=patterns)\n",
        "\n",
        "display(combo3_tagger.tag(test_tokens)[:20], combo3_tagger.evaluate(test_data))"
      ],
      "metadata": {
        "colab": {
          "base_uri": "https://localhost:8080/",
          "height": 381
        },
        "id": "H1KO61Md4A-T",
        "outputId": "90ee067a-2d4b-4265-d95c-cdd19ce03a26"
      },
      "execution_count": null,
      "outputs": [
        {
          "output_type": "display_data",
          "data": {
            "text/plain": [
              "[('Создан', 'V'),\n",
              " ('искусственный', 'A=m'),\n",
              " ('интеллект', 'S'),\n",
              " (',', 'NONLEX'),\n",
              " ('который', 'A-PRO=m'),\n",
              " ('будет', 'V'),\n",
              " ('контролировать', 'V'),\n",
              " ('работников', 'NN'),\n",
              " ('Перейти', 'V'),\n",
              " ('к', 'PR'),\n",
              " ('содержимому', 'S'),\n",
              " ('05.09.2022', 'NUM=ciph'),\n",
              " ('Берза', 'S'),\n",
              " ('Искусственный', 'A=m'),\n",
              " ('интеллект', 'S'),\n",
              " ('и', 'CONJ'),\n",
              " ('машинное', 'A=n'),\n",
              " ('обучение', 'S'),\n",
              " (',', 'NONLEX'),\n",
              " ('чат-боты', 'S')]"
            ]
          },
          "metadata": {}
        },
        {
          "output_type": "display_data",
          "data": {
            "text/plain": [
              "0.6558704453441295"
            ]
          },
          "metadata": {}
        }
      ]
    },
    {
      "cell_type": "code",
      "source": [
        "compare_table.loc[5] = ['RUBTETagger', combo3_tagger.evaluate(test_data)]"
      ],
      "metadata": {
        "id": "DwNN2z2WB4o-"
      },
      "execution_count": null,
      "outputs": []
    },
    {
      "cell_type": "code",
      "source": [
        "# Разделим токены и теги\n",
        "\n",
        "train_tok = []\n",
        "train_label = [] + ['NUM=acc', 'ADV-PRO', 'ANUM=m']\n",
        "for sent in train_data[:]:\n",
        "    for tok in sent:\n",
        "        train_tok.append(tok[0])\n",
        "        train_label.append('NO_TAG' if tok[1] is None else tok[1])\n",
        "        \n",
        "test_tok = []\n",
        "test_label = []\n",
        "for sent in test_data[:]:\n",
        "    for tok in sent:\n",
        "        test_tok.append(tok[0])\n",
        "        test_label.append('NO_TAG' if tok[1] is None else tok[1])"
      ],
      "metadata": {
        "id": "gcIQKagtgpVP"
      },
      "execution_count": null,
      "outputs": []
    },
    {
      "cell_type": "code",
      "source": [
        "# Закодируем теги в числа\n",
        "\n",
        "le = LabelEncoder()\n",
        "train_enc_labels = le.fit_transform(train_label)\n",
        "test_enc_labels = le.transform(test_label)"
      ],
      "metadata": {
        "id": "MyZZTeeGgpfy"
      },
      "execution_count": null,
      "outputs": []
    },
    {
      "cell_type": "code",
      "source": [
        "# Посмотрим на список тегов\n",
        "\n",
        "le.classes_"
      ],
      "metadata": {
        "colab": {
          "base_uri": "https://localhost:8080/"
        },
        "id": "8nALhqufhq56",
        "outputId": "3eab46d2-f5d3-4a2a-96b6-7191d1cca859"
      },
      "execution_count": null,
      "outputs": [
        {
          "output_type": "execute_result",
          "data": {
            "text/plain": [
              "array(['A-PRO', 'A-PRO=f', 'A-PRO=m', 'A-PRO=n', 'A-PRO=pl', 'A=f', 'A=m',\n",
              "       'A=n', 'A=pl', 'ADV', 'ADV-PRO', 'ANUM=f', 'ANUM=m', 'CONJ',\n",
              "       'NONLEX', 'NUM=acc', 'NUM=ciph', 'NUM=comp', 'NUM=gen', 'NUM=ins',\n",
              "       'NUM=m', 'NUM=n', 'NUM=nom', 'PART', 'PR', 'S', 'S-PRO', 'V'],\n",
              "      dtype='<U8')"
            ]
          },
          "metadata": {},
          "execution_count": 22
        }
      ]
    },
    {
      "cell_type": "code",
      "source": [
        "# Предскажем теги с помощью HashingVectorizer\n",
        "\n",
        "hvectorizer = HashingVectorizer(ngram_range=(1, 3), analyzer='char', n_features=250)\n",
        "X_train_hash = hvectorizer.fit_transform(train_tok)\n",
        "X_test_hash = hvectorizer.transform(test_tok)\n",
        "lr_hash = LogisticRegression(random_state=0, max_iter=10)\n",
        "lr_hash.fit(X_train_hash, train_enc_labels[:X_train_hash.shape[0]])\n",
        "pred_hash = lr_hash.predict(X_test_hash)\n",
        "accuracy_score(pred_hash, test_enc_labels)"
      ],
      "metadata": {
        "colab": {
          "base_uri": "https://localhost:8080/"
        },
        "id": "cGrslO9-hjPK",
        "outputId": "61b28822-376b-43d6-870e-200876c99a1a"
      },
      "execution_count": null,
      "outputs": [
        {
          "output_type": "execute_result",
          "data": {
            "text/plain": [
              "0.4089068825910931"
            ]
          },
          "metadata": {},
          "execution_count": 23
        }
      ]
    },
    {
      "cell_type": "code",
      "source": [
        "compare_table.loc[6] = ['HVchar', accuracy_score(pred_hash, test_enc_labels)]"
      ],
      "metadata": {
        "id": "61sQelQsxl9L"
      },
      "execution_count": null,
      "outputs": []
    },
    {
      "cell_type": "code",
      "source": [
        "# Предскажем теги с помощью HashingVectorizer\n",
        "\n",
        "hvectorizer = HashingVectorizer(ngram_range=(1, 3), analyzer='word', n_features=250)\n",
        "X_train_hash = hvectorizer.fit_transform(train_tok)\n",
        "X_test_hash = hvectorizer.transform(test_tok)\n",
        "lr_hash = LogisticRegression(random_state=0, max_iter=10)\n",
        "lr_hash.fit(X_train_hash, train_enc_labels[:X_train_hash.shape[0]])\n",
        "pred_hash = lr_hash.predict(X_test_hash)\n",
        "accuracy_score(pred_hash, test_enc_labels)"
      ],
      "metadata": {
        "colab": {
          "base_uri": "https://localhost:8080/"
        },
        "id": "xIFss9vsq-6N",
        "outputId": "a9c870c4-3785-400e-c72b-c8ae84110b6f"
      },
      "execution_count": null,
      "outputs": [
        {
          "output_type": "execute_result",
          "data": {
            "text/plain": [
              "0.34210526315789475"
            ]
          },
          "metadata": {},
          "execution_count": 25
        }
      ]
    },
    {
      "cell_type": "code",
      "source": [
        "compare_table.loc[7] = ['HVword', accuracy_score(pred_hash, test_enc_labels)]"
      ],
      "metadata": {
        "id": "ssEGI7ZbxvAN"
      },
      "execution_count": null,
      "outputs": []
    },
    {
      "cell_type": "code",
      "source": [
        "# Предскажем теги с помощью TfidfVectorizer\n",
        "\n",
        "vectorizer_char = TfidfVectorizer(ngram_range=(1, 5), analyzer='char')\n",
        "X_train_tfidf_char = vectorizer_char.fit_transform(train_tok)\n",
        "X_test_tfidf_char = vectorizer_char.transform(test_tok)\n",
        "lr_tfidf = LogisticRegression(random_state=0, max_iter=10)\n",
        "lr_tfidf.fit(X_train_tfidf_char, train_enc_labels[:X_train_hash.shape[0]])\n",
        "pred_tfidf = lr_tfidf.predict(X_test_tfidf_char)\n",
        "accuracy_score(pred_tfidf, test_enc_labels)"
      ],
      "metadata": {
        "colab": {
          "base_uri": "https://localhost:8080/"
        },
        "id": "B0ndfs_UhySi",
        "outputId": "76f34b46-19fa-461c-afcd-a34ed08dec2e"
      },
      "execution_count": null,
      "outputs": [
        {
          "output_type": "execute_result",
          "data": {
            "text/plain": [
              "0.38866396761133604"
            ]
          },
          "metadata": {},
          "execution_count": 71
        }
      ]
    },
    {
      "cell_type": "code",
      "source": [
        "compare_table.loc[8] = ['TVchar', accuracy_score(pred_tfidf, test_enc_labels)]"
      ],
      "metadata": {
        "id": "zv17nErLx4qi"
      },
      "execution_count": null,
      "outputs": []
    },
    {
      "cell_type": "code",
      "source": [
        "# Предскажем теги с помощью TfidfVectorizer\n",
        "\n",
        "vectorizer_word = TfidfVectorizer(ngram_range=(1, 5), analyzer='word')\n",
        "X_train_tfidf_word = vectorizer_word.fit_transform(train_tok)\n",
        "X_test_tfidf_word = vectorizer_word.transform(test_tok)\n",
        "lr_tfidf = LogisticRegression(random_state=0, max_iter=10)\n",
        "lr_tfidf.fit(X_train_tfidf_word, train_enc_labels[:X_train_hash.shape[0]])\n",
        "pred_tfidf = lr_tfidf.predict(X_test_tfidf_word)\n",
        "accuracy_score(pred_tfidf, test_enc_labels)"
      ],
      "metadata": {
        "colab": {
          "base_uri": "https://localhost:8080/"
        },
        "id": "ZSMDMcTlrzNn",
        "outputId": "538a4a2b-0bf6-408c-c22d-cb4c0b36ab23"
      },
      "execution_count": null,
      "outputs": [
        {
          "output_type": "execute_result",
          "data": {
            "text/plain": [
              "0.37044534412955465"
            ]
          },
          "metadata": {},
          "execution_count": 72
        }
      ]
    },
    {
      "cell_type": "code",
      "source": [
        "compare_table.loc[9] = ['TVword', accuracy_score(pred_tfidf, test_enc_labels)]"
      ],
      "metadata": {
        "id": "8vEc-T6Khylz"
      },
      "execution_count": null,
      "outputs": []
    },
    {
      "cell_type": "code",
      "source": [
        "# Предскажем теги с помощью TfidfVectorizer, соединим фичи по символам и по словам\n",
        "\n",
        "X_train_common = hstack((X_train_tfidf_char, X_train_tfidf_word))\n",
        "X_test_common = hstack((X_test_tfidf_char, X_test_tfidf_word))\n",
        "lr_tfidf = LogisticRegression(random_state=0, max_iter=10)\n",
        "lr_tfidf.fit(X_train_common, train_enc_labels[:X_train_common.shape[0]])\n",
        "pred_tfidf = lr_tfidf.predict(X_test_common)\n",
        "accuracy_score(pred_tfidf, test_enc_labels)"
      ],
      "metadata": {
        "colab": {
          "base_uri": "https://localhost:8080/"
        },
        "id": "a5mKufJzE5kg",
        "outputId": "0fa06b42-6fe7-4474-b448-6c1af4159dd9"
      },
      "execution_count": null,
      "outputs": [
        {
          "output_type": "execute_result",
          "data": {
            "text/plain": [
              "0.3562753036437247"
            ]
          },
          "metadata": {},
          "execution_count": 80
        }
      ]
    },
    {
      "cell_type": "code",
      "source": [
        "compare_table.loc[10] = ['TVchar_word', accuracy_score(pred_tfidf, test_enc_labels)]"
      ],
      "metadata": {
        "id": "HgkQ4b3iEH4r"
      },
      "execution_count": null,
      "outputs": []
    },
    {
      "cell_type": "code",
      "source": [
        "compare_table"
      ],
      "metadata": {
        "colab": {
          "base_uri": "https://localhost:8080/",
          "height": 395
        },
        "id": "_BIXfuQTgpkt",
        "outputId": "56305e4e-a59c-4c37-cebc-3a425d4c4120"
      },
      "execution_count": null,
      "outputs": [
        {
          "output_type": "execute_result",
          "data": {
            "text/plain": [
              "           Tagger     Score\n",
              "0   UnigramTagger  0.522267\n",
              "1    BigramTagger  0.524291\n",
              "2   TrigramTagger  0.524291\n",
              "3       UBTTagger  0.524291\n",
              "4      UBTETagger  0.582996\n",
              "5     RUBTETagger  0.655870\n",
              "6          HVchar  0.408907\n",
              "7          HVword  0.342105\n",
              "8          TVchar  0.388664\n",
              "9          TVword  0.370445\n",
              "10    TVchar_word  0.356275"
            ],
            "text/html": [
              "\n",
              "  <div id=\"df-bcccc5c8-dcd6-433d-8752-fb05081b8809\">\n",
              "    <div class=\"colab-df-container\">\n",
              "      <div>\n",
              "<style scoped>\n",
              "    .dataframe tbody tr th:only-of-type {\n",
              "        vertical-align: middle;\n",
              "    }\n",
              "\n",
              "    .dataframe tbody tr th {\n",
              "        vertical-align: top;\n",
              "    }\n",
              "\n",
              "    .dataframe thead th {\n",
              "        text-align: right;\n",
              "    }\n",
              "</style>\n",
              "<table border=\"1\" class=\"dataframe\">\n",
              "  <thead>\n",
              "    <tr style=\"text-align: right;\">\n",
              "      <th></th>\n",
              "      <th>Tagger</th>\n",
              "      <th>Score</th>\n",
              "    </tr>\n",
              "  </thead>\n",
              "  <tbody>\n",
              "    <tr>\n",
              "      <th>0</th>\n",
              "      <td>UnigramTagger</td>\n",
              "      <td>0.522267</td>\n",
              "    </tr>\n",
              "    <tr>\n",
              "      <th>1</th>\n",
              "      <td>BigramTagger</td>\n",
              "      <td>0.524291</td>\n",
              "    </tr>\n",
              "    <tr>\n",
              "      <th>2</th>\n",
              "      <td>TrigramTagger</td>\n",
              "      <td>0.524291</td>\n",
              "    </tr>\n",
              "    <tr>\n",
              "      <th>3</th>\n",
              "      <td>UBTTagger</td>\n",
              "      <td>0.524291</td>\n",
              "    </tr>\n",
              "    <tr>\n",
              "      <th>4</th>\n",
              "      <td>UBTETagger</td>\n",
              "      <td>0.582996</td>\n",
              "    </tr>\n",
              "    <tr>\n",
              "      <th>5</th>\n",
              "      <td>RUBTETagger</td>\n",
              "      <td>0.655870</td>\n",
              "    </tr>\n",
              "    <tr>\n",
              "      <th>6</th>\n",
              "      <td>HVchar</td>\n",
              "      <td>0.408907</td>\n",
              "    </tr>\n",
              "    <tr>\n",
              "      <th>7</th>\n",
              "      <td>HVword</td>\n",
              "      <td>0.342105</td>\n",
              "    </tr>\n",
              "    <tr>\n",
              "      <th>8</th>\n",
              "      <td>TVchar</td>\n",
              "      <td>0.388664</td>\n",
              "    </tr>\n",
              "    <tr>\n",
              "      <th>9</th>\n",
              "      <td>TVword</td>\n",
              "      <td>0.370445</td>\n",
              "    </tr>\n",
              "    <tr>\n",
              "      <th>10</th>\n",
              "      <td>TVchar_word</td>\n",
              "      <td>0.356275</td>\n",
              "    </tr>\n",
              "  </tbody>\n",
              "</table>\n",
              "</div>\n",
              "      <button class=\"colab-df-convert\" onclick=\"convertToInteractive('df-bcccc5c8-dcd6-433d-8752-fb05081b8809')\"\n",
              "              title=\"Convert this dataframe to an interactive table.\"\n",
              "              style=\"display:none;\">\n",
              "        \n",
              "  <svg xmlns=\"http://www.w3.org/2000/svg\" height=\"24px\"viewBox=\"0 0 24 24\"\n",
              "       width=\"24px\">\n",
              "    <path d=\"M0 0h24v24H0V0z\" fill=\"none\"/>\n",
              "    <path d=\"M18.56 5.44l.94 2.06.94-2.06 2.06-.94-2.06-.94-.94-2.06-.94 2.06-2.06.94zm-11 1L8.5 8.5l.94-2.06 2.06-.94-2.06-.94L8.5 2.5l-.94 2.06-2.06.94zm10 10l.94 2.06.94-2.06 2.06-.94-2.06-.94-.94-2.06-.94 2.06-2.06.94z\"/><path d=\"M17.41 7.96l-1.37-1.37c-.4-.4-.92-.59-1.43-.59-.52 0-1.04.2-1.43.59L10.3 9.45l-7.72 7.72c-.78.78-.78 2.05 0 2.83L4 21.41c.39.39.9.59 1.41.59.51 0 1.02-.2 1.41-.59l7.78-7.78 2.81-2.81c.8-.78.8-2.07 0-2.86zM5.41 20L4 18.59l7.72-7.72 1.47 1.35L5.41 20z\"/>\n",
              "  </svg>\n",
              "      </button>\n",
              "      \n",
              "  <style>\n",
              "    .colab-df-container {\n",
              "      display:flex;\n",
              "      flex-wrap:wrap;\n",
              "      gap: 12px;\n",
              "    }\n",
              "\n",
              "    .colab-df-convert {\n",
              "      background-color: #E8F0FE;\n",
              "      border: none;\n",
              "      border-radius: 50%;\n",
              "      cursor: pointer;\n",
              "      display: none;\n",
              "      fill: #1967D2;\n",
              "      height: 32px;\n",
              "      padding: 0 0 0 0;\n",
              "      width: 32px;\n",
              "    }\n",
              "\n",
              "    .colab-df-convert:hover {\n",
              "      background-color: #E2EBFA;\n",
              "      box-shadow: 0px 1px 2px rgba(60, 64, 67, 0.3), 0px 1px 3px 1px rgba(60, 64, 67, 0.15);\n",
              "      fill: #174EA6;\n",
              "    }\n",
              "\n",
              "    [theme=dark] .colab-df-convert {\n",
              "      background-color: #3B4455;\n",
              "      fill: #D2E3FC;\n",
              "    }\n",
              "\n",
              "    [theme=dark] .colab-df-convert:hover {\n",
              "      background-color: #434B5C;\n",
              "      box-shadow: 0px 1px 3px 1px rgba(0, 0, 0, 0.15);\n",
              "      filter: drop-shadow(0px 1px 2px rgba(0, 0, 0, 0.3));\n",
              "      fill: #FFFFFF;\n",
              "    }\n",
              "  </style>\n",
              "\n",
              "      <script>\n",
              "        const buttonEl =\n",
              "          document.querySelector('#df-bcccc5c8-dcd6-433d-8752-fb05081b8809 button.colab-df-convert');\n",
              "        buttonEl.style.display =\n",
              "          google.colab.kernel.accessAllowed ? 'block' : 'none';\n",
              "\n",
              "        async function convertToInteractive(key) {\n",
              "          const element = document.querySelector('#df-bcccc5c8-dcd6-433d-8752-fb05081b8809');\n",
              "          const dataTable =\n",
              "            await google.colab.kernel.invokeFunction('convertToInteractive',\n",
              "                                                     [key], {});\n",
              "          if (!dataTable) return;\n",
              "\n",
              "          const docLinkHtml = 'Like what you see? Visit the ' +\n",
              "            '<a target=\"_blank\" href=https://colab.research.google.com/notebooks/data_table.ipynb>data table notebook</a>'\n",
              "            + ' to learn more about interactive tables.';\n",
              "          element.innerHTML = '';\n",
              "          dataTable['output_type'] = 'display_data';\n",
              "          await google.colab.output.renderOutput(dataTable, element);\n",
              "          const docLink = document.createElement('div');\n",
              "          docLink.innerHTML = docLinkHtml;\n",
              "          element.appendChild(docLink);\n",
              "        }\n",
              "      </script>\n",
              "    </div>\n",
              "  </div>\n",
              "  "
            ]
          },
          "metadata": {},
          "execution_count": 82
        }
      ]
    },
    {
      "cell_type": "markdown",
      "source": [
        "### **Вывод:**\n",
        "\n",
        "Точность разбиения с помощью UnigramTagger равна 0.52 относительно nltk.pos_tag для русского языка. Метод BigramTagger помог улучшить точность, однако метод TrigramTagger и комбинирование всех трех методов не дали какого-либо результата. Обработка дополнительно английских слов с помощью кастомного теггера и применение метода регулярных выражений существенно улучшили качество разметки. Удалось поднять точность до 0.65.\n",
        "\n",
        "Предсказания с помощью векторайзеров и логистической регрессии получились очень плохими.\n",
        "\n",
        "**Что можно улучшить:**\n",
        "\n",
        "* Попробовать взять другой текст с разметкой, в nltk.pos_tag используются довольно сложные метки, чтобы на них ориентироваться для подсчета точности собственного теггера (например, 'A-PRO=m', 'A=m').\n",
        "* Добавить больше масок для метода RegexpTagger, чтобы обработать больше разных слов."
      ],
      "metadata": {
        "id": "iKtJ5jflCOFY"
      }
    },
    {
      "cell_type": "markdown",
      "source": [
        "### **ЗАДАНИЕ 2. Проверить, насколько хорошо работает NER.**"
      ],
      "metadata": {
        "id": "Tl1WMq5MzWaQ"
      }
    },
    {
      "cell_type": "markdown",
      "source": [
        "\n",
        "**Задание 2.** \n",
        "\n",
        "Проверить, насколько хорошо работает NER\n",
        "\n",
        "Данные брать из http://www.labinform.ru/pub/named_entities/\n",
        "\n",
        "- проверить NER из nltk/spacy/deeppavlov.\n",
        "- написать свой NER, попробовать разные подходы.\n",
        " - передаём в сетку токен и его соседей.\n",
        " - передаём в сетку только токен.\n",
        " - свой вариант.\n",
        "- сравнить свои реализованные подходы на качество — вывести precision/recall/f1_score.\n"
      ],
      "metadata": {
        "id": "RGeQzDCdzaYZ"
      }
    },
    {
      "cell_type": "code",
      "source": [
        "!wget http://www.labinform.ru/pub/named_entities/collection3.zip\n",
        "!unzip /content/collection3.zip"
      ],
      "metadata": {
        "id": "qH9wKHfALi7M"
      },
      "execution_count": null,
      "outputs": []
    },
    {
      "cell_type": "code",
      "source": [
        "DATA_ROOT = '/content/Collection3'\n",
        "\n",
        "data_text = []\n",
        "data_ann = []\n",
        "for root, dirs, files in os.walk(DATA_ROOT):     \n",
        "    for name in files:\n",
        "        file_path_txt = os.path.join(root, name)\n",
        "        file_path_ann = os.path.join(root, name[:-4]+'.ann')\n",
        "        if 'txt'in name:\n",
        "          with open(file_path_txt) as f:\n",
        "            data_text.append(f.read())\n",
        "          with open(file_path_ann) as f2:\n",
        "            data_ann.append(f2.read())\n",
        "\n",
        "print(f'Txt_length: {len(data_text)}')\n",
        "print(f'Ann_length: {len(data_ann)}')"
      ],
      "metadata": {
        "id": "8Dbft7OrLjCQ",
        "colab": {
          "base_uri": "https://localhost:8080/"
        },
        "outputId": "9c6bb43f-4da9-4f62-e207-705cd97bedae"
      },
      "execution_count": null,
      "outputs": [
        {
          "output_type": "stream",
          "name": "stdout",
          "text": [
            "Txt_length: 1000\n",
            "Ann_length: 1000\n"
          ]
        }
      ]
    },
    {
      "cell_type": "code",
      "source": [
        "orig_ner = list({(word, tag.split(' ')[0]) for (_, tag, word) in [item.split('\\t') for item in data_ann[0].split('\\n')][:-1]})\n",
        "orig_ner"
      ],
      "metadata": {
        "colab": {
          "base_uri": "https://localhost:8080/"
        },
        "id": "2WzyVbQuB2cI",
        "outputId": "ff7689de-144d-4d4e-8cb0-a7bdd83a1943"
      },
      "execution_count": null,
      "outputs": [
        {
          "output_type": "execute_result",
          "data": {
            "text/plain": [
              "[('ФСФР', 'ORG'),\n",
              " ('Бурыкина', 'PER'),\n",
              " ('ЦБ', 'ORG'),\n",
              " ('Константина Шора', 'PER'),\n",
              " ('Алексей Моисеев', 'PER'),\n",
              " ('Сергей Швецов', 'PER'),\n",
              " ('Банка России', 'ORG'),\n",
              " ('Шор', 'PER'),\n",
              " ('РФ', 'LOC'),\n",
              " ('Наталья Бурыкина', 'PER'),\n",
              " ('Алексея Улюкаева', 'PER'),\n",
              " ('Улюкаев', 'PER'),\n",
              " ('Швецов', 'PER'),\n",
              " ('Госдумы', 'ORG')]"
            ]
          },
          "metadata": {},
          "execution_count": 92
        }
      ]
    },
    {
      "cell_type": "code",
      "source": [
        "# nltk ner\n",
        "\n",
        "nltk_pos_tag = nltk.pos_tag(nltk.word_tokenize(data_text[0]))\n",
        "nltk_ner = list({(' '.join(c[0] for c in chunk), chunk.label()) for chunk in nltk.ne_chunk(nltk_pos_tag) if hasattr(chunk, 'label')})\n",
        "nltk_ner"
      ],
      "metadata": {
        "colab": {
          "base_uri": "https://localhost:8080/"
        },
        "id": "4E3a1NkI7B0J",
        "outputId": "5f0cc5e8-43d3-47cc-f7c8-3b5b71dfbc4a"
      },
      "execution_count": null,
      "outputs": [
        {
          "output_type": "execute_result",
          "data": {
            "text/plain": [
              "[('ЦБ', 'ORGANIZATION'),\n",
              " ('Швецов', 'PERSON'),\n",
              " ('Совдир', 'PERSON'),\n",
              " ('Алексей Моисеев', 'PERSON'),\n",
              " ('Наталья Бурыкина', 'PERSON'),\n",
              " ('Улюкаев', 'PERSON'),\n",
              " ('Швецов', 'GPE'),\n",
              " ('Алексея Улюкаева', 'PERSON'),\n",
              " ('России', 'PERSON'),\n",
              " ('Госдумы', 'PERSON'),\n",
              " ('Сергей Швецов', 'PERSON')]"
            ]
          },
          "metadata": {},
          "execution_count": 94
        }
      ]
    },
    {
      "cell_type": "code",
      "source": [
        "# spacy ner\n",
        "\n",
        "# !pip install -U spacy\n",
        "# !python -m spacy info\n",
        "# !python -m spacy download en_core_web_md\n",
        "# !pip install en_core_web_md\n",
        "import spacy\n",
        "from spacy import displacy\n",
        "import en_core_web_md"
      ],
      "metadata": {
        "id": "PvzCep7TR2i7"
      },
      "execution_count": null,
      "outputs": []
    },
    {
      "cell_type": "code",
      "source": [
        "nlp = en_core_web_md.load()\n",
        "# ny_bb = url_to_string('https://www.nytimes.com/2018/08/13/us/politics/peter-strzok-fired-fbi.html?hp&action=click&pgtype=Homepage&clickSource=story-heading&module=first-column-region&region=top-news&WT.nav=top-news')\n",
        "ny_bb = data_text[0]\n",
        "article = nlp(ny_bb)\n",
        "displacy.render(article, jupyter=True, style='ent')"
      ],
      "metadata": {
        "id": "72TaI5tOR2xL",
        "colab": {
          "base_uri": "https://localhost:8080/",
          "height": 807
        },
        "outputId": "49337a40-146c-4ac1-cd75-71e7ebdac716"
      },
      "execution_count": null,
      "outputs": [
        {
          "output_type": "display_data",
          "data": {
            "text/plain": [
              "<IPython.core.display.HTML object>"
            ],
            "text/html": [
              "<span class=\"tex2jax_ignore\"><div class=\"entities\" style=\"line-height: 2.5; direction: ltr\">\n",
              "<mark class=\"entity\" style=\"background: #7aecec; padding: 0.45em 0.6em; margin: 0 0.25em; line-height: 1; border-radius: 0.35em;\">\n",
              "    Совдир ЦБ переизберут после вступления\n",
              "    <span style=\"font-size: 0.8em; font-weight: bold; line-height: 1; border-radius: 0.35em; vertical-align: middle; margin-left: 0.5rem\">ORG</span>\n",
              "</mark>\n",
              " в \n",
              "<mark class=\"entity\" style=\"background: #aa9cfc; padding: 0.45em 0.6em; margin: 0 0.25em; line-height: 1; border-radius: 0.35em;\">\n",
              "    силу закона о\n",
              "    <span style=\"font-size: 0.8em; font-weight: bold; line-height: 1; border-radius: 0.35em; vertical-align: middle; margin-left: 0.5rem\">PERSON</span>\n",
              "</mark>\n",
              " мегарегуляторе</br></br></br>В настоящее время \n",
              "<mark class=\"entity\" style=\"background: #7aecec; padding: 0.45em 0.6em; margin: 0 0.25em; line-height: 1; border-radius: 0.35em;\">\n",
              "    в совет директоров ЦБ\n",
              "    <span style=\"font-size: 0.8em; font-weight: bold; line-height: 1; border-radius: 0.35em; vertical-align: middle; margin-left: 0.5rem\">ORG</span>\n",
              "</mark>\n",
              " \n",
              "<mark class=\"entity\" style=\"background: #aa9cfc; padding: 0.45em 0.6em; margin: 0 0.25em; line-height: 1; border-radius: 0.35em;\">\n",
              "    входят 11 человек, и\n",
              "    <span style=\"font-size: 0.8em; font-weight: bold; line-height: 1; border-radius: 0.35em; vertical-align: middle; margin-left: 0.5rem\">PERSON</span>\n",
              "</mark>\n",
              ", \n",
              "<mark class=\"entity\" style=\"background: #7aecec; padding: 0.45em 0.6em; margin: 0 0.25em; line-height: 1; border-radius: 0.35em;\">\n",
              "    согласно закону о ЦБ\n",
              "    <span style=\"font-size: 0.8em; font-weight: bold; line-height: 1; border-radius: 0.35em; vertical-align: middle; margin-left: 0.5rem\">ORG</span>\n",
              "</mark>\n",
              ", есть еще \n",
              "<mark class=\"entity\" style=\"background: #aa9cfc; padding: 0.45em 0.6em; margin: 0 0.25em; line-height: 1; border-radius: 0.35em;\">\n",
              "    две вакансии\n",
              "    <span style=\"font-size: 0.8em; font-weight: bold; line-height: 1; border-radius: 0.35em; vertical-align: middle; margin-left: 0.5rem\">PERSON</span>\n",
              "</mark>\n",
              ". Законопроект о мегарегуляторе предусматривает \n",
              "<mark class=\"entity\" style=\"background: #aa9cfc; padding: 0.45em 0.6em; margin: 0 0.25em; line-height: 1; border-radius: 0.35em;\">\n",
              "    расширение численного состава совета\n",
              "    <span style=\"font-size: 0.8em; font-weight: bold; line-height: 1; border-radius: 0.35em; vertical-align: middle; margin-left: 0.5rem\">PERSON</span>\n",
              "</mark>\n",
              " до \n",
              "<mark class=\"entity\" style=\"background: #e4e7d2; padding: 0.45em 0.6em; margin: 0 0.25em; line-height: 1; border-radius: 0.35em;\">\n",
              "    15\n",
              "    <span style=\"font-size: 0.8em; font-weight: bold; line-height: 1; border-radius: 0.35em; vertical-align: middle; margin-left: 0.5rem\">CARDINAL</span>\n",
              "</mark>\n",
              " человек.</br></br></br>\n",
              "<mark class=\"entity\" style=\"background: #aa9cfc; padding: 0.45em 0.6em; margin: 0 0.25em; line-height: 1; border-radius: 0.35em;\">\n",
              "    Комитет Госдумы\n",
              "    <span style=\"font-size: 0.8em; font-weight: bold; line-height: 1; border-radius: 0.35em; vertical-align: middle; margin-left: 0.5rem\">PERSON</span>\n",
              "</mark>\n",
              " по финансовому рынку ко второму чтению законопроекта о финансовом мегарегуляторе \n",
              "<mark class=\"entity\" style=\"background: #aa9cfc; padding: 0.45em 0.6em; margin: 0 0.25em; line-height: 1; border-radius: 0.35em;\">\n",
              "    одобрил поправку\n",
              "    <span style=\"font-size: 0.8em; font-weight: bold; line-height: 1; border-radius: 0.35em; vertical-align: middle; margin-left: 0.5rem\">PERSON</span>\n",
              "</mark>\n",
              ", \n",
              "<mark class=\"entity\" style=\"background: #aa9cfc; padding: 0.45em 0.6em; margin: 0 0.25em; line-height: 1; border-radius: 0.35em;\">\n",
              "    согласно которой совет\n",
              "    <span style=\"font-size: 0.8em; font-weight: bold; line-height: 1; border-radius: 0.35em; vertical-align: middle; margin-left: 0.5rem\">PERSON</span>\n",
              "</mark>\n",
              " директоров \n",
              "<mark class=\"entity\" style=\"background: #c887fb; padding: 0.45em 0.6em; margin: 0 0.25em; line-height: 1; border-radius: 0.35em;\">\n",
              "    Банка России\n",
              "    <span style=\"font-size: 0.8em; font-weight: bold; line-height: 1; border-radius: 0.35em; vertical-align: middle; margin-left: 0.5rem\">NORP</span>\n",
              "</mark>\n",
              " должен быть полностью \n",
              "<mark class=\"entity\" style=\"background: #7aecec; padding: 0.45em 0.6em; margin: 0 0.25em; line-height: 1; border-radius: 0.35em;\">\n",
              "    переизбран после вступления\n",
              "    <span style=\"font-size: 0.8em; font-weight: bold; line-height: 1; border-radius: 0.35em; vertical-align: middle; margin-left: 0.5rem\">ORG</span>\n",
              "</mark>\n",
              " в \n",
              "<mark class=\"entity\" style=\"background: #aa9cfc; padding: 0.45em 0.6em; margin: 0 0.25em; line-height: 1; border-radius: 0.35em;\">\n",
              "    силу этого закона\n",
              "    <span style=\"font-size: 0.8em; font-weight: bold; line-height: 1; border-radius: 0.35em; vertical-align: middle; margin-left: 0.5rem\">PERSON</span>\n",
              "</mark>\n",
              ".</br></br></br>&quot;После дня вступления в \n",
              "<mark class=\"entity\" style=\"background: #aa9cfc; padding: 0.45em 0.6em; margin: 0 0.25em; line-height: 1; border-radius: 0.35em;\">\n",
              "    силу настоящего\n",
              "    <span style=\"font-size: 0.8em; font-weight: bold; line-height: 1; border-radius: 0.35em; vertical-align: middle; margin-left: 0.5rem\">PERSON</span>\n",
              "</mark>\n",
              " \n",
              "<mark class=\"entity\" style=\"background: #aa9cfc; padding: 0.45em 0.6em; margin: 0 0.25em; line-height: 1; border-radius: 0.35em;\">\n",
              "    федерального закона\n",
              "    <span style=\"font-size: 0.8em; font-weight: bold; line-height: 1; border-radius: 0.35em; vertical-align: middle; margin-left: 0.5rem\">PERSON</span>\n",
              "</mark>\n",
              " совет директоров \n",
              "<mark class=\"entity\" style=\"background: #c887fb; padding: 0.45em 0.6em; margin: 0 0.25em; line-height: 1; border-radius: 0.35em;\">\n",
              "    Банка России\n",
              "    <span style=\"font-size: 0.8em; font-weight: bold; line-height: 1; border-radius: 0.35em; vertical-align: middle; margin-left: 0.5rem\">NORP</span>\n",
              "</mark>\n",
              " формируется в \n",
              "<mark class=\"entity\" style=\"background: #aa9cfc; padding: 0.45em 0.6em; margin: 0 0.25em; line-height: 1; border-radius: 0.35em;\">\n",
              "    новом составе\n",
              "    <span style=\"font-size: 0.8em; font-weight: bold; line-height: 1; border-radius: 0.35em; vertical-align: middle; margin-left: 0.5rem\">PERSON</span>\n",
              "</mark>\n",
              " в \n",
              "<mark class=\"entity\" style=\"background: #7aecec; padding: 0.45em 0.6em; margin: 0 0.25em; line-height: 1; border-radius: 0.35em;\">\n",
              "    порядке\n",
              "    <span style=\"font-size: 0.8em; font-weight: bold; line-height: 1; border-radius: 0.35em; vertical-align: middle; margin-left: 0.5rem\">ORG</span>\n",
              "</mark>\n",
              ", \n",
              "<mark class=\"entity\" style=\"background: #7aecec; padding: 0.45em 0.6em; margin: 0 0.25em; line-height: 1; border-radius: 0.35em;\">\n",
              "    установленном законодательством РФ\n",
              "    <span style=\"font-size: 0.8em; font-weight: bold; line-height: 1; border-radius: 0.35em; vertical-align: middle; margin-left: 0.5rem\">ORG</span>\n",
              "</mark>\n",
              ", в срок до \n",
              "<mark class=\"entity\" style=\"background: #e4e7d2; padding: 0.45em 0.6em; margin: 0 0.25em; line-height: 1; border-radius: 0.35em;\">\n",
              "    1\n",
              "    <span style=\"font-size: 0.8em; font-weight: bold; line-height: 1; border-radius: 0.35em; vertical-align: middle; margin-left: 0.5rem\">CARDINAL</span>\n",
              "</mark>\n",
              " ноября \n",
              "<mark class=\"entity\" style=\"background: #bfe1d9; padding: 0.45em 0.6em; margin: 0 0.25em; line-height: 1; border-radius: 0.35em;\">\n",
              "    2013\n",
              "    <span style=\"font-size: 0.8em; font-weight: bold; line-height: 1; border-radius: 0.35em; vertical-align: middle; margin-left: 0.5rem\">DATE</span>\n",
              "</mark>\n",
              " года&quot;, — говорится в поправке.</br></br>\n",
              "<mark class=\"entity\" style=\"background: #aa9cfc; padding: 0.45em 0.6em; margin: 0 0.25em; line-height: 1; border-radius: 0.35em;\">\n",
              "    Глава комитета по\n",
              "    <span style=\"font-size: 0.8em; font-weight: bold; line-height: 1; border-radius: 0.35em; vertical-align: middle; margin-left: 0.5rem\">PERSON</span>\n",
              "</mark>\n",
              " финансовому рынку \n",
              "<mark class=\"entity\" style=\"background: #aa9cfc; padding: 0.45em 0.6em; margin: 0 0.25em; line-height: 1; border-radius: 0.35em;\">\n",
              "    Наталья Бурыкина\n",
              "    <span style=\"font-size: 0.8em; font-weight: bold; line-height: 1; border-radius: 0.35em; vertical-align: middle; margin-left: 0.5rem\">PERSON</span>\n",
              "</mark>\n",
              " \n",
              "<mark class=\"entity\" style=\"background: #7aecec; padding: 0.45em 0.6em; margin: 0 0.25em; line-height: 1; border-radius: 0.35em;\">\n",
              "    пояснила журналистам\n",
              "    <span style=\"font-size: 0.8em; font-weight: bold; line-height: 1; border-radius: 0.35em; vertical-align: middle; margin-left: 0.5rem\">ORG</span>\n",
              "</mark>\n",
              ", что \n",
              "<mark class=\"entity\" style=\"background: #aa9cfc; padding: 0.45em 0.6em; margin: 0 0.25em; line-height: 1; border-radius: 0.35em;\">\n",
              "    планируется принять\n",
              "    <span style=\"font-size: 0.8em; font-weight: bold; line-height: 1; border-radius: 0.35em; vertical-align: middle; margin-left: 0.5rem\">PERSON</span>\n",
              "</mark>\n",
              " законопроект в \n",
              "<mark class=\"entity\" style=\"background: #aa9cfc; padding: 0.45em 0.6em; margin: 0 0.25em; line-height: 1; border-radius: 0.35em;\">\n",
              "    трех чтениях\n",
              "    <span style=\"font-size: 0.8em; font-weight: bold; line-height: 1; border-radius: 0.35em; vertical-align: middle; margin-left: 0.5rem\">PERSON</span>\n",
              "</mark>\n",
              " уже \n",
              "<mark class=\"entity\" style=\"background: #7aecec; padding: 0.45em 0.6em; margin: 0 0.25em; line-height: 1; border-radius: 0.35em;\">\n",
              "    в весеннюю сессию\n",
              "    <span style=\"font-size: 0.8em; font-weight: bold; line-height: 1; border-radius: 0.35em; vertical-align: middle; margin-left: 0.5rem\">ORG</span>\n",
              "</mark>\n",
              ". По ее \n",
              "<mark class=\"entity\" style=\"background: #7aecec; padding: 0.45em 0.6em; margin: 0 0.25em; line-height: 1; border-radius: 0.35em;\">\n",
              "    словам\n",
              "    <span style=\"font-size: 0.8em; font-weight: bold; line-height: 1; border-radius: 0.35em; vertical-align: middle; margin-left: 0.5rem\">ORG</span>\n",
              "</mark>\n",
              ", закон вступит в \n",
              "<mark class=\"entity\" style=\"background: #aa9cfc; padding: 0.45em 0.6em; margin: 0 0.25em; line-height: 1; border-radius: 0.35em;\">\n",
              "    силу после подписания президентом\n",
              "    <span style=\"font-size: 0.8em; font-weight: bold; line-height: 1; border-radius: 0.35em; vertical-align: middle; margin-left: 0.5rem\">PERSON</span>\n",
              "</mark>\n",
              " \n",
              "<mark class=\"entity\" style=\"background: #7aecec; padding: 0.45em 0.6em; margin: 0 0.25em; line-height: 1; border-radius: 0.35em;\">\n",
              "    РФ\n",
              "    <span style=\"font-size: 0.8em; font-weight: bold; line-height: 1; border-radius: 0.35em; vertical-align: middle; margin-left: 0.5rem\">ORG</span>\n",
              "</mark>\n",
              ". &quot;В \n",
              "<mark class=\"entity\" style=\"background: #aa9cfc; padding: 0.45em 0.6em; margin: 0 0.25em; line-height: 1; border-radius: 0.35em;\">\n",
              "    виду того\n",
              "    <span style=\"font-size: 0.8em; font-weight: bold; line-height: 1; border-radius: 0.35em; vertical-align: middle; margin-left: 0.5rem\">PERSON</span>\n",
              "</mark>\n",
              ", что \n",
              "<mark class=\"entity\" style=\"background: #7aecec; padding: 0.45em 0.6em; margin: 0 0.25em; line-height: 1; border-radius: 0.35em;\">\n",
              "    назначен новый председатель\n",
              "    <span style=\"font-size: 0.8em; font-weight: bold; line-height: 1; border-radius: 0.35em; vertical-align: middle; margin-left: 0.5rem\">ORG</span>\n",
              "</mark>\n",
              " ЦБ, мы хотели \n",
              "<mark class=\"entity\" style=\"background: #7aecec; padding: 0.45em 0.6em; margin: 0 0.25em; line-height: 1; border-radius: 0.35em;\">\n",
              "    бы обновить и состав\n",
              "    <span style=\"font-size: 0.8em; font-weight: bold; line-height: 1; border-radius: 0.35em; vertical-align: middle; margin-left: 0.5rem\">ORG</span>\n",
              "</mark>\n",
              " совета директоров&quot;, — \n",
              "<mark class=\"entity\" style=\"background: #aa9cfc; padding: 0.45em 0.6em; margin: 0 0.25em; line-height: 1; border-radius: 0.35em;\">\n",
              "    сказала Бурыкина\n",
              "    <span style=\"font-size: 0.8em; font-weight: bold; line-height: 1; border-radius: 0.35em; vertical-align: middle; margin-left: 0.5rem\">PERSON</span>\n",
              "</mark>\n",
              ", представляя поправку на заседании комитета. &quot;Это \n",
              "<mark class=\"entity\" style=\"background: #aa9cfc; padding: 0.45em 0.6em; margin: 0 0.25em; line-height: 1; border-radius: 0.35em;\">\n",
              "    политическая поправка\n",
              "    <span style=\"font-size: 0.8em; font-weight: bold; line-height: 1; border-radius: 0.35em; vertical-align: middle; margin-left: 0.5rem\">PERSON</span>\n",
              "</mark>\n",
              "&quot;, — \n",
              "<mark class=\"entity\" style=\"background: #aa9cfc; padding: 0.45em 0.6em; margin: 0 0.25em; line-height: 1; border-radius: 0.35em;\">\n",
              "    добавила она чуть позже\n",
              "    <span style=\"font-size: 0.8em; font-weight: bold; line-height: 1; border-radius: 0.35em; vertical-align: middle; margin-left: 0.5rem\">PERSON</span>\n",
              "</mark>\n",
              ".</br></br>\n",
              "<mark class=\"entity\" style=\"background: #7aecec; padding: 0.45em 0.6em; margin: 0 0.25em; line-height: 1; border-radius: 0.35em;\">\n",
              "    Замминистра\n",
              "    <span style=\"font-size: 0.8em; font-weight: bold; line-height: 1; border-radius: 0.35em; vertical-align: middle; margin-left: 0.5rem\">ORG</span>\n",
              "</mark>\n",
              " финансов Алексей \n",
              "<mark class=\"entity\" style=\"background: #aa9cfc; padding: 0.45em 0.6em; margin: 0 0.25em; line-height: 1; border-radius: 0.35em;\">\n",
              "    Моисеев выразил сомнение\n",
              "    <span style=\"font-size: 0.8em; font-weight: bold; line-height: 1; border-radius: 0.35em; vertical-align: middle; margin-left: 0.5rem\">PERSON</span>\n",
              "</mark>\n",
              " в своевременности этой меры. &quot;У нас \n",
              "<mark class=\"entity\" style=\"background: #7aecec; padding: 0.45em 0.6em; margin: 0 0.25em; line-height: 1; border-radius: 0.35em;\">\n",
              "    сейчас переправа началась\n",
              "    <span style=\"font-size: 0.8em; font-weight: bold; line-height: 1; border-radius: 0.35em; vertical-align: middle; margin-left: 0.5rem\">ORG</span>\n",
              "</mark>\n",
              " — \n",
              "<mark class=\"entity\" style=\"background: #7aecec; padding: 0.45em 0.6em; margin: 0 0.25em; line-height: 1; border-radius: 0.35em;\">\n",
              "    присоединение ФСФР к ЦБ\n",
              "    <span style=\"font-size: 0.8em; font-weight: bold; line-height: 1; border-radius: 0.35em; vertical-align: middle; margin-left: 0.5rem\">ORG</span>\n",
              "</mark>\n",
              ", а \n",
              "<mark class=\"entity\" style=\"background: #aa9cfc; padding: 0.45em 0.6em; margin: 0 0.25em; line-height: 1; border-radius: 0.35em;\">\n",
              "    если\n",
              "    <span style=\"font-size: 0.8em; font-weight: bold; line-height: 1; border-radius: 0.35em; vertical-align: middle; margin-left: 0.5rem\">PERSON</span>\n",
              "</mark>\n",
              " еще \n",
              "<mark class=\"entity\" style=\"background: #7aecec; padding: 0.45em 0.6em; margin: 0 0.25em; line-height: 1; border-radius: 0.35em;\">\n",
              "    коней\n",
              "    <span style=\"font-size: 0.8em; font-weight: bold; line-height: 1; border-radius: 0.35em; vertical-align: middle; margin-left: 0.5rem\">ORG</span>\n",
              "</mark>\n",
              " на переправе \n",
              "<mark class=\"entity\" style=\"background: #aa9cfc; padding: 0.45em 0.6em; margin: 0 0.25em; line-height: 1; border-radius: 0.35em;\">\n",
              "    менять\n",
              "    <span style=\"font-size: 0.8em; font-weight: bold; line-height: 1; border-radius: 0.35em; vertical-align: middle; margin-left: 0.5rem\">PERSON</span>\n",
              "</mark>\n",
              ", то это \n",
              "<mark class=\"entity\" style=\"background: #aa9cfc; padding: 0.45em 0.6em; margin: 0 0.25em; line-height: 1; border-radius: 0.35em;\">\n",
              "    совсем не правильно\n",
              "    <span style=\"font-size: 0.8em; font-weight: bold; line-height: 1; border-radius: 0.35em; vertical-align: middle; margin-left: 0.5rem\">PERSON</span>\n",
              "</mark>\n",
              "&quot;, — сказал он. В \n",
              "<mark class=\"entity\" style=\"background: #aa9cfc; padding: 0.45em 0.6em; margin: 0 0.25em; line-height: 1; border-radius: 0.35em;\">\n",
              "    свою очередь зампред\n",
              "    <span style=\"font-size: 0.8em; font-weight: bold; line-height: 1; border-radius: 0.35em; vertical-align: middle; margin-left: 0.5rem\">PERSON</span>\n",
              "</mark>\n",
              " ЦБ \n",
              "<mark class=\"entity\" style=\"background: #aa9cfc; padding: 0.45em 0.6em; margin: 0 0.25em; line-height: 1; border-radius: 0.35em;\">\n",
              "    Сергей Швецов отметил\n",
              "    <span style=\"font-size: 0.8em; font-weight: bold; line-height: 1; border-radius: 0.35em; vertical-align: middle; margin-left: 0.5rem\">PERSON</span>\n",
              "</mark>\n",
              ", что \n",
              "<mark class=\"entity\" style=\"background: #7aecec; padding: 0.45em 0.6em; margin: 0 0.25em; line-height: 1; border-radius: 0.35em;\">\n",
              "    необходимо учесть проблему кворума\n",
              "    <span style=\"font-size: 0.8em; font-weight: bold; line-height: 1; border-radius: 0.35em; vertical-align: middle; margin-left: 0.5rem\">ORG</span>\n",
              "</mark>\n",
              ", чтобы \n",
              "<mark class=\"entity\" style=\"background: #aa9cfc; padding: 0.45em 0.6em; margin: 0 0.25em; line-height: 1; border-radius: 0.35em;\">\n",
              "    одновременная замена всех\n",
              "    <span style=\"font-size: 0.8em; font-weight: bold; line-height: 1; border-radius: 0.35em; vertical-align: middle; margin-left: 0.5rem\">PERSON</span>\n",
              "</mark>\n",
              " членов \n",
              "<mark class=\"entity\" style=\"background: #aa9cfc; padding: 0.45em 0.6em; margin: 0 0.25em; line-height: 1; border-radius: 0.35em;\">\n",
              "    совета\n",
              "    <span style=\"font-size: 0.8em; font-weight: bold; line-height: 1; border-radius: 0.35em; vertical-align: middle; margin-left: 0.5rem\">PERSON</span>\n",
              "</mark>\n",
              " \n",
              "<mark class=\"entity\" style=\"background: #aa9cfc; padding: 0.45em 0.6em; margin: 0 0.25em; line-height: 1; border-radius: 0.35em;\">\n",
              "    директоров не парализовала его работу.\n",
              "    <span style=\"font-size: 0.8em; font-weight: bold; line-height: 1; border-radius: 0.35em; vertical-align: middle; margin-left: 0.5rem\">PERSON</span>\n",
              "</mark>\n",
              "</br></br>В настоящее время \n",
              "<mark class=\"entity\" style=\"background: #7aecec; padding: 0.45em 0.6em; margin: 0 0.25em; line-height: 1; border-radius: 0.35em;\">\n",
              "    в совет директоров ЦБ\n",
              "    <span style=\"font-size: 0.8em; font-weight: bold; line-height: 1; border-radius: 0.35em; vertical-align: middle; margin-left: 0.5rem\">ORG</span>\n",
              "</mark>\n",
              " \n",
              "<mark class=\"entity\" style=\"background: #aa9cfc; padding: 0.45em 0.6em; margin: 0 0.25em; line-height: 1; border-radius: 0.35em;\">\n",
              "    входят 11 человек, и\n",
              "    <span style=\"font-size: 0.8em; font-weight: bold; line-height: 1; border-radius: 0.35em; vertical-align: middle; margin-left: 0.5rem\">PERSON</span>\n",
              "</mark>\n",
              ", \n",
              "<mark class=\"entity\" style=\"background: #7aecec; padding: 0.45em 0.6em; margin: 0 0.25em; line-height: 1; border-radius: 0.35em;\">\n",
              "    согласно закону о ЦБ\n",
              "    <span style=\"font-size: 0.8em; font-weight: bold; line-height: 1; border-radius: 0.35em; vertical-align: middle; margin-left: 0.5rem\">ORG</span>\n",
              "</mark>\n",
              ", есть еще \n",
              "<mark class=\"entity\" style=\"background: #aa9cfc; padding: 0.45em 0.6em; margin: 0 0.25em; line-height: 1; border-radius: 0.35em;\">\n",
              "    две вакансии\n",
              "    <span style=\"font-size: 0.8em; font-weight: bold; line-height: 1; border-radius: 0.35em; vertical-align: middle; margin-left: 0.5rem\">PERSON</span>\n",
              "</mark>\n",
              ". Законопроект о мегарегуляторе предусматривает \n",
              "<mark class=\"entity\" style=\"background: #aa9cfc; padding: 0.45em 0.6em; margin: 0 0.25em; line-height: 1; border-radius: 0.35em;\">\n",
              "    расширение численного состава совета\n",
              "    <span style=\"font-size: 0.8em; font-weight: bold; line-height: 1; border-radius: 0.35em; vertical-align: middle; margin-left: 0.5rem\">PERSON</span>\n",
              "</mark>\n",
              " до \n",
              "<mark class=\"entity\" style=\"background: #e4e7d2; padding: 0.45em 0.6em; margin: 0 0.25em; line-height: 1; border-radius: 0.35em;\">\n",
              "    15\n",
              "    <span style=\"font-size: 0.8em; font-weight: bold; line-height: 1; border-radius: 0.35em; vertical-align: middle; margin-left: 0.5rem\">CARDINAL</span>\n",
              "</mark>\n",
              " человек. \n",
              "<mark class=\"entity\" style=\"background: #bfeeb7; padding: 0.45em 0.6em; margin: 0 0.25em; line-height: 1; border-radius: 0.35em;\">\n",
              "    Кроме\n",
              "    <span style=\"font-size: 0.8em; font-weight: bold; line-height: 1; border-radius: 0.35em; vertical-align: middle; margin-left: 0.5rem\">PRODUCT</span>\n",
              "</mark>\n",
              " того, \n",
              "<mark class=\"entity\" style=\"background: #7aecec; padding: 0.45em 0.6em; margin: 0 0.25em; line-height: 1; border-radius: 0.35em;\">\n",
              "    комитет\n",
              "    <span style=\"font-size: 0.8em; font-weight: bold; line-height: 1; border-radius: 0.35em; vertical-align: middle; margin-left: 0.5rem\">ORG</span>\n",
              "</mark>\n",
              " по \n",
              "<mark class=\"entity\" style=\"background: #aa9cfc; padding: 0.45em 0.6em; margin: 0 0.25em; line-height: 1; border-radius: 0.35em;\">\n",
              "    финансовому рынку\n",
              "    <span style=\"font-size: 0.8em; font-weight: bold; line-height: 1; border-radius: 0.35em; vertical-align: middle; margin-left: 0.5rem\">PERSON</span>\n",
              "</mark>\n",
              " одобрил в четверг проект постановления \n",
              "<mark class=\"entity\" style=\"background: #aa9cfc; padding: 0.45em 0.6em; margin: 0 0.25em; line-height: 1; border-radius: 0.35em;\">\n",
              "    Госдумы\n",
              "    <span style=\"font-size: 0.8em; font-weight: bold; line-height: 1; border-radius: 0.35em; vertical-align: middle; margin-left: 0.5rem\">PERSON</span>\n",
              "</mark>\n",
              " о выводе из \n",
              "<mark class=\"entity\" style=\"background: #aa9cfc; padding: 0.45em 0.6em; margin: 0 0.25em; line-height: 1; border-radius: 0.35em;\">\n",
              "    совета\n",
              "    <span style=\"font-size: 0.8em; font-weight: bold; line-height: 1; border-radius: 0.35em; vertical-align: middle; margin-left: 0.5rem\">PERSON</span>\n",
              "</mark>\n",
              " \n",
              "<mark class=\"entity\" style=\"background: #aa9cfc; padding: 0.45em 0.6em; margin: 0 0.25em; line-height: 1; border-radius: 0.35em;\">\n",
              "    директоров Константина Шора и Алексея\n",
              "    <span style=\"font-size: 0.8em; font-weight: bold; line-height: 1; border-radius: 0.35em; vertical-align: middle; margin-left: 0.5rem\">PERSON</span>\n",
              "</mark>\n",
              " \n",
              "<mark class=\"entity\" style=\"background: #aa9cfc; padding: 0.45em 0.6em; margin: 0 0.25em; line-height: 1; border-radius: 0.35em;\">\n",
              "    Улюкаева\n",
              "    <span style=\"font-size: 0.8em; font-weight: bold; line-height: 1; border-radius: 0.35em; vertical-align: middle; margin-left: 0.5rem\">PERSON</span>\n",
              "</mark>\n",
              ". Шор вышел на пенсию, а Улюкаев стал министром экономического развития \n",
              "<mark class=\"entity\" style=\"background: #7aecec; padding: 0.45em 0.6em; margin: 0 0.25em; line-height: 1; border-radius: 0.35em;\">\n",
              "    РФ\n",
              "    <span style=\"font-size: 0.8em; font-weight: bold; line-height: 1; border-radius: 0.35em; vertical-align: middle; margin-left: 0.5rem\">ORG</span>\n",
              "</mark>\n",
              ".</br></br>\n",
              "<mark class=\"entity\" style=\"background: #aa9cfc; padding: 0.45em 0.6em; margin: 0 0.25em; line-height: 1; border-radius: 0.35em;\">\n",
              "    Позже Швецов\n",
              "    <span style=\"font-size: 0.8em; font-weight: bold; line-height: 1; border-radius: 0.35em; vertical-align: middle; margin-left: 0.5rem\">PERSON</span>\n",
              "</mark>\n",
              " пояснил журналистам, что в \n",
              "<mark class=\"entity\" style=\"background: #aa9cfc; padding: 0.45em 0.6em; margin: 0 0.25em; line-height: 1; border-radius: 0.35em;\">\n",
              "    случае переизбрания\n",
              "    <span style=\"font-size: 0.8em; font-weight: bold; line-height: 1; border-radius: 0.35em; vertical-align: middle; margin-left: 0.5rem\">PERSON</span>\n",
              "</mark>\n",
              " \n",
              "<mark class=\"entity\" style=\"background: #aa9cfc; padding: 0.45em 0.6em; margin: 0 0.25em; line-height: 1; border-radius: 0.35em;\">\n",
              "    совета\n",
              "    <span style=\"font-size: 0.8em; font-weight: bold; line-height: 1; border-radius: 0.35em; vertical-align: middle; margin-left: 0.5rem\">PERSON</span>\n",
              "</mark>\n",
              " директоров проблемы \n",
              "<mark class=\"entity\" style=\"background: #aa9cfc; padding: 0.45em 0.6em; margin: 0 0.25em; line-height: 1; border-radius: 0.35em;\">\n",
              "    кворума возникнуть\n",
              "    <span style=\"font-size: 0.8em; font-weight: bold; line-height: 1; border-radius: 0.35em; vertical-align: middle; margin-left: 0.5rem\">PERSON</span>\n",
              "</mark>\n",
              " не должно. &quot;\n",
              "<mark class=\"entity\" style=\"background: #aa9cfc; padding: 0.45em 0.6em; margin: 0 0.25em; line-height: 1; border-radius: 0.35em;\">\n",
              "    Поправка\n",
              "    <span style=\"font-size: 0.8em; font-weight: bold; line-height: 1; border-radius: 0.35em; vertical-align: middle; margin-left: 0.5rem\">PERSON</span>\n",
              "</mark>\n",
              " предусматривает \n",
              "<mark class=\"entity\" style=\"background: #aa9cfc; padding: 0.45em 0.6em; margin: 0 0.25em; line-height: 1; border-radius: 0.35em;\">\n",
              "    переходный период\n",
              "    <span style=\"font-size: 0.8em; font-weight: bold; line-height: 1; border-radius: 0.35em; vertical-align: middle; margin-left: 0.5rem\">PERSON</span>\n",
              "</mark>\n",
              " в \n",
              "<mark class=\"entity\" style=\"background: #aa9cfc; padding: 0.45em 0.6em; margin: 0 0.25em; line-height: 1; border-radius: 0.35em;\">\n",
              "    два месяца\n",
              "    <span style=\"font-size: 0.8em; font-weight: bold; line-height: 1; border-radius: 0.35em; vertical-align: middle; margin-left: 0.5rem\">PERSON</span>\n",
              "</mark>\n",
              " — с \n",
              "<mark class=\"entity\" style=\"background: #e4e7d2; padding: 0.45em 0.6em; margin: 0 0.25em; line-height: 1; border-radius: 0.35em;\">\n",
              "    1\n",
              "    <span style=\"font-size: 0.8em; font-weight: bold; line-height: 1; border-radius: 0.35em; vertical-align: middle; margin-left: 0.5rem\">CARDINAL</span>\n",
              "</mark>\n",
              " сентября по \n",
              "<mark class=\"entity\" style=\"background: #e4e7d2; padding: 0.45em 0.6em; margin: 0 0.25em; line-height: 1; border-radius: 0.35em;\">\n",
              "    1\n",
              "    <span style=\"font-size: 0.8em; font-weight: bold; line-height: 1; border-radius: 0.35em; vertical-align: middle; margin-left: 0.5rem\">CARDINAL</span>\n",
              "</mark>\n",
              " ноября. В \n",
              "<mark class=\"entity\" style=\"background: #aa9cfc; padding: 0.45em 0.6em; margin: 0 0.25em; line-height: 1; border-radius: 0.35em;\">\n",
              "    принципе два месяца\n",
              "    <span style=\"font-size: 0.8em; font-weight: bold; line-height: 1; border-radius: 0.35em; vertical-align: middle; margin-left: 0.5rem\">PERSON</span>\n",
              "</mark>\n",
              " — \n",
              "<mark class=\"entity\" style=\"background: #aa9cfc; padding: 0.45em 0.6em; margin: 0 0.25em; line-height: 1; border-radius: 0.35em;\">\n",
              "    срок достаточный для\n",
              "    <span style=\"font-size: 0.8em; font-weight: bold; line-height: 1; border-radius: 0.35em; vertical-align: middle; margin-left: 0.5rem\">PERSON</span>\n",
              "</mark>\n",
              " \n",
              "<mark class=\"entity\" style=\"background: #7aecec; padding: 0.45em 0.6em; margin: 0 0.25em; line-height: 1; border-radius: 0.35em;\">\n",
              "    того, чтобы не\n",
              "    <span style=\"font-size: 0.8em; font-weight: bold; line-height: 1; border-radius: 0.35em; vertical-align: middle; margin-left: 0.5rem\">ORG</span>\n",
              "</mark>\n",
              " было \n",
              "<mark class=\"entity\" style=\"background: #aa9cfc; padding: 0.45em 0.6em; margin: 0 0.25em; line-height: 1; border-radius: 0.35em;\">\n",
              "    технических проблем\n",
              "    <span style=\"font-size: 0.8em; font-weight: bold; line-height: 1; border-radius: 0.35em; vertical-align: middle; margin-left: 0.5rem\">PERSON</span>\n",
              "</mark>\n",
              "&quot;, — сказал он. Отвечая на вопрос об \n",
              "<mark class=\"entity\" style=\"background: #7aecec; padding: 0.45em 0.6em; margin: 0 0.25em; line-height: 1; border-radius: 0.35em;\">\n",
              "    отношении ЦБ к\n",
              "    <span style=\"font-size: 0.8em; font-weight: bold; line-height: 1; border-radius: 0.35em; vertical-align: middle; margin-left: 0.5rem\">ORG</span>\n",
              "</mark>\n",
              " \n",
              "<mark class=\"entity\" style=\"background: #aa9cfc; padding: 0.45em 0.6em; margin: 0 0.25em; line-height: 1; border-radius: 0.35em;\">\n",
              "    неожиданному решению\n",
              "    <span style=\"font-size: 0.8em; font-weight: bold; line-height: 1; border-radius: 0.35em; vertical-align: middle; margin-left: 0.5rem\">PERSON</span>\n",
              "</mark>\n",
              " \n",
              "<mark class=\"entity\" style=\"background: #aa9cfc; padding: 0.45em 0.6em; margin: 0 0.25em; line-height: 1; border-radius: 0.35em;\">\n",
              "    Госдумы\n",
              "    <span style=\"font-size: 0.8em; font-weight: bold; line-height: 1; border-radius: 0.35em; vertical-align: middle; margin-left: 0.5rem\">PERSON</span>\n",
              "</mark>\n",
              ", \n",
              "<mark class=\"entity\" style=\"background: #aa9cfc; padding: 0.45em 0.6em; margin: 0 0.25em; line-height: 1; border-radius: 0.35em;\">\n",
              "    Швецов сказал\n",
              "    <span style=\"font-size: 0.8em; font-weight: bold; line-height: 1; border-radius: 0.35em; vertical-align: middle; margin-left: 0.5rem\">PERSON</span>\n",
              "</mark>\n",
              ": &quot;Мы сделаем все, что \n",
              "<mark class=\"entity\" style=\"background: #7aecec; padding: 0.45em 0.6em; margin: 0 0.25em; line-height: 1; border-radius: 0.35em;\">\n",
              "    нам предписывает законодательство\n",
              "    <span style=\"font-size: 0.8em; font-weight: bold; line-height: 1; border-radius: 0.35em; vertical-align: middle; margin-left: 0.5rem\">ORG</span>\n",
              "</mark>\n",
              "&quot;.</div></span>"
            ]
          },
          "metadata": {}
        }
      ]
    },
    {
      "cell_type": "code",
      "source": [],
      "metadata": {
        "id": "gdMFSn15b2w4"
      },
      "execution_count": null,
      "outputs": []
    }
  ]
}